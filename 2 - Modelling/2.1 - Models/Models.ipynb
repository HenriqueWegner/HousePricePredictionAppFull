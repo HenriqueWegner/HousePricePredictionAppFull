{
 "cells": [
  {
   "cell_type": "markdown",
   "metadata": {},
   "source": [
    "#### Code by henrique wegner"
   ]
  },
  {
   "cell_type": "markdown",
   "metadata": {},
   "source": [
    "# Import Libraries"
   ]
  },
  {
   "cell_type": "code",
   "execution_count": 1,
   "metadata": {},
   "outputs": [],
   "source": [
    "import pandas as pd\n",
    "import seaborn as sns\n",
    "import numpy as np\n",
    "import mpl_toolkits\n",
    "import matplotlib.pyplot as plt\n",
    "import pickle\n",
    "%matplotlib inline\n",
    "\n",
    "from sklearn.model_selection import train_test_split \n",
    "from sklearn.metrics import mean_absolute_error\n",
    "\n",
    "from sklearn.svm import SVC\n",
    "from sklearn.ensemble import ExtraTreesClassifier\n",
    "from sklearn.linear_model import LinearRegression\n",
    "from sklearn.linear_model import Ridge\n",
    "from sklearn.linear_model import Lasso\n",
    "from sklearn.linear_model import BayesianRidge\n",
    "\n",
    "\n",
    "from sklearn.metrics import explained_variance_score as evs\n",
    "from sklearn.metrics import r2_score as r2"
   ]
  },
  {
   "cell_type": "markdown",
   "metadata": {},
   "source": [
    "# Import Datasets"
   ]
  },
  {
   "cell_type": "code",
   "execution_count": 2,
   "metadata": {},
   "outputs": [],
   "source": [
    "df_final = pd.read_csv(\"data/data_final2.csv\")"
   ]
  },
  {
   "cell_type": "code",
   "execution_count": 3,
   "metadata": {},
   "outputs": [
    {
     "data": {
      "text/html": [
       "<div>\n",
       "<style scoped>\n",
       "    .dataframe tbody tr th:only-of-type {\n",
       "        vertical-align: middle;\n",
       "    }\n",
       "\n",
       "    .dataframe tbody tr th {\n",
       "        vertical-align: top;\n",
       "    }\n",
       "\n",
       "    .dataframe thead th {\n",
       "        text-align: right;\n",
       "    }\n",
       "</style>\n",
       "<table border=\"1\" class=\"dataframe\">\n",
       "  <thead>\n",
       "    <tr style=\"text-align: right;\">\n",
       "      <th></th>\n",
       "      <th>Unnamed: 0</th>\n",
       "      <th>Luas_quantity</th>\n",
       "      <th>Bus_quantity</th>\n",
       "      <th>Train_quantity</th>\n",
       "      <th>PS_quantity</th>\n",
       "      <th>SS_quantity</th>\n",
       "      <th>Garda_quantity</th>\n",
       "      <th>Price</th>\n",
       "      <th>VAT_exclusive</th>\n",
       "      <th>Longitude</th>\n",
       "      <th>Latitude</th>\n",
       "      <th>New_Dwelling_House_Apartment</th>\n",
       "      <th>Second_Hand_Dwelling_House_Apartment</th>\n",
       "    </tr>\n",
       "  </thead>\n",
       "  <tbody>\n",
       "    <tr>\n",
       "      <th>0</th>\n",
       "      <td>4</td>\n",
       "      <td>0</td>\n",
       "      <td>33</td>\n",
       "      <td>0</td>\n",
       "      <td>1</td>\n",
       "      <td>0</td>\n",
       "      <td>0</td>\n",
       "      <td>830000.0</td>\n",
       "      <td>0</td>\n",
       "      <td>-6.181892</td>\n",
       "      <td>53.365139</td>\n",
       "      <td>0</td>\n",
       "      <td>1</td>\n",
       "    </tr>\n",
       "    <tr>\n",
       "      <th>1</th>\n",
       "      <td>8</td>\n",
       "      <td>0</td>\n",
       "      <td>32</td>\n",
       "      <td>0</td>\n",
       "      <td>1</td>\n",
       "      <td>0</td>\n",
       "      <td>0</td>\n",
       "      <td>360000.0</td>\n",
       "      <td>0</td>\n",
       "      <td>-6.181405</td>\n",
       "      <td>53.362710</td>\n",
       "      <td>0</td>\n",
       "      <td>1</td>\n",
       "    </tr>\n",
       "    <tr>\n",
       "      <th>2</th>\n",
       "      <td>9</td>\n",
       "      <td>0</td>\n",
       "      <td>36</td>\n",
       "      <td>0</td>\n",
       "      <td>1</td>\n",
       "      <td>0</td>\n",
       "      <td>0</td>\n",
       "      <td>630000.0</td>\n",
       "      <td>0</td>\n",
       "      <td>-6.183087</td>\n",
       "      <td>53.362717</td>\n",
       "      <td>0</td>\n",
       "      <td>1</td>\n",
       "    </tr>\n",
       "    <tr>\n",
       "      <th>3</th>\n",
       "      <td>14</td>\n",
       "      <td>0</td>\n",
       "      <td>53</td>\n",
       "      <td>1</td>\n",
       "      <td>7</td>\n",
       "      <td>2</td>\n",
       "      <td>0</td>\n",
       "      <td>260000.0</td>\n",
       "      <td>0</td>\n",
       "      <td>-6.253829</td>\n",
       "      <td>53.370047</td>\n",
       "      <td>0</td>\n",
       "      <td>1</td>\n",
       "    </tr>\n",
       "    <tr>\n",
       "      <th>4</th>\n",
       "      <td>15</td>\n",
       "      <td>0</td>\n",
       "      <td>62</td>\n",
       "      <td>1</td>\n",
       "      <td>7</td>\n",
       "      <td>4</td>\n",
       "      <td>0</td>\n",
       "      <td>375000.0</td>\n",
       "      <td>0</td>\n",
       "      <td>-6.238056</td>\n",
       "      <td>53.365356</td>\n",
       "      <td>0</td>\n",
       "      <td>1</td>\n",
       "    </tr>\n",
       "    <tr>\n",
       "      <th>...</th>\n",
       "      <td>...</td>\n",
       "      <td>...</td>\n",
       "      <td>...</td>\n",
       "      <td>...</td>\n",
       "      <td>...</td>\n",
       "      <td>...</td>\n",
       "      <td>...</td>\n",
       "      <td>...</td>\n",
       "      <td>...</td>\n",
       "      <td>...</td>\n",
       "      <td>...</td>\n",
       "      <td>...</td>\n",
       "      <td>...</td>\n",
       "    </tr>\n",
       "    <tr>\n",
       "      <th>43387</th>\n",
       "      <td>46396</td>\n",
       "      <td>0</td>\n",
       "      <td>55</td>\n",
       "      <td>0</td>\n",
       "      <td>5</td>\n",
       "      <td>3</td>\n",
       "      <td>1</td>\n",
       "      <td>477000.0</td>\n",
       "      <td>0</td>\n",
       "      <td>-6.294334</td>\n",
       "      <td>53.295079</td>\n",
       "      <td>0</td>\n",
       "      <td>1</td>\n",
       "    </tr>\n",
       "    <tr>\n",
       "      <th>43388</th>\n",
       "      <td>46397</td>\n",
       "      <td>0</td>\n",
       "      <td>66</td>\n",
       "      <td>0</td>\n",
       "      <td>3</td>\n",
       "      <td>2</td>\n",
       "      <td>1</td>\n",
       "      <td>555000.0</td>\n",
       "      <td>0</td>\n",
       "      <td>-6.271758</td>\n",
       "      <td>53.388159</td>\n",
       "      <td>0</td>\n",
       "      <td>1</td>\n",
       "    </tr>\n",
       "    <tr>\n",
       "      <th>43389</th>\n",
       "      <td>46398</td>\n",
       "      <td>0</td>\n",
       "      <td>38</td>\n",
       "      <td>0</td>\n",
       "      <td>1</td>\n",
       "      <td>0</td>\n",
       "      <td>0</td>\n",
       "      <td>248500.0</td>\n",
       "      <td>0</td>\n",
       "      <td>-6.283514</td>\n",
       "      <td>53.405929</td>\n",
       "      <td>0</td>\n",
       "      <td>1</td>\n",
       "    </tr>\n",
       "    <tr>\n",
       "      <th>43390</th>\n",
       "      <td>46399</td>\n",
       "      <td>0</td>\n",
       "      <td>49</td>\n",
       "      <td>1</td>\n",
       "      <td>5</td>\n",
       "      <td>0</td>\n",
       "      <td>0</td>\n",
       "      <td>320000.0</td>\n",
       "      <td>0</td>\n",
       "      <td>-6.212927</td>\n",
       "      <td>53.376221</td>\n",
       "      <td>0</td>\n",
       "      <td>1</td>\n",
       "    </tr>\n",
       "    <tr>\n",
       "      <th>43391</th>\n",
       "      <td>46400</td>\n",
       "      <td>4</td>\n",
       "      <td>64</td>\n",
       "      <td>0</td>\n",
       "      <td>5</td>\n",
       "      <td>1</td>\n",
       "      <td>1</td>\n",
       "      <td>285000.0</td>\n",
       "      <td>0</td>\n",
       "      <td>-6.246034</td>\n",
       "      <td>53.294678</td>\n",
       "      <td>0</td>\n",
       "      <td>1</td>\n",
       "    </tr>\n",
       "  </tbody>\n",
       "</table>\n",
       "<p>43392 rows × 13 columns</p>\n",
       "</div>"
      ],
      "text/plain": [
       "       Unnamed: 0  Luas_quantity  Bus_quantity  Train_quantity  PS_quantity  \\\n",
       "0               4              0            33               0            1   \n",
       "1               8              0            32               0            1   \n",
       "2               9              0            36               0            1   \n",
       "3              14              0            53               1            7   \n",
       "4              15              0            62               1            7   \n",
       "...           ...            ...           ...             ...          ...   \n",
       "43387       46396              0            55               0            5   \n",
       "43388       46397              0            66               0            3   \n",
       "43389       46398              0            38               0            1   \n",
       "43390       46399              0            49               1            5   \n",
       "43391       46400              4            64               0            5   \n",
       "\n",
       "       SS_quantity  Garda_quantity     Price  VAT_exclusive  Longitude  \\\n",
       "0                0               0  830000.0              0  -6.181892   \n",
       "1                0               0  360000.0              0  -6.181405   \n",
       "2                0               0  630000.0              0  -6.183087   \n",
       "3                2               0  260000.0              0  -6.253829   \n",
       "4                4               0  375000.0              0  -6.238056   \n",
       "...            ...             ...       ...            ...        ...   \n",
       "43387            3               1  477000.0              0  -6.294334   \n",
       "43388            2               1  555000.0              0  -6.271758   \n",
       "43389            0               0  248500.0              0  -6.283514   \n",
       "43390            0               0  320000.0              0  -6.212927   \n",
       "43391            1               1  285000.0              0  -6.246034   \n",
       "\n",
       "        Latitude  New_Dwelling_House_Apartment  \\\n",
       "0      53.365139                             0   \n",
       "1      53.362710                             0   \n",
       "2      53.362717                             0   \n",
       "3      53.370047                             0   \n",
       "4      53.365356                             0   \n",
       "...          ...                           ...   \n",
       "43387  53.295079                             0   \n",
       "43388  53.388159                             0   \n",
       "43389  53.405929                             0   \n",
       "43390  53.376221                             0   \n",
       "43391  53.294678                             0   \n",
       "\n",
       "       Second_Hand_Dwelling_House_Apartment  \n",
       "0                                         1  \n",
       "1                                         1  \n",
       "2                                         1  \n",
       "3                                         1  \n",
       "4                                         1  \n",
       "...                                     ...  \n",
       "43387                                     1  \n",
       "43388                                     1  \n",
       "43389                                     1  \n",
       "43390                                     1  \n",
       "43391                                     1  \n",
       "\n",
       "[43392 rows x 13 columns]"
      ]
     },
     "execution_count": 3,
     "metadata": {},
     "output_type": "execute_result"
    }
   ],
   "source": [
    "df_final"
   ]
  },
  {
   "cell_type": "markdown",
   "metadata": {},
   "source": [
    "# Correlation Matrix"
   ]
  },
  {
   "cell_type": "code",
   "execution_count": 4,
   "metadata": {},
   "outputs": [
    {
     "data": {
      "image/png": "[encoded data removed]",
      "text/plain": [
       "<Figure size 720x720 with 2 Axes>"
      ]
     },
     "metadata": {
      "needs_background": "light"
     },
     "output_type": "display_data"
    }
   ],
   "source": [
    "plt.rcParams[\"figure.figsize\"]=10,10\n",
    "corrMatrix = df_final.corr()\n",
    "sns.heatmap(corrMatrix, annot=True)\n",
    "\n",
    "fig = plt.show()"
   ]
  },
  {
   "cell_type": "markdown",
   "metadata": {},
   "source": [
    "# Choosing the variables\n",
    "- It is separated in two types for testing of different labels."
   ]
  },
  {
   "cell_type": "code",
   "execution_count": 5,
   "metadata": {},
   "outputs": [],
   "source": [
    "prediction_variables = ['Luas_quantity', 'Bus_quantity','Train_quantity','Second_Hand_Dwelling_House_Apartment', 'New_Dwelling_House_Apartment', 'PS_quantity','SS_quantity', 'Garda_quantity', 'VAT_exclusive','Longitude','Latitude']\n",
    "prediction_variables_2 = ['Luas_quantity', 'Train_quantity','Second_Hand_Dwelling_House_Apartment', 'New_Dwelling_House_Apartment', 'PS_quantity','SS_quantity', 'VAT_exclusive','Longitude','Latitude']"
   ]
  },
  {
   "cell_type": "markdown",
   "metadata": {},
   "source": [
    "# Split Test"
   ]
  },
  {
   "cell_type": "code",
   "execution_count": 6,
   "metadata": {},
   "outputs": [],
   "source": [
    "X = df_final[prediction_variables]\n",
    "y = df_final[\"Price\"]"
   ]
  },
  {
   "cell_type": "code",
   "execution_count": 7,
   "metadata": {},
   "outputs": [],
   "source": [
    "X_train, X_test, y_train, y_test = train_test_split(X, y, test_size=0.20, random_state=20)"
   ]
  },
  {
   "cell_type": "markdown",
   "metadata": {},
   "source": [
    "# Linear Regression"
   ]
  },
  {
   "cell_type": "code",
   "execution_count": 8,
   "metadata": {},
   "outputs": [
    {
     "data": {
      "text/plain": [
       "LinearRegression()"
      ]
     },
     "execution_count": 8,
     "metadata": {},
     "output_type": "execute_result"
    }
   ],
   "source": [
    "regressor = LinearRegression()\n",
    "regressor.fit(X_train, y_train)"
   ]
  },
  {
   "cell_type": "code",
   "execution_count": 9,
   "metadata": {},
   "outputs": [],
   "source": [
    "y_pred = regressor.predict(X_test)"
   ]
  },
  {
   "cell_type": "code",
   "execution_count": 10,
   "metadata": {},
   "outputs": [
    {
     "name": "stdout",
     "output_type": "stream",
     "text": [
      "[[ 471628.91  237810.98]\n",
      " [ 364076.44  175000.  ]\n",
      " [ 326135.41  390000.  ]\n",
      " ...\n",
      " [ 543930.74  308370.05]\n",
      " [ 537617.   1350000.  ]\n",
      " [ 408954.63  176000.  ]]\n"
     ]
    }
   ],
   "source": [
    "y_pred = regressor.predict(X_test)\n",
    "np.set_printoptions(precision=2)\n",
    "print(np.concatenate((y_pred.reshape(len(y_pred),1), y_test.values.reshape(len(y_test),1)),1))"
   ]
  },
  {
   "cell_type": "markdown",
   "metadata": {},
   "source": [
    "### Linear Regression Results"
   ]
  },
  {
   "cell_type": "code",
   "execution_count": 11,
   "metadata": {},
   "outputs": [
    {
     "name": "stdout",
     "output_type": "stream",
     "text": [
      "Explained Variance Score of Linear Regression model is 0.1572285332768133\n",
      "R-Squared of Linear Regression model is 0.15721062966250354\n"
     ]
    }
   ],
   "source": [
    "print('Explained Variance Score of Linear Regression model is {}'.format(evs(y_test, y_pred)))\n",
    "print('R-Squared of Linear Regression model is {}'.format(r2(y_test, y_pred)))"
   ]
  },
  {
   "cell_type": "markdown",
   "metadata": {},
   "source": [
    "### Cross Validation Plot"
   ]
  },
  {
   "cell_type": "code",
   "execution_count": 12,
   "metadata": {},
   "outputs": [
    {
     "data": {
      "image/png": "[encoded data removed]",
      "text/plain": [
       "<Figure size 720x720 with 1 Axes>"
      ]
     },
     "metadata": {
      "needs_background": "light"
     },
     "output_type": "display_data"
    }
   ],
   "source": [
    "from sklearn import datasets\n",
    "from sklearn.model_selection import cross_val_predict\n",
    "from sklearn import linear_model\n",
    "import matplotlib.pyplot as plt\n",
    "\n",
    "fig, ax = plt.subplots()\n",
    "ax.scatter(y_test, y_pred)\n",
    "ax.plot([y.min(), y.max()], [y.min(), y.max()], 'k--', lw=4)\n",
    "ax.set_xlabel('Measured')\n",
    "ax.set_ylabel('Predicted')\n",
    "plt.title(\"Linear Regression - Cross Validation\")\n",
    "plt.show()"
   ]
  },
  {
   "cell_type": "markdown",
   "metadata": {},
   "source": [
    "# XGBoost "
   ]
  },
  {
   "cell_type": "code",
   "execution_count": 13,
   "metadata": {},
   "outputs": [
    {
     "name": "stderr",
     "output_type": "stream",
     "text": [
      "C:\\Users\\henri\\anaconda3\\lib\\site-packages\\xgboost\\data.py:112: UserWarning: Use subset (sliced data) of np.ndarray is not recommended because it will generate extra copies and increase memory consumption\n",
      "  warnings.warn(\n"
     ]
    }
   ],
   "source": [
    "import xgboost as xgb\n",
    "\n",
    "xg_reg = xgb.XGBRegressor(learning_rate = 0.1, n_estimators = 40,\n",
    "                         max_depth=14, min_child_weight=2,\n",
    "                         gamma = 1, subsample = 0.7,\n",
    "                         objective=\"reg:squarederror\",\n",
    "                         seed=1)\n",
    "\n",
    "xg_reg.fit(X_train,y_train)\n",
    "\n",
    "pred_XGB = xg_reg.predict(X_test)"
   ]
  },
  {
   "cell_type": "code",
   "execution_count": 14,
   "metadata": {},
   "outputs": [
    {
     "name": "stdout",
     "output_type": "stream",
     "text": [
      "Mean squared error: 25433591352.08\n",
      "Variance score: 0.57\n"
     ]
    }
   ],
   "source": [
    "print(\"Mean squared error: %.2f\" % np.mean((xg_reg.predict(X_test) - y_test) ** 2))\n",
    "# Explained variance score: 1 is perfect prediction\n",
    "print('Variance score: %.2f' % xg_reg.score(X_test, y_test))"
   ]
  },
  {
   "cell_type": "markdown",
   "metadata": {},
   "source": [
    "### XGBoost Results"
   ]
  },
  {
   "cell_type": "code",
   "execution_count": 15,
   "metadata": {},
   "outputs": [
    {
     "name": "stdout",
     "output_type": "stream",
     "text": [
      "Explained Variance Score of XGBoost model is 0.5681369302837654\n",
      "R-Squared of XGBoost model is 0.5668303539542203\n"
     ]
    }
   ],
   "source": [
    "print('Explained Variance Score of XGBoost model is {}'.format(evs(y_test, pred_XGB)))\n",
    "print('R-Squared of XGBoost model is {}'.format(r2(y_test, pred_XGB)))"
   ]
  },
  {
   "cell_type": "code",
   "execution_count": 16,
   "metadata": {},
   "outputs": [
    {
     "name": "stdout",
     "output_type": "stream",
     "text": [
      "[[ 325164.75  237810.98]\n",
      " [ 136187.    175000.  ]\n",
      " [ 329199.09  390000.  ]\n",
      " ...\n",
      " [ 334124.84  308370.05]\n",
      " [ 667525.06 1350000.  ]\n",
      " [ 206128.27  176000.  ]]\n"
     ]
    }
   ],
   "source": [
    "np.set_printoptions(precision=2)\n",
    "print(np.concatenate((pred_XGB.reshape(len(pred_XGB),1), y_test.values.reshape(len(y_test),1)),1))"
   ]
  },
  {
   "cell_type": "markdown",
   "metadata": {},
   "source": [
    "# Ridge"
   ]
  },
  {
   "cell_type": "code",
   "execution_count": 17,
   "metadata": {},
   "outputs": [],
   "source": [
    "ridge = Ridge(alpha = 0.5)\n",
    "ridge.fit(X_train, y_train)\n",
    "pred_ridge = ridge.predict(X_test)"
   ]
  },
  {
   "cell_type": "markdown",
   "metadata": {},
   "source": [
    "### Ridge Results"
   ]
  },
  {
   "cell_type": "code",
   "execution_count": 18,
   "metadata": {},
   "outputs": [
    {
     "name": "stdout",
     "output_type": "stream",
     "text": [
      "Explained Variance Score of Ridge model is 0.157214107766802\n",
      "R-Squared of Ridge model is 0.15719620016330604\n"
     ]
    }
   ],
   "source": [
    "print('Explained Variance Score of Ridge model is {}'.format(evs(y_test, pred_ridge)))\n",
    "print('R-Squared of Ridge model is {}'.format(r2(y_test, pred_ridge)))"
   ]
  },
  {
   "cell_type": "markdown",
   "metadata": {},
   "source": [
    "# Lasso"
   ]
  },
  {
   "cell_type": "code",
   "execution_count": 19,
   "metadata": {},
   "outputs": [],
   "source": [
    "lasso = Lasso(alpha = 0.01)\n",
    "lasso.fit(X_train, y_train)\n",
    "pred_lasso = lasso.predict(X_test)"
   ]
  },
  {
   "cell_type": "markdown",
   "metadata": {},
   "source": [
    "### Lasso Results"
   ]
  },
  {
   "cell_type": "code",
   "execution_count": 20,
   "metadata": {},
   "outputs": [
    {
     "name": "stdout",
     "output_type": "stream",
     "text": [
      "Explained Variance Score of Lasso model is 0.1572285268568372\n",
      "R-Squared of Lasso model is 0.15721062327214175\n"
     ]
    }
   ],
   "source": [
    "print('Explained Variance Score of Lasso model is {}'.format(evs(y_test, pred_lasso)))\n",
    "print('R-Squared of Lasso model is {}'.format(r2(y_test, pred_lasso)))"
   ]
  },
  {
   "cell_type": "markdown",
   "metadata": {},
   "source": [
    "# Bayesian Ridge"
   ]
  },
  {
   "cell_type": "code",
   "execution_count": 21,
   "metadata": {},
   "outputs": [],
   "source": [
    "bayesian = BayesianRidge()\n",
    "bayesian.fit(X_train, y_train)\n",
    "pred_bayesian = bayesian.predict(X_test)"
   ]
  },
  {
   "cell_type": "markdown",
   "metadata": {},
   "source": [
    "### Bayesian Ridge Results"
   ]
  },
  {
   "cell_type": "code",
   "execution_count": 22,
   "metadata": {},
   "outputs": [
    {
     "name": "stdout",
     "output_type": "stream",
     "text": [
      "Explained Variance Score of Bayesian model is 0.15721796057168347\n",
      "R-Squared of Bayesian model is 0.15720005396540182\n"
     ]
    }
   ],
   "source": [
    "print('Explained Variance Score of Bayesian model is {}'.format(evs(y_test, pred_bayesian)))\n",
    "print('R-Squared of Bayesian model is {}'.format(r2(y_test, pred_bayesian)))"
   ]
  },
  {
   "cell_type": "markdown",
   "metadata": {},
   "source": [
    "# SVR"
   ]
  },
  {
   "cell_type": "code",
   "execution_count": 23,
   "metadata": {},
   "outputs": [
    {
     "data": {
      "text/plain": [
       "Pipeline(steps=[('standardscaler', StandardScaler()),\n",
       "                ('svr', SVR(epsilon=0.2))])"
      ]
     },
     "execution_count": 23,
     "metadata": {},
     "output_type": "execute_result"
    }
   ],
   "source": [
    "from sklearn.svm import SVR\n",
    "from sklearn.pipeline import make_pipeline\n",
    "from sklearn.preprocessing import StandardScaler\n",
    "\n",
    "n_samples, n_features = 10, 5\n",
    "rng = np.random.RandomState(0)\n",
    "regr = make_pipeline(StandardScaler(), SVR(C=1.0, epsilon=0.2))\n",
    "regr.fit(X_test, y_test)"
   ]
  },
  {
   "cell_type": "code",
   "execution_count": 24,
   "metadata": {},
   "outputs": [],
   "source": [
    "pred_svr = regr.predict(X_test)"
   ]
  },
  {
   "cell_type": "markdown",
   "metadata": {},
   "source": [
    "### SVR Results"
   ]
  },
  {
   "cell_type": "code",
   "execution_count": 25,
   "metadata": {},
   "outputs": [
    {
     "name": "stdout",
     "output_type": "stream",
     "text": [
      "Explained Variance Score of SVR model is 0.0005366174713297145\n",
      "R-Squared of SVR model is -0.08295277285076086\n"
     ]
    }
   ],
   "source": [
    "print('Explained Variance Score of SVR model is {}'.format(evs(y_test, pred_svr)))\n",
    "print('R-Squared of SVR model is {}'.format(r2(y_test, pred_svr)))"
   ]
  },
  {
   "cell_type": "markdown",
   "metadata": {},
   "source": [
    "# Random Forests"
   ]
  },
  {
   "cell_type": "code",
   "execution_count": 26,
   "metadata": {},
   "outputs": [
    {
     "data": {
      "text/plain": [
       "RandomForestRegressor(random_state=2)"
      ]
     },
     "execution_count": 26,
     "metadata": {},
     "output_type": "execute_result"
    }
   ],
   "source": [
    "from sklearn.ensemble import RandomForestRegressor\n",
    "regressor = RandomForestRegressor(n_estimators=100, random_state=2)\n",
    "regressor.fit(X_train, y_train)"
   ]
  },
  {
   "cell_type": "code",
   "execution_count": 27,
   "metadata": {},
   "outputs": [],
   "source": [
    "random_predict = regressor.predict(X_test)"
   ]
  },
  {
   "cell_type": "code",
   "execution_count": 28,
   "metadata": {},
   "outputs": [
    {
     "data": {
      "text/plain": [
       "array([314263.94, 131983.84, 333174.93, ..., 334592.16, 679344.73,\n",
       "       214188.23])"
      ]
     },
     "execution_count": 28,
     "metadata": {},
     "output_type": "execute_result"
    }
   ],
   "source": [
    "random_predict"
   ]
  },
  {
   "cell_type": "markdown",
   "metadata": {},
   "source": [
    "### Random Forests Results"
   ]
  },
  {
   "cell_type": "code",
   "execution_count": 29,
   "metadata": {},
   "outputs": [
    {
     "name": "stdout",
     "output_type": "stream",
     "text": [
      "Explained Variance Score of Random Forest Tree model is 0.5827743074912873\n",
      "R-Squared of Random Forest Tree model is 0.5825285472633464\n"
     ]
    }
   ],
   "source": [
    "print('Explained Variance Score of Random Forest Tree model is {}'.format(evs(y_test, random_predict)))\n",
    "print('R-Squared of Random Forest Tree model is {}'.format(r2(y_test, random_predict)))"
   ]
  },
  {
   "cell_type": "markdown",
   "metadata": {},
   "source": [
    "### Saving the model"
   ]
  },
  {
   "cell_type": "code",
   "execution_count": 30,
   "metadata": {},
   "outputs": [],
   "source": [
    "filename = 'random_forest_model.sav'\n",
    "pickle.dump(regressor, open(filename, 'wb'))"
   ]
  },
  {
   "cell_type": "markdown",
   "metadata": {},
   "source": [
    "### Cross Validation Plot"
   ]
  },
  {
   "cell_type": "code",
   "execution_count": 31,
   "metadata": {},
   "outputs": [
    {
     "data": {
      "image/png": "[encoded data removed]",
      "text/plain": [
       "<Figure size 720x720 with 1 Axes>"
      ]
     },
     "metadata": {
      "needs_background": "light"
     },
     "output_type": "display_data"
    }
   ],
   "source": [
    "from sklearn import datasets\n",
    "from sklearn.model_selection import cross_val_predict\n",
    "from sklearn import linear_model\n",
    "import matplotlib.pyplot as plt\n",
    "\n",
    "\n",
    "\n",
    "fig, ax = plt.subplots()\n",
    "ax.scatter(y_test, random_predict)\n",
    "ax.plot([y.min(), y.max()], [y.min(), y.max()], 'k--', lw=4)\n",
    "ax.set_xlabel('Measured')\n",
    "ax.set_ylabel('Predicted')\n",
    "plt.title(\"Random Forest - Cross Validation\")\n",
    "plt.show()"
   ]
  },
  {
   "cell_type": "markdown",
   "metadata": {},
   "source": [
    "# Catboost"
   ]
  },
  {
   "cell_type": "code",
   "execution_count": 32,
   "metadata": {},
   "outputs": [
    {
     "name": "stdout",
     "output_type": "stream",
     "text": [
      "0:\tlearn: 212751.5965065\ttotal: 163ms\tremaining: 16.1s\n",
      "1:\tlearn: 205579.8207453\ttotal: 168ms\tremaining: 8.25s\n",
      "2:\tlearn: 200854.8015696\ttotal: 174ms\tremaining: 5.62s\n",
      "3:\tlearn: 196900.5051300\ttotal: 179ms\tremaining: 4.3s\n",
      "4:\tlearn: 195774.3178460\ttotal: 185ms\tremaining: 3.51s\n",
      "5:\tlearn: 193512.7588426\ttotal: 190ms\tremaining: 2.97s\n",
      "6:\tlearn: 191396.5936415\ttotal: 195ms\tremaining: 2.59s\n",
      "7:\tlearn: 190266.0627840\ttotal: 200ms\tremaining: 2.3s\n",
      "8:\tlearn: 189753.6147877\ttotal: 205ms\tremaining: 2.08s\n",
      "9:\tlearn: 188231.3854544\ttotal: 210ms\tremaining: 1.89s\n",
      "10:\tlearn: 187182.3608260\ttotal: 216ms\tremaining: 1.75s\n",
      "11:\tlearn: 186353.6472727\ttotal: 221ms\tremaining: 1.62s\n",
      "12:\tlearn: 185726.6143418\ttotal: 226ms\tremaining: 1.51s\n",
      "13:\tlearn: 185295.2729049\ttotal: 231ms\tremaining: 1.42s\n",
      "14:\tlearn: 184417.8915367\ttotal: 236ms\tremaining: 1.34s\n",
      "15:\tlearn: 183446.3359888\ttotal: 241ms\tremaining: 1.27s\n",
      "16:\tlearn: 182543.8075783\ttotal: 246ms\tremaining: 1.2s\n",
      "17:\tlearn: 182163.4406002\ttotal: 251ms\tremaining: 1.14s\n",
      "18:\tlearn: 181911.4218626\ttotal: 256ms\tremaining: 1.09s\n",
      "19:\tlearn: 181301.8130441\ttotal: 261ms\tremaining: 1.04s\n",
      "20:\tlearn: 180656.9366177\ttotal: 266ms\tremaining: 999ms\n",
      "21:\tlearn: 179606.9596717\ttotal: 270ms\tremaining: 958ms\n",
      "22:\tlearn: 178881.2552821\ttotal: 275ms\tremaining: 921ms\n",
      "23:\tlearn: 178490.0980078\ttotal: 279ms\tremaining: 885ms\n",
      "24:\tlearn: 177641.6092071\ttotal: 284ms\tremaining: 852ms\n",
      "25:\tlearn: 177081.7830242\ttotal: 289ms\tremaining: 822ms\n",
      "26:\tlearn: 176610.7731143\ttotal: 293ms\tremaining: 793ms\n",
      "27:\tlearn: 175691.2504833\ttotal: 298ms\tremaining: 767ms\n",
      "28:\tlearn: 174930.2280617\ttotal: 303ms\tremaining: 741ms\n",
      "29:\tlearn: 174494.5009726\ttotal: 307ms\tremaining: 717ms\n",
      "30:\tlearn: 174197.8281218\ttotal: 312ms\tremaining: 694ms\n",
      "31:\tlearn: 173785.9587622\ttotal: 317ms\tremaining: 673ms\n",
      "32:\tlearn: 173272.5985738\ttotal: 321ms\tremaining: 652ms\n",
      "33:\tlearn: 172844.4928096\ttotal: 326ms\tremaining: 633ms\n",
      "34:\tlearn: 172383.8270257\ttotal: 330ms\tremaining: 614ms\n",
      "35:\tlearn: 172042.8042456\ttotal: 335ms\tremaining: 596ms\n",
      "36:\tlearn: 171625.1153720\ttotal: 340ms\tremaining: 578ms\n",
      "37:\tlearn: 171068.9149265\ttotal: 344ms\tremaining: 562ms\n",
      "38:\tlearn: 170699.2265378\ttotal: 349ms\tremaining: 546ms\n",
      "39:\tlearn: 170507.7662758\ttotal: 355ms\tremaining: 532ms\n",
      "40:\tlearn: 170249.1572789\ttotal: 360ms\tremaining: 518ms\n",
      "41:\tlearn: 169838.6442308\ttotal: 365ms\tremaining: 504ms\n",
      "42:\tlearn: 169581.3202708\ttotal: 370ms\tremaining: 490ms\n",
      "43:\tlearn: 169077.9761167\ttotal: 375ms\tremaining: 477ms\n",
      "44:\tlearn: 168292.3010253\ttotal: 379ms\tremaining: 464ms\n",
      "45:\tlearn: 168052.5025106\ttotal: 384ms\tremaining: 451ms\n",
      "46:\tlearn: 167877.5312345\ttotal: 388ms\tremaining: 438ms\n",
      "47:\tlearn: 167687.0522891\ttotal: 393ms\tremaining: 426ms\n",
      "48:\tlearn: 167235.6385214\ttotal: 398ms\tremaining: 414ms\n",
      "49:\tlearn: 166921.1889418\ttotal: 403ms\tremaining: 403ms\n",
      "50:\tlearn: 166644.4792386\ttotal: 407ms\tremaining: 391ms\n",
      "51:\tlearn: 166264.2827734\ttotal: 412ms\tremaining: 381ms\n",
      "52:\tlearn: 165768.8090138\ttotal: 417ms\tremaining: 370ms\n",
      "53:\tlearn: 165310.6508240\ttotal: 422ms\tremaining: 360ms\n",
      "54:\tlearn: 164947.1999383\ttotal: 427ms\tremaining: 349ms\n",
      "55:\tlearn: 164689.7032685\ttotal: 432ms\tremaining: 339ms\n",
      "56:\tlearn: 164037.2275792\ttotal: 437ms\tremaining: 329ms\n",
      "57:\tlearn: 163720.2568101\ttotal: 442ms\tremaining: 320ms\n",
      "58:\tlearn: 163476.9398558\ttotal: 449ms\tremaining: 312ms\n",
      "59:\tlearn: 163143.3887213\ttotal: 454ms\tremaining: 302ms\n",
      "60:\tlearn: 162990.0486938\ttotal: 459ms\tremaining: 293ms\n",
      "61:\tlearn: 162691.6914492\ttotal: 464ms\tremaining: 285ms\n",
      "62:\tlearn: 162286.6110822\ttotal: 470ms\tremaining: 276ms\n",
      "63:\tlearn: 162078.8266501\ttotal: 475ms\tremaining: 267ms\n",
      "64:\tlearn: 161747.2326106\ttotal: 480ms\tremaining: 259ms\n",
      "65:\tlearn: 161513.7179005\ttotal: 486ms\tremaining: 250ms\n",
      "66:\tlearn: 161056.9460967\ttotal: 492ms\tremaining: 242ms\n",
      "67:\tlearn: 160962.0032222\ttotal: 497ms\tremaining: 234ms\n",
      "68:\tlearn: 160716.7321455\ttotal: 503ms\tremaining: 226ms\n",
      "69:\tlearn: 160437.0602399\ttotal: 508ms\tremaining: 218ms\n",
      "70:\tlearn: 160146.3671008\ttotal: 514ms\tremaining: 210ms\n",
      "71:\tlearn: 159850.1369179\ttotal: 520ms\tremaining: 202ms\n",
      "72:\tlearn: 159406.2262922\ttotal: 526ms\tremaining: 194ms\n",
      "73:\tlearn: 158997.6645615\ttotal: 531ms\tremaining: 187ms\n",
      "74:\tlearn: 158872.1671633\ttotal: 537ms\tremaining: 179ms\n",
      "75:\tlearn: 158773.5174567\ttotal: 543ms\tremaining: 171ms\n",
      "76:\tlearn: 158561.5137722\ttotal: 548ms\tremaining: 164ms\n",
      "77:\tlearn: 158351.0394239\ttotal: 553ms\tremaining: 156ms\n",
      "78:\tlearn: 158046.2275783\ttotal: 559ms\tremaining: 149ms\n",
      "79:\tlearn: 157846.7046286\ttotal: 567ms\tremaining: 142ms\n",
      "80:\tlearn: 157619.0061452\ttotal: 573ms\tremaining: 134ms\n",
      "81:\tlearn: 157513.4037747\ttotal: 578ms\tremaining: 127ms\n",
      "82:\tlearn: 157312.7283374\ttotal: 584ms\tremaining: 120ms\n",
      "83:\tlearn: 157193.0611479\ttotal: 589ms\tremaining: 112ms\n",
      "84:\tlearn: 157070.1037019\ttotal: 594ms\tremaining: 105ms\n",
      "85:\tlearn: 156823.5640744\ttotal: 600ms\tremaining: 97.7ms\n",
      "86:\tlearn: 156624.0279592\ttotal: 605ms\tremaining: 90.4ms\n",
      "87:\tlearn: 156496.5264493\ttotal: 611ms\tremaining: 83.3ms\n",
      "88:\tlearn: 156290.5572936\ttotal: 616ms\tremaining: 76.1ms\n",
      "89:\tlearn: 156110.7198971\ttotal: 621ms\tremaining: 69.1ms\n",
      "90:\tlearn: 155932.0428947\ttotal: 627ms\tremaining: 62.1ms\n",
      "91:\tlearn: 155758.2750959\ttotal: 633ms\tremaining: 55ms\n",
      "92:\tlearn: 155355.7561713\ttotal: 638ms\tremaining: 48ms\n",
      "93:\tlearn: 155237.8901374\ttotal: 644ms\tremaining: 41.1ms\n",
      "94:\tlearn: 155023.7029385\ttotal: 649ms\tremaining: 34.2ms\n",
      "95:\tlearn: 154785.2009374\ttotal: 654ms\tremaining: 27.3ms\n",
      "96:\tlearn: 154642.8632245\ttotal: 660ms\tremaining: 20.4ms\n",
      "97:\tlearn: 154389.6660222\ttotal: 665ms\tremaining: 13.6ms\n",
      "98:\tlearn: 154184.1173540\ttotal: 670ms\tremaining: 6.77ms\n",
      "99:\tlearn: 153856.6479637\ttotal: 676ms\tremaining: 0us\n"
     ]
    }
   ],
   "source": [
    "from catboost import CatBoostRegressor\n",
    "\n",
    "model = CatBoostRegressor(iterations = 100,\n",
    "                          learning_rate=0.8,\n",
    "                          depth=7)\n",
    "\n",
    "model.fit(X_train, y_train)\n",
    "\n",
    "pred_catboost = model.predict(X_test)"
   ]
  },
  {
   "cell_type": "markdown",
   "metadata": {},
   "source": [
    "### CatBoost Results"
   ]
  },
  {
   "cell_type": "code",
   "execution_count": 33,
   "metadata": {},
   "outputs": [
    {
     "name": "stdout",
     "output_type": "stream",
     "text": [
      "Explained Variance Score of Catboost model is 0.47316430793632125\n",
      "R-Squared of Catboost model is 0.4731559226270149\n"
     ]
    }
   ],
   "source": [
    "print('Explained Variance Score of Catboost model is {}'.format(evs(y_test,pred_catboost)))\n",
    "print('R-Squared of Catboost model is {}'.format(r2(y_test, pred_catboost)))"
   ]
  },
  {
   "cell_type": "markdown",
   "metadata": {},
   "source": [
    "# Decision Trees"
   ]
  },
  {
   "cell_type": "code",
   "execution_count": 34,
   "metadata": {},
   "outputs": [],
   "source": [
    "from sklearn.tree import DecisionTreeRegressor\n",
    "regressor = DecisionTreeRegressor(random_state = 0)\n",
    "regressor.fit(X_train, y_train)\n",
    "\n",
    "pred_decision_trees = regressor.predict(X_test)"
   ]
  },
  {
   "cell_type": "markdown",
   "metadata": {},
   "source": [
    "### Decision Trees Results"
   ]
  },
  {
   "cell_type": "code",
   "execution_count": 35,
   "metadata": {},
   "outputs": [
    {
     "name": "stdout",
     "output_type": "stream",
     "text": [
      "Explained Variance Score of Decision Trees model is 0.3332395965295819\n",
      "R-Squared of Decision Trees model is 0.3324537598967301\n"
     ]
    }
   ],
   "source": [
    "print('Explained Variance Score of Decision Trees model is {}'.format(evs(y_test,pred_decision_trees)))\n",
    "print('R-Squared of Decision Trees model is {}'.format(r2(y_test, pred_decision_trees)))"
   ]
  },
  {
   "cell_type": "markdown",
   "metadata": {},
   "source": [
    "# Gradient Boosting"
   ]
  },
  {
   "cell_type": "code",
   "execution_count": 36,
   "metadata": {},
   "outputs": [],
   "source": [
    "from sklearn.datasets import make_hastie_10_2\n",
    "from sklearn.ensemble import GradientBoostingRegressor"
   ]
  },
  {
   "cell_type": "code",
   "execution_count": 37,
   "metadata": {},
   "outputs": [],
   "source": [
    "clf = GradientBoostingRegressor(n_estimators=25, learning_rate=0.6, max_depth=5, random_state=0).fit(X_train, y_train)"
   ]
  },
  {
   "cell_type": "code",
   "execution_count": 38,
   "metadata": {},
   "outputs": [],
   "source": [
    "pred_GB = clf.predict(X_test)"
   ]
  },
  {
   "cell_type": "markdown",
   "metadata": {},
   "source": [
    "### Gradient Boosting Results"
   ]
  },
  {
   "cell_type": "code",
   "execution_count": 39,
   "metadata": {},
   "outputs": [
    {
     "name": "stdout",
     "output_type": "stream",
     "text": [
      "Explained Variance Score of Gradient Boosting model is 0.43979002211754326\n",
      "R-Squared of Gradient Boosting model is 0.43976830296062275\n"
     ]
    }
   ],
   "source": [
    "print('Explained Variance Score of Gradient Boosting model is {}'.format(evs(y_test,pred_GB)))\n",
    "print('R-Squared of Gradient Boosting model is {}'.format(r2(y_test, pred_GB)))"
   ]
  },
  {
   "cell_type": "markdown",
   "metadata": {},
   "source": [
    "# Hist Gradient Boosting"
   ]
  },
  {
   "cell_type": "code",
   "execution_count": 40,
   "metadata": {},
   "outputs": [],
   "source": [
    "from sklearn.experimental import enable_hist_gradient_boosting \n",
    "from sklearn.ensemble import HistGradientBoostingRegressor"
   ]
  },
  {
   "cell_type": "code",
   "execution_count": 41,
   "metadata": {},
   "outputs": [],
   "source": [
    "hgb = HistGradientBoostingRegressor(max_depth = 10, learning_rate = 0.4,random_state=2, l2_regularization = 0.5).fit(X_train, y_train)\n",
    "pred_HGB = hgb.predict(X_test)"
   ]
  },
  {
   "cell_type": "markdown",
   "metadata": {},
   "source": [
    "### Hist Gradient Boosting Results"
   ]
  },
  {
   "cell_type": "code",
   "execution_count": 42,
   "metadata": {},
   "outputs": [
    {
     "name": "stdout",
     "output_type": "stream",
     "text": [
      "Explained Variance Score of Gradient Boosting model is 0.49959483463300247\n",
      "R-Squared of Gradient Boosting model is 0.499496912029446\n"
     ]
    }
   ],
   "source": [
    "print('Explained Variance Score of Gradient Boosting model is {}'.format(evs(y_test,pred_HGB)))\n",
    "print('R-Squared of Gradient Boosting model is {}'.format(r2(y_test, pred_HGB)))"
   ]
  },
  {
   "cell_type": "markdown",
   "metadata": {},
   "source": [
    "# Stacking"
   ]
  },
  {
   "cell_type": "code",
   "execution_count": 43,
   "metadata": {},
   "outputs": [
    {
     "data": {
      "text/plain": [
       "StackingRegressor(estimators=[('lr', LinearRegression()),\n",
       "                              ('clf',\n",
       "                               GradientBoostingRegressor(learning_rate=0.6,\n",
       "                                                         max_depth=5,\n",
       "                                                         n_estimators=25))],\n",
       "                  final_estimator=RandomForestRegressor(random_state=42))"
      ]
     },
     "execution_count": 43,
     "metadata": {},
     "output_type": "execute_result"
    }
   ],
   "source": [
    "from sklearn.ensemble import StackingRegressor\n",
    "\n",
    "estimators = [\n",
    "('lr', LinearRegression()),\n",
    "('clf',  GradientBoostingRegressor(n_estimators=25, learning_rate=0.6, max_depth=5))\n",
    "]\n",
    "reg = StackingRegressor(\n",
    "     estimators=estimators,\n",
    "    final_estimator=RandomForestRegressor(n_estimators=100,\n",
    "                                          random_state=42)\n",
    ")\n",
    "\n",
    "reg.fit(X_train, y_train)"
   ]
  },
  {
   "cell_type": "code",
   "execution_count": 44,
   "metadata": {},
   "outputs": [],
   "source": [
    "pred_stack = reg.predict(X_test)"
   ]
  },
  {
   "cell_type": "markdown",
   "metadata": {},
   "source": [
    "### Stacking Results"
   ]
  },
  {
   "cell_type": "code",
   "execution_count": 45,
   "metadata": {},
   "outputs": [
    {
     "name": "stdout",
     "output_type": "stream",
     "text": [
      "Explained Variance Score of Stacking model is 0.3463051914969495\n",
      "R-Squared of Stacking model is 0.3445689519654337\n"
     ]
    }
   ],
   "source": [
    "print('Explained Variance Score of Stacking model is {}'.format(evs(y_test,pred_stack)))\n",
    "print('R-Squared of Stacking model is {}'.format(r2(y_test, pred_stack)))"
   ]
  },
  {
   "cell_type": "markdown",
   "metadata": {},
   "source": [
    "# Voting Regression"
   ]
  },
  {
   "cell_type": "code",
   "execution_count": 46,
   "metadata": {},
   "outputs": [],
   "source": [
    "from sklearn.ensemble import VotingRegressor\n",
    "\n",
    "lr = LinearRegression()\n",
    "forest = RandomForestRegressor(n_estimators=100, random_state=1)\n",
    "hgb = HistGradientBoostingRegressor(max_depth = 10, learning_rate = 0.4,random_state=2, l2_regularization = 0.5)\n",
    "clf = GradientBoostingRegressor(n_estimators=25, learning_rate=0.6, max_depth=5, random_state=0)\n",
    "\n",
    "er = VotingRegressor([('lr', lr), ('rf', forest), ('hgb',hgb), ('clf',clf)])\n",
    "\n",
    "er.fit(X_train,y_train)\n",
    "\n",
    "pred_voting = er.predict(X_test)"
   ]
  },
  {
   "cell_type": "markdown",
   "metadata": {},
   "source": [
    "### Voting Results"
   ]
  },
  {
   "cell_type": "code",
   "execution_count": 47,
   "metadata": {},
   "outputs": [
    {
     "name": "stdout",
     "output_type": "stream",
     "text": [
      "Explained Variance Score of Voting model is 0.5146589420321566\n",
      "R-Squared of Voting model is 0.5146584517646812\n"
     ]
    }
   ],
   "source": [
    "print('Explained Variance Score of Voting model is {}'.format(evs(y_test,pred_voting)))\n",
    "print('R-Squared of Voting model is {}'.format(r2(y_test, pred_voting)))"
   ]
  },
  {
   "cell_type": "markdown",
   "metadata": {},
   "source": [
    "# LightGBM"
   ]
  },
  {
   "cell_type": "code",
   "execution_count": 48,
   "metadata": {},
   "outputs": [],
   "source": [
    "import lightgbm as lgb\n",
    "\n",
    "model_lgb = lgb.LGBMRegressor(objective='regression', num_leaves=7,\n",
    "                              learning_rate=0.6, n_estimators=2000,\n",
    "                              random_state = 2)\n",
    "\n",
    "model_lgb.fit(X_train, y_train)\n",
    "lgb_train_pred = model_lgb.predict(X_test)\n",
    "\n"
   ]
  },
  {
   "cell_type": "markdown",
   "metadata": {},
   "source": [
    "### LightGBM Results"
   ]
  },
  {
   "cell_type": "code",
   "execution_count": 49,
   "metadata": {},
   "outputs": [
    {
     "name": "stdout",
     "output_type": "stream",
     "text": [
      "Explained Variance Score of Gradient Boosting model is 0.5012842442125294\n",
      "R-Squared of Gradient Boosting model is 0.5012830462900238\n"
     ]
    }
   ],
   "source": [
    "print('Explained Variance Score of Gradient Boosting model is {}'.format(evs(y_test,lgb_train_pred)))\n",
    "print('R-Squared of Gradient Boosting model is {}'.format(r2(y_test, lgb_train_pred)))"
   ]
  }
 ],
 "metadata": {
  "kernelspec": {
   "display_name": "Python 3",
   "language": "python",
   "name": "python3"
  },
  "language_info": {
   "codemirror_mode": {
    "name": "ipython",
    "version": 3
   },
   "file_extension": ".py",
   "mimetype": "text/x-python",
   "name": "python",
   "nbconvert_exporter": "python",
   "pygments_lexer": "ipython3",
   "version": "3.8.2"
  }
 },
 "nbformat": 4,
 "nbformat_minor": 4
}
