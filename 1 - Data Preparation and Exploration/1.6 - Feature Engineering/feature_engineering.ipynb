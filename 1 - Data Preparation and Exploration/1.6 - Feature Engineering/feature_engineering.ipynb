{
 "cells": [
  {
   "cell_type": "markdown",
   "metadata": {},
   "source": [
    "#### Code by Maiara Figueredo, Larissa Evaldt and Patricia Correia"
   ]
  },
  {
   "cell_type": "markdown",
   "metadata": {},
   "source": [
    "# Feature engineering of houses dataset\n",
    "\n",
    "Before starting using our data for modeling, one critical first step in preparing the data, that is where feature engineering comes to the scenario. Feature engineering is one of the most critical steps in putting machine learning into practice.\n",
    "\n",
    "Feature engineering transforms raw data, which means taking whatever knowledge you have about your problem and converting it into numbers that you can use to construct your feature matrix.\n",
    "\n",
    "First of all, we will take a lot at the data.\n"
   ]
  },
  {
   "cell_type": "code",
   "execution_count": 1,
   "metadata": {},
   "outputs": [],
   "source": [
    "import pandas as pd"
   ]
  },
  {
   "cell_type": "markdown",
   "metadata": {},
   "source": [
    "Import the dataset"
   ]
  },
  {
   "cell_type": "code",
   "execution_count": 4,
   "metadata": {},
   "outputs": [],
   "source": [
    "df = pd.read_csv(\"data/final_df.csv\")"
   ]
  },
  {
   "cell_type": "code",
   "execution_count": 5,
   "metadata": {},
   "outputs": [
    {
     "data": {
      "text/html": [
       "<div>\n",
       "<style scoped>\n",
       "    .dataframe tbody tr th:only-of-type {\n",
       "        vertical-align: middle;\n",
       "    }\n",
       "\n",
       "    .dataframe tbody tr th {\n",
       "        vertical-align: top;\n",
       "    }\n",
       "\n",
       "    .dataframe thead th {\n",
       "        text-align: right;\n",
       "    }\n",
       "</style>\n",
       "<table border=\"1\" class=\"dataframe\">\n",
       "  <thead>\n",
       "    <tr style=\"text-align: right;\">\n",
       "      <th></th>\n",
       "      <th>ID</th>\n",
       "      <th>Luas_quantity</th>\n",
       "      <th>Bus_quantity</th>\n",
       "      <th>Train_quantity</th>\n",
       "      <th>PS_quantity</th>\n",
       "      <th>SS_quantity</th>\n",
       "      <th>Garda_quantity</th>\n",
       "      <th>Date of Sale</th>\n",
       "      <th>Price</th>\n",
       "      <th>Not Full Market Price</th>\n",
       "      <th>VAT Exclusive</th>\n",
       "      <th>Description of Property</th>\n",
       "      <th>Longitude</th>\n",
       "      <th>Latitude</th>\n",
       "    </tr>\n",
       "  </thead>\n",
       "  <tbody>\n",
       "    <tr>\n",
       "      <th>0</th>\n",
       "      <td>0</td>\n",
       "      <td>0</td>\n",
       "      <td>32</td>\n",
       "      <td>0</td>\n",
       "      <td>1</td>\n",
       "      <td>0</td>\n",
       "      <td>0</td>\n",
       "      <td>2017-01-01</td>\n",
       "      <td>242424.0</td>\n",
       "      <td>Yes</td>\n",
       "      <td>No</td>\n",
       "      <td>Second-Hand Dwelling house /Apartment</td>\n",
       "      <td>-6.181405</td>\n",
       "      <td>53.362710</td>\n",
       "    </tr>\n",
       "    <tr>\n",
       "      <th>1</th>\n",
       "      <td>1</td>\n",
       "      <td>0</td>\n",
       "      <td>32</td>\n",
       "      <td>0</td>\n",
       "      <td>1</td>\n",
       "      <td>0</td>\n",
       "      <td>0</td>\n",
       "      <td>2017-01-01</td>\n",
       "      <td>242424.0</td>\n",
       "      <td>Yes</td>\n",
       "      <td>No</td>\n",
       "      <td>Second-Hand Dwelling house /Apartment</td>\n",
       "      <td>-6.181405</td>\n",
       "      <td>53.362710</td>\n",
       "    </tr>\n",
       "    <tr>\n",
       "      <th>2</th>\n",
       "      <td>2</td>\n",
       "      <td>0</td>\n",
       "      <td>34</td>\n",
       "      <td>0</td>\n",
       "      <td>1</td>\n",
       "      <td>0</td>\n",
       "      <td>0</td>\n",
       "      <td>2017-01-01</td>\n",
       "      <td>66000.0</td>\n",
       "      <td>Yes</td>\n",
       "      <td>No</td>\n",
       "      <td>Second-Hand Dwelling house /Apartment</td>\n",
       "      <td>-6.182833</td>\n",
       "      <td>53.362984</td>\n",
       "    </tr>\n",
       "    <tr>\n",
       "      <th>3</th>\n",
       "      <td>3</td>\n",
       "      <td>0</td>\n",
       "      <td>32</td>\n",
       "      <td>0</td>\n",
       "      <td>1</td>\n",
       "      <td>0</td>\n",
       "      <td>0</td>\n",
       "      <td>2017-01-01</td>\n",
       "      <td>271800.0</td>\n",
       "      <td>Yes</td>\n",
       "      <td>No</td>\n",
       "      <td>Second-Hand Dwelling house /Apartment</td>\n",
       "      <td>-6.181405</td>\n",
       "      <td>53.362710</td>\n",
       "    </tr>\n",
       "    <tr>\n",
       "      <th>4</th>\n",
       "      <td>4</td>\n",
       "      <td>0</td>\n",
       "      <td>33</td>\n",
       "      <td>0</td>\n",
       "      <td>1</td>\n",
       "      <td>0</td>\n",
       "      <td>0</td>\n",
       "      <td>2017-01-01</td>\n",
       "      <td>830000.0</td>\n",
       "      <td>No</td>\n",
       "      <td>No</td>\n",
       "      <td>Second-Hand Dwelling house /Apartment</td>\n",
       "      <td>-6.181892</td>\n",
       "      <td>53.365139</td>\n",
       "    </tr>\n",
       "  </tbody>\n",
       "</table>\n",
       "</div>"
      ],
      "text/plain": [
       "   ID  Luas_quantity  Bus_quantity  Train_quantity  PS_quantity  SS_quantity  \\\n",
       "0   0              0            32               0            1            0   \n",
       "1   1              0            32               0            1            0   \n",
       "2   2              0            34               0            1            0   \n",
       "3   3              0            32               0            1            0   \n",
       "4   4              0            33               0            1            0   \n",
       "\n",
       "   Garda_quantity Date of Sale     Price Not Full Market Price VAT Exclusive  \\\n",
       "0               0   2017-01-01  242424.0                   Yes            No   \n",
       "1               0   2017-01-01  242424.0                   Yes            No   \n",
       "2               0   2017-01-01   66000.0                   Yes            No   \n",
       "3               0   2017-01-01  271800.0                   Yes            No   \n",
       "4               0   2017-01-01  830000.0                    No            No   \n",
       "\n",
       "                 Description of Property  Longitude   Latitude  \n",
       "0  Second-Hand Dwelling house /Apartment  -6.181405  53.362710  \n",
       "1  Second-Hand Dwelling house /Apartment  -6.181405  53.362710  \n",
       "2  Second-Hand Dwelling house /Apartment  -6.182833  53.362984  \n",
       "3  Second-Hand Dwelling house /Apartment  -6.181405  53.362710  \n",
       "4  Second-Hand Dwelling house /Apartment  -6.181892  53.365139  "
      ]
     },
     "execution_count": 5,
     "metadata": {},
     "output_type": "execute_result"
    }
   ],
   "source": [
    "df.head()"
   ]
  },
  {
   "cell_type": "markdown",
   "metadata": {},
   "source": [
    "Check the information about the dataset, so we can start our feature engineering."
   ]
  },
  {
   "cell_type": "code",
   "execution_count": 6,
   "metadata": {},
   "outputs": [
    {
     "name": "stdout",
     "output_type": "stream",
     "text": [
      "<class 'pandas.core.frame.DataFrame'>\n",
      "RangeIndex: 46404 entries, 0 to 46403\n",
      "Data columns (total 14 columns):\n",
      " #   Column                   Non-Null Count  Dtype  \n",
      "---  ------                   --------------  -----  \n",
      " 0   ID                       46404 non-null  int64  \n",
      " 1   Luas_quantity            46404 non-null  int64  \n",
      " 2   Bus_quantity             46404 non-null  int64  \n",
      " 3   Train_quantity           46404 non-null  int64  \n",
      " 4   PS_quantity              46404 non-null  int64  \n",
      " 5   SS_quantity              46404 non-null  int64  \n",
      " 6   Garda_quantity           46404 non-null  int64  \n",
      " 7   Date of Sale             46404 non-null  object \n",
      " 8   Price                    46404 non-null  float64\n",
      " 9   Not Full Market Price    46404 non-null  object \n",
      " 10  VAT Exclusive            46404 non-null  object \n",
      " 11  Description of Property  46404 non-null  object \n",
      " 12  Longitude                46404 non-null  float64\n",
      " 13  Latitude                 46404 non-null  float64\n",
      "dtypes: float64(3), int64(7), object(4)\n",
      "memory usage: 5.0+ MB\n"
     ]
    }
   ],
   "source": [
    "df.info()"
   ]
  },
  {
   "cell_type": "markdown",
   "metadata": {},
   "source": [
    " We will rename the'Date of Sale' to 'Date_of_Sale, 'Not Full Market Price' to 'Not_full_market_price', 'VAT Exclusive' to 'VAT_exclusive' and 'Description of Property' to 'Description_of_property' columns to eliminate white spaces."
   ]
  },
  {
   "cell_type": "code",
   "execution_count": 7,
   "metadata": {},
   "outputs": [],
   "source": [
    "df.rename(columns={'Date of Sale':'Date_of_Sale',\n",
    "                 'Not Full Market Price':'Not_full_market_price',\n",
    "                 'VAT Exclusive' : 'VAT_exclusive',\n",
    "                 'Description of Property': 'Description_of_property'},\n",
    "         inplace=True)"
   ]
  },
  {
   "cell_type": "markdown",
   "metadata": {},
   "source": [
    "Check for NaN values"
   ]
  },
  {
   "cell_type": "code",
   "execution_count": 8,
   "metadata": {},
   "outputs": [
    {
     "name": "stdout",
     "output_type": "stream",
     "text": [
      "Luas_quantity: [ 0 17  8  2  3  4  6 13  7  1 11 12 16 10 18 21  9 14  5 19 20 15 22]\n",
      "Bus_quantity : [ 32  34  33  36  53  62  15  37  24  48  74 319  95   5  26  65 178 184\n",
      "  28  45  80  50  49  77  20  55  18  16  21  42  35  19  61 238  44  47\n",
      " 149  43  52  63  79 119  25  94  31  70  27  64  93  17   1  22  51  46\n",
      "  67  87  88  30  60 116  71  56  73  75  23 137  39 121 110  68  54 125\n",
      "   0  72  29  58  92  83  81  89 109   8  40   6 218  38 139  57  76  97\n",
      " 227 264  10  84 203  14 287 111 143 215 380 196 112 268  78  99 245  41\n",
      "   2  13  59  66  11 102  91   9 104 135 252 120 155  69 212  98  12 257\n",
      " 150 292  90 272 357 138 147   3 223 103 107 108 100  86  96 261 253 117\n",
      " 320 127 159 105 291 322 130 101  85   7 359 183 151 332 189  82 148 106\n",
      " 134 334 129 317 131 336 185 144 142 132 335 243 114 153 115 353 275 370\n",
      " 231 280 113 356 204 124 122 249 186 271 339 175 154 190 201 299 157 256\n",
      " 251 182 171 373 337 170 229 294 259 286 329 152 145 136 224 239 209 164\n",
      " 304 192 219 146 281 193 358 162 288 158 247 123 160 168 220 236 179 311\n",
      " 316 274 374 222 293 283 172 371 309 133 295 246 191 163 169 240 118 324\n",
      " 285 161 277 345 128 269 126 307 254 180   4 199 255 181 266 377 364 165\n",
      " 368 313 260 177 198 289 173 166 187 376 278 333 202 340 214 369 225 200\n",
      " 343 237 174 276 242 140 206 207 156 381 290 197 188 296 372 303 228 361\n",
      " 141 233 248 213 318 300 263 267 338 350 250 366 279 282 226 297 352 305\n",
      " 210 351 205 382 328 330 323 230 258 298 312 301 176 379 306 262 195 386\n",
      " 363 208 375 354 362 265 284 383 273 321 325 347 331 244 216 349 270 234\n",
      " 217 360 315 314 211 310]\n",
      "Train_quantity : [0 1 2 4 3 5]\n",
      "PS_quantity: [ 1  7  0  4  5  3  2  6  8  9 10 11 12 13]\n",
      "SS_quantity: [0 2 4 1 3 5 6 7]\n",
      "Garda_quantity: [0 1 3 2 4 5]\n",
      "Date_of_Sale: ['2017-01-01' '2017-01-02' '2017-01-03' '2017-01-04' '2017-01-05'\n",
      " '2017-01-06' '2017-01-09' '2017-01-10' '2017-01-11' '2017-01-12'\n",
      " '2017-01-13' '2017-01-14' '2017-01-16' '2017-01-17' '2017-01-18'\n",
      " '2017-01-19' '2017-01-20' '2017-01-21' '2017-01-23' '2017-01-24'\n",
      " '2017-01-25' '2017-01-26' '2017-01-27' '2017-01-28' '2017-01-30'\n",
      " '2017-01-31' '2017-02-01' '2017-02-02' '2017-02-03' '2017-02-04'\n",
      " '2017-02-06' '2017-02-07' '2017-02-08' '2017-02-09' '2017-02-10'\n",
      " '2017-02-12' '2017-02-13' '2017-02-14' '2017-02-15' '2017-02-16'\n",
      " '2017-02-17' '2017-02-18' '2017-02-20' '2017-02-21' '2017-02-22'\n",
      " '2017-02-23' '2017-02-24' '2017-02-25' '2017-02-27' '2017-02-28'\n",
      " '2017-03-01' '2017-03-02' '2017-03-03' '2017-03-06' '2017-03-07'\n",
      " '2017-03-08' '2017-03-09' '2017-03-10' '2017-03-11' '2017-03-13'\n",
      " '2017-03-14' '2017-03-15' '2017-03-16' '2017-03-17' '2017-03-20'\n",
      " '2017-03-21' '2017-03-22' '2017-03-23' '2017-03-24' '2017-03-25'\n",
      " '2017-03-27' '2017-03-28' '2017-03-29' '2017-03-30' '2017-03-31'\n",
      " '2017-04-03' '2017-04-04' '2017-04-05' '2017-04-06' '2017-04-07'\n",
      " '2017-04-10' '2017-04-11' '2017-04-12' '2017-04-13' '2017-04-14'\n",
      " '2017-04-15' '2017-04-18' '2017-04-19' '2017-04-20' '2017-04-21'\n",
      " '2017-04-24' '2017-04-25' '2017-04-26' '2017-04-27' '2017-04-28'\n",
      " '2017-04-29' '2017-05-01' '2017-05-02' '2017-05-03' '2017-05-04'\n",
      " '2017-05-05' '2017-05-06' '2017-05-08' '2017-05-09' '2017-05-10'\n",
      " '2017-05-11' '2017-05-12' '2017-05-15' '2017-05-16' '2017-05-17'\n",
      " '2017-05-18' '2017-05-19' '2017-05-20' '2017-05-22' '2017-05-23'\n",
      " '2017-05-24' '2017-05-25' '2017-05-26' '2017-05-28' '2017-05-29'\n",
      " '2017-05-30' '2017-05-31' '2017-06-01' '2017-06-02' '2017-06-03'\n",
      " '2017-06-05' '2017-06-06' '2017-06-07' '2017-06-08' '2017-06-09'\n",
      " '2017-06-10' '2017-06-12' '2017-06-13' '2017-06-14' '2017-06-15'\n",
      " '2017-06-16' '2017-06-17' '2017-06-19' '2017-06-20' '2017-06-21'\n",
      " '2017-06-22' '2017-06-23' '2017-06-24' '2017-06-26' '2017-06-27'\n",
      " '2017-06-28' '2017-06-29' '2017-06-30' '2017-07-02' '2017-07-03'\n",
      " '2017-07-04' '2017-07-05' '2017-07-06' '2017-07-07' '2017-07-08'\n",
      " '2017-07-10' '2017-07-11' '2017-07-12' '2017-07-13' '2017-07-14'\n",
      " '2017-07-15' '2017-07-17' '2017-07-18' '2017-07-19' '2017-07-20'\n",
      " '2017-07-21' '2017-07-22' '2017-07-23' '2017-07-24' '2017-07-25'\n",
      " '2017-07-26' '2017-07-27' '2017-07-28' '2017-07-30' '2017-07-31'\n",
      " '2017-08-01' '2017-08-02' '2017-08-03' '2017-08-04' '2017-08-06'\n",
      " '2017-08-07' '2017-08-08' '2017-08-09' '2017-08-10' '2017-08-11'\n",
      " '2017-08-12' '2017-08-14' '2017-08-15' '2017-08-16' '2017-08-17'\n",
      " '2017-08-18' '2017-08-19' '2017-08-21' '2017-08-22' '2017-08-23'\n",
      " '2017-08-24' '2017-08-25' '2017-08-26' '2017-08-28' '2017-08-29'\n",
      " '2017-08-30' '2017-08-31' '2017-09-01' '2017-09-04' '2017-09-05'\n",
      " '2017-09-06' '2017-09-07' '2017-09-08' '2017-09-10' '2017-09-11'\n",
      " '2017-09-12' '2017-09-13' '2017-09-14' '2017-09-15' '2017-09-16'\n",
      " '2017-09-18' '2017-09-19' '2017-09-20' '2017-09-21' '2017-09-22'\n",
      " '2017-09-23' '2017-09-24' '2017-09-25' '2017-09-26' '2017-09-27'\n",
      " '2017-09-28' '2017-09-29' '2017-09-30' '2017-10-02' '2017-10-03'\n",
      " '2017-10-04' '2017-10-05' '2017-10-06' '2017-10-07' '2017-10-09'\n",
      " '2017-10-10' '2017-10-11' '2017-10-12' '2017-10-13' '2017-10-14'\n",
      " '2017-10-15' '2017-10-16' '2017-10-17' '2017-10-18' '2017-10-19'\n",
      " '2017-10-20' '2017-10-21' '2017-10-22' '2017-10-23' '2017-10-24'\n",
      " '2017-10-25' '2017-10-26' '2017-10-27' '2017-10-28' '2017-10-30'\n",
      " '2017-10-31' '2017-11-01' '2017-11-02' '2017-11-03' '2017-11-06'\n",
      " '2017-11-07' '2017-11-08' '2017-11-09' '2017-11-10' '2017-11-11'\n",
      " '2017-11-12' '2017-11-13' '2017-11-14' '2017-11-15' '2017-11-16'\n",
      " '2017-11-17' '2017-11-20' '2017-11-21' '2017-11-22' '2017-11-23'\n",
      " '2017-11-24' '2017-11-27' '2017-11-28' '2017-11-29' '2017-11-30'\n",
      " '2017-12-01' '2017-12-04' '2017-12-05' '2017-12-06' '2017-12-07'\n",
      " '2017-12-08' '2017-12-09' '2017-12-10' '2017-12-11' '2017-12-12'\n",
      " '2017-12-13' '2017-12-14' '2017-12-15' '2017-12-17' '2017-12-18'\n",
      " '2017-12-19' '2017-12-20' '2017-12-21' '2017-12-22' '2017-12-24'\n",
      " '2017-12-27' '2017-12-29' '2017-12-30' '2018-01-02' '2018-01-03'\n",
      " '2018-01-04' '2018-01-05' '2018-01-06' '2018-01-07' '2018-01-08'\n",
      " '2018-01-09' '2018-01-10' '2018-01-11' '2018-01-12' '2018-01-14'\n",
      " '2018-01-15' '2018-01-16' '2018-01-17' '2018-01-18' '2018-01-19'\n",
      " '2018-01-22' '2018-01-23' '2018-01-24' '2018-01-25' '2018-01-26'\n",
      " '2018-01-29' '2018-01-30' '2018-01-31' '2018-02-01' '2018-02-02'\n",
      " '2018-02-05' '2018-02-06' '2018-02-07' '2018-02-08' '2018-02-09'\n",
      " '2018-02-10' '2018-02-12' '2018-02-13' '2018-02-14' '2018-02-15'\n",
      " '2018-02-16' '2018-02-17' '2018-02-19' '2018-02-20' '2018-02-21'\n",
      " '2018-02-22' '2018-02-23' '2018-02-24' '2018-02-26' '2018-02-27'\n",
      " '2018-02-28' '2018-03-01' '2018-03-02' '2018-03-05' '2018-03-06'\n",
      " '2018-03-07' '2018-03-08' '2018-03-09' '2018-03-10' '2018-03-12'\n",
      " '2018-03-13' '2018-03-14' '2018-03-15' '2018-03-16' '2018-03-17'\n",
      " '2018-03-18' '2018-03-19' '2018-03-20' '2018-03-21' '2018-03-22'\n",
      " '2018-03-23' '2018-03-25' '2018-03-26' '2018-03-27' '2018-03-28'\n",
      " '2018-03-29' '2018-03-30' '2018-04-02' '2018-04-03' '2018-04-04'\n",
      " '2018-04-05' '2018-04-06' '2018-04-09' '2018-04-10' '2018-04-11'\n",
      " '2018-04-12' '2018-04-13' '2018-04-14' '2018-04-16' '2018-04-17'\n",
      " '2018-04-18' '2018-04-19' '2018-04-20' '2018-04-23' '2018-04-24'\n",
      " '2018-04-25' '2018-04-26' '2018-04-27' '2018-04-28' '2018-04-30'\n",
      " '2018-05-01' '2018-05-02' '2018-05-03' '2018-05-04' '2018-05-05'\n",
      " '2018-05-08' '2018-05-09' '2018-05-10' '2018-05-11' '2018-05-12'\n",
      " '2018-05-13' '2018-05-14' '2018-05-15' '2018-05-16' '2018-05-17'\n",
      " '2018-05-18' '2018-05-21' '2018-05-22' '2018-05-23' '2018-05-24'\n",
      " '2018-05-25' '2018-05-27' '2018-05-28' '2018-05-29' '2018-05-30'\n",
      " '2018-05-31' '2018-06-01' '2018-06-04' '2018-06-05' '2018-06-06'\n",
      " '2018-06-07' '2018-06-08' '2018-06-11' '2018-06-12' '2018-06-13'\n",
      " '2018-06-14' '2018-06-15' '2018-06-18' '2018-06-19' '2018-06-20'\n",
      " '2018-06-21' '2018-06-22' '2018-06-23' '2018-06-25' '2018-06-26'\n",
      " '2018-06-27' '2018-06-28' '2018-06-29' '2018-06-30' '2018-07-01'\n",
      " '2018-07-02' '2018-07-03' '2018-07-04' '2018-07-05' '2018-07-06'\n",
      " '2018-07-08' '2018-07-09' '2018-07-10' '2018-07-11' '2018-07-12'\n",
      " '2018-07-13' '2018-07-15' '2018-07-16' '2018-07-17' '2018-07-18'\n",
      " '2018-07-19' '2018-07-20' '2018-07-21' '2018-07-23' '2018-07-24'\n",
      " '2018-07-25' '2018-07-26' '2018-07-27' '2018-07-30' '2018-07-31'\n",
      " '2018-08-01' '2018-08-02' '2018-08-03' '2018-08-04' '2018-08-05'\n",
      " '2018-08-06' '2018-08-07' '2018-08-08' '2018-08-09' '2018-08-10'\n",
      " '2018-08-12' '2018-08-13' '2018-08-14' '2018-08-15' '2018-08-16'\n",
      " '2018-08-17' '2018-08-18' '2018-08-19' '2018-08-20' '2018-08-21'\n",
      " '2018-08-22' '2018-08-23' '2018-08-24' '2018-08-27' '2018-08-28'\n",
      " '2018-08-29' '2018-08-30' '2018-08-31' '2018-09-01' '2018-09-03'\n",
      " '2018-09-04' '2018-09-05' '2018-09-06' '2018-09-07' '2018-09-10'\n",
      " '2018-09-11' '2018-09-12' '2018-09-13' '2018-09-14' '2018-09-17'\n",
      " '2018-09-18' '2018-09-19' '2018-09-20' '2018-09-21' '2018-09-22'\n",
      " '2018-09-23' '2018-09-24' '2018-09-25' '2018-09-26' '2018-09-27'\n",
      " '2018-09-28' '2018-09-29' '2018-10-01' '2018-10-02' '2018-10-03'\n",
      " '2018-10-04' '2018-10-05' '2018-10-08' '2018-10-09' '2018-10-10'\n",
      " '2018-10-11' '2018-10-12' '2018-10-13' '2018-10-15' '2018-10-16'\n",
      " '2018-10-17' '2018-10-18' '2018-10-19' '2018-10-20' '2018-10-21'\n",
      " '2018-10-22' '2018-10-23' '2018-10-24' '2018-10-25' '2018-10-26'\n",
      " '2018-10-27' '2018-10-28' '2018-10-29' '2018-10-30' '2018-10-31'\n",
      " '2018-11-01' '2018-11-02' '2018-11-03' '2018-11-05' '2018-11-06'\n",
      " '2018-11-07' '2018-11-08' '2018-11-09' '2018-11-10' '2018-11-12'\n",
      " '2018-11-13' '2018-11-14' '2018-11-15' '2018-11-16' '2018-11-17'\n",
      " '2018-11-18' '2018-11-19' '2018-11-20' '2018-11-21' '2018-11-22'\n",
      " '2018-11-23' '2018-11-24' '2018-11-26' '2018-11-27' '2018-11-28'\n",
      " '2018-11-29' '2018-11-30' '2018-12-01' '2018-12-03' '2018-12-04'\n",
      " '2018-12-05' '2018-12-06' '2018-12-07' '2018-12-08' '2018-12-09'\n",
      " '2018-12-10' '2018-12-11' '2018-12-12' '2018-12-13' '2018-12-14'\n",
      " '2018-12-15' '2018-12-16' '2018-12-17' '2018-12-18' '2018-12-19'\n",
      " '2018-12-20' '2018-12-21' '2018-12-22' '2018-12-24' '2018-12-27'\n",
      " '2018-12-28' '2018-12-31' '2019-01-01' '2019-01-02' '2019-01-03'\n",
      " '2019-01-04' '2019-01-06' '2019-01-07' '2019-01-08' '2019-01-09'\n",
      " '2019-01-10' '2019-01-11' '2019-01-14' '2019-01-15' '2019-01-16'\n",
      " '2019-01-17' '2019-01-18' '2019-01-19' '2019-01-21' '2019-01-22'\n",
      " '2019-01-23' '2019-01-24' '2019-01-25' '2019-01-26' '2019-01-28'\n",
      " '2019-01-29' '2019-01-30' '2019-01-31' '2019-02-01' '2019-02-04'\n",
      " '2019-02-05' '2019-02-06' '2019-02-07' '2019-02-08' '2019-02-10'\n",
      " '2019-02-11' '2019-02-12' '2019-02-13' '2019-02-14' '2019-02-15'\n",
      " '2019-02-18' '2019-02-19' '2019-02-20' '2019-02-21' '2019-02-22'\n",
      " '2019-02-25' '2019-02-26' '2019-02-27' '2019-02-28' '2019-03-01'\n",
      " '2019-03-03' '2019-03-04' '2019-03-05' '2019-03-06' '2019-03-07'\n",
      " '2019-03-08' '2019-03-09' '2019-03-10' '2019-03-11' '2019-03-12'\n",
      " '2019-03-13' '2019-03-14' '2019-03-15' '2019-03-18' '2019-03-19'\n",
      " '2019-03-20' '2019-03-21' '2019-03-22' '2019-03-23' '2019-03-25'\n",
      " '2019-03-26' '2019-03-27' '2019-03-28' '2019-03-29' '2019-03-31'\n",
      " '2019-04-01' '2019-04-02' '2019-04-03' '2019-04-04' '2019-04-05'\n",
      " '2019-04-08' '2019-04-09' '2019-04-10' '2019-04-11' '2019-04-12'\n",
      " '2019-04-14' '2019-04-15' '2019-04-16' '2019-04-17' '2019-04-18'\n",
      " '2019-04-19' '2019-04-20' '2019-04-23' '2019-04-24' '2019-04-25'\n",
      " '2019-04-26' '2019-04-29' '2019-04-30' '2019-05-01' '2019-05-02'\n",
      " '2019-05-03' '2019-05-05' '2019-05-06' '2019-05-07' '2019-05-08'\n",
      " '2019-05-09' '2019-05-10' '2019-05-11' '2019-05-13' '2019-05-14'\n",
      " '2019-05-15' '2019-05-16' '2019-05-17' '2019-05-19' '2019-05-20'\n",
      " '2019-05-21' '2019-05-22' '2019-05-23' '2019-05-24' '2019-05-25'\n",
      " '2019-05-27' '2019-05-28' '2019-05-29' '2019-05-30' '2019-05-31'\n",
      " '2019-06-03' '2019-06-04' '2019-06-05' '2019-06-06' '2019-06-07'\n",
      " '2019-06-08' '2019-06-09' '2019-06-10' '2019-06-11' '2019-06-12'\n",
      " '2019-06-13' '2019-06-14' '2019-06-15' '2019-06-16' '2019-06-17'\n",
      " '2019-06-18' '2019-06-19' '2019-06-20' '2019-06-21' '2019-06-22'\n",
      " '2019-06-24' '2019-06-25' '2019-06-26' '2019-06-27' '2019-06-28'\n",
      " '2019-07-01' '2019-07-02' '2019-07-03' '2019-07-04' '2019-07-05'\n",
      " '2019-07-06' '2019-07-08' '2019-07-09' '2019-07-10' '2019-07-11'\n",
      " '2019-07-12' '2019-07-13' '2019-07-14' '2019-07-15' '2019-07-16'\n",
      " '2019-07-17' '2019-07-18' '2019-07-19' '2019-07-22' '2019-07-23'\n",
      " '2019-07-24' '2019-07-25' '2019-07-26' '2019-07-27' '2019-07-29'\n",
      " '2019-07-30' '2019-07-31' '2019-08-01' '2019-08-02' '2019-08-06'\n",
      " '2019-08-07' '2019-08-08' '2019-08-09' '2019-08-12' '2019-08-13'\n",
      " '2019-08-14' '2019-08-15' '2019-08-16']\n",
      "Price: [ 242424.     66000.    271800.   ... 7315000.    399196.67  235550.  ]\n",
      "Not_full_market_price: ['Yes' 'No']\n",
      "VAT_exclusive: ['No' 'Yes']\n",
      "Description_of_property : ['Second-Hand Dwelling house /Apartment' 'New Dwelling house /Apartment'\n",
      " 'Teach/�ras�n C�naithe Ath�imhe']\n"
     ]
    }
   ],
   "source": [
    "print('Luas_quantity:',df.Luas_quantity.unique())\n",
    "print('Bus_quantity :',df.Bus_quantity .unique())\n",
    "print('Train_quantity :',df.Train_quantity.unique())\n",
    "print('PS_quantity:',df.PS_quantity.unique())\n",
    "print('SS_quantity:',df.SS_quantity.unique())\n",
    "print('Garda_quantity:',df.Garda_quantity.unique())\n",
    "print('Date_of_Sale:',df.Date_of_Sale.unique())\n",
    "print('Price:',df.Price.unique())\n",
    "print('Not_full_market_price:',df.Not_full_market_price.unique())\n",
    "print('VAT_exclusive:',df.VAT_exclusive.unique())\n",
    "print('Description_of_property :',df.Description_of_property.unique())"
   ]
  },
  {
   "cell_type": "markdown",
   "metadata": {},
   "source": [
    "After that, change the Not_full_market_price from Yes and No to binary '1' and '0'"
   ]
  },
  {
   "cell_type": "code",
   "execution_count": 9,
   "metadata": {},
   "outputs": [],
   "source": [
    "df['Not_full_market_price'] = df['Not_full_market_price'].map({'Yes':1, 'No':0})"
   ]
  },
  {
   "cell_type": "markdown",
   "metadata": {},
   "source": [
    "Following the same logic, we will aplly the binary '1' and '0' to 'VAT_exclusive' Column."
   ]
  },
  {
   "cell_type": "code",
   "execution_count": 10,
   "metadata": {},
   "outputs": [],
   "source": [
    "df['VAT_exclusive'] = df['VAT_exclusive'].map({'Yes':1, 'No':0})"
   ]
  },
  {
   "cell_type": "markdown",
   "metadata": {},
   "source": [
    "The column Description_of_property has some odd character."
   ]
  },
  {
   "cell_type": "code",
   "execution_count": 11,
   "metadata": {},
   "outputs": [
    {
     "data": {
      "text/plain": [
       "['Second-Hand Dwelling house /Apartment',\n",
       " 'New Dwelling house /Apartment',\n",
       " 'Teach/�ras�n C�naithe Ath�imhe']"
      ]
     },
     "execution_count": 11,
     "metadata": {},
     "output_type": "execute_result"
    }
   ],
   "source": [
    "df['Description_of_property'].unique().tolist()"
   ]
  },
  {
   "cell_type": "code",
   "execution_count": 12,
   "metadata": {},
   "outputs": [
    {
     "data": {
      "text/plain": [
       "3"
      ]
     },
     "execution_count": 12,
     "metadata": {},
     "output_type": "execute_result"
    }
   ],
   "source": [
    "len(df['Description_of_property'].unique().tolist())"
   ]
  },
  {
   "cell_type": "code",
   "execution_count": 13,
   "metadata": {},
   "outputs": [
    {
     "data": {
      "text/plain": [
       "Second-Hand Dwelling house /Apartment    35459\n",
       "New Dwelling house /Apartment            10942\n",
       "Teach/�ras�n C�naithe Ath�imhe               3\n",
       "Name: Description_of_property, dtype: int64"
      ]
     },
     "execution_count": 13,
     "metadata": {},
     "output_type": "execute_result"
    }
   ],
   "source": [
    "df['Description_of_property'].value_counts()"
   ]
  },
  {
   "cell_type": "markdown",
   "metadata": {},
   "source": [
    "However it's only three rows, so we will drop it."
   ]
  },
  {
   "cell_type": "code",
   "execution_count": 14,
   "metadata": {},
   "outputs": [],
   "source": [
    "df['Description_of_property'] = df['Description_of_property'].apply(lambda x: x.replace(\"�\", \"-\"))"
   ]
  },
  {
   "cell_type": "code",
   "execution_count": 15,
   "metadata": {},
   "outputs": [
    {
     "data": {
      "text/plain": [
       "Second-Hand Dwelling house /Apartment    35459\n",
       "New Dwelling house /Apartment            10942\n",
       "Teach/-ras-n C-naithe Ath-imhe               3\n",
       "Name: Description_of_property, dtype: int64"
      ]
     },
     "execution_count": 15,
     "metadata": {},
     "output_type": "execute_result"
    }
   ],
   "source": [
    "df['Description_of_property'].value_counts()"
   ]
  },
  {
   "cell_type": "code",
   "execution_count": 16,
   "metadata": {},
   "outputs": [],
   "source": [
    "df.drop(df[df.Description_of_property == 'Teach/-ras-n C-naithe Ath-imhe'].index, inplace = True)"
   ]
  },
  {
   "cell_type": "code",
   "execution_count": 17,
   "metadata": {},
   "outputs": [
    {
     "data": {
      "text/plain": [
       "Second-Hand Dwelling house /Apartment    35459\n",
       "New Dwelling house /Apartment            10942\n",
       "Name: Description_of_property, dtype: int64"
      ]
     },
     "execution_count": 17,
     "metadata": {},
     "output_type": "execute_result"
    }
   ],
   "source": [
    "df['Description_of_property'].value_counts()"
   ]
  },
  {
   "cell_type": "markdown",
   "metadata": {},
   "source": [
    "After cheking the data types, it is noticible that 'Date_of_Sale' is object type where it should be Date type. So we will set the correct that."
   ]
  },
  {
   "cell_type": "code",
   "execution_count": 18,
   "metadata": {},
   "outputs": [
    {
     "data": {
      "text/plain": [
       "str"
      ]
     },
     "execution_count": 18,
     "metadata": {},
     "output_type": "execute_result"
    }
   ],
   "source": [
    "type(df.Date_of_Sale[0])"
   ]
  },
  {
   "cell_type": "code",
   "execution_count": 19,
   "metadata": {},
   "outputs": [],
   "source": [
    "import numpy as np"
   ]
  },
  {
   "cell_type": "code",
   "execution_count": 20,
   "metadata": {},
   "outputs": [],
   "source": [
    "df.Date_of_Sale = df.Date_of_Sale.apply(np.datetime64)"
   ]
  },
  {
   "cell_type": "markdown",
   "metadata": {},
   "source": [
    "Now, we will update the values of Description_of_property, in order to encode this column."
   ]
  },
  {
   "cell_type": "code",
   "execution_count": 21,
   "metadata": {},
   "outputs": [
    {
     "data": {
      "text/html": [
       "<div>\n",
       "<style scoped>\n",
       "    .dataframe tbody tr th:only-of-type {\n",
       "        vertical-align: middle;\n",
       "    }\n",
       "\n",
       "    .dataframe tbody tr th {\n",
       "        vertical-align: top;\n",
       "    }\n",
       "\n",
       "    .dataframe thead th {\n",
       "        text-align: right;\n",
       "    }\n",
       "</style>\n",
       "<table border=\"1\" class=\"dataframe\">\n",
       "  <thead>\n",
       "    <tr style=\"text-align: right;\">\n",
       "      <th></th>\n",
       "      <th>ID</th>\n",
       "      <th>Luas_quantity</th>\n",
       "      <th>Bus_quantity</th>\n",
       "      <th>Train_quantity</th>\n",
       "      <th>PS_quantity</th>\n",
       "      <th>SS_quantity</th>\n",
       "      <th>Garda_quantity</th>\n",
       "      <th>Date_of_Sale</th>\n",
       "      <th>Price</th>\n",
       "      <th>Not_full_market_price</th>\n",
       "      <th>VAT_exclusive</th>\n",
       "      <th>Description_of_property</th>\n",
       "      <th>Longitude</th>\n",
       "      <th>Latitude</th>\n",
       "    </tr>\n",
       "  </thead>\n",
       "  <tbody>\n",
       "    <tr>\n",
       "      <th>0</th>\n",
       "      <td>0</td>\n",
       "      <td>0</td>\n",
       "      <td>32</td>\n",
       "      <td>0</td>\n",
       "      <td>1</td>\n",
       "      <td>0</td>\n",
       "      <td>0</td>\n",
       "      <td>2017-01-01</td>\n",
       "      <td>242424.0</td>\n",
       "      <td>1</td>\n",
       "      <td>0</td>\n",
       "      <td>Second-Hand Dwelling house /Apartment</td>\n",
       "      <td>-6.181405</td>\n",
       "      <td>53.36271</td>\n",
       "    </tr>\n",
       "  </tbody>\n",
       "</table>\n",
       "</div>"
      ],
      "text/plain": [
       "   ID  Luas_quantity  Bus_quantity  Train_quantity  PS_quantity  SS_quantity  \\\n",
       "0   0              0            32               0            1            0   \n",
       "\n",
       "   Garda_quantity Date_of_Sale     Price  Not_full_market_price  \\\n",
       "0               0   2017-01-01  242424.0                      1   \n",
       "\n",
       "   VAT_exclusive                Description_of_property  Longitude  Latitude  \n",
       "0              0  Second-Hand Dwelling house /Apartment  -6.181405  53.36271  "
      ]
     },
     "execution_count": 21,
     "metadata": {},
     "output_type": "execute_result"
    }
   ],
   "source": [
    "df.head(1)"
   ]
  },
  {
   "cell_type": "code",
   "execution_count": 22,
   "metadata": {},
   "outputs": [],
   "source": [
    "df['Description_of_property'] = df['Description_of_property'].replace(['Second-Hand Dwelling house /Apartment'],'Second_Hand_Dwelling_House_Apartment')"
   ]
  },
  {
   "cell_type": "code",
   "execution_count": 23,
   "metadata": {},
   "outputs": [],
   "source": [
    "df['Description_of_property'] = df['Description_of_property'].replace(['New Dwelling house /Apartment'],'New_Dwelling_House_Apartment')"
   ]
  },
  {
   "cell_type": "markdown",
   "metadata": {},
   "source": [
    "For this binary endoding we will use OneHotEnconder from skelearn."
   ]
  },
  {
   "cell_type": "code",
   "execution_count": 24,
   "metadata": {},
   "outputs": [
    {
     "data": {
      "text/html": [
       "<div>\n",
       "<style scoped>\n",
       "    .dataframe tbody tr th:only-of-type {\n",
       "        vertical-align: middle;\n",
       "    }\n",
       "\n",
       "    .dataframe tbody tr th {\n",
       "        vertical-align: top;\n",
       "    }\n",
       "\n",
       "    .dataframe thead tr th {\n",
       "        text-align: left;\n",
       "    }\n",
       "</style>\n",
       "<table border=\"1\" class=\"dataframe\">\n",
       "  <thead>\n",
       "    <tr>\n",
       "      <th></th>\n",
       "      <th>New_Dwelling_House_Apartment</th>\n",
       "      <th>Second_Hand_Dwelling_House_Apartment</th>\n",
       "    </tr>\n",
       "  </thead>\n",
       "  <tbody>\n",
       "    <tr>\n",
       "      <th>0</th>\n",
       "      <td>0.0</td>\n",
       "      <td>1.0</td>\n",
       "    </tr>\n",
       "    <tr>\n",
       "      <th>1</th>\n",
       "      <td>0.0</td>\n",
       "      <td>1.0</td>\n",
       "    </tr>\n",
       "    <tr>\n",
       "      <th>2</th>\n",
       "      <td>0.0</td>\n",
       "      <td>1.0</td>\n",
       "    </tr>\n",
       "    <tr>\n",
       "      <th>3</th>\n",
       "      <td>0.0</td>\n",
       "      <td>1.0</td>\n",
       "    </tr>\n",
       "    <tr>\n",
       "      <th>4</th>\n",
       "      <td>0.0</td>\n",
       "      <td>1.0</td>\n",
       "    </tr>\n",
       "  </tbody>\n",
       "</table>\n",
       "</div>"
      ],
      "text/plain": [
       "  New_Dwelling_House_Apartment Second_Hand_Dwelling_House_Apartment\n",
       "0                          0.0                                  1.0\n",
       "1                          0.0                                  1.0\n",
       "2                          0.0                                  1.0\n",
       "3                          0.0                                  1.0\n",
       "4                          0.0                                  1.0"
      ]
     },
     "execution_count": 24,
     "metadata": {},
     "output_type": "execute_result"
    }
   ],
   "source": [
    "from sklearn.preprocessing import OneHotEncoder\n",
    "\n",
    "oe_style = OneHotEncoder()\n",
    "oe_results = oe_style.fit_transform(df[[\"Description_of_property\"]])\n",
    "pd.DataFrame(oe_results.toarray(), columns=oe_style.categories_).head()"
   ]
  },
  {
   "cell_type": "markdown",
   "metadata": {},
   "source": [
    "Will drop the duplicate values and join the data back to the original datset."
   ]
  },
  {
   "cell_type": "code",
   "execution_count": 25,
   "metadata": {},
   "outputs": [],
   "source": [
    "df.drop_duplicates(inplace=True)"
   ]
  },
  {
   "cell_type": "code",
   "execution_count": 26,
   "metadata": {},
   "outputs": [],
   "source": [
    "df = df.join(pd.DataFrame(oe_results.toarray(), columns=oe_style.categories_))"
   ]
  },
  {
   "cell_type": "code",
   "execution_count": 27,
   "metadata": {},
   "outputs": [
    {
     "data": {
      "text/html": [
       "<div>\n",
       "<style scoped>\n",
       "    .dataframe tbody tr th:only-of-type {\n",
       "        vertical-align: middle;\n",
       "    }\n",
       "\n",
       "    .dataframe tbody tr th {\n",
       "        vertical-align: top;\n",
       "    }\n",
       "\n",
       "    .dataframe thead th {\n",
       "        text-align: right;\n",
       "    }\n",
       "</style>\n",
       "<table border=\"1\" class=\"dataframe\">\n",
       "  <thead>\n",
       "    <tr style=\"text-align: right;\">\n",
       "      <th></th>\n",
       "      <th>ID</th>\n",
       "      <th>Luas_quantity</th>\n",
       "      <th>Bus_quantity</th>\n",
       "      <th>Train_quantity</th>\n",
       "      <th>PS_quantity</th>\n",
       "      <th>SS_quantity</th>\n",
       "      <th>Garda_quantity</th>\n",
       "      <th>Date_of_Sale</th>\n",
       "      <th>Price</th>\n",
       "      <th>Not_full_market_price</th>\n",
       "      <th>VAT_exclusive</th>\n",
       "      <th>Description_of_property</th>\n",
       "      <th>Longitude</th>\n",
       "      <th>Latitude</th>\n",
       "      <th>(New_Dwelling_House_Apartment,)</th>\n",
       "      <th>(Second_Hand_Dwelling_House_Apartment,)</th>\n",
       "    </tr>\n",
       "  </thead>\n",
       "  <tbody>\n",
       "    <tr>\n",
       "      <th>0</th>\n",
       "      <td>0</td>\n",
       "      <td>0</td>\n",
       "      <td>32</td>\n",
       "      <td>0</td>\n",
       "      <td>1</td>\n",
       "      <td>0</td>\n",
       "      <td>0</td>\n",
       "      <td>2017-01-01</td>\n",
       "      <td>242424.0</td>\n",
       "      <td>1</td>\n",
       "      <td>0</td>\n",
       "      <td>Second_Hand_Dwelling_House_Apartment</td>\n",
       "      <td>-6.181405</td>\n",
       "      <td>53.362710</td>\n",
       "      <td>0.0</td>\n",
       "      <td>1.0</td>\n",
       "    </tr>\n",
       "    <tr>\n",
       "      <th>1</th>\n",
       "      <td>1</td>\n",
       "      <td>0</td>\n",
       "      <td>32</td>\n",
       "      <td>0</td>\n",
       "      <td>1</td>\n",
       "      <td>0</td>\n",
       "      <td>0</td>\n",
       "      <td>2017-01-01</td>\n",
       "      <td>242424.0</td>\n",
       "      <td>1</td>\n",
       "      <td>0</td>\n",
       "      <td>Second_Hand_Dwelling_House_Apartment</td>\n",
       "      <td>-6.181405</td>\n",
       "      <td>53.362710</td>\n",
       "      <td>0.0</td>\n",
       "      <td>1.0</td>\n",
       "    </tr>\n",
       "    <tr>\n",
       "      <th>2</th>\n",
       "      <td>2</td>\n",
       "      <td>0</td>\n",
       "      <td>34</td>\n",
       "      <td>0</td>\n",
       "      <td>1</td>\n",
       "      <td>0</td>\n",
       "      <td>0</td>\n",
       "      <td>2017-01-01</td>\n",
       "      <td>66000.0</td>\n",
       "      <td>1</td>\n",
       "      <td>0</td>\n",
       "      <td>Second_Hand_Dwelling_House_Apartment</td>\n",
       "      <td>-6.182833</td>\n",
       "      <td>53.362984</td>\n",
       "      <td>0.0</td>\n",
       "      <td>1.0</td>\n",
       "    </tr>\n",
       "    <tr>\n",
       "      <th>3</th>\n",
       "      <td>3</td>\n",
       "      <td>0</td>\n",
       "      <td>32</td>\n",
       "      <td>0</td>\n",
       "      <td>1</td>\n",
       "      <td>0</td>\n",
       "      <td>0</td>\n",
       "      <td>2017-01-01</td>\n",
       "      <td>271800.0</td>\n",
       "      <td>1</td>\n",
       "      <td>0</td>\n",
       "      <td>Second_Hand_Dwelling_House_Apartment</td>\n",
       "      <td>-6.181405</td>\n",
       "      <td>53.362710</td>\n",
       "      <td>0.0</td>\n",
       "      <td>1.0</td>\n",
       "    </tr>\n",
       "    <tr>\n",
       "      <th>4</th>\n",
       "      <td>4</td>\n",
       "      <td>0</td>\n",
       "      <td>33</td>\n",
       "      <td>0</td>\n",
       "      <td>1</td>\n",
       "      <td>0</td>\n",
       "      <td>0</td>\n",
       "      <td>2017-01-01</td>\n",
       "      <td>830000.0</td>\n",
       "      <td>0</td>\n",
       "      <td>0</td>\n",
       "      <td>Second_Hand_Dwelling_House_Apartment</td>\n",
       "      <td>-6.181892</td>\n",
       "      <td>53.365139</td>\n",
       "      <td>0.0</td>\n",
       "      <td>1.0</td>\n",
       "    </tr>\n",
       "  </tbody>\n",
       "</table>\n",
       "</div>"
      ],
      "text/plain": [
       "   ID  Luas_quantity  Bus_quantity  Train_quantity  PS_quantity  SS_quantity  \\\n",
       "0   0              0            32               0            1            0   \n",
       "1   1              0            32               0            1            0   \n",
       "2   2              0            34               0            1            0   \n",
       "3   3              0            32               0            1            0   \n",
       "4   4              0            33               0            1            0   \n",
       "\n",
       "   Garda_quantity Date_of_Sale     Price  Not_full_market_price  \\\n",
       "0               0   2017-01-01  242424.0                      1   \n",
       "1               0   2017-01-01  242424.0                      1   \n",
       "2               0   2017-01-01   66000.0                      1   \n",
       "3               0   2017-01-01  271800.0                      1   \n",
       "4               0   2017-01-01  830000.0                      0   \n",
       "\n",
       "   VAT_exclusive               Description_of_property  Longitude   Latitude  \\\n",
       "0              0  Second_Hand_Dwelling_House_Apartment  -6.181405  53.362710   \n",
       "1              0  Second_Hand_Dwelling_House_Apartment  -6.181405  53.362710   \n",
       "2              0  Second_Hand_Dwelling_House_Apartment  -6.182833  53.362984   \n",
       "3              0  Second_Hand_Dwelling_House_Apartment  -6.181405  53.362710   \n",
       "4              0  Second_Hand_Dwelling_House_Apartment  -6.181892  53.365139   \n",
       "\n",
       "   (New_Dwelling_House_Apartment,)  (Second_Hand_Dwelling_House_Apartment,)  \n",
       "0                              0.0                                      1.0  \n",
       "1                              0.0                                      1.0  \n",
       "2                              0.0                                      1.0  \n",
       "3                              0.0                                      1.0  \n",
       "4                              0.0                                      1.0  "
      ]
     },
     "execution_count": 27,
     "metadata": {},
     "output_type": "execute_result"
    }
   ],
   "source": [
    "df.head()"
   ]
  },
  {
   "cell_type": "markdown",
   "metadata": {},
   "source": [
    "After the encoding, we will drop the Description_of_property as we don't need it anymore."
   ]
  },
  {
   "cell_type": "code",
   "execution_count": 28,
   "metadata": {},
   "outputs": [],
   "source": [
    "df.drop('Description_of_property', inplace=True, axis=1)"
   ]
  },
  {
   "cell_type": "code",
   "execution_count": 29,
   "metadata": {},
   "outputs": [
    {
     "name": "stdout",
     "output_type": "stream",
     "text": [
      "<class 'pandas.core.frame.DataFrame'>\n",
      "Int64Index: 46401 entries, 0 to 46403\n",
      "Data columns (total 15 columns):\n",
      " #   Column                                   Non-Null Count  Dtype         \n",
      "---  ------                                   --------------  -----         \n",
      " 0   ID                                       46401 non-null  int64         \n",
      " 1   Luas_quantity                            46401 non-null  int64         \n",
      " 2   Bus_quantity                             46401 non-null  int64         \n",
      " 3   Train_quantity                           46401 non-null  int64         \n",
      " 4   PS_quantity                              46401 non-null  int64         \n",
      " 5   SS_quantity                              46401 non-null  int64         \n",
      " 6   Garda_quantity                           46401 non-null  int64         \n",
      " 7   Date_of_Sale                             46401 non-null  datetime64[ns]\n",
      " 8   Price                                    46401 non-null  float64       \n",
      " 9   Not_full_market_price                    46401 non-null  int64         \n",
      " 10  VAT_exclusive                            46401 non-null  int64         \n",
      " 11  Longitude                                46401 non-null  float64       \n",
      " 12  Latitude                                 46401 non-null  float64       \n",
      " 13  (New_Dwelling_House_Apartment,)          46398 non-null  float64       \n",
      " 14  (Second_Hand_Dwelling_House_Apartment,)  46398 non-null  float64       \n",
      "dtypes: datetime64[ns](1), float64(5), int64(9)\n",
      "memory usage: 6.9 MB\n"
     ]
    }
   ],
   "source": [
    "df.info()"
   ]
  },
  {
   "cell_type": "markdown",
   "metadata": {},
   "source": [
    "Will rename the new two columns added '(New_Dwelling_house_Apartment,)' and '(Second_Hand_Dwelling_house_Apartment,)'. And add to a new dataframe."
   ]
  },
  {
   "cell_type": "code",
   "execution_count": 30,
   "metadata": {},
   "outputs": [],
   "source": [
    "df = df.rename(columns={ df.columns[13]: \"New_Dwelling_House_Apartment\" })"
   ]
  },
  {
   "cell_type": "code",
   "execution_count": 31,
   "metadata": {},
   "outputs": [
    {
     "data": {
      "text/html": [
       "<div>\n",
       "<style scoped>\n",
       "    .dataframe tbody tr th:only-of-type {\n",
       "        vertical-align: middle;\n",
       "    }\n",
       "\n",
       "    .dataframe tbody tr th {\n",
       "        vertical-align: top;\n",
       "    }\n",
       "\n",
       "    .dataframe thead th {\n",
       "        text-align: right;\n",
       "    }\n",
       "</style>\n",
       "<table border=\"1\" class=\"dataframe\">\n",
       "  <thead>\n",
       "    <tr style=\"text-align: right;\">\n",
       "      <th></th>\n",
       "      <th>ID</th>\n",
       "      <th>Luas_quantity</th>\n",
       "      <th>Bus_quantity</th>\n",
       "      <th>Train_quantity</th>\n",
       "      <th>PS_quantity</th>\n",
       "      <th>SS_quantity</th>\n",
       "      <th>Garda_quantity</th>\n",
       "      <th>Date_of_Sale</th>\n",
       "      <th>Price</th>\n",
       "      <th>Not_full_market_price</th>\n",
       "      <th>VAT_exclusive</th>\n",
       "      <th>Longitude</th>\n",
       "      <th>Latitude</th>\n",
       "      <th>New_Dwelling_House_Apartment</th>\n",
       "      <th>(Second_Hand_Dwelling_House_Apartment,)</th>\n",
       "    </tr>\n",
       "  </thead>\n",
       "  <tbody>\n",
       "    <tr>\n",
       "      <th>0</th>\n",
       "      <td>0</td>\n",
       "      <td>0</td>\n",
       "      <td>32</td>\n",
       "      <td>0</td>\n",
       "      <td>1</td>\n",
       "      <td>0</td>\n",
       "      <td>0</td>\n",
       "      <td>2017-01-01</td>\n",
       "      <td>242424.0</td>\n",
       "      <td>1</td>\n",
       "      <td>0</td>\n",
       "      <td>-6.181405</td>\n",
       "      <td>53.36271</td>\n",
       "      <td>0.0</td>\n",
       "      <td>1.0</td>\n",
       "    </tr>\n",
       "  </tbody>\n",
       "</table>\n",
       "</div>"
      ],
      "text/plain": [
       "   ID  Luas_quantity  Bus_quantity  Train_quantity  PS_quantity  SS_quantity  \\\n",
       "0   0              0            32               0            1            0   \n",
       "\n",
       "   Garda_quantity Date_of_Sale     Price  Not_full_market_price  \\\n",
       "0               0   2017-01-01  242424.0                      1   \n",
       "\n",
       "   VAT_exclusive  Longitude  Latitude  New_Dwelling_House_Apartment  \\\n",
       "0              0  -6.181405  53.36271                           0.0   \n",
       "\n",
       "   (Second_Hand_Dwelling_House_Apartment,)  \n",
       "0                                      1.0  "
      ]
     },
     "execution_count": 31,
     "metadata": {},
     "output_type": "execute_result"
    }
   ],
   "source": [
    "df.head(1)"
   ]
  },
  {
   "cell_type": "code",
   "execution_count": 32,
   "metadata": {},
   "outputs": [],
   "source": [
    "df = df.rename(columns={ df.columns[14]: \"Second_Hand_Dwelling_House_Apartment\" })"
   ]
  },
  {
   "cell_type": "code",
   "execution_count": 33,
   "metadata": {},
   "outputs": [
    {
     "data": {
      "text/html": [
       "<div>\n",
       "<style scoped>\n",
       "    .dataframe tbody tr th:only-of-type {\n",
       "        vertical-align: middle;\n",
       "    }\n",
       "\n",
       "    .dataframe tbody tr th {\n",
       "        vertical-align: top;\n",
       "    }\n",
       "\n",
       "    .dataframe thead th {\n",
       "        text-align: right;\n",
       "    }\n",
       "</style>\n",
       "<table border=\"1\" class=\"dataframe\">\n",
       "  <thead>\n",
       "    <tr style=\"text-align: right;\">\n",
       "      <th></th>\n",
       "      <th>ID</th>\n",
       "      <th>Luas_quantity</th>\n",
       "      <th>Bus_quantity</th>\n",
       "      <th>Train_quantity</th>\n",
       "      <th>PS_quantity</th>\n",
       "      <th>SS_quantity</th>\n",
       "      <th>Garda_quantity</th>\n",
       "      <th>Date_of_Sale</th>\n",
       "      <th>Price</th>\n",
       "      <th>Not_full_market_price</th>\n",
       "      <th>VAT_exclusive</th>\n",
       "      <th>Longitude</th>\n",
       "      <th>Latitude</th>\n",
       "      <th>New_Dwelling_House_Apartment</th>\n",
       "      <th>Second_Hand_Dwelling_House_Apartment</th>\n",
       "    </tr>\n",
       "  </thead>\n",
       "  <tbody>\n",
       "    <tr>\n",
       "      <th>0</th>\n",
       "      <td>0</td>\n",
       "      <td>0</td>\n",
       "      <td>32</td>\n",
       "      <td>0</td>\n",
       "      <td>1</td>\n",
       "      <td>0</td>\n",
       "      <td>0</td>\n",
       "      <td>2017-01-01</td>\n",
       "      <td>242424.0</td>\n",
       "      <td>1</td>\n",
       "      <td>0</td>\n",
       "      <td>-6.181405</td>\n",
       "      <td>53.36271</td>\n",
       "      <td>0.0</td>\n",
       "      <td>1.0</td>\n",
       "    </tr>\n",
       "  </tbody>\n",
       "</table>\n",
       "</div>"
      ],
      "text/plain": [
       "   ID  Luas_quantity  Bus_quantity  Train_quantity  PS_quantity  SS_quantity  \\\n",
       "0   0              0            32               0            1            0   \n",
       "\n",
       "   Garda_quantity Date_of_Sale     Price  Not_full_market_price  \\\n",
       "0               0   2017-01-01  242424.0                      1   \n",
       "\n",
       "   VAT_exclusive  Longitude  Latitude  New_Dwelling_House_Apartment  \\\n",
       "0              0  -6.181405  53.36271                           0.0   \n",
       "\n",
       "   Second_Hand_Dwelling_House_Apartment  \n",
       "0                                   1.0  "
      ]
     },
     "execution_count": 33,
     "metadata": {},
     "output_type": "execute_result"
    }
   ],
   "source": [
    "df.head(1)"
   ]
  },
  {
   "cell_type": "code",
   "execution_count": 34,
   "metadata": {},
   "outputs": [
    {
     "name": "stdout",
     "output_type": "stream",
     "text": [
      "<class 'pandas.core.frame.DataFrame'>\n",
      "Int64Index: 46401 entries, 0 to 46403\n",
      "Data columns (total 15 columns):\n",
      " #   Column                                Non-Null Count  Dtype         \n",
      "---  ------                                --------------  -----         \n",
      " 0   ID                                    46401 non-null  int64         \n",
      " 1   Luas_quantity                         46401 non-null  int64         \n",
      " 2   Bus_quantity                          46401 non-null  int64         \n",
      " 3   Train_quantity                        46401 non-null  int64         \n",
      " 4   PS_quantity                           46401 non-null  int64         \n",
      " 5   SS_quantity                           46401 non-null  int64         \n",
      " 6   Garda_quantity                        46401 non-null  int64         \n",
      " 7   Date_of_Sale                          46401 non-null  datetime64[ns]\n",
      " 8   Price                                 46401 non-null  float64       \n",
      " 9   Not_full_market_price                 46401 non-null  int64         \n",
      " 10  VAT_exclusive                         46401 non-null  int64         \n",
      " 11  Longitude                             46401 non-null  float64       \n",
      " 12  Latitude                              46401 non-null  float64       \n",
      " 13  New_Dwelling_House_Apartment          46398 non-null  float64       \n",
      " 14  Second_Hand_Dwelling_House_Apartment  46398 non-null  float64       \n",
      "dtypes: datetime64[ns](1), float64(5), int64(9)\n",
      "memory usage: 5.7 MB\n"
     ]
    }
   ],
   "source": [
    "df.info()"
   ]
  },
  {
   "cell_type": "markdown",
   "metadata": {},
   "source": [
    "After check the info in the new dataframe, we could see some NaN values. So, will drop it and add into a new dataframe."
   ]
  },
  {
   "cell_type": "code",
   "execution_count": 35,
   "metadata": {},
   "outputs": [
    {
     "name": "stdout",
     "output_type": "stream",
     "text": [
      "New_Dwelling_House_Apartment : [ 0.  1. nan]\n",
      "Second_Hand_Dwelling_House_Apartment : [ 1.  0. nan]\n"
     ]
    }
   ],
   "source": [
    "print('New_Dwelling_House_Apartment :',df.New_Dwelling_House_Apartment.unique())\n",
    "print('Second_Hand_Dwelling_House_Apartment :',df.Second_Hand_Dwelling_House_Apartment.unique())"
   ]
  },
  {
   "cell_type": "code",
   "execution_count": 36,
   "metadata": {},
   "outputs": [],
   "source": [
    "df = df.dropna()"
   ]
  },
  {
   "cell_type": "code",
   "execution_count": 37,
   "metadata": {},
   "outputs": [
    {
     "name": "stdout",
     "output_type": "stream",
     "text": [
      "<class 'pandas.core.frame.DataFrame'>\n",
      "Int64Index: 46398 entries, 0 to 46400\n",
      "Data columns (total 15 columns):\n",
      " #   Column                                Non-Null Count  Dtype         \n",
      "---  ------                                --------------  -----         \n",
      " 0   ID                                    46398 non-null  int64         \n",
      " 1   Luas_quantity                         46398 non-null  int64         \n",
      " 2   Bus_quantity                          46398 non-null  int64         \n",
      " 3   Train_quantity                        46398 non-null  int64         \n",
      " 4   PS_quantity                           46398 non-null  int64         \n",
      " 5   SS_quantity                           46398 non-null  int64         \n",
      " 6   Garda_quantity                        46398 non-null  int64         \n",
      " 7   Date_of_Sale                          46398 non-null  datetime64[ns]\n",
      " 8   Price                                 46398 non-null  float64       \n",
      " 9   Not_full_market_price                 46398 non-null  int64         \n",
      " 10  VAT_exclusive                         46398 non-null  int64         \n",
      " 11  Longitude                             46398 non-null  float64       \n",
      " 12  Latitude                              46398 non-null  float64       \n",
      " 13  New_Dwelling_House_Apartment          46398 non-null  float64       \n",
      " 14  Second_Hand_Dwelling_House_Apartment  46398 non-null  float64       \n",
      "dtypes: datetime64[ns](1), float64(5), int64(9)\n",
      "memory usage: 5.7 MB\n"
     ]
    }
   ],
   "source": [
    "df.info()"
   ]
  },
  {
   "cell_type": "code",
   "execution_count": 38,
   "metadata": {},
   "outputs": [
    {
     "name": "stdout",
     "output_type": "stream",
     "text": [
      "New_Dwelling_house_Apartment : [0. 1.]\n",
      "Second_Hand_Dwelling_house_Apartment : [1. 0.]\n"
     ]
    }
   ],
   "source": [
    "print('New_Dwelling_house_Apartment :',df.New_Dwelling_House_Apartment .unique())\n",
    "print('Second_Hand_Dwelling_house_Apartment :',df.Second_Hand_Dwelling_House_Apartment.unique())"
   ]
  },
  {
   "cell_type": "markdown",
   "metadata": {},
   "source": [
    "The NaN values are gone. As seen above the datatype is float. Then we will conver that to int."
   ]
  },
  {
   "cell_type": "code",
   "execution_count": 39,
   "metadata": {},
   "outputs": [],
   "source": [
    "df[['New_Dwelling_House_Apartment', 'Second_Hand_Dwelling_House_Apartment']] = df[['New_Dwelling_House_Apartment', 'Second_Hand_Dwelling_House_Apartment']].astype(int)"
   ]
  },
  {
   "cell_type": "markdown",
   "metadata": {},
   "source": [
    "We will drop two columns 'ID' and 'Date_of_sale' because it is not relevant for training the model."
   ]
  },
  {
   "cell_type": "code",
   "execution_count": 40,
   "metadata": {},
   "outputs": [],
   "source": [
    "df = df.drop(columns=['ID', 'Date_of_Sale'])"
   ]
  },
  {
   "cell_type": "code",
   "execution_count": 41,
   "metadata": {},
   "outputs": [
    {
     "data": {
      "text/html": [
       "<div>\n",
       "<style scoped>\n",
       "    .dataframe tbody tr th:only-of-type {\n",
       "        vertical-align: middle;\n",
       "    }\n",
       "\n",
       "    .dataframe tbody tr th {\n",
       "        vertical-align: top;\n",
       "    }\n",
       "\n",
       "    .dataframe thead th {\n",
       "        text-align: right;\n",
       "    }\n",
       "</style>\n",
       "<table border=\"1\" class=\"dataframe\">\n",
       "  <thead>\n",
       "    <tr style=\"text-align: right;\">\n",
       "      <th></th>\n",
       "      <th>Luas_quantity</th>\n",
       "      <th>Bus_quantity</th>\n",
       "      <th>Train_quantity</th>\n",
       "      <th>PS_quantity</th>\n",
       "      <th>SS_quantity</th>\n",
       "      <th>Garda_quantity</th>\n",
       "      <th>Price</th>\n",
       "      <th>Not_full_market_price</th>\n",
       "      <th>VAT_exclusive</th>\n",
       "      <th>Longitude</th>\n",
       "      <th>Latitude</th>\n",
       "      <th>New_Dwelling_House_Apartment</th>\n",
       "      <th>Second_Hand_Dwelling_House_Apartment</th>\n",
       "    </tr>\n",
       "  </thead>\n",
       "  <tbody>\n",
       "    <tr>\n",
       "      <th>0</th>\n",
       "      <td>0</td>\n",
       "      <td>32</td>\n",
       "      <td>0</td>\n",
       "      <td>1</td>\n",
       "      <td>0</td>\n",
       "      <td>0</td>\n",
       "      <td>242424.0</td>\n",
       "      <td>1</td>\n",
       "      <td>0</td>\n",
       "      <td>-6.181405</td>\n",
       "      <td>53.362710</td>\n",
       "      <td>0</td>\n",
       "      <td>1</td>\n",
       "    </tr>\n",
       "    <tr>\n",
       "      <th>1</th>\n",
       "      <td>0</td>\n",
       "      <td>32</td>\n",
       "      <td>0</td>\n",
       "      <td>1</td>\n",
       "      <td>0</td>\n",
       "      <td>0</td>\n",
       "      <td>242424.0</td>\n",
       "      <td>1</td>\n",
       "      <td>0</td>\n",
       "      <td>-6.181405</td>\n",
       "      <td>53.362710</td>\n",
       "      <td>0</td>\n",
       "      <td>1</td>\n",
       "    </tr>\n",
       "    <tr>\n",
       "      <th>2</th>\n",
       "      <td>0</td>\n",
       "      <td>34</td>\n",
       "      <td>0</td>\n",
       "      <td>1</td>\n",
       "      <td>0</td>\n",
       "      <td>0</td>\n",
       "      <td>66000.0</td>\n",
       "      <td>1</td>\n",
       "      <td>0</td>\n",
       "      <td>-6.182833</td>\n",
       "      <td>53.362984</td>\n",
       "      <td>0</td>\n",
       "      <td>1</td>\n",
       "    </tr>\n",
       "    <tr>\n",
       "      <th>3</th>\n",
       "      <td>0</td>\n",
       "      <td>32</td>\n",
       "      <td>0</td>\n",
       "      <td>1</td>\n",
       "      <td>0</td>\n",
       "      <td>0</td>\n",
       "      <td>271800.0</td>\n",
       "      <td>1</td>\n",
       "      <td>0</td>\n",
       "      <td>-6.181405</td>\n",
       "      <td>53.362710</td>\n",
       "      <td>0</td>\n",
       "      <td>1</td>\n",
       "    </tr>\n",
       "    <tr>\n",
       "      <th>4</th>\n",
       "      <td>0</td>\n",
       "      <td>33</td>\n",
       "      <td>0</td>\n",
       "      <td>1</td>\n",
       "      <td>0</td>\n",
       "      <td>0</td>\n",
       "      <td>830000.0</td>\n",
       "      <td>0</td>\n",
       "      <td>0</td>\n",
       "      <td>-6.181892</td>\n",
       "      <td>53.365139</td>\n",
       "      <td>0</td>\n",
       "      <td>1</td>\n",
       "    </tr>\n",
       "    <tr>\n",
       "      <th>...</th>\n",
       "      <td>...</td>\n",
       "      <td>...</td>\n",
       "      <td>...</td>\n",
       "      <td>...</td>\n",
       "      <td>...</td>\n",
       "      <td>...</td>\n",
       "      <td>...</td>\n",
       "      <td>...</td>\n",
       "      <td>...</td>\n",
       "      <td>...</td>\n",
       "      <td>...</td>\n",
       "      <td>...</td>\n",
       "      <td>...</td>\n",
       "    </tr>\n",
       "    <tr>\n",
       "      <th>46396</th>\n",
       "      <td>0</td>\n",
       "      <td>55</td>\n",
       "      <td>0</td>\n",
       "      <td>5</td>\n",
       "      <td>3</td>\n",
       "      <td>1</td>\n",
       "      <td>477000.0</td>\n",
       "      <td>0</td>\n",
       "      <td>0</td>\n",
       "      <td>-6.294334</td>\n",
       "      <td>53.295079</td>\n",
       "      <td>0</td>\n",
       "      <td>1</td>\n",
       "    </tr>\n",
       "    <tr>\n",
       "      <th>46397</th>\n",
       "      <td>0</td>\n",
       "      <td>66</td>\n",
       "      <td>0</td>\n",
       "      <td>3</td>\n",
       "      <td>2</td>\n",
       "      <td>1</td>\n",
       "      <td>555000.0</td>\n",
       "      <td>0</td>\n",
       "      <td>0</td>\n",
       "      <td>-6.271758</td>\n",
       "      <td>53.388159</td>\n",
       "      <td>0</td>\n",
       "      <td>1</td>\n",
       "    </tr>\n",
       "    <tr>\n",
       "      <th>46398</th>\n",
       "      <td>0</td>\n",
       "      <td>38</td>\n",
       "      <td>0</td>\n",
       "      <td>1</td>\n",
       "      <td>0</td>\n",
       "      <td>0</td>\n",
       "      <td>248500.0</td>\n",
       "      <td>0</td>\n",
       "      <td>0</td>\n",
       "      <td>-6.283514</td>\n",
       "      <td>53.405929</td>\n",
       "      <td>0</td>\n",
       "      <td>1</td>\n",
       "    </tr>\n",
       "    <tr>\n",
       "      <th>46399</th>\n",
       "      <td>0</td>\n",
       "      <td>49</td>\n",
       "      <td>1</td>\n",
       "      <td>5</td>\n",
       "      <td>0</td>\n",
       "      <td>0</td>\n",
       "      <td>320000.0</td>\n",
       "      <td>0</td>\n",
       "      <td>0</td>\n",
       "      <td>-6.212927</td>\n",
       "      <td>53.376221</td>\n",
       "      <td>0</td>\n",
       "      <td>1</td>\n",
       "    </tr>\n",
       "    <tr>\n",
       "      <th>46400</th>\n",
       "      <td>4</td>\n",
       "      <td>64</td>\n",
       "      <td>0</td>\n",
       "      <td>5</td>\n",
       "      <td>1</td>\n",
       "      <td>1</td>\n",
       "      <td>285000.0</td>\n",
       "      <td>0</td>\n",
       "      <td>0</td>\n",
       "      <td>-6.246034</td>\n",
       "      <td>53.294678</td>\n",
       "      <td>0</td>\n",
       "      <td>1</td>\n",
       "    </tr>\n",
       "  </tbody>\n",
       "</table>\n",
       "<p>46398 rows × 13 columns</p>\n",
       "</div>"
      ],
      "text/plain": [
       "       Luas_quantity  Bus_quantity  Train_quantity  PS_quantity  SS_quantity  \\\n",
       "0                  0            32               0            1            0   \n",
       "1                  0            32               0            1            0   \n",
       "2                  0            34               0            1            0   \n",
       "3                  0            32               0            1            0   \n",
       "4                  0            33               0            1            0   \n",
       "...              ...           ...             ...          ...          ...   \n",
       "46396              0            55               0            5            3   \n",
       "46397              0            66               0            3            2   \n",
       "46398              0            38               0            1            0   \n",
       "46399              0            49               1            5            0   \n",
       "46400              4            64               0            5            1   \n",
       "\n",
       "       Garda_quantity     Price  Not_full_market_price  VAT_exclusive  \\\n",
       "0                   0  242424.0                      1              0   \n",
       "1                   0  242424.0                      1              0   \n",
       "2                   0   66000.0                      1              0   \n",
       "3                   0  271800.0                      1              0   \n",
       "4                   0  830000.0                      0              0   \n",
       "...               ...       ...                    ...            ...   \n",
       "46396               1  477000.0                      0              0   \n",
       "46397               1  555000.0                      0              0   \n",
       "46398               0  248500.0                      0              0   \n",
       "46399               0  320000.0                      0              0   \n",
       "46400               1  285000.0                      0              0   \n",
       "\n",
       "       Longitude   Latitude  New_Dwelling_House_Apartment  \\\n",
       "0      -6.181405  53.362710                             0   \n",
       "1      -6.181405  53.362710                             0   \n",
       "2      -6.182833  53.362984                             0   \n",
       "3      -6.181405  53.362710                             0   \n",
       "4      -6.181892  53.365139                             0   \n",
       "...          ...        ...                           ...   \n",
       "46396  -6.294334  53.295079                             0   \n",
       "46397  -6.271758  53.388159                             0   \n",
       "46398  -6.283514  53.405929                             0   \n",
       "46399  -6.212927  53.376221                             0   \n",
       "46400  -6.246034  53.294678                             0   \n",
       "\n",
       "       Second_Hand_Dwelling_House_Apartment  \n",
       "0                                         1  \n",
       "1                                         1  \n",
       "2                                         1  \n",
       "3                                         1  \n",
       "4                                         1  \n",
       "...                                     ...  \n",
       "46396                                     1  \n",
       "46397                                     1  \n",
       "46398                                     1  \n",
       "46399                                     1  \n",
       "46400                                     1  \n",
       "\n",
       "[46398 rows x 13 columns]"
      ]
     },
     "execution_count": 41,
     "metadata": {},
     "output_type": "execute_result"
    }
   ],
   "source": [
    "df"
   ]
  },
  {
   "cell_type": "markdown",
   "metadata": {},
   "source": [
    "Let's have a look at price distribution and outliers"
   ]
  },
  {
   "cell_type": "code",
   "execution_count": 42,
   "metadata": {},
   "outputs": [
    {
     "data": {
      "text/plain": [
       "count    4.639800e+04\n",
       "mean     4.527555e+05\n",
       "std      1.451157e+06\n",
       "min      5.250000e+03\n",
       "25%      2.511013e+05\n",
       "50%      3.303965e+05\n",
       "75%      4.675000e+05\n",
       "max      1.391650e+08\n",
       "Name: Price, dtype: float64"
      ]
     },
     "execution_count": 42,
     "metadata": {},
     "output_type": "execute_result"
    }
   ],
   "source": [
    "df.Price.describe()"
   ]
  },
  {
   "cell_type": "code",
   "execution_count": 43,
   "metadata": {},
   "outputs": [
    {
     "data": {
      "text/plain": [
       "5250.0"
      ]
     },
     "execution_count": 43,
     "metadata": {},
     "output_type": "execute_result"
    }
   ],
   "source": [
    "df.Price.min()"
   ]
  },
  {
   "cell_type": "code",
   "execution_count": 44,
   "metadata": {},
   "outputs": [
    {
     "data": {
      "text/plain": [
       "139165000.0"
      ]
     },
     "execution_count": 44,
     "metadata": {},
     "output_type": "execute_result"
    }
   ],
   "source": [
    "df.Price.max()"
   ]
  },
  {
   "cell_type": "markdown",
   "metadata": {},
   "source": [
    "It looks like we have some very odd numbers. Minimum being just over 5 thousand, it doesn't make any sense since no property in Dublin would cost so little. And 139 million euro is a really large, unrealistic value. Let's check price in a box plot"
   ]
  },
  {
   "cell_type": "code",
   "execution_count": 45,
   "metadata": {},
   "outputs": [],
   "source": [
    "import matplotlib.pyplot as plt "
   ]
  },
  {
   "cell_type": "code",
   "execution_count": 46,
   "metadata": {},
   "outputs": [
    {
     "data": {
      "image/png": "[encoded data removed]",
      "text/plain": [
       "<Figure size 720x504 with 1 Axes>"
      ]
     },
     "metadata": {
      "needs_background": "light"
     },
     "output_type": "display_data"
    }
   ],
   "source": [
    "fig = plt.figure(figsize =(10, 7))\n",
    "  \n",
    "plt.boxplot(df.Price)\n",
    "  \n",
    "plt.show()"
   ]
  },
  {
   "cell_type": "markdown",
   "metadata": {},
   "source": [
    "We can see that definitelly we have some really large values and that those are outliers. Let's experiment a bit with the data:"
   ]
  },
  {
   "cell_type": "code",
   "execution_count": 47,
   "metadata": {},
   "outputs": [
    {
     "data": {
      "text/plain": [
       "(46398, 13)"
      ]
     },
     "execution_count": 47,
     "metadata": {},
     "output_type": "execute_result"
    }
   ],
   "source": [
    "df.shape"
   ]
  },
  {
   "cell_type": "code",
   "execution_count": 48,
   "metadata": {},
   "outputs": [],
   "source": [
    "lessthan5000000 = df[df['Price'] < 5000000.0]"
   ]
  },
  {
   "cell_type": "code",
   "execution_count": 49,
   "metadata": {},
   "outputs": [
    {
     "data": {
      "text/plain": [
       "(46318, 13)"
      ]
     },
     "execution_count": 49,
     "metadata": {},
     "output_type": "execute_result"
    }
   ],
   "source": [
    "lessthan5000000.shape"
   ]
  },
  {
   "cell_type": "markdown",
   "metadata": {},
   "source": [
    "Apparently only 80 rows are over 5 million"
   ]
  },
  {
   "cell_type": "code",
   "execution_count": 50,
   "metadata": {},
   "outputs": [
    {
     "data": {
      "image/png": "[encoded data removed]",
      "text/plain": [
       "<Figure size 720x504 with 1 Axes>"
      ]
     },
     "metadata": {
      "needs_background": "light"
     },
     "output_type": "display_data"
    }
   ],
   "source": [
    "fig = plt.figure(figsize =(10, 7))\n",
    "  \n",
    "plt.boxplot(lessthan5000000.Price)\n",
    "  \n",
    "plt.show()"
   ]
  },
  {
   "cell_type": "markdown",
   "metadata": {},
   "source": [
    "Let's see if we use data for prices less than 2 million"
   ]
  },
  {
   "cell_type": "code",
   "execution_count": 51,
   "metadata": {},
   "outputs": [],
   "source": [
    "lessthan2000000 = df[df['Price'] < 2000000.0]"
   ]
  },
  {
   "cell_type": "code",
   "execution_count": 52,
   "metadata": {},
   "outputs": [
    {
     "data": {
      "text/plain": [
       "(45943, 13)"
      ]
     },
     "execution_count": 52,
     "metadata": {},
     "output_type": "execute_result"
    }
   ],
   "source": [
    "lessthan2000000.shape"
   ]
  },
  {
   "cell_type": "markdown",
   "metadata": {},
   "source": [
    "Comparing with original dataset, 455 rows were above 2 million"
   ]
  },
  {
   "cell_type": "code",
   "execution_count": 53,
   "metadata": {},
   "outputs": [
    {
     "data": {
      "image/png": "[encoded data removed]",
      "text/plain": [
       "<Figure size 720x504 with 1 Axes>"
      ]
     },
     "metadata": {
      "needs_background": "light"
     },
     "output_type": "display_data"
    }
   ],
   "source": [
    "fig = plt.figure(figsize =(10, 7))\n",
    "  \n",
    "plt.boxplot(lessthan2000000.Price)\n",
    "  \n",
    "plt.show()"
   ]
  },
  {
   "cell_type": "markdown",
   "metadata": {},
   "source": [
    "Checking less than 1 million"
   ]
  },
  {
   "cell_type": "code",
   "execution_count": 54,
   "metadata": {},
   "outputs": [],
   "source": [
    "lessthan1000000 = df[df['Price'] < 1000000.0]"
   ]
  },
  {
   "cell_type": "code",
   "execution_count": 55,
   "metadata": {},
   "outputs": [
    {
     "data": {
      "text/plain": [
       "(44526, 13)"
      ]
     },
     "execution_count": 55,
     "metadata": {},
     "output_type": "execute_result"
    }
   ],
   "source": [
    "lessthan1000000.shape"
   ]
  },
  {
   "cell_type": "markdown",
   "metadata": {},
   "source": [
    "46398 - 44526 = 1872 rows had the price above 1 million"
   ]
  },
  {
   "cell_type": "code",
   "execution_count": 56,
   "metadata": {},
   "outputs": [
    {
     "data": {
      "image/png": "[encoded data removed]",
      "text/plain": [
       "<Figure size 720x504 with 1 Axes>"
      ]
     },
     "metadata": {
      "needs_background": "light"
     },
     "output_type": "display_data"
    }
   ],
   "source": [
    "fig = plt.figure(figsize =(10, 7))\n",
    "  \n",
    "plt.boxplot(lessthan1000000.Price)\n",
    "  \n",
    "plt.show()"
   ]
  },
  {
   "cell_type": "markdown",
   "metadata": {},
   "source": [
    "Deleting 1872 rows is a lot, let's keep it at maximum 2 million. And let's check the really small values:"
   ]
  },
  {
   "cell_type": "code",
   "execution_count": 57,
   "metadata": {},
   "outputs": [],
   "source": [
    "reallysmall = df[df['Price'] < 70000.0]"
   ]
  },
  {
   "cell_type": "code",
   "execution_count": 58,
   "metadata": {},
   "outputs": [
    {
     "data": {
      "text/html": [
       "<div>\n",
       "<style scoped>\n",
       "    .dataframe tbody tr th:only-of-type {\n",
       "        vertical-align: middle;\n",
       "    }\n",
       "\n",
       "    .dataframe tbody tr th {\n",
       "        vertical-align: top;\n",
       "    }\n",
       "\n",
       "    .dataframe thead th {\n",
       "        text-align: right;\n",
       "    }\n",
       "</style>\n",
       "<table border=\"1\" class=\"dataframe\">\n",
       "  <thead>\n",
       "    <tr style=\"text-align: right;\">\n",
       "      <th></th>\n",
       "      <th>Luas_quantity</th>\n",
       "      <th>Bus_quantity</th>\n",
       "      <th>Train_quantity</th>\n",
       "      <th>PS_quantity</th>\n",
       "      <th>SS_quantity</th>\n",
       "      <th>Garda_quantity</th>\n",
       "      <th>Price</th>\n",
       "      <th>Not_full_market_price</th>\n",
       "      <th>VAT_exclusive</th>\n",
       "      <th>Longitude</th>\n",
       "      <th>Latitude</th>\n",
       "      <th>New_Dwelling_House_Apartment</th>\n",
       "      <th>Second_Hand_Dwelling_House_Apartment</th>\n",
       "    </tr>\n",
       "  </thead>\n",
       "  <tbody>\n",
       "    <tr>\n",
       "      <th>2</th>\n",
       "      <td>0</td>\n",
       "      <td>34</td>\n",
       "      <td>0</td>\n",
       "      <td>1</td>\n",
       "      <td>0</td>\n",
       "      <td>0</td>\n",
       "      <td>66000.00</td>\n",
       "      <td>1</td>\n",
       "      <td>0</td>\n",
       "      <td>-6.182833</td>\n",
       "      <td>53.362984</td>\n",
       "      <td>0</td>\n",
       "      <td>1</td>\n",
       "    </tr>\n",
       "    <tr>\n",
       "      <th>189</th>\n",
       "      <td>0</td>\n",
       "      <td>8</td>\n",
       "      <td>0</td>\n",
       "      <td>1</td>\n",
       "      <td>0</td>\n",
       "      <td>0</td>\n",
       "      <td>25000.00</td>\n",
       "      <td>1</td>\n",
       "      <td>0</td>\n",
       "      <td>-6.094022</td>\n",
       "      <td>53.533258</td>\n",
       "      <td>0</td>\n",
       "      <td>1</td>\n",
       "    </tr>\n",
       "    <tr>\n",
       "      <th>249</th>\n",
       "      <td>0</td>\n",
       "      <td>0</td>\n",
       "      <td>0</td>\n",
       "      <td>0</td>\n",
       "      <td>0</td>\n",
       "      <td>0</td>\n",
       "      <td>30000.00</td>\n",
       "      <td>1</td>\n",
       "      <td>0</td>\n",
       "      <td>-6.243575</td>\n",
       "      <td>53.562844</td>\n",
       "      <td>0</td>\n",
       "      <td>1</td>\n",
       "    </tr>\n",
       "    <tr>\n",
       "      <th>360</th>\n",
       "      <td>0</td>\n",
       "      <td>19</td>\n",
       "      <td>0</td>\n",
       "      <td>2</td>\n",
       "      <td>2</td>\n",
       "      <td>0</td>\n",
       "      <td>15000.00</td>\n",
       "      <td>1</td>\n",
       "      <td>0</td>\n",
       "      <td>-6.174446</td>\n",
       "      <td>53.406084</td>\n",
       "      <td>0</td>\n",
       "      <td>1</td>\n",
       "    </tr>\n",
       "    <tr>\n",
       "      <th>384</th>\n",
       "      <td>4</td>\n",
       "      <td>102</td>\n",
       "      <td>0</td>\n",
       "      <td>8</td>\n",
       "      <td>2</td>\n",
       "      <td>1</td>\n",
       "      <td>40000.00</td>\n",
       "      <td>0</td>\n",
       "      <td>0</td>\n",
       "      <td>-6.271994</td>\n",
       "      <td>53.334701</td>\n",
       "      <td>0</td>\n",
       "      <td>1</td>\n",
       "    </tr>\n",
       "    <tr>\n",
       "      <th>...</th>\n",
       "      <td>...</td>\n",
       "      <td>...</td>\n",
       "      <td>...</td>\n",
       "      <td>...</td>\n",
       "      <td>...</td>\n",
       "      <td>...</td>\n",
       "      <td>...</td>\n",
       "      <td>...</td>\n",
       "      <td>...</td>\n",
       "      <td>...</td>\n",
       "      <td>...</td>\n",
       "      <td>...</td>\n",
       "      <td>...</td>\n",
       "    </tr>\n",
       "    <tr>\n",
       "      <th>44749</th>\n",
       "      <td>0</td>\n",
       "      <td>2</td>\n",
       "      <td>0</td>\n",
       "      <td>0</td>\n",
       "      <td>0</td>\n",
       "      <td>0</td>\n",
       "      <td>54000.00</td>\n",
       "      <td>0</td>\n",
       "      <td>0</td>\n",
       "      <td>-6.097783</td>\n",
       "      <td>53.489312</td>\n",
       "      <td>0</td>\n",
       "      <td>1</td>\n",
       "    </tr>\n",
       "    <tr>\n",
       "      <th>44858</th>\n",
       "      <td>0</td>\n",
       "      <td>42</td>\n",
       "      <td>0</td>\n",
       "      <td>2</td>\n",
       "      <td>1</td>\n",
       "      <td>0</td>\n",
       "      <td>30000.00</td>\n",
       "      <td>1</td>\n",
       "      <td>0</td>\n",
       "      <td>-6.132789</td>\n",
       "      <td>53.253156</td>\n",
       "      <td>0</td>\n",
       "      <td>1</td>\n",
       "    </tr>\n",
       "    <tr>\n",
       "      <th>45082</th>\n",
       "      <td>4</td>\n",
       "      <td>76</td>\n",
       "      <td>0</td>\n",
       "      <td>4</td>\n",
       "      <td>2</td>\n",
       "      <td>1</td>\n",
       "      <td>57500.00</td>\n",
       "      <td>1</td>\n",
       "      <td>0</td>\n",
       "      <td>-6.267361</td>\n",
       "      <td>53.322393</td>\n",
       "      <td>0</td>\n",
       "      <td>1</td>\n",
       "    </tr>\n",
       "    <tr>\n",
       "      <th>45278</th>\n",
       "      <td>0</td>\n",
       "      <td>32</td>\n",
       "      <td>1</td>\n",
       "      <td>1</td>\n",
       "      <td>1</td>\n",
       "      <td>1</td>\n",
       "      <td>53000.00</td>\n",
       "      <td>0</td>\n",
       "      <td>0</td>\n",
       "      <td>-6.184652</td>\n",
       "      <td>53.610700</td>\n",
       "      <td>0</td>\n",
       "      <td>1</td>\n",
       "    </tr>\n",
       "    <tr>\n",
       "      <th>45363</th>\n",
       "      <td>0</td>\n",
       "      <td>34</td>\n",
       "      <td>0</td>\n",
       "      <td>4</td>\n",
       "      <td>2</td>\n",
       "      <td>0</td>\n",
       "      <td>19890.92</td>\n",
       "      <td>1</td>\n",
       "      <td>0</td>\n",
       "      <td>-6.430740</td>\n",
       "      <td>53.396532</td>\n",
       "      <td>0</td>\n",
       "      <td>1</td>\n",
       "    </tr>\n",
       "  </tbody>\n",
       "</table>\n",
       "<p>414 rows × 13 columns</p>\n",
       "</div>"
      ],
      "text/plain": [
       "       Luas_quantity  Bus_quantity  Train_quantity  PS_quantity  SS_quantity  \\\n",
       "2                  0            34               0            1            0   \n",
       "189                0             8               0            1            0   \n",
       "249                0             0               0            0            0   \n",
       "360                0            19               0            2            2   \n",
       "384                4           102               0            8            2   \n",
       "...              ...           ...             ...          ...          ...   \n",
       "44749              0             2               0            0            0   \n",
       "44858              0            42               0            2            1   \n",
       "45082              4            76               0            4            2   \n",
       "45278              0            32               1            1            1   \n",
       "45363              0            34               0            4            2   \n",
       "\n",
       "       Garda_quantity     Price  Not_full_market_price  VAT_exclusive  \\\n",
       "2                   0  66000.00                      1              0   \n",
       "189                 0  25000.00                      1              0   \n",
       "249                 0  30000.00                      1              0   \n",
       "360                 0  15000.00                      1              0   \n",
       "384                 1  40000.00                      0              0   \n",
       "...               ...       ...                    ...            ...   \n",
       "44749               0  54000.00                      0              0   \n",
       "44858               0  30000.00                      1              0   \n",
       "45082               1  57500.00                      1              0   \n",
       "45278               1  53000.00                      0              0   \n",
       "45363               0  19890.92                      1              0   \n",
       "\n",
       "       Longitude   Latitude  New_Dwelling_House_Apartment  \\\n",
       "2      -6.182833  53.362984                             0   \n",
       "189    -6.094022  53.533258                             0   \n",
       "249    -6.243575  53.562844                             0   \n",
       "360    -6.174446  53.406084                             0   \n",
       "384    -6.271994  53.334701                             0   \n",
       "...          ...        ...                           ...   \n",
       "44749  -6.097783  53.489312                             0   \n",
       "44858  -6.132789  53.253156                             0   \n",
       "45082  -6.267361  53.322393                             0   \n",
       "45278  -6.184652  53.610700                             0   \n",
       "45363  -6.430740  53.396532                             0   \n",
       "\n",
       "       Second_Hand_Dwelling_House_Apartment  \n",
       "2                                         1  \n",
       "189                                       1  \n",
       "249                                       1  \n",
       "360                                       1  \n",
       "384                                       1  \n",
       "...                                     ...  \n",
       "44749                                     1  \n",
       "44858                                     1  \n",
       "45082                                     1  \n",
       "45278                                     1  \n",
       "45363                                     1  \n",
       "\n",
       "[414 rows x 13 columns]"
      ]
     },
     "execution_count": 58,
     "metadata": {},
     "output_type": "execute_result"
    }
   ],
   "source": [
    "reallysmall"
   ]
  },
  {
   "cell_type": "markdown",
   "metadata": {},
   "source": [
    "There are 414 rows that are have the price less than 70 thousand euro. That's a little bit unrealistic for anyone to buy a property for less than 70 thousand in Dublin. So we will keep our dataset with values from over 70 thousand to less than 2 million:"
   ]
  },
  {
   "cell_type": "code",
   "execution_count": 59,
   "metadata": {},
   "outputs": [],
   "source": [
    "df = df[df['Price'] > 70000.0]"
   ]
  },
  {
   "cell_type": "code",
   "execution_count": 60,
   "metadata": {},
   "outputs": [],
   "source": [
    "df = df[df['Price'] < 2000000.0]"
   ]
  },
  {
   "cell_type": "code",
   "execution_count": 61,
   "metadata": {},
   "outputs": [
    {
     "data": {
      "text/plain": [
       "(45515, 13)"
      ]
     },
     "execution_count": 61,
     "metadata": {},
     "output_type": "execute_result"
    }
   ],
   "source": [
    "df.shape"
   ]
  },
  {
   "cell_type": "code",
   "execution_count": 62,
   "metadata": {},
   "outputs": [
    {
     "data": {
      "image/png": "[encoded data removed]",
      "text/plain": [
       "<Figure size 720x504 with 1 Axes>"
      ]
     },
     "metadata": {
      "needs_background": "light"
     },
     "output_type": "display_data"
    }
   ],
   "source": [
    "fig = plt.figure(figsize =(10, 7))\n",
    "  \n",
    "plt.boxplot(df.Price)\n",
    "  \n",
    "plt.show()"
   ]
  },
  {
   "cell_type": "markdown",
   "metadata": {},
   "source": [
    "Now let's have a look at Not_full_market_price"
   ]
  },
  {
   "cell_type": "code",
   "execution_count": 63,
   "metadata": {},
   "outputs": [
    {
     "data": {
      "text/plain": [
       "0    43528\n",
       "1     1987\n",
       "Name: Not_full_market_price, dtype: int64"
      ]
     },
     "execution_count": 63,
     "metadata": {},
     "output_type": "execute_result"
    }
   ],
   "source": [
    "df['Not_full_market_price'].value_counts()"
   ]
  },
  {
   "cell_type": "code",
   "execution_count": 64,
   "metadata": {},
   "outputs": [
    {
     "data": {
      "image/png": "[encoded data removed]",
      "text/plain": [
       "<Figure size 432x288 with 1 Axes>"
      ]
     },
     "metadata": {},
     "output_type": "display_data"
    }
   ],
   "source": [
    "# Pie chart, where the slices will be ordered and plotted counter-clockwise:\n",
    "labels = 'Not full price', 'Full price'\n",
    "colors = ['lightskyblue', 'lightcoral']\n",
    "sizes = [1987, 43528]\n",
    "explode = (0.1, 0)  # only \"explode\" the 1st slice\n",
    "\n",
    "fig1, ax1 = plt.subplots()\n",
    "ax1.pie(sizes, explode=explode, colors=colors, labels=labels, autopct='%1.1f%%',\n",
    "        shadow=True, startangle=30)\n",
    "ax1.axis('equal')  # Equal aspect ratio ensures that pie is drawn as a circle.\n",
    "plt.title('Number of Properties with Full Market Price and Not Full Market Price')\n",
    "plt.show()"
   ]
  },
  {
   "cell_type": "markdown",
   "metadata": {},
   "source": [
    "4.4% of the entries are marked to be Not Full Market Price.\n",
    "All the explanation there was in the Property Price Register website about column 'Not Full Market Price':\n",
    "* In a small number of transactions included in the Register the price shown does not represent the full market price of the property concerned for a variety of reasons. All such properties are marked **."
   ]
  },
  {
   "cell_type": "markdown",
   "metadata": {},
   "source": [
    "Since these not full market price don't represent the real price, we will be keeping only full market price properties and deleting this Not_Full_Market_Price column:"
   ]
  },
  {
   "cell_type": "code",
   "execution_count": 65,
   "metadata": {},
   "outputs": [],
   "source": [
    "df2 = df[df['Not_full_market_price'] == 0]"
   ]
  },
  {
   "cell_type": "code",
   "execution_count": 66,
   "metadata": {},
   "outputs": [
    {
     "data": {
      "text/plain": [
       "0    43528\n",
       "Name: Not_full_market_price, dtype: int64"
      ]
     },
     "execution_count": 66,
     "metadata": {},
     "output_type": "execute_result"
    }
   ],
   "source": [
    "df2['Not_full_market_price'].value_counts()"
   ]
  },
  {
   "cell_type": "code",
   "execution_count": 67,
   "metadata": {},
   "outputs": [],
   "source": [
    "df2 = df2.drop(columns=['Not_full_market_price'])"
   ]
  },
  {
   "cell_type": "code",
   "execution_count": 68,
   "metadata": {},
   "outputs": [
    {
     "data": {
      "text/plain": [
       "(43528, 12)"
      ]
     },
     "execution_count": 68,
     "metadata": {},
     "output_type": "execute_result"
    }
   ],
   "source": [
    "df2.shape"
   ]
  },
  {
   "cell_type": "markdown",
   "metadata": {},
   "source": [
    "Now let's have a look at new_Dwelling vs Second_Hand properties"
   ]
  },
  {
   "cell_type": "code",
   "execution_count": 69,
   "metadata": {},
   "outputs": [
    {
     "data": {
      "text/plain": [
       "0    33156\n",
       "1    10372\n",
       "Name: New_Dwelling_House_Apartment, dtype: int64"
      ]
     },
     "execution_count": 69,
     "metadata": {},
     "output_type": "execute_result"
    }
   ],
   "source": [
    "df2['New_Dwelling_House_Apartment'].value_counts()"
   ]
  },
  {
   "cell_type": "markdown",
   "metadata": {},
   "source": [
    "Because these columns were encoded using one hot encoding, we know that everything that is 0 for new dwelling is second hand. So let's see it in a Pie chart:"
   ]
  },
  {
   "cell_type": "code",
   "execution_count": 70,
   "metadata": {},
   "outputs": [
    {
     "data": {
      "image/png": "[encoded data removed]",
      "text/plain": [
       "<Figure size 432x288 with 1 Axes>"
      ]
     },
     "metadata": {},
     "output_type": "display_data"
    }
   ],
   "source": [
    "# Pie chart, where the slices will be ordered and plotted counter-clockwise:\n",
    "labels = 'New Dwelling', 'Second Hand'\n",
    "colors = ['lightskyblue', 'lightcoral']\n",
    "sizes = [10372, 33156]\n",
    "explode = (0.1, 0)  # only \"explode\" the 1st slice\n",
    "\n",
    "fig1, ax1 = plt.subplots()\n",
    "ax1.pie(sizes, explode=explode, colors=colors, labels=labels, autopct='%1.1f%%',\n",
    "        shadow=True, startangle=30)\n",
    "ax1.axis('equal')  # Equal aspect ratio ensures that pie is drawn as a circle.\n",
    "plt.title('Percentage of Second Hand and New Dwelling Properties')\n",
    "plt.show()"
   ]
  },
  {
   "cell_type": "markdown",
   "metadata": {},
   "source": [
    "About 3/4 of our dataset was second hand houses/apartments and 1/4 was new houses/apartments"
   ]
  },
  {
   "cell_type": "markdown",
   "metadata": {},
   "source": [
    "Let's check the 'VAT Exclusive' column, the explanation in the Property Price Register : \n",
    "* If the property is a new property, the price shown should be exclusive of VAT at 13.5%.\n",
    "I guess that means all new properties are VAT Exclusive = yes and second hand are VAT exclusive = no. Let's check if this assumption is right:"
   ]
  },
  {
   "cell_type": "code",
   "execution_count": 71,
   "metadata": {},
   "outputs": [
    {
     "data": {
      "text/plain": [
       "0    33082\n",
       "1    10446\n",
       "Name: VAT_exclusive, dtype: int64"
      ]
     },
     "execution_count": 71,
     "metadata": {},
     "output_type": "execute_result"
    }
   ],
   "source": [
    "df2['VAT_exclusive'].value_counts()"
   ]
  },
  {
   "cell_type": "code",
   "execution_count": 72,
   "metadata": {},
   "outputs": [
    {
     "data": {
      "image/png": "[encoded data removed]",
      "text/plain": [
       "<Figure size 432x288 with 1 Axes>"
      ]
     },
     "metadata": {},
     "output_type": "display_data"
    }
   ],
   "source": [
    "# Pie chart, where the slices will be ordered and plotted counter-clockwise:\n",
    "labels = 'VAT Exclusive', 'Not VAT Exclusive'\n",
    "colors = ['lightskyblue', 'lightcoral']\n",
    "sizes = [10446, 33082]\n",
    "explode = (0.1, 0)  # only \"explode\" the 1st slice\n",
    "\n",
    "fig1, ax1 = plt.subplots()\n",
    "ax1.pie(sizes, explode=explode, colors=colors, labels=labels, autopct='%1.1f%%',\n",
    "        shadow=True, startangle=30)\n",
    "ax1.axis('equal')  # Equal aspect ratio ensures that pie is drawn as a circle.\n",
    "plt.title('Percentage of VAT Exclusive and Not VAT Exclusive Properties')\n",
    "plt.show()"
   ]
  },
  {
   "cell_type": "markdown",
   "metadata": {},
   "source": [
    "It seems there is a little bit more values for VAT Exclusive than new dwellings. So our assumption is probably not correct, but let's look further:"
   ]
  },
  {
   "cell_type": "code",
   "execution_count": 73,
   "metadata": {},
   "outputs": [],
   "source": [
    "vat_exclusive_new_dwelling = df2[(df2['VAT_exclusive'] == 1) & (df2['New_Dwelling_House_Apartment'] == 1)]"
   ]
  },
  {
   "cell_type": "code",
   "execution_count": 74,
   "metadata": {},
   "outputs": [
    {
     "data": {
      "text/plain": [
       "(5293, 12)"
      ]
     },
     "execution_count": 74,
     "metadata": {},
     "output_type": "execute_result"
    }
   ],
   "source": [
    "vat_exclusive_new_dwelling.shape"
   ]
  },
  {
   "cell_type": "code",
   "execution_count": 75,
   "metadata": {},
   "outputs": [],
   "source": [
    "vat_exclusive_second_hand = df2[(df2['VAT_exclusive'] == 1) & (df2['Second_Hand_Dwelling_House_Apartment'] == 1)]"
   ]
  },
  {
   "cell_type": "code",
   "execution_count": 76,
   "metadata": {},
   "outputs": [
    {
     "data": {
      "text/plain": [
       "(5153, 12)"
      ]
     },
     "execution_count": 76,
     "metadata": {},
     "output_type": "execute_result"
    }
   ],
   "source": [
    "vat_exclusive_second_hand.shape"
   ]
  },
  {
   "cell_type": "markdown",
   "metadata": {},
   "source": [
    "Approximately half of the VAT exclusive rows were second hand and half were new dwellings. So it's not just all new dwellings that are vat exclusive. We will just be leaving this as is"
   ]
  },
  {
   "cell_type": "markdown",
   "metadata": {},
   "source": [
    "Let's have a look at Latitude and Longitude:"
   ]
  },
  {
   "cell_type": "code",
   "execution_count": 77,
   "metadata": {},
   "outputs": [
    {
     "data": {
      "text/plain": [
       "count    43528.000000\n",
       "mean        53.321151\n",
       "std          0.969011\n",
       "min        -37.857255\n",
       "25%         53.293951\n",
       "50%         53.342788\n",
       "75%         53.387985\n",
       "max         56.415157\n",
       "Name: Latitude, dtype: float64"
      ]
     },
     "execution_count": 77,
     "metadata": {},
     "output_type": "execute_result"
    }
   ],
   "source": [
    "df2.Latitude.describe()"
   ]
  },
  {
   "cell_type": "code",
   "execution_count": 78,
   "metadata": {},
   "outputs": [
    {
     "data": {
      "text/plain": [
       "count    43528.000000\n",
       "mean        -6.388826\n",
       "std          3.555182\n",
       "min       -122.675026\n",
       "25%         -6.329320\n",
       "50%         -6.258684\n",
       "75%         -6.200129\n",
       "max        152.972980\n",
       "Name: Longitude, dtype: float64"
      ]
     },
     "execution_count": 78,
     "metadata": {},
     "output_type": "execute_result"
    }
   ],
   "source": [
    "df2.Longitude.describe()"
   ]
  },
  {
   "cell_type": "markdown",
   "metadata": {},
   "source": [
    "We seem to have a few wrong values. Latitude for Dublin should start with 53 and Longitude with -6. So let's check how many are wrong:"
   ]
  },
  {
   "cell_type": "code",
   "execution_count": 79,
   "metadata": {},
   "outputs": [],
   "source": [
    "latitude_over54 = df2[(df2['Latitude'] > 54)]"
   ]
  },
  {
   "cell_type": "code",
   "execution_count": 80,
   "metadata": {},
   "outputs": [
    {
     "data": {
      "text/plain": [
       "(20, 12)"
      ]
     },
     "execution_count": 80,
     "metadata": {},
     "output_type": "execute_result"
    }
   ],
   "source": [
    "latitude_over54.shape"
   ]
  },
  {
   "cell_type": "code",
   "execution_count": 81,
   "metadata": {},
   "outputs": [
    {
     "data": {
      "text/html": [
       "<div>\n",
       "<style scoped>\n",
       "    .dataframe tbody tr th:only-of-type {\n",
       "        vertical-align: middle;\n",
       "    }\n",
       "\n",
       "    .dataframe tbody tr th {\n",
       "        vertical-align: top;\n",
       "    }\n",
       "\n",
       "    .dataframe thead th {\n",
       "        text-align: right;\n",
       "    }\n",
       "</style>\n",
       "<table border=\"1\" class=\"dataframe\">\n",
       "  <thead>\n",
       "    <tr style=\"text-align: right;\">\n",
       "      <th></th>\n",
       "      <th>Luas_quantity</th>\n",
       "      <th>Bus_quantity</th>\n",
       "      <th>Train_quantity</th>\n",
       "      <th>PS_quantity</th>\n",
       "      <th>SS_quantity</th>\n",
       "      <th>Garda_quantity</th>\n",
       "      <th>Price</th>\n",
       "      <th>VAT_exclusive</th>\n",
       "      <th>Longitude</th>\n",
       "      <th>Latitude</th>\n",
       "      <th>New_Dwelling_House_Apartment</th>\n",
       "      <th>Second_Hand_Dwelling_House_Apartment</th>\n",
       "    </tr>\n",
       "  </thead>\n",
       "  <tbody>\n",
       "    <tr>\n",
       "      <th>1034</th>\n",
       "      <td>0</td>\n",
       "      <td>0</td>\n",
       "      <td>0</td>\n",
       "      <td>0</td>\n",
       "      <td>0</td>\n",
       "      <td>0</td>\n",
       "      <td>550000.00</td>\n",
       "      <td>0</td>\n",
       "      <td>-5.945565</td>\n",
       "      <td>54.254686</td>\n",
       "      <td>0</td>\n",
       "      <td>1</td>\n",
       "    </tr>\n",
       "    <tr>\n",
       "      <th>1276</th>\n",
       "      <td>0</td>\n",
       "      <td>0</td>\n",
       "      <td>0</td>\n",
       "      <td>0</td>\n",
       "      <td>0</td>\n",
       "      <td>0</td>\n",
       "      <td>118942.73</td>\n",
       "      <td>1</td>\n",
       "      <td>-7.458984</td>\n",
       "      <td>55.084809</td>\n",
       "      <td>1</td>\n",
       "      <td>0</td>\n",
       "    </tr>\n",
       "    <tr>\n",
       "      <th>1452</th>\n",
       "      <td>0</td>\n",
       "      <td>0</td>\n",
       "      <td>0</td>\n",
       "      <td>0</td>\n",
       "      <td>0</td>\n",
       "      <td>0</td>\n",
       "      <td>375000.00</td>\n",
       "      <td>0</td>\n",
       "      <td>-4.414893</td>\n",
       "      <td>54.734836</td>\n",
       "      <td>0</td>\n",
       "      <td>1</td>\n",
       "    </tr>\n",
       "    <tr>\n",
       "      <th>2172</th>\n",
       "      <td>0</td>\n",
       "      <td>0</td>\n",
       "      <td>0</td>\n",
       "      <td>0</td>\n",
       "      <td>0</td>\n",
       "      <td>0</td>\n",
       "      <td>950000.00</td>\n",
       "      <td>0</td>\n",
       "      <td>-8.050000</td>\n",
       "      <td>55.016667</td>\n",
       "      <td>0</td>\n",
       "      <td>1</td>\n",
       "    </tr>\n",
       "    <tr>\n",
       "      <th>15174</th>\n",
       "      <td>0</td>\n",
       "      <td>0</td>\n",
       "      <td>0</td>\n",
       "      <td>0</td>\n",
       "      <td>0</td>\n",
       "      <td>0</td>\n",
       "      <td>400000.00</td>\n",
       "      <td>0</td>\n",
       "      <td>-6.200400</td>\n",
       "      <td>54.100730</td>\n",
       "      <td>1</td>\n",
       "      <td>0</td>\n",
       "    </tr>\n",
       "    <tr>\n",
       "      <th>15710</th>\n",
       "      <td>0</td>\n",
       "      <td>0</td>\n",
       "      <td>0</td>\n",
       "      <td>0</td>\n",
       "      <td>0</td>\n",
       "      <td>0</td>\n",
       "      <td>180000.00</td>\n",
       "      <td>0</td>\n",
       "      <td>-5.928531</td>\n",
       "      <td>54.602857</td>\n",
       "      <td>0</td>\n",
       "      <td>1</td>\n",
       "    </tr>\n",
       "    <tr>\n",
       "      <th>17575</th>\n",
       "      <td>0</td>\n",
       "      <td>0</td>\n",
       "      <td>0</td>\n",
       "      <td>0</td>\n",
       "      <td>0</td>\n",
       "      <td>0</td>\n",
       "      <td>220000.00</td>\n",
       "      <td>0</td>\n",
       "      <td>-1.643186</td>\n",
       "      <td>54.998993</td>\n",
       "      <td>1</td>\n",
       "      <td>0</td>\n",
       "    </tr>\n",
       "    <tr>\n",
       "      <th>23916</th>\n",
       "      <td>0</td>\n",
       "      <td>0</td>\n",
       "      <td>0</td>\n",
       "      <td>0</td>\n",
       "      <td>0</td>\n",
       "      <td>0</td>\n",
       "      <td>150000.00</td>\n",
       "      <td>0</td>\n",
       "      <td>-7.312264</td>\n",
       "      <td>54.051399</td>\n",
       "      <td>0</td>\n",
       "      <td>1</td>\n",
       "    </tr>\n",
       "    <tr>\n",
       "      <th>26499</th>\n",
       "      <td>0</td>\n",
       "      <td>0</td>\n",
       "      <td>0</td>\n",
       "      <td>0</td>\n",
       "      <td>0</td>\n",
       "      <td>0</td>\n",
       "      <td>320000.00</td>\n",
       "      <td>0</td>\n",
       "      <td>-4.320162</td>\n",
       "      <td>55.949972</td>\n",
       "      <td>0</td>\n",
       "      <td>1</td>\n",
       "    </tr>\n",
       "    <tr>\n",
       "      <th>26524</th>\n",
       "      <td>0</td>\n",
       "      <td>0</td>\n",
       "      <td>0</td>\n",
       "      <td>0</td>\n",
       "      <td>0</td>\n",
       "      <td>0</td>\n",
       "      <td>310000.00</td>\n",
       "      <td>0</td>\n",
       "      <td>-4.320162</td>\n",
       "      <td>55.949972</td>\n",
       "      <td>0</td>\n",
       "      <td>1</td>\n",
       "    </tr>\n",
       "    <tr>\n",
       "      <th>26950</th>\n",
       "      <td>0</td>\n",
       "      <td>0</td>\n",
       "      <td>0</td>\n",
       "      <td>0</td>\n",
       "      <td>0</td>\n",
       "      <td>0</td>\n",
       "      <td>254000.00</td>\n",
       "      <td>0</td>\n",
       "      <td>-1.617522</td>\n",
       "      <td>55.002369</td>\n",
       "      <td>0</td>\n",
       "      <td>1</td>\n",
       "    </tr>\n",
       "    <tr>\n",
       "      <th>28145</th>\n",
       "      <td>0</td>\n",
       "      <td>0</td>\n",
       "      <td>0</td>\n",
       "      <td>0</td>\n",
       "      <td>0</td>\n",
       "      <td>0</td>\n",
       "      <td>420000.00</td>\n",
       "      <td>0</td>\n",
       "      <td>-4.320162</td>\n",
       "      <td>55.949972</td>\n",
       "      <td>0</td>\n",
       "      <td>1</td>\n",
       "    </tr>\n",
       "    <tr>\n",
       "      <th>28148</th>\n",
       "      <td>0</td>\n",
       "      <td>0</td>\n",
       "      <td>0</td>\n",
       "      <td>0</td>\n",
       "      <td>0</td>\n",
       "      <td>0</td>\n",
       "      <td>410000.00</td>\n",
       "      <td>0</td>\n",
       "      <td>-4.319979</td>\n",
       "      <td>55.949962</td>\n",
       "      <td>1</td>\n",
       "      <td>0</td>\n",
       "    </tr>\n",
       "    <tr>\n",
       "      <th>30909</th>\n",
       "      <td>0</td>\n",
       "      <td>0</td>\n",
       "      <td>0</td>\n",
       "      <td>0</td>\n",
       "      <td>0</td>\n",
       "      <td>0</td>\n",
       "      <td>313000.00</td>\n",
       "      <td>0</td>\n",
       "      <td>-1.615853</td>\n",
       "      <td>55.002620</td>\n",
       "      <td>0</td>\n",
       "      <td>1</td>\n",
       "    </tr>\n",
       "    <tr>\n",
       "      <th>33935</th>\n",
       "      <td>0</td>\n",
       "      <td>0</td>\n",
       "      <td>0</td>\n",
       "      <td>0</td>\n",
       "      <td>0</td>\n",
       "      <td>0</td>\n",
       "      <td>220000.00</td>\n",
       "      <td>0</td>\n",
       "      <td>-5.471047</td>\n",
       "      <td>56.415157</td>\n",
       "      <td>0</td>\n",
       "      <td>1</td>\n",
       "    </tr>\n",
       "    <tr>\n",
       "      <th>35165</th>\n",
       "      <td>0</td>\n",
       "      <td>0</td>\n",
       "      <td>0</td>\n",
       "      <td>0</td>\n",
       "      <td>0</td>\n",
       "      <td>0</td>\n",
       "      <td>101818.24</td>\n",
       "      <td>1</td>\n",
       "      <td>-7.580652</td>\n",
       "      <td>54.116795</td>\n",
       "      <td>1</td>\n",
       "      <td>0</td>\n",
       "    </tr>\n",
       "    <tr>\n",
       "      <th>35785</th>\n",
       "      <td>0</td>\n",
       "      <td>0</td>\n",
       "      <td>0</td>\n",
       "      <td>0</td>\n",
       "      <td>0</td>\n",
       "      <td>0</td>\n",
       "      <td>322500.00</td>\n",
       "      <td>0</td>\n",
       "      <td>-4.384603</td>\n",
       "      <td>56.178672</td>\n",
       "      <td>1</td>\n",
       "      <td>0</td>\n",
       "    </tr>\n",
       "    <tr>\n",
       "      <th>43459</th>\n",
       "      <td>0</td>\n",
       "      <td>0</td>\n",
       "      <td>0</td>\n",
       "      <td>0</td>\n",
       "      <td>0</td>\n",
       "      <td>0</td>\n",
       "      <td>1690000.00</td>\n",
       "      <td>0</td>\n",
       "      <td>-3.324186</td>\n",
       "      <td>56.367746</td>\n",
       "      <td>0</td>\n",
       "      <td>1</td>\n",
       "    </tr>\n",
       "    <tr>\n",
       "      <th>44112</th>\n",
       "      <td>0</td>\n",
       "      <td>0</td>\n",
       "      <td>0</td>\n",
       "      <td>0</td>\n",
       "      <td>0</td>\n",
       "      <td>0</td>\n",
       "      <td>357000.00</td>\n",
       "      <td>0</td>\n",
       "      <td>-8.529977</td>\n",
       "      <td>54.999181</td>\n",
       "      <td>0</td>\n",
       "      <td>1</td>\n",
       "    </tr>\n",
       "    <tr>\n",
       "      <th>45684</th>\n",
       "      <td>0</td>\n",
       "      <td>0</td>\n",
       "      <td>0</td>\n",
       "      <td>0</td>\n",
       "      <td>0</td>\n",
       "      <td>0</td>\n",
       "      <td>210000.00</td>\n",
       "      <td>0</td>\n",
       "      <td>-7.889639</td>\n",
       "      <td>55.135019</td>\n",
       "      <td>1</td>\n",
       "      <td>0</td>\n",
       "    </tr>\n",
       "  </tbody>\n",
       "</table>\n",
       "</div>"
      ],
      "text/plain": [
       "       Luas_quantity  Bus_quantity  Train_quantity  PS_quantity  SS_quantity  \\\n",
       "1034               0             0               0            0            0   \n",
       "1276               0             0               0            0            0   \n",
       "1452               0             0               0            0            0   \n",
       "2172               0             0               0            0            0   \n",
       "15174              0             0               0            0            0   \n",
       "15710              0             0               0            0            0   \n",
       "17575              0             0               0            0            0   \n",
       "23916              0             0               0            0            0   \n",
       "26499              0             0               0            0            0   \n",
       "26524              0             0               0            0            0   \n",
       "26950              0             0               0            0            0   \n",
       "28145              0             0               0            0            0   \n",
       "28148              0             0               0            0            0   \n",
       "30909              0             0               0            0            0   \n",
       "33935              0             0               0            0            0   \n",
       "35165              0             0               0            0            0   \n",
       "35785              0             0               0            0            0   \n",
       "43459              0             0               0            0            0   \n",
       "44112              0             0               0            0            0   \n",
       "45684              0             0               0            0            0   \n",
       "\n",
       "       Garda_quantity       Price  VAT_exclusive  Longitude   Latitude  \\\n",
       "1034                0   550000.00              0  -5.945565  54.254686   \n",
       "1276                0   118942.73              1  -7.458984  55.084809   \n",
       "1452                0   375000.00              0  -4.414893  54.734836   \n",
       "2172                0   950000.00              0  -8.050000  55.016667   \n",
       "15174               0   400000.00              0  -6.200400  54.100730   \n",
       "15710               0   180000.00              0  -5.928531  54.602857   \n",
       "17575               0   220000.00              0  -1.643186  54.998993   \n",
       "23916               0   150000.00              0  -7.312264  54.051399   \n",
       "26499               0   320000.00              0  -4.320162  55.949972   \n",
       "26524               0   310000.00              0  -4.320162  55.949972   \n",
       "26950               0   254000.00              0  -1.617522  55.002369   \n",
       "28145               0   420000.00              0  -4.320162  55.949972   \n",
       "28148               0   410000.00              0  -4.319979  55.949962   \n",
       "30909               0   313000.00              0  -1.615853  55.002620   \n",
       "33935               0   220000.00              0  -5.471047  56.415157   \n",
       "35165               0   101818.24              1  -7.580652  54.116795   \n",
       "35785               0   322500.00              0  -4.384603  56.178672   \n",
       "43459               0  1690000.00              0  -3.324186  56.367746   \n",
       "44112               0   357000.00              0  -8.529977  54.999181   \n",
       "45684               0   210000.00              0  -7.889639  55.135019   \n",
       "\n",
       "       New_Dwelling_House_Apartment  Second_Hand_Dwelling_House_Apartment  \n",
       "1034                              0                                     1  \n",
       "1276                              1                                     0  \n",
       "1452                              0                                     1  \n",
       "2172                              0                                     1  \n",
       "15174                             1                                     0  \n",
       "15710                             0                                     1  \n",
       "17575                             1                                     0  \n",
       "23916                             0                                     1  \n",
       "26499                             0                                     1  \n",
       "26524                             0                                     1  \n",
       "26950                             0                                     1  \n",
       "28145                             0                                     1  \n",
       "28148                             1                                     0  \n",
       "30909                             0                                     1  \n",
       "33935                             0                                     1  \n",
       "35165                             1                                     0  \n",
       "35785                             1                                     0  \n",
       "43459                             0                                     1  \n",
       "44112                             0                                     1  \n",
       "45684                             1                                     0  "
      ]
     },
     "execution_count": 81,
     "metadata": {},
     "output_type": "execute_result"
    }
   ],
   "source": [
    "latitude_over54"
   ]
  },
  {
   "cell_type": "code",
   "execution_count": 82,
   "metadata": {},
   "outputs": [],
   "source": [
    "latitude_less53 = df2[(df2['Latitude'] < 53)]"
   ]
  },
  {
   "cell_type": "code",
   "execution_count": 83,
   "metadata": {},
   "outputs": [
    {
     "data": {
      "text/plain": [
       "(104, 12)"
      ]
     },
     "execution_count": 83,
     "metadata": {},
     "output_type": "execute_result"
    }
   ],
   "source": [
    "latitude_less53.shape"
   ]
  },
  {
   "cell_type": "code",
   "execution_count": 84,
   "metadata": {},
   "outputs": [
    {
     "data": {
      "text/html": [
       "<div>\n",
       "<style scoped>\n",
       "    .dataframe tbody tr th:only-of-type {\n",
       "        vertical-align: middle;\n",
       "    }\n",
       "\n",
       "    .dataframe tbody tr th {\n",
       "        vertical-align: top;\n",
       "    }\n",
       "\n",
       "    .dataframe thead th {\n",
       "        text-align: right;\n",
       "    }\n",
       "</style>\n",
       "<table border=\"1\" class=\"dataframe\">\n",
       "  <thead>\n",
       "    <tr style=\"text-align: right;\">\n",
       "      <th></th>\n",
       "      <th>Luas_quantity</th>\n",
       "      <th>Bus_quantity</th>\n",
       "      <th>Train_quantity</th>\n",
       "      <th>PS_quantity</th>\n",
       "      <th>SS_quantity</th>\n",
       "      <th>Garda_quantity</th>\n",
       "      <th>Price</th>\n",
       "      <th>VAT_exclusive</th>\n",
       "      <th>Longitude</th>\n",
       "      <th>Latitude</th>\n",
       "      <th>New_Dwelling_House_Apartment</th>\n",
       "      <th>Second_Hand_Dwelling_House_Apartment</th>\n",
       "    </tr>\n",
       "  </thead>\n",
       "  <tbody>\n",
       "    <tr>\n",
       "      <th>304</th>\n",
       "      <td>0</td>\n",
       "      <td>0</td>\n",
       "      <td>0</td>\n",
       "      <td>0</td>\n",
       "      <td>0</td>\n",
       "      <td>0</td>\n",
       "      <td>178000.0</td>\n",
       "      <td>0</td>\n",
       "      <td>-9.064087</td>\n",
       "      <td>52.944822</td>\n",
       "      <td>0</td>\n",
       "      <td>1</td>\n",
       "    </tr>\n",
       "    <tr>\n",
       "      <th>682</th>\n",
       "      <td>0</td>\n",
       "      <td>0</td>\n",
       "      <td>0</td>\n",
       "      <td>0</td>\n",
       "      <td>0</td>\n",
       "      <td>0</td>\n",
       "      <td>1325000.0</td>\n",
       "      <td>0</td>\n",
       "      <td>-104.998435</td>\n",
       "      <td>39.746438</td>\n",
       "      <td>0</td>\n",
       "      <td>1</td>\n",
       "    </tr>\n",
       "    <tr>\n",
       "      <th>2051</th>\n",
       "      <td>0</td>\n",
       "      <td>0</td>\n",
       "      <td>0</td>\n",
       "      <td>0</td>\n",
       "      <td>0</td>\n",
       "      <td>0</td>\n",
       "      <td>225000.0</td>\n",
       "      <td>0</td>\n",
       "      <td>151.138977</td>\n",
       "      <td>-33.962720</td>\n",
       "      <td>0</td>\n",
       "      <td>1</td>\n",
       "    </tr>\n",
       "    <tr>\n",
       "      <th>2080</th>\n",
       "      <td>0</td>\n",
       "      <td>0</td>\n",
       "      <td>0</td>\n",
       "      <td>0</td>\n",
       "      <td>0</td>\n",
       "      <td>0</td>\n",
       "      <td>605000.0</td>\n",
       "      <td>0</td>\n",
       "      <td>-98.343535</td>\n",
       "      <td>30.762355</td>\n",
       "      <td>0</td>\n",
       "      <td>1</td>\n",
       "    </tr>\n",
       "    <tr>\n",
       "      <th>2886</th>\n",
       "      <td>0</td>\n",
       "      <td>0</td>\n",
       "      <td>0</td>\n",
       "      <td>0</td>\n",
       "      <td>0</td>\n",
       "      <td>0</td>\n",
       "      <td>200000.0</td>\n",
       "      <td>0</td>\n",
       "      <td>-72.942523</td>\n",
       "      <td>40.892240</td>\n",
       "      <td>0</td>\n",
       "      <td>1</td>\n",
       "    </tr>\n",
       "    <tr>\n",
       "      <th>...</th>\n",
       "      <td>...</td>\n",
       "      <td>...</td>\n",
       "      <td>...</td>\n",
       "      <td>...</td>\n",
       "      <td>...</td>\n",
       "      <td>...</td>\n",
       "      <td>...</td>\n",
       "      <td>...</td>\n",
       "      <td>...</td>\n",
       "      <td>...</td>\n",
       "      <td>...</td>\n",
       "      <td>...</td>\n",
       "    </tr>\n",
       "    <tr>\n",
       "      <th>45034</th>\n",
       "      <td>0</td>\n",
       "      <td>0</td>\n",
       "      <td>0</td>\n",
       "      <td>0</td>\n",
       "      <td>0</td>\n",
       "      <td>0</td>\n",
       "      <td>135000.0</td>\n",
       "      <td>0</td>\n",
       "      <td>-103.459067</td>\n",
       "      <td>43.879103</td>\n",
       "      <td>0</td>\n",
       "      <td>1</td>\n",
       "    </tr>\n",
       "    <tr>\n",
       "      <th>45180</th>\n",
       "      <td>0</td>\n",
       "      <td>0</td>\n",
       "      <td>0</td>\n",
       "      <td>0</td>\n",
       "      <td>0</td>\n",
       "      <td>0</td>\n",
       "      <td>1625000.0</td>\n",
       "      <td>0</td>\n",
       "      <td>-122.675026</td>\n",
       "      <td>45.505106</td>\n",
       "      <td>0</td>\n",
       "      <td>1</td>\n",
       "    </tr>\n",
       "    <tr>\n",
       "      <th>45250</th>\n",
       "      <td>0</td>\n",
       "      <td>0</td>\n",
       "      <td>0</td>\n",
       "      <td>0</td>\n",
       "      <td>0</td>\n",
       "      <td>0</td>\n",
       "      <td>390000.0</td>\n",
       "      <td>0</td>\n",
       "      <td>-80.121095</td>\n",
       "      <td>25.863214</td>\n",
       "      <td>1</td>\n",
       "      <td>0</td>\n",
       "    </tr>\n",
       "    <tr>\n",
       "      <th>45461</th>\n",
       "      <td>0</td>\n",
       "      <td>0</td>\n",
       "      <td>0</td>\n",
       "      <td>0</td>\n",
       "      <td>0</td>\n",
       "      <td>0</td>\n",
       "      <td>467480.0</td>\n",
       "      <td>1</td>\n",
       "      <td>-109.758660</td>\n",
       "      <td>42.977849</td>\n",
       "      <td>1</td>\n",
       "      <td>0</td>\n",
       "    </tr>\n",
       "    <tr>\n",
       "      <th>45868</th>\n",
       "      <td>0</td>\n",
       "      <td>0</td>\n",
       "      <td>0</td>\n",
       "      <td>0</td>\n",
       "      <td>0</td>\n",
       "      <td>0</td>\n",
       "      <td>325000.0</td>\n",
       "      <td>0</td>\n",
       "      <td>2.295753</td>\n",
       "      <td>49.894067</td>\n",
       "      <td>0</td>\n",
       "      <td>1</td>\n",
       "    </tr>\n",
       "  </tbody>\n",
       "</table>\n",
       "<p>104 rows × 12 columns</p>\n",
       "</div>"
      ],
      "text/plain": [
       "       Luas_quantity  Bus_quantity  Train_quantity  PS_quantity  SS_quantity  \\\n",
       "304                0             0               0            0            0   \n",
       "682                0             0               0            0            0   \n",
       "2051               0             0               0            0            0   \n",
       "2080               0             0               0            0            0   \n",
       "2886               0             0               0            0            0   \n",
       "...              ...           ...             ...          ...          ...   \n",
       "45034              0             0               0            0            0   \n",
       "45180              0             0               0            0            0   \n",
       "45250              0             0               0            0            0   \n",
       "45461              0             0               0            0            0   \n",
       "45868              0             0               0            0            0   \n",
       "\n",
       "       Garda_quantity      Price  VAT_exclusive   Longitude   Latitude  \\\n",
       "304                 0   178000.0              0   -9.064087  52.944822   \n",
       "682                 0  1325000.0              0 -104.998435  39.746438   \n",
       "2051                0   225000.0              0  151.138977 -33.962720   \n",
       "2080                0   605000.0              0  -98.343535  30.762355   \n",
       "2886                0   200000.0              0  -72.942523  40.892240   \n",
       "...               ...        ...            ...         ...        ...   \n",
       "45034               0   135000.0              0 -103.459067  43.879103   \n",
       "45180               0  1625000.0              0 -122.675026  45.505106   \n",
       "45250               0   390000.0              0  -80.121095  25.863214   \n",
       "45461               0   467480.0              1 -109.758660  42.977849   \n",
       "45868               0   325000.0              0    2.295753  49.894067   \n",
       "\n",
       "       New_Dwelling_House_Apartment  Second_Hand_Dwelling_House_Apartment  \n",
       "304                               0                                     1  \n",
       "682                               0                                     1  \n",
       "2051                              0                                     1  \n",
       "2080                              0                                     1  \n",
       "2886                              0                                     1  \n",
       "...                             ...                                   ...  \n",
       "45034                             0                                     1  \n",
       "45180                             0                                     1  \n",
       "45250                             1                                     0  \n",
       "45461                             1                                     0  \n",
       "45868                             0                                     1  \n",
       "\n",
       "[104 rows x 12 columns]"
      ]
     },
     "execution_count": 84,
     "metadata": {},
     "output_type": "execute_result"
    }
   ],
   "source": [
    "latitude_less53"
   ]
  },
  {
   "cell_type": "code",
   "execution_count": 85,
   "metadata": {},
   "outputs": [],
   "source": [
    "longitude_lessminus7 = df2[(df2['Longitude'] < -7)]"
   ]
  },
  {
   "cell_type": "code",
   "execution_count": 86,
   "metadata": {},
   "outputs": [
    {
     "data": {
      "text/plain": [
       "(101, 12)"
      ]
     },
     "execution_count": 86,
     "metadata": {},
     "output_type": "execute_result"
    }
   ],
   "source": [
    "longitude_lessminus7.shape"
   ]
  },
  {
   "cell_type": "code",
   "execution_count": 87,
   "metadata": {},
   "outputs": [
    {
     "data": {
      "text/html": [
       "<div>\n",
       "<style scoped>\n",
       "    .dataframe tbody tr th:only-of-type {\n",
       "        vertical-align: middle;\n",
       "    }\n",
       "\n",
       "    .dataframe tbody tr th {\n",
       "        vertical-align: top;\n",
       "    }\n",
       "\n",
       "    .dataframe thead th {\n",
       "        text-align: right;\n",
       "    }\n",
       "</style>\n",
       "<table border=\"1\" class=\"dataframe\">\n",
       "  <thead>\n",
       "    <tr style=\"text-align: right;\">\n",
       "      <th></th>\n",
       "      <th>Luas_quantity</th>\n",
       "      <th>Bus_quantity</th>\n",
       "      <th>Train_quantity</th>\n",
       "      <th>PS_quantity</th>\n",
       "      <th>SS_quantity</th>\n",
       "      <th>Garda_quantity</th>\n",
       "      <th>Price</th>\n",
       "      <th>VAT_exclusive</th>\n",
       "      <th>Longitude</th>\n",
       "      <th>Latitude</th>\n",
       "      <th>New_Dwelling_House_Apartment</th>\n",
       "      <th>Second_Hand_Dwelling_House_Apartment</th>\n",
       "    </tr>\n",
       "  </thead>\n",
       "  <tbody>\n",
       "    <tr>\n",
       "      <th>304</th>\n",
       "      <td>0</td>\n",
       "      <td>0</td>\n",
       "      <td>0</td>\n",
       "      <td>0</td>\n",
       "      <td>0</td>\n",
       "      <td>0</td>\n",
       "      <td>178000.00</td>\n",
       "      <td>0</td>\n",
       "      <td>-9.064087</td>\n",
       "      <td>52.944822</td>\n",
       "      <td>0</td>\n",
       "      <td>1</td>\n",
       "    </tr>\n",
       "    <tr>\n",
       "      <th>682</th>\n",
       "      <td>0</td>\n",
       "      <td>0</td>\n",
       "      <td>0</td>\n",
       "      <td>0</td>\n",
       "      <td>0</td>\n",
       "      <td>0</td>\n",
       "      <td>1325000.00</td>\n",
       "      <td>0</td>\n",
       "      <td>-104.998435</td>\n",
       "      <td>39.746438</td>\n",
       "      <td>0</td>\n",
       "      <td>1</td>\n",
       "    </tr>\n",
       "    <tr>\n",
       "      <th>1276</th>\n",
       "      <td>0</td>\n",
       "      <td>0</td>\n",
       "      <td>0</td>\n",
       "      <td>0</td>\n",
       "      <td>0</td>\n",
       "      <td>0</td>\n",
       "      <td>118942.73</td>\n",
       "      <td>1</td>\n",
       "      <td>-7.458984</td>\n",
       "      <td>55.084809</td>\n",
       "      <td>1</td>\n",
       "      <td>0</td>\n",
       "    </tr>\n",
       "    <tr>\n",
       "      <th>2080</th>\n",
       "      <td>0</td>\n",
       "      <td>0</td>\n",
       "      <td>0</td>\n",
       "      <td>0</td>\n",
       "      <td>0</td>\n",
       "      <td>0</td>\n",
       "      <td>605000.00</td>\n",
       "      <td>0</td>\n",
       "      <td>-98.343535</td>\n",
       "      <td>30.762355</td>\n",
       "      <td>0</td>\n",
       "      <td>1</td>\n",
       "    </tr>\n",
       "    <tr>\n",
       "      <th>2172</th>\n",
       "      <td>0</td>\n",
       "      <td>0</td>\n",
       "      <td>0</td>\n",
       "      <td>0</td>\n",
       "      <td>0</td>\n",
       "      <td>0</td>\n",
       "      <td>950000.00</td>\n",
       "      <td>0</td>\n",
       "      <td>-8.050000</td>\n",
       "      <td>55.016667</td>\n",
       "      <td>0</td>\n",
       "      <td>1</td>\n",
       "    </tr>\n",
       "    <tr>\n",
       "      <th>...</th>\n",
       "      <td>...</td>\n",
       "      <td>...</td>\n",
       "      <td>...</td>\n",
       "      <td>...</td>\n",
       "      <td>...</td>\n",
       "      <td>...</td>\n",
       "      <td>...</td>\n",
       "      <td>...</td>\n",
       "      <td>...</td>\n",
       "      <td>...</td>\n",
       "      <td>...</td>\n",
       "      <td>...</td>\n",
       "    </tr>\n",
       "    <tr>\n",
       "      <th>45034</th>\n",
       "      <td>0</td>\n",
       "      <td>0</td>\n",
       "      <td>0</td>\n",
       "      <td>0</td>\n",
       "      <td>0</td>\n",
       "      <td>0</td>\n",
       "      <td>135000.00</td>\n",
       "      <td>0</td>\n",
       "      <td>-103.459067</td>\n",
       "      <td>43.879103</td>\n",
       "      <td>0</td>\n",
       "      <td>1</td>\n",
       "    </tr>\n",
       "    <tr>\n",
       "      <th>45180</th>\n",
       "      <td>0</td>\n",
       "      <td>0</td>\n",
       "      <td>0</td>\n",
       "      <td>0</td>\n",
       "      <td>0</td>\n",
       "      <td>0</td>\n",
       "      <td>1625000.00</td>\n",
       "      <td>0</td>\n",
       "      <td>-122.675026</td>\n",
       "      <td>45.505106</td>\n",
       "      <td>0</td>\n",
       "      <td>1</td>\n",
       "    </tr>\n",
       "    <tr>\n",
       "      <th>45250</th>\n",
       "      <td>0</td>\n",
       "      <td>0</td>\n",
       "      <td>0</td>\n",
       "      <td>0</td>\n",
       "      <td>0</td>\n",
       "      <td>0</td>\n",
       "      <td>390000.00</td>\n",
       "      <td>0</td>\n",
       "      <td>-80.121095</td>\n",
       "      <td>25.863214</td>\n",
       "      <td>1</td>\n",
       "      <td>0</td>\n",
       "    </tr>\n",
       "    <tr>\n",
       "      <th>45461</th>\n",
       "      <td>0</td>\n",
       "      <td>0</td>\n",
       "      <td>0</td>\n",
       "      <td>0</td>\n",
       "      <td>0</td>\n",
       "      <td>0</td>\n",
       "      <td>467480.00</td>\n",
       "      <td>1</td>\n",
       "      <td>-109.758660</td>\n",
       "      <td>42.977849</td>\n",
       "      <td>1</td>\n",
       "      <td>0</td>\n",
       "    </tr>\n",
       "    <tr>\n",
       "      <th>45684</th>\n",
       "      <td>0</td>\n",
       "      <td>0</td>\n",
       "      <td>0</td>\n",
       "      <td>0</td>\n",
       "      <td>0</td>\n",
       "      <td>0</td>\n",
       "      <td>210000.00</td>\n",
       "      <td>0</td>\n",
       "      <td>-7.889639</td>\n",
       "      <td>55.135019</td>\n",
       "      <td>1</td>\n",
       "      <td>0</td>\n",
       "    </tr>\n",
       "  </tbody>\n",
       "</table>\n",
       "<p>101 rows × 12 columns</p>\n",
       "</div>"
      ],
      "text/plain": [
       "       Luas_quantity  Bus_quantity  Train_quantity  PS_quantity  SS_quantity  \\\n",
       "304                0             0               0            0            0   \n",
       "682                0             0               0            0            0   \n",
       "1276               0             0               0            0            0   \n",
       "2080               0             0               0            0            0   \n",
       "2172               0             0               0            0            0   \n",
       "...              ...           ...             ...          ...          ...   \n",
       "45034              0             0               0            0            0   \n",
       "45180              0             0               0            0            0   \n",
       "45250              0             0               0            0            0   \n",
       "45461              0             0               0            0            0   \n",
       "45684              0             0               0            0            0   \n",
       "\n",
       "       Garda_quantity       Price  VAT_exclusive   Longitude   Latitude  \\\n",
       "304                 0   178000.00              0   -9.064087  52.944822   \n",
       "682                 0  1325000.00              0 -104.998435  39.746438   \n",
       "1276                0   118942.73              1   -7.458984  55.084809   \n",
       "2080                0   605000.00              0  -98.343535  30.762355   \n",
       "2172                0   950000.00              0   -8.050000  55.016667   \n",
       "...               ...         ...            ...         ...        ...   \n",
       "45034               0   135000.00              0 -103.459067  43.879103   \n",
       "45180               0  1625000.00              0 -122.675026  45.505106   \n",
       "45250               0   390000.00              0  -80.121095  25.863214   \n",
       "45461               0   467480.00              1 -109.758660  42.977849   \n",
       "45684               0   210000.00              0   -7.889639  55.135019   \n",
       "\n",
       "       New_Dwelling_House_Apartment  Second_Hand_Dwelling_House_Apartment  \n",
       "304                               0                                     1  \n",
       "682                               0                                     1  \n",
       "1276                              1                                     0  \n",
       "2080                              0                                     1  \n",
       "2172                              0                                     1  \n",
       "...                             ...                                   ...  \n",
       "45034                             0                                     1  \n",
       "45180                             0                                     1  \n",
       "45250                             1                                     0  \n",
       "45461                             1                                     0  \n",
       "45684                             1                                     0  \n",
       "\n",
       "[101 rows x 12 columns]"
      ]
     },
     "execution_count": 87,
     "metadata": {},
     "output_type": "execute_result"
    }
   ],
   "source": [
    "longitude_lessminus7"
   ]
  },
  {
   "cell_type": "code",
   "execution_count": 88,
   "metadata": {},
   "outputs": [],
   "source": [
    "longitude_greaterminus6 = df2[(df2['Longitude'] > -6)]"
   ]
  },
  {
   "cell_type": "code",
   "execution_count": 89,
   "metadata": {},
   "outputs": [
    {
     "data": {
      "text/plain": [
       "(28, 12)"
      ]
     },
     "execution_count": 89,
     "metadata": {},
     "output_type": "execute_result"
    }
   ],
   "source": [
    "longitude_greaterminus6.shape"
   ]
  },
  {
   "cell_type": "code",
   "execution_count": 90,
   "metadata": {},
   "outputs": [
    {
     "data": {
      "text/html": [
       "<div>\n",
       "<style scoped>\n",
       "    .dataframe tbody tr th:only-of-type {\n",
       "        vertical-align: middle;\n",
       "    }\n",
       "\n",
       "    .dataframe tbody tr th {\n",
       "        vertical-align: top;\n",
       "    }\n",
       "\n",
       "    .dataframe thead th {\n",
       "        text-align: right;\n",
       "    }\n",
       "</style>\n",
       "<table border=\"1\" class=\"dataframe\">\n",
       "  <thead>\n",
       "    <tr style=\"text-align: right;\">\n",
       "      <th></th>\n",
       "      <th>Luas_quantity</th>\n",
       "      <th>Bus_quantity</th>\n",
       "      <th>Train_quantity</th>\n",
       "      <th>PS_quantity</th>\n",
       "      <th>SS_quantity</th>\n",
       "      <th>Garda_quantity</th>\n",
       "      <th>Price</th>\n",
       "      <th>VAT_exclusive</th>\n",
       "      <th>Longitude</th>\n",
       "      <th>Latitude</th>\n",
       "      <th>New_Dwelling_House_Apartment</th>\n",
       "      <th>Second_Hand_Dwelling_House_Apartment</th>\n",
       "    </tr>\n",
       "  </thead>\n",
       "  <tbody>\n",
       "    <tr>\n",
       "      <th>1034</th>\n",
       "      <td>0</td>\n",
       "      <td>0</td>\n",
       "      <td>0</td>\n",
       "      <td>0</td>\n",
       "      <td>0</td>\n",
       "      <td>0</td>\n",
       "      <td>550000.00</td>\n",
       "      <td>0</td>\n",
       "      <td>-5.945565</td>\n",
       "      <td>54.254686</td>\n",
       "      <td>0</td>\n",
       "      <td>1</td>\n",
       "    </tr>\n",
       "    <tr>\n",
       "      <th>1452</th>\n",
       "      <td>0</td>\n",
       "      <td>0</td>\n",
       "      <td>0</td>\n",
       "      <td>0</td>\n",
       "      <td>0</td>\n",
       "      <td>0</td>\n",
       "      <td>375000.00</td>\n",
       "      <td>0</td>\n",
       "      <td>-4.414893</td>\n",
       "      <td>54.734836</td>\n",
       "      <td>0</td>\n",
       "      <td>1</td>\n",
       "    </tr>\n",
       "    <tr>\n",
       "      <th>2051</th>\n",
       "      <td>0</td>\n",
       "      <td>0</td>\n",
       "      <td>0</td>\n",
       "      <td>0</td>\n",
       "      <td>0</td>\n",
       "      <td>0</td>\n",
       "      <td>225000.00</td>\n",
       "      <td>0</td>\n",
       "      <td>151.138977</td>\n",
       "      <td>-33.962720</td>\n",
       "      <td>0</td>\n",
       "      <td>1</td>\n",
       "    </tr>\n",
       "    <tr>\n",
       "      <th>3740</th>\n",
       "      <td>0</td>\n",
       "      <td>0</td>\n",
       "      <td>0</td>\n",
       "      <td>0</td>\n",
       "      <td>0</td>\n",
       "      <td>0</td>\n",
       "      <td>320000.00</td>\n",
       "      <td>0</td>\n",
       "      <td>145.002301</td>\n",
       "      <td>-37.857255</td>\n",
       "      <td>0</td>\n",
       "      <td>1</td>\n",
       "    </tr>\n",
       "    <tr>\n",
       "      <th>6399</th>\n",
       "      <td>0</td>\n",
       "      <td>0</td>\n",
       "      <td>0</td>\n",
       "      <td>0</td>\n",
       "      <td>0</td>\n",
       "      <td>0</td>\n",
       "      <td>1146125.00</td>\n",
       "      <td>1</td>\n",
       "      <td>-0.159416</td>\n",
       "      <td>51.641432</td>\n",
       "      <td>1</td>\n",
       "      <td>0</td>\n",
       "    </tr>\n",
       "    <tr>\n",
       "      <th>14968</th>\n",
       "      <td>0</td>\n",
       "      <td>0</td>\n",
       "      <td>0</td>\n",
       "      <td>0</td>\n",
       "      <td>0</td>\n",
       "      <td>0</td>\n",
       "      <td>281938.33</td>\n",
       "      <td>1</td>\n",
       "      <td>152.972980</td>\n",
       "      <td>-27.633835</td>\n",
       "      <td>0</td>\n",
       "      <td>1</td>\n",
       "    </tr>\n",
       "    <tr>\n",
       "      <th>15710</th>\n",
       "      <td>0</td>\n",
       "      <td>0</td>\n",
       "      <td>0</td>\n",
       "      <td>0</td>\n",
       "      <td>0</td>\n",
       "      <td>0</td>\n",
       "      <td>180000.00</td>\n",
       "      <td>0</td>\n",
       "      <td>-5.928531</td>\n",
       "      <td>54.602857</td>\n",
       "      <td>0</td>\n",
       "      <td>1</td>\n",
       "    </tr>\n",
       "    <tr>\n",
       "      <th>17575</th>\n",
       "      <td>0</td>\n",
       "      <td>0</td>\n",
       "      <td>0</td>\n",
       "      <td>0</td>\n",
       "      <td>0</td>\n",
       "      <td>0</td>\n",
       "      <td>220000.00</td>\n",
       "      <td>0</td>\n",
       "      <td>-1.643186</td>\n",
       "      <td>54.998993</td>\n",
       "      <td>1</td>\n",
       "      <td>0</td>\n",
       "    </tr>\n",
       "    <tr>\n",
       "      <th>21184</th>\n",
       "      <td>0</td>\n",
       "      <td>0</td>\n",
       "      <td>0</td>\n",
       "      <td>0</td>\n",
       "      <td>0</td>\n",
       "      <td>0</td>\n",
       "      <td>240000.00</td>\n",
       "      <td>0</td>\n",
       "      <td>2.295753</td>\n",
       "      <td>49.894067</td>\n",
       "      <td>0</td>\n",
       "      <td>1</td>\n",
       "    </tr>\n",
       "    <tr>\n",
       "      <th>26238</th>\n",
       "      <td>0</td>\n",
       "      <td>0</td>\n",
       "      <td>0</td>\n",
       "      <td>0</td>\n",
       "      <td>0</td>\n",
       "      <td>0</td>\n",
       "      <td>343612.00</td>\n",
       "      <td>1</td>\n",
       "      <td>-0.353133</td>\n",
       "      <td>51.640949</td>\n",
       "      <td>0</td>\n",
       "      <td>1</td>\n",
       "    </tr>\n",
       "    <tr>\n",
       "      <th>26499</th>\n",
       "      <td>0</td>\n",
       "      <td>0</td>\n",
       "      <td>0</td>\n",
       "      <td>0</td>\n",
       "      <td>0</td>\n",
       "      <td>0</td>\n",
       "      <td>320000.00</td>\n",
       "      <td>0</td>\n",
       "      <td>-4.320162</td>\n",
       "      <td>55.949972</td>\n",
       "      <td>0</td>\n",
       "      <td>1</td>\n",
       "    </tr>\n",
       "    <tr>\n",
       "      <th>26524</th>\n",
       "      <td>0</td>\n",
       "      <td>0</td>\n",
       "      <td>0</td>\n",
       "      <td>0</td>\n",
       "      <td>0</td>\n",
       "      <td>0</td>\n",
       "      <td>310000.00</td>\n",
       "      <td>0</td>\n",
       "      <td>-4.320162</td>\n",
       "      <td>55.949972</td>\n",
       "      <td>0</td>\n",
       "      <td>1</td>\n",
       "    </tr>\n",
       "    <tr>\n",
       "      <th>26950</th>\n",
       "      <td>0</td>\n",
       "      <td>0</td>\n",
       "      <td>0</td>\n",
       "      <td>0</td>\n",
       "      <td>0</td>\n",
       "      <td>0</td>\n",
       "      <td>254000.00</td>\n",
       "      <td>0</td>\n",
       "      <td>-1.617522</td>\n",
       "      <td>55.002369</td>\n",
       "      <td>0</td>\n",
       "      <td>1</td>\n",
       "    </tr>\n",
       "    <tr>\n",
       "      <th>27376</th>\n",
       "      <td>0</td>\n",
       "      <td>0</td>\n",
       "      <td>0</td>\n",
       "      <td>0</td>\n",
       "      <td>0</td>\n",
       "      <td>0</td>\n",
       "      <td>303965.00</td>\n",
       "      <td>1</td>\n",
       "      <td>6.440954</td>\n",
       "      <td>53.387268</td>\n",
       "      <td>1</td>\n",
       "      <td>0</td>\n",
       "    </tr>\n",
       "    <tr>\n",
       "      <th>28145</th>\n",
       "      <td>0</td>\n",
       "      <td>0</td>\n",
       "      <td>0</td>\n",
       "      <td>0</td>\n",
       "      <td>0</td>\n",
       "      <td>0</td>\n",
       "      <td>420000.00</td>\n",
       "      <td>0</td>\n",
       "      <td>-4.320162</td>\n",
       "      <td>55.949972</td>\n",
       "      <td>0</td>\n",
       "      <td>1</td>\n",
       "    </tr>\n",
       "    <tr>\n",
       "      <th>28148</th>\n",
       "      <td>0</td>\n",
       "      <td>0</td>\n",
       "      <td>0</td>\n",
       "      <td>0</td>\n",
       "      <td>0</td>\n",
       "      <td>0</td>\n",
       "      <td>410000.00</td>\n",
       "      <td>0</td>\n",
       "      <td>-4.319979</td>\n",
       "      <td>55.949962</td>\n",
       "      <td>1</td>\n",
       "      <td>0</td>\n",
       "    </tr>\n",
       "    <tr>\n",
       "      <th>28851</th>\n",
       "      <td>0</td>\n",
       "      <td>0</td>\n",
       "      <td>0</td>\n",
       "      <td>0</td>\n",
       "      <td>0</td>\n",
       "      <td>0</td>\n",
       "      <td>788600.00</td>\n",
       "      <td>1</td>\n",
       "      <td>-4.054346</td>\n",
       "      <td>52.696651</td>\n",
       "      <td>0</td>\n",
       "      <td>1</td>\n",
       "    </tr>\n",
       "    <tr>\n",
       "      <th>30374</th>\n",
       "      <td>0</td>\n",
       "      <td>0</td>\n",
       "      <td>0</td>\n",
       "      <td>0</td>\n",
       "      <td>0</td>\n",
       "      <td>0</td>\n",
       "      <td>410000.00</td>\n",
       "      <td>0</td>\n",
       "      <td>-2.514483</td>\n",
       "      <td>50.947822</td>\n",
       "      <td>0</td>\n",
       "      <td>1</td>\n",
       "    </tr>\n",
       "    <tr>\n",
       "      <th>30909</th>\n",
       "      <td>0</td>\n",
       "      <td>0</td>\n",
       "      <td>0</td>\n",
       "      <td>0</td>\n",
       "      <td>0</td>\n",
       "      <td>0</td>\n",
       "      <td>313000.00</td>\n",
       "      <td>0</td>\n",
       "      <td>-1.615853</td>\n",
       "      <td>55.002620</td>\n",
       "      <td>0</td>\n",
       "      <td>1</td>\n",
       "    </tr>\n",
       "    <tr>\n",
       "      <th>31711</th>\n",
       "      <td>0</td>\n",
       "      <td>0</td>\n",
       "      <td>0</td>\n",
       "      <td>0</td>\n",
       "      <td>0</td>\n",
       "      <td>0</td>\n",
       "      <td>785000.00</td>\n",
       "      <td>0</td>\n",
       "      <td>0.227849</td>\n",
       "      <td>49.145922</td>\n",
       "      <td>0</td>\n",
       "      <td>1</td>\n",
       "    </tr>\n",
       "    <tr>\n",
       "      <th>33935</th>\n",
       "      <td>0</td>\n",
       "      <td>0</td>\n",
       "      <td>0</td>\n",
       "      <td>0</td>\n",
       "      <td>0</td>\n",
       "      <td>0</td>\n",
       "      <td>220000.00</td>\n",
       "      <td>0</td>\n",
       "      <td>-5.471047</td>\n",
       "      <td>56.415157</td>\n",
       "      <td>0</td>\n",
       "      <td>1</td>\n",
       "    </tr>\n",
       "    <tr>\n",
       "      <th>34548</th>\n",
       "      <td>0</td>\n",
       "      <td>0</td>\n",
       "      <td>0</td>\n",
       "      <td>0</td>\n",
       "      <td>0</td>\n",
       "      <td>0</td>\n",
       "      <td>261000.00</td>\n",
       "      <td>0</td>\n",
       "      <td>2.295753</td>\n",
       "      <td>49.894067</td>\n",
       "      <td>0</td>\n",
       "      <td>1</td>\n",
       "    </tr>\n",
       "    <tr>\n",
       "      <th>35785</th>\n",
       "      <td>0</td>\n",
       "      <td>0</td>\n",
       "      <td>0</td>\n",
       "      <td>0</td>\n",
       "      <td>0</td>\n",
       "      <td>0</td>\n",
       "      <td>322500.00</td>\n",
       "      <td>0</td>\n",
       "      <td>-4.384603</td>\n",
       "      <td>56.178672</td>\n",
       "      <td>1</td>\n",
       "      <td>0</td>\n",
       "    </tr>\n",
       "    <tr>\n",
       "      <th>37150</th>\n",
       "      <td>0</td>\n",
       "      <td>0</td>\n",
       "      <td>0</td>\n",
       "      <td>0</td>\n",
       "      <td>0</td>\n",
       "      <td>0</td>\n",
       "      <td>520000.00</td>\n",
       "      <td>0</td>\n",
       "      <td>0.114545</td>\n",
       "      <td>52.210929</td>\n",
       "      <td>1</td>\n",
       "      <td>0</td>\n",
       "    </tr>\n",
       "    <tr>\n",
       "      <th>38417</th>\n",
       "      <td>0</td>\n",
       "      <td>0</td>\n",
       "      <td>0</td>\n",
       "      <td>0</td>\n",
       "      <td>0</td>\n",
       "      <td>0</td>\n",
       "      <td>270000.00</td>\n",
       "      <td>0</td>\n",
       "      <td>2.295753</td>\n",
       "      <td>49.894067</td>\n",
       "      <td>0</td>\n",
       "      <td>1</td>\n",
       "    </tr>\n",
       "    <tr>\n",
       "      <th>38567</th>\n",
       "      <td>0</td>\n",
       "      <td>0</td>\n",
       "      <td>0</td>\n",
       "      <td>0</td>\n",
       "      <td>0</td>\n",
       "      <td>0</td>\n",
       "      <td>250000.00</td>\n",
       "      <td>0</td>\n",
       "      <td>2.295753</td>\n",
       "      <td>49.894067</td>\n",
       "      <td>0</td>\n",
       "      <td>1</td>\n",
       "    </tr>\n",
       "    <tr>\n",
       "      <th>43459</th>\n",
       "      <td>0</td>\n",
       "      <td>0</td>\n",
       "      <td>0</td>\n",
       "      <td>0</td>\n",
       "      <td>0</td>\n",
       "      <td>0</td>\n",
       "      <td>1690000.00</td>\n",
       "      <td>0</td>\n",
       "      <td>-3.324186</td>\n",
       "      <td>56.367746</td>\n",
       "      <td>0</td>\n",
       "      <td>1</td>\n",
       "    </tr>\n",
       "    <tr>\n",
       "      <th>45868</th>\n",
       "      <td>0</td>\n",
       "      <td>0</td>\n",
       "      <td>0</td>\n",
       "      <td>0</td>\n",
       "      <td>0</td>\n",
       "      <td>0</td>\n",
       "      <td>325000.00</td>\n",
       "      <td>0</td>\n",
       "      <td>2.295753</td>\n",
       "      <td>49.894067</td>\n",
       "      <td>0</td>\n",
       "      <td>1</td>\n",
       "    </tr>\n",
       "  </tbody>\n",
       "</table>\n",
       "</div>"
      ],
      "text/plain": [
       "       Luas_quantity  Bus_quantity  Train_quantity  PS_quantity  SS_quantity  \\\n",
       "1034               0             0               0            0            0   \n",
       "1452               0             0               0            0            0   \n",
       "2051               0             0               0            0            0   \n",
       "3740               0             0               0            0            0   \n",
       "6399               0             0               0            0            0   \n",
       "14968              0             0               0            0            0   \n",
       "15710              0             0               0            0            0   \n",
       "17575              0             0               0            0            0   \n",
       "21184              0             0               0            0            0   \n",
       "26238              0             0               0            0            0   \n",
       "26499              0             0               0            0            0   \n",
       "26524              0             0               0            0            0   \n",
       "26950              0             0               0            0            0   \n",
       "27376              0             0               0            0            0   \n",
       "28145              0             0               0            0            0   \n",
       "28148              0             0               0            0            0   \n",
       "28851              0             0               0            0            0   \n",
       "30374              0             0               0            0            0   \n",
       "30909              0             0               0            0            0   \n",
       "31711              0             0               0            0            0   \n",
       "33935              0             0               0            0            0   \n",
       "34548              0             0               0            0            0   \n",
       "35785              0             0               0            0            0   \n",
       "37150              0             0               0            0            0   \n",
       "38417              0             0               0            0            0   \n",
       "38567              0             0               0            0            0   \n",
       "43459              0             0               0            0            0   \n",
       "45868              0             0               0            0            0   \n",
       "\n",
       "       Garda_quantity       Price  VAT_exclusive   Longitude   Latitude  \\\n",
       "1034                0   550000.00              0   -5.945565  54.254686   \n",
       "1452                0   375000.00              0   -4.414893  54.734836   \n",
       "2051                0   225000.00              0  151.138977 -33.962720   \n",
       "3740                0   320000.00              0  145.002301 -37.857255   \n",
       "6399                0  1146125.00              1   -0.159416  51.641432   \n",
       "14968               0   281938.33              1  152.972980 -27.633835   \n",
       "15710               0   180000.00              0   -5.928531  54.602857   \n",
       "17575               0   220000.00              0   -1.643186  54.998993   \n",
       "21184               0   240000.00              0    2.295753  49.894067   \n",
       "26238               0   343612.00              1   -0.353133  51.640949   \n",
       "26499               0   320000.00              0   -4.320162  55.949972   \n",
       "26524               0   310000.00              0   -4.320162  55.949972   \n",
       "26950               0   254000.00              0   -1.617522  55.002369   \n",
       "27376               0   303965.00              1    6.440954  53.387268   \n",
       "28145               0   420000.00              0   -4.320162  55.949972   \n",
       "28148               0   410000.00              0   -4.319979  55.949962   \n",
       "28851               0   788600.00              1   -4.054346  52.696651   \n",
       "30374               0   410000.00              0   -2.514483  50.947822   \n",
       "30909               0   313000.00              0   -1.615853  55.002620   \n",
       "31711               0   785000.00              0    0.227849  49.145922   \n",
       "33935               0   220000.00              0   -5.471047  56.415157   \n",
       "34548               0   261000.00              0    2.295753  49.894067   \n",
       "35785               0   322500.00              0   -4.384603  56.178672   \n",
       "37150               0   520000.00              0    0.114545  52.210929   \n",
       "38417               0   270000.00              0    2.295753  49.894067   \n",
       "38567               0   250000.00              0    2.295753  49.894067   \n",
       "43459               0  1690000.00              0   -3.324186  56.367746   \n",
       "45868               0   325000.00              0    2.295753  49.894067   \n",
       "\n",
       "       New_Dwelling_House_Apartment  Second_Hand_Dwelling_House_Apartment  \n",
       "1034                              0                                     1  \n",
       "1452                              0                                     1  \n",
       "2051                              0                                     1  \n",
       "3740                              0                                     1  \n",
       "6399                              1                                     0  \n",
       "14968                             0                                     1  \n",
       "15710                             0                                     1  \n",
       "17575                             1                                     0  \n",
       "21184                             0                                     1  \n",
       "26238                             0                                     1  \n",
       "26499                             0                                     1  \n",
       "26524                             0                                     1  \n",
       "26950                             0                                     1  \n",
       "27376                             1                                     0  \n",
       "28145                             0                                     1  \n",
       "28148                             1                                     0  \n",
       "28851                             0                                     1  \n",
       "30374                             0                                     1  \n",
       "30909                             0                                     1  \n",
       "31711                             0                                     1  \n",
       "33935                             0                                     1  \n",
       "34548                             0                                     1  \n",
       "35785                             1                                     0  \n",
       "37150                             1                                     0  \n",
       "38417                             0                                     1  \n",
       "38567                             0                                     1  \n",
       "43459                             0                                     1  \n",
       "45868                             0                                     1  "
      ]
     },
     "execution_count": 90,
     "metadata": {},
     "output_type": "execute_result"
    }
   ],
   "source": [
    "longitude_greaterminus6 "
   ]
  },
  {
   "cell_type": "markdown",
   "metadata": {},
   "source": [
    "I will drop these values since Google API did not recognize the address and returned a wrong value for Latitude and Longitude. As we can see there is no Luas, Bus, Train, Secondary school or primary school near those entries"
   ]
  },
  {
   "cell_type": "code",
   "execution_count": 91,
   "metadata": {},
   "outputs": [
    {
     "data": {
      "text/html": [
       "<div>\n",
       "<style scoped>\n",
       "    .dataframe tbody tr th:only-of-type {\n",
       "        vertical-align: middle;\n",
       "    }\n",
       "\n",
       "    .dataframe tbody tr th {\n",
       "        vertical-align: top;\n",
       "    }\n",
       "\n",
       "    .dataframe thead th {\n",
       "        text-align: right;\n",
       "    }\n",
       "</style>\n",
       "<table border=\"1\" class=\"dataframe\">\n",
       "  <thead>\n",
       "    <tr style=\"text-align: right;\">\n",
       "      <th></th>\n",
       "      <th>Luas_quantity</th>\n",
       "      <th>Bus_quantity</th>\n",
       "      <th>Train_quantity</th>\n",
       "      <th>PS_quantity</th>\n",
       "      <th>SS_quantity</th>\n",
       "      <th>Garda_quantity</th>\n",
       "      <th>Price</th>\n",
       "      <th>VAT_exclusive</th>\n",
       "      <th>Longitude</th>\n",
       "      <th>Latitude</th>\n",
       "      <th>New_Dwelling_House_Apartment</th>\n",
       "      <th>Second_Hand_Dwelling_House_Apartment</th>\n",
       "    </tr>\n",
       "  </thead>\n",
       "  <tbody>\n",
       "    <tr>\n",
       "      <th>count</th>\n",
       "      <td>20.0</td>\n",
       "      <td>20.0</td>\n",
       "      <td>20.0</td>\n",
       "      <td>20.0</td>\n",
       "      <td>20.0</td>\n",
       "      <td>20.0</td>\n",
       "      <td>2.000000e+01</td>\n",
       "      <td>20.000000</td>\n",
       "      <td>20.000000</td>\n",
       "      <td>20.000000</td>\n",
       "      <td>20.00000</td>\n",
       "      <td>20.00000</td>\n",
       "    </tr>\n",
       "    <tr>\n",
       "      <th>mean</th>\n",
       "      <td>0.0</td>\n",
       "      <td>0.0</td>\n",
       "      <td>0.0</td>\n",
       "      <td>0.0</td>\n",
       "      <td>0.0</td>\n",
       "      <td>0.0</td>\n",
       "      <td>3.936130e+05</td>\n",
       "      <td>0.100000</td>\n",
       "      <td>-5.232388</td>\n",
       "      <td>55.193121</td>\n",
       "      <td>0.35000</td>\n",
       "      <td>0.65000</td>\n",
       "    </tr>\n",
       "    <tr>\n",
       "      <th>std</th>\n",
       "      <td>0.0</td>\n",
       "      <td>0.0</td>\n",
       "      <td>0.0</td>\n",
       "      <td>0.0</td>\n",
       "      <td>0.0</td>\n",
       "      <td>0.0</td>\n",
       "      <td>3.569133e+05</td>\n",
       "      <td>0.307794</td>\n",
       "      <td>2.176978</td>\n",
       "      <td>0.775423</td>\n",
       "      <td>0.48936</td>\n",
       "      <td>0.48936</td>\n",
       "    </tr>\n",
       "    <tr>\n",
       "      <th>min</th>\n",
       "      <td>0.0</td>\n",
       "      <td>0.0</td>\n",
       "      <td>0.0</td>\n",
       "      <td>0.0</td>\n",
       "      <td>0.0</td>\n",
       "      <td>0.0</td>\n",
       "      <td>1.018182e+05</td>\n",
       "      <td>0.000000</td>\n",
       "      <td>-8.529977</td>\n",
       "      <td>54.051399</td>\n",
       "      <td>0.00000</td>\n",
       "      <td>0.00000</td>\n",
       "    </tr>\n",
       "    <tr>\n",
       "      <th>25%</th>\n",
       "      <td>0.0</td>\n",
       "      <td>0.0</td>\n",
       "      <td>0.0</td>\n",
       "      <td>0.0</td>\n",
       "      <td>0.0</td>\n",
       "      <td>0.0</td>\n",
       "      <td>2.175000e+05</td>\n",
       "      <td>0.000000</td>\n",
       "      <td>-7.348944</td>\n",
       "      <td>54.701841</td>\n",
       "      <td>0.00000</td>\n",
       "      <td>0.00000</td>\n",
       "    </tr>\n",
       "    <tr>\n",
       "      <th>50%</th>\n",
       "      <td>0.0</td>\n",
       "      <td>0.0</td>\n",
       "      <td>0.0</td>\n",
       "      <td>0.0</td>\n",
       "      <td>0.0</td>\n",
       "      <td>0.0</td>\n",
       "      <td>3.165000e+05</td>\n",
       "      <td>0.000000</td>\n",
       "      <td>-4.942970</td>\n",
       "      <td>55.009643</td>\n",
       "      <td>0.00000</td>\n",
       "      <td>1.00000</td>\n",
       "    </tr>\n",
       "    <tr>\n",
       "      <th>75%</th>\n",
       "      <td>0.0</td>\n",
       "      <td>0.0</td>\n",
       "      <td>0.0</td>\n",
       "      <td>0.0</td>\n",
       "      <td>0.0</td>\n",
       "      <td>0.0</td>\n",
       "      <td>4.025000e+05</td>\n",
       "      <td>0.000000</td>\n",
       "      <td>-4.320116</td>\n",
       "      <td>55.949972</td>\n",
       "      <td>1.00000</td>\n",
       "      <td>1.00000</td>\n",
       "    </tr>\n",
       "    <tr>\n",
       "      <th>max</th>\n",
       "      <td>0.0</td>\n",
       "      <td>0.0</td>\n",
       "      <td>0.0</td>\n",
       "      <td>0.0</td>\n",
       "      <td>0.0</td>\n",
       "      <td>0.0</td>\n",
       "      <td>1.690000e+06</td>\n",
       "      <td>1.000000</td>\n",
       "      <td>-1.615853</td>\n",
       "      <td>56.415157</td>\n",
       "      <td>1.00000</td>\n",
       "      <td>1.00000</td>\n",
       "    </tr>\n",
       "  </tbody>\n",
       "</table>\n",
       "</div>"
      ],
      "text/plain": [
       "       Luas_quantity  Bus_quantity  Train_quantity  PS_quantity  SS_quantity  \\\n",
       "count           20.0          20.0            20.0         20.0         20.0   \n",
       "mean             0.0           0.0             0.0          0.0          0.0   \n",
       "std              0.0           0.0             0.0          0.0          0.0   \n",
       "min              0.0           0.0             0.0          0.0          0.0   \n",
       "25%              0.0           0.0             0.0          0.0          0.0   \n",
       "50%              0.0           0.0             0.0          0.0          0.0   \n",
       "75%              0.0           0.0             0.0          0.0          0.0   \n",
       "max              0.0           0.0             0.0          0.0          0.0   \n",
       "\n",
       "       Garda_quantity         Price  VAT_exclusive  Longitude   Latitude  \\\n",
       "count            20.0  2.000000e+01      20.000000  20.000000  20.000000   \n",
       "mean              0.0  3.936130e+05       0.100000  -5.232388  55.193121   \n",
       "std               0.0  3.569133e+05       0.307794   2.176978   0.775423   \n",
       "min               0.0  1.018182e+05       0.000000  -8.529977  54.051399   \n",
       "25%               0.0  2.175000e+05       0.000000  -7.348944  54.701841   \n",
       "50%               0.0  3.165000e+05       0.000000  -4.942970  55.009643   \n",
       "75%               0.0  4.025000e+05       0.000000  -4.320116  55.949972   \n",
       "max               0.0  1.690000e+06       1.000000  -1.615853  56.415157   \n",
       "\n",
       "       New_Dwelling_House_Apartment  Second_Hand_Dwelling_House_Apartment  \n",
       "count                      20.00000                              20.00000  \n",
       "mean                        0.35000                               0.65000  \n",
       "std                         0.48936                               0.48936  \n",
       "min                         0.00000                               0.00000  \n",
       "25%                         0.00000                               0.00000  \n",
       "50%                         0.00000                               1.00000  \n",
       "75%                         1.00000                               1.00000  \n",
       "max                         1.00000                               1.00000  "
      ]
     },
     "execution_count": 91,
     "metadata": {},
     "output_type": "execute_result"
    }
   ],
   "source": [
    "latitude_over54.describe()"
   ]
  },
  {
   "cell_type": "code",
   "execution_count": 92,
   "metadata": {},
   "outputs": [
    {
     "data": {
      "text/html": [
       "<div>\n",
       "<style scoped>\n",
       "    .dataframe tbody tr th:only-of-type {\n",
       "        vertical-align: middle;\n",
       "    }\n",
       "\n",
       "    .dataframe tbody tr th {\n",
       "        vertical-align: top;\n",
       "    }\n",
       "\n",
       "    .dataframe thead th {\n",
       "        text-align: right;\n",
       "    }\n",
       "</style>\n",
       "<table border=\"1\" class=\"dataframe\">\n",
       "  <thead>\n",
       "    <tr style=\"text-align: right;\">\n",
       "      <th></th>\n",
       "      <th>Luas_quantity</th>\n",
       "      <th>Bus_quantity</th>\n",
       "      <th>Train_quantity</th>\n",
       "      <th>PS_quantity</th>\n",
       "      <th>SS_quantity</th>\n",
       "      <th>Garda_quantity</th>\n",
       "      <th>Price</th>\n",
       "      <th>VAT_exclusive</th>\n",
       "      <th>Longitude</th>\n",
       "      <th>Latitude</th>\n",
       "      <th>New_Dwelling_House_Apartment</th>\n",
       "      <th>Second_Hand_Dwelling_House_Apartment</th>\n",
       "    </tr>\n",
       "  </thead>\n",
       "  <tbody>\n",
       "    <tr>\n",
       "      <th>count</th>\n",
       "      <td>104.0</td>\n",
       "      <td>104.0</td>\n",
       "      <td>104.0</td>\n",
       "      <td>104.0</td>\n",
       "      <td>104.0</td>\n",
       "      <td>104.0</td>\n",
       "      <td>1.040000e+02</td>\n",
       "      <td>104.000000</td>\n",
       "      <td>104.000000</td>\n",
       "      <td>104.000000</td>\n",
       "      <td>104.000000</td>\n",
       "      <td>104.000000</td>\n",
       "    </tr>\n",
       "    <tr>\n",
       "      <th>mean</th>\n",
       "      <td>0.0</td>\n",
       "      <td>0.0</td>\n",
       "      <td>0.0</td>\n",
       "      <td>0.0</td>\n",
       "      <td>0.0</td>\n",
       "      <td>0.0</td>\n",
       "      <td>4.107579e+05</td>\n",
       "      <td>0.221154</td>\n",
       "      <td>-56.328222</td>\n",
       "      <td>40.038852</td>\n",
       "      <td>0.211538</td>\n",
       "      <td>0.788462</td>\n",
       "    </tr>\n",
       "    <tr>\n",
       "      <th>std</th>\n",
       "      <td>0.0</td>\n",
       "      <td>0.0</td>\n",
       "      <td>0.0</td>\n",
       "      <td>0.0</td>\n",
       "      <td>0.0</td>\n",
       "      <td>0.0</td>\n",
       "      <td>3.239999e+05</td>\n",
       "      <td>0.417034</td>\n",
       "      <td>53.007772</td>\n",
       "      <td>14.670190</td>\n",
       "      <td>0.410377</td>\n",
       "      <td>0.410377</td>\n",
       "    </tr>\n",
       "    <tr>\n",
       "      <th>min</th>\n",
       "      <td>0.0</td>\n",
       "      <td>0.0</td>\n",
       "      <td>0.0</td>\n",
       "      <td>0.0</td>\n",
       "      <td>0.0</td>\n",
       "      <td>0.0</td>\n",
       "      <td>1.150000e+05</td>\n",
       "      <td>0.000000</td>\n",
       "      <td>-122.675026</td>\n",
       "      <td>-37.857255</td>\n",
       "      <td>0.000000</td>\n",
       "      <td>0.000000</td>\n",
       "    </tr>\n",
       "    <tr>\n",
       "      <th>25%</th>\n",
       "      <td>0.0</td>\n",
       "      <td>0.0</td>\n",
       "      <td>0.0</td>\n",
       "      <td>0.0</td>\n",
       "      <td>0.0</td>\n",
       "      <td>0.0</td>\n",
       "      <td>2.395000e+05</td>\n",
       "      <td>0.000000</td>\n",
       "      <td>-87.346565</td>\n",
       "      <td>38.401070</td>\n",
       "      <td>0.000000</td>\n",
       "      <td>1.000000</td>\n",
       "    </tr>\n",
       "    <tr>\n",
       "      <th>50%</th>\n",
       "      <td>0.0</td>\n",
       "      <td>0.0</td>\n",
       "      <td>0.0</td>\n",
       "      <td>0.0</td>\n",
       "      <td>0.0</td>\n",
       "      <td>0.0</td>\n",
       "      <td>3.020950e+05</td>\n",
       "      <td>0.000000</td>\n",
       "      <td>-74.701368</td>\n",
       "      <td>40.776030</td>\n",
       "      <td>0.000000</td>\n",
       "      <td>1.000000</td>\n",
       "    </tr>\n",
       "    <tr>\n",
       "      <th>75%</th>\n",
       "      <td>0.0</td>\n",
       "      <td>0.0</td>\n",
       "      <td>0.0</td>\n",
       "      <td>0.0</td>\n",
       "      <td>0.0</td>\n",
       "      <td>0.0</td>\n",
       "      <td>4.100000e+05</td>\n",
       "      <td>0.000000</td>\n",
       "      <td>-8.560870</td>\n",
       "      <td>49.894067</td>\n",
       "      <td>0.000000</td>\n",
       "      <td>1.000000</td>\n",
       "    </tr>\n",
       "    <tr>\n",
       "      <th>max</th>\n",
       "      <td>0.0</td>\n",
       "      <td>0.0</td>\n",
       "      <td>0.0</td>\n",
       "      <td>0.0</td>\n",
       "      <td>0.0</td>\n",
       "      <td>0.0</td>\n",
       "      <td>1.766388e+06</td>\n",
       "      <td>1.000000</td>\n",
       "      <td>152.972980</td>\n",
       "      <td>52.994295</td>\n",
       "      <td>1.000000</td>\n",
       "      <td>1.000000</td>\n",
       "    </tr>\n",
       "  </tbody>\n",
       "</table>\n",
       "</div>"
      ],
      "text/plain": [
       "       Luas_quantity  Bus_quantity  Train_quantity  PS_quantity  SS_quantity  \\\n",
       "count          104.0         104.0           104.0        104.0        104.0   \n",
       "mean             0.0           0.0             0.0          0.0          0.0   \n",
       "std              0.0           0.0             0.0          0.0          0.0   \n",
       "min              0.0           0.0             0.0          0.0          0.0   \n",
       "25%              0.0           0.0             0.0          0.0          0.0   \n",
       "50%              0.0           0.0             0.0          0.0          0.0   \n",
       "75%              0.0           0.0             0.0          0.0          0.0   \n",
       "max              0.0           0.0             0.0          0.0          0.0   \n",
       "\n",
       "       Garda_quantity         Price  VAT_exclusive   Longitude    Latitude  \\\n",
       "count           104.0  1.040000e+02     104.000000  104.000000  104.000000   \n",
       "mean              0.0  4.107579e+05       0.221154  -56.328222   40.038852   \n",
       "std               0.0  3.239999e+05       0.417034   53.007772   14.670190   \n",
       "min               0.0  1.150000e+05       0.000000 -122.675026  -37.857255   \n",
       "25%               0.0  2.395000e+05       0.000000  -87.346565   38.401070   \n",
       "50%               0.0  3.020950e+05       0.000000  -74.701368   40.776030   \n",
       "75%               0.0  4.100000e+05       0.000000   -8.560870   49.894067   \n",
       "max               0.0  1.766388e+06       1.000000  152.972980   52.994295   \n",
       "\n",
       "       New_Dwelling_House_Apartment  Second_Hand_Dwelling_House_Apartment  \n",
       "count                    104.000000                            104.000000  \n",
       "mean                       0.211538                              0.788462  \n",
       "std                        0.410377                              0.410377  \n",
       "min                        0.000000                              0.000000  \n",
       "25%                        0.000000                              1.000000  \n",
       "50%                        0.000000                              1.000000  \n",
       "75%                        0.000000                              1.000000  \n",
       "max                        1.000000                              1.000000  "
      ]
     },
     "execution_count": 92,
     "metadata": {},
     "output_type": "execute_result"
    }
   ],
   "source": [
    "latitude_less53.describe()"
   ]
  },
  {
   "cell_type": "code",
   "execution_count": 93,
   "metadata": {},
   "outputs": [
    {
     "data": {
      "text/html": [
       "<div>\n",
       "<style scoped>\n",
       "    .dataframe tbody tr th:only-of-type {\n",
       "        vertical-align: middle;\n",
       "    }\n",
       "\n",
       "    .dataframe tbody tr th {\n",
       "        vertical-align: top;\n",
       "    }\n",
       "\n",
       "    .dataframe thead th {\n",
       "        text-align: right;\n",
       "    }\n",
       "</style>\n",
       "<table border=\"1\" class=\"dataframe\">\n",
       "  <thead>\n",
       "    <tr style=\"text-align: right;\">\n",
       "      <th></th>\n",
       "      <th>Luas_quantity</th>\n",
       "      <th>Bus_quantity</th>\n",
       "      <th>Train_quantity</th>\n",
       "      <th>PS_quantity</th>\n",
       "      <th>SS_quantity</th>\n",
       "      <th>Garda_quantity</th>\n",
       "      <th>Price</th>\n",
       "      <th>VAT_exclusive</th>\n",
       "      <th>Longitude</th>\n",
       "      <th>Latitude</th>\n",
       "      <th>New_Dwelling_House_Apartment</th>\n",
       "      <th>Second_Hand_Dwelling_House_Apartment</th>\n",
       "    </tr>\n",
       "  </thead>\n",
       "  <tbody>\n",
       "    <tr>\n",
       "      <th>count</th>\n",
       "      <td>101.0</td>\n",
       "      <td>101.0</td>\n",
       "      <td>101.0</td>\n",
       "      <td>101.0</td>\n",
       "      <td>101.0</td>\n",
       "      <td>101.0</td>\n",
       "      <td>1.010000e+02</td>\n",
       "      <td>101.000000</td>\n",
       "      <td>101.000000</td>\n",
       "      <td>101.000000</td>\n",
       "      <td>101.000000</td>\n",
       "      <td>101.000000</td>\n",
       "    </tr>\n",
       "    <tr>\n",
       "      <th>mean</th>\n",
       "      <td>0.0</td>\n",
       "      <td>0.0</td>\n",
       "      <td>0.0</td>\n",
       "      <td>0.0</td>\n",
       "      <td>0.0</td>\n",
       "      <td>0.0</td>\n",
       "      <td>4.060971e+05</td>\n",
       "      <td>0.207921</td>\n",
       "      <td>-63.547284</td>\n",
       "      <td>42.651330</td>\n",
       "      <td>0.247525</td>\n",
       "      <td>0.752475</td>\n",
       "    </tr>\n",
       "    <tr>\n",
       "      <th>std</th>\n",
       "      <td>0.0</td>\n",
       "      <td>0.0</td>\n",
       "      <td>0.0</td>\n",
       "      <td>0.0</td>\n",
       "      <td>0.0</td>\n",
       "      <td>0.0</td>\n",
       "      <td>3.355176e+05</td>\n",
       "      <td>0.407844</td>\n",
       "      <td>38.105272</td>\n",
       "      <td>8.030063</td>\n",
       "      <td>0.433727</td>\n",
       "      <td>0.433727</td>\n",
       "    </tr>\n",
       "    <tr>\n",
       "      <th>min</th>\n",
       "      <td>0.0</td>\n",
       "      <td>0.0</td>\n",
       "      <td>0.0</td>\n",
       "      <td>0.0</td>\n",
       "      <td>0.0</td>\n",
       "      <td>0.0</td>\n",
       "      <td>9.500000e+04</td>\n",
       "      <td>0.000000</td>\n",
       "      <td>-122.675026</td>\n",
       "      <td>25.863214</td>\n",
       "      <td>0.000000</td>\n",
       "      <td>0.000000</td>\n",
       "    </tr>\n",
       "    <tr>\n",
       "      <th>25%</th>\n",
       "      <td>0.0</td>\n",
       "      <td>0.0</td>\n",
       "      <td>0.0</td>\n",
       "      <td>0.0</td>\n",
       "      <td>0.0</td>\n",
       "      <td>0.0</td>\n",
       "      <td>2.150000e+05</td>\n",
       "      <td>0.000000</td>\n",
       "      <td>-87.788719</td>\n",
       "      <td>39.083997</td>\n",
       "      <td>0.000000</td>\n",
       "      <td>1.000000</td>\n",
       "    </tr>\n",
       "    <tr>\n",
       "      <th>50%</th>\n",
       "      <td>0.0</td>\n",
       "      <td>0.0</td>\n",
       "      <td>0.0</td>\n",
       "      <td>0.0</td>\n",
       "      <td>0.0</td>\n",
       "      <td>0.0</td>\n",
       "      <td>2.970000e+05</td>\n",
       "      <td>0.000000</td>\n",
       "      <td>-75.118187</td>\n",
       "      <td>40.844985</td>\n",
       "      <td>0.000000</td>\n",
       "      <td>1.000000</td>\n",
       "    </tr>\n",
       "    <tr>\n",
       "      <th>75%</th>\n",
       "      <td>0.0</td>\n",
       "      <td>0.0</td>\n",
       "      <td>0.0</td>\n",
       "      <td>0.0</td>\n",
       "      <td>0.0</td>\n",
       "      <td>0.0</td>\n",
       "      <td>4.317180e+05</td>\n",
       "      <td>0.000000</td>\n",
       "      <td>-9.381351</td>\n",
       "      <td>52.682823</td>\n",
       "      <td>0.000000</td>\n",
       "      <td>1.000000</td>\n",
       "    </tr>\n",
       "    <tr>\n",
       "      <th>max</th>\n",
       "      <td>0.0</td>\n",
       "      <td>0.0</td>\n",
       "      <td>0.0</td>\n",
       "      <td>0.0</td>\n",
       "      <td>0.0</td>\n",
       "      <td>0.0</td>\n",
       "      <td>1.766388e+06</td>\n",
       "      <td>1.000000</td>\n",
       "      <td>-7.312264</td>\n",
       "      <td>55.135019</td>\n",
       "      <td>1.000000</td>\n",
       "      <td>1.000000</td>\n",
       "    </tr>\n",
       "  </tbody>\n",
       "</table>\n",
       "</div>"
      ],
      "text/plain": [
       "       Luas_quantity  Bus_quantity  Train_quantity  PS_quantity  SS_quantity  \\\n",
       "count          101.0         101.0           101.0        101.0        101.0   \n",
       "mean             0.0           0.0             0.0          0.0          0.0   \n",
       "std              0.0           0.0             0.0          0.0          0.0   \n",
       "min              0.0           0.0             0.0          0.0          0.0   \n",
       "25%              0.0           0.0             0.0          0.0          0.0   \n",
       "50%              0.0           0.0             0.0          0.0          0.0   \n",
       "75%              0.0           0.0             0.0          0.0          0.0   \n",
       "max              0.0           0.0             0.0          0.0          0.0   \n",
       "\n",
       "       Garda_quantity         Price  VAT_exclusive   Longitude    Latitude  \\\n",
       "count           101.0  1.010000e+02     101.000000  101.000000  101.000000   \n",
       "mean              0.0  4.060971e+05       0.207921  -63.547284   42.651330   \n",
       "std               0.0  3.355176e+05       0.407844   38.105272    8.030063   \n",
       "min               0.0  9.500000e+04       0.000000 -122.675026   25.863214   \n",
       "25%               0.0  2.150000e+05       0.000000  -87.788719   39.083997   \n",
       "50%               0.0  2.970000e+05       0.000000  -75.118187   40.844985   \n",
       "75%               0.0  4.317180e+05       0.000000   -9.381351   52.682823   \n",
       "max               0.0  1.766388e+06       1.000000   -7.312264   55.135019   \n",
       "\n",
       "       New_Dwelling_House_Apartment  Second_Hand_Dwelling_House_Apartment  \n",
       "count                    101.000000                            101.000000  \n",
       "mean                       0.247525                              0.752475  \n",
       "std                        0.433727                              0.433727  \n",
       "min                        0.000000                              0.000000  \n",
       "25%                        0.000000                              1.000000  \n",
       "50%                        0.000000                              1.000000  \n",
       "75%                        0.000000                              1.000000  \n",
       "max                        1.000000                              1.000000  "
      ]
     },
     "execution_count": 93,
     "metadata": {},
     "output_type": "execute_result"
    }
   ],
   "source": [
    "longitude_lessminus7.describe()"
   ]
  },
  {
   "cell_type": "code",
   "execution_count": 94,
   "metadata": {},
   "outputs": [
    {
     "data": {
      "text/html": [
       "<div>\n",
       "<style scoped>\n",
       "    .dataframe tbody tr th:only-of-type {\n",
       "        vertical-align: middle;\n",
       "    }\n",
       "\n",
       "    .dataframe tbody tr th {\n",
       "        vertical-align: top;\n",
       "    }\n",
       "\n",
       "    .dataframe thead th {\n",
       "        text-align: right;\n",
       "    }\n",
       "</style>\n",
       "<table border=\"1\" class=\"dataframe\">\n",
       "  <thead>\n",
       "    <tr style=\"text-align: right;\">\n",
       "      <th></th>\n",
       "      <th>Luas_quantity</th>\n",
       "      <th>Bus_quantity</th>\n",
       "      <th>Train_quantity</th>\n",
       "      <th>PS_quantity</th>\n",
       "      <th>SS_quantity</th>\n",
       "      <th>Garda_quantity</th>\n",
       "      <th>Price</th>\n",
       "      <th>VAT_exclusive</th>\n",
       "      <th>Longitude</th>\n",
       "      <th>Latitude</th>\n",
       "      <th>New_Dwelling_House_Apartment</th>\n",
       "      <th>Second_Hand_Dwelling_House_Apartment</th>\n",
       "    </tr>\n",
       "  </thead>\n",
       "  <tbody>\n",
       "    <tr>\n",
       "      <th>count</th>\n",
       "      <td>28.0</td>\n",
       "      <td>28.0</td>\n",
       "      <td>28.0</td>\n",
       "      <td>28.0</td>\n",
       "      <td>28.0</td>\n",
       "      <td>28.0</td>\n",
       "      <td>2.800000e+01</td>\n",
       "      <td>28.000000</td>\n",
       "      <td>28.000000</td>\n",
       "      <td>28.000000</td>\n",
       "      <td>28.000000</td>\n",
       "      <td>28.000000</td>\n",
       "    </tr>\n",
       "    <tr>\n",
       "      <th>mean</th>\n",
       "      <td>0.0</td>\n",
       "      <td>0.0</td>\n",
       "      <td>0.0</td>\n",
       "      <td>0.0</td>\n",
       "      <td>0.0</td>\n",
       "      <td>0.0</td>\n",
       "      <td>4.305264e+05</td>\n",
       "      <td>0.178571</td>\n",
       "      <td>14.595326</td>\n",
       "      <td>44.037333</td>\n",
       "      <td>0.214286</td>\n",
       "      <td>0.785714</td>\n",
       "    </tr>\n",
       "    <tr>\n",
       "      <th>std</th>\n",
       "      <td>0.0</td>\n",
       "      <td>0.0</td>\n",
       "      <td>0.0</td>\n",
       "      <td>0.0</td>\n",
       "      <td>0.0</td>\n",
       "      <td>0.0</td>\n",
       "      <td>3.247776e+05</td>\n",
       "      <td>0.390021</td>\n",
       "      <td>47.775835</td>\n",
       "      <td>27.371986</td>\n",
       "      <td>0.417855</td>\n",
       "      <td>0.417855</td>\n",
       "    </tr>\n",
       "    <tr>\n",
       "      <th>min</th>\n",
       "      <td>0.0</td>\n",
       "      <td>0.0</td>\n",
       "      <td>0.0</td>\n",
       "      <td>0.0</td>\n",
       "      <td>0.0</td>\n",
       "      <td>0.0</td>\n",
       "      <td>1.800000e+05</td>\n",
       "      <td>0.000000</td>\n",
       "      <td>-5.945565</td>\n",
       "      <td>-37.857255</td>\n",
       "      <td>0.000000</td>\n",
       "      <td>0.000000</td>\n",
       "    </tr>\n",
       "    <tr>\n",
       "      <th>25%</th>\n",
       "      <td>0.0</td>\n",
       "      <td>0.0</td>\n",
       "      <td>0.0</td>\n",
       "      <td>0.0</td>\n",
       "      <td>0.0</td>\n",
       "      <td>0.0</td>\n",
       "      <td>2.592500e+05</td>\n",
       "      <td>0.000000</td>\n",
       "      <td>-4.320162</td>\n",
       "      <td>49.894067</td>\n",
       "      <td>0.000000</td>\n",
       "      <td>1.000000</td>\n",
       "    </tr>\n",
       "    <tr>\n",
       "      <th>50%</th>\n",
       "      <td>0.0</td>\n",
       "      <td>0.0</td>\n",
       "      <td>0.0</td>\n",
       "      <td>0.0</td>\n",
       "      <td>0.0</td>\n",
       "      <td>0.0</td>\n",
       "      <td>3.200000e+05</td>\n",
       "      <td>0.000000</td>\n",
       "      <td>-1.616687</td>\n",
       "      <td>53.041960</td>\n",
       "      <td>0.000000</td>\n",
       "      <td>1.000000</td>\n",
       "    </tr>\n",
       "    <tr>\n",
       "      <th>75%</th>\n",
       "      <td>0.0</td>\n",
       "      <td>0.0</td>\n",
       "      <td>0.0</td>\n",
       "      <td>0.0</td>\n",
       "      <td>0.0</td>\n",
       "      <td>0.0</td>\n",
       "      <td>4.125000e+05</td>\n",
       "      <td>0.000000</td>\n",
       "      <td>2.295753</td>\n",
       "      <td>55.239455</td>\n",
       "      <td>0.000000</td>\n",
       "      <td>1.000000</td>\n",
       "    </tr>\n",
       "    <tr>\n",
       "      <th>max</th>\n",
       "      <td>0.0</td>\n",
       "      <td>0.0</td>\n",
       "      <td>0.0</td>\n",
       "      <td>0.0</td>\n",
       "      <td>0.0</td>\n",
       "      <td>0.0</td>\n",
       "      <td>1.690000e+06</td>\n",
       "      <td>1.000000</td>\n",
       "      <td>152.972980</td>\n",
       "      <td>56.415157</td>\n",
       "      <td>1.000000</td>\n",
       "      <td>1.000000</td>\n",
       "    </tr>\n",
       "  </tbody>\n",
       "</table>\n",
       "</div>"
      ],
      "text/plain": [
       "       Luas_quantity  Bus_quantity  Train_quantity  PS_quantity  SS_quantity  \\\n",
       "count           28.0          28.0            28.0         28.0         28.0   \n",
       "mean             0.0           0.0             0.0          0.0          0.0   \n",
       "std              0.0           0.0             0.0          0.0          0.0   \n",
       "min              0.0           0.0             0.0          0.0          0.0   \n",
       "25%              0.0           0.0             0.0          0.0          0.0   \n",
       "50%              0.0           0.0             0.0          0.0          0.0   \n",
       "75%              0.0           0.0             0.0          0.0          0.0   \n",
       "max              0.0           0.0             0.0          0.0          0.0   \n",
       "\n",
       "       Garda_quantity         Price  VAT_exclusive   Longitude   Latitude  \\\n",
       "count            28.0  2.800000e+01      28.000000   28.000000  28.000000   \n",
       "mean              0.0  4.305264e+05       0.178571   14.595326  44.037333   \n",
       "std               0.0  3.247776e+05       0.390021   47.775835  27.371986   \n",
       "min               0.0  1.800000e+05       0.000000   -5.945565 -37.857255   \n",
       "25%               0.0  2.592500e+05       0.000000   -4.320162  49.894067   \n",
       "50%               0.0  3.200000e+05       0.000000   -1.616687  53.041960   \n",
       "75%               0.0  4.125000e+05       0.000000    2.295753  55.239455   \n",
       "max               0.0  1.690000e+06       1.000000  152.972980  56.415157   \n",
       "\n",
       "       New_Dwelling_House_Apartment  Second_Hand_Dwelling_House_Apartment  \n",
       "count                     28.000000                             28.000000  \n",
       "mean                       0.214286                              0.785714  \n",
       "std                        0.417855                              0.417855  \n",
       "min                        0.000000                              0.000000  \n",
       "25%                        0.000000                              1.000000  \n",
       "50%                        0.000000                              1.000000  \n",
       "75%                        0.000000                              1.000000  \n",
       "max                        1.000000                              1.000000  "
      ]
     },
     "execution_count": 94,
     "metadata": {},
     "output_type": "execute_result"
    }
   ],
   "source": [
    "longitude_greaterminus6.describe()"
   ]
  },
  {
   "cell_type": "markdown",
   "metadata": {},
   "source": [
    "All these Latitudes and Longitudes are definitely wrong, so we will be dropping these entries:"
   ]
  },
  {
   "cell_type": "code",
   "execution_count": 95,
   "metadata": {},
   "outputs": [],
   "source": [
    "df3 = df2[(df2['Latitude'] > 53)]"
   ]
  },
  {
   "cell_type": "code",
   "execution_count": 96,
   "metadata": {},
   "outputs": [
    {
     "data": {
      "text/plain": [
       "(43424, 12)"
      ]
     },
     "execution_count": 96,
     "metadata": {},
     "output_type": "execute_result"
    }
   ],
   "source": [
    "df3.shape"
   ]
  },
  {
   "cell_type": "code",
   "execution_count": 97,
   "metadata": {},
   "outputs": [
    {
     "data": {
      "text/plain": [
       "count    43424.000000\n",
       "mean        53.352962\n",
       "std          0.084828\n",
       "min         53.016029\n",
       "25%         53.294227\n",
       "50%         53.342892\n",
       "75%         53.388046\n",
       "max         56.415157\n",
       "Name: Latitude, dtype: float64"
      ]
     },
     "execution_count": 97,
     "metadata": {},
     "output_type": "execute_result"
    }
   ],
   "source": [
    "df3.Latitude.describe()"
   ]
  },
  {
   "cell_type": "code",
   "execution_count": 98,
   "metadata": {},
   "outputs": [],
   "source": [
    "df4 = df3[(df3['Latitude'] < 54)]"
   ]
  },
  {
   "cell_type": "code",
   "execution_count": 99,
   "metadata": {},
   "outputs": [
    {
     "data": {
      "text/plain": [
       "(43404, 12)"
      ]
     },
     "execution_count": 99,
     "metadata": {},
     "output_type": "execute_result"
    }
   ],
   "source": [
    "df4.shape"
   ]
  },
  {
   "cell_type": "code",
   "execution_count": 100,
   "metadata": {},
   "outputs": [
    {
     "data": {
      "text/plain": [
       "count    43404.000000\n",
       "mean        53.352114\n",
       "std          0.073313\n",
       "min         53.016029\n",
       "25%         53.294198\n",
       "50%         53.342823\n",
       "75%         53.388007\n",
       "max         53.968158\n",
       "Name: Latitude, dtype: float64"
      ]
     },
     "execution_count": 100,
     "metadata": {},
     "output_type": "execute_result"
    }
   ],
   "source": [
    "df4.Latitude.describe()"
   ]
  },
  {
   "cell_type": "code",
   "execution_count": 101,
   "metadata": {},
   "outputs": [],
   "source": [
    "df5 = df4[(df4['Longitude'] > -7)]"
   ]
  },
  {
   "cell_type": "code",
   "execution_count": 102,
   "metadata": {},
   "outputs": [
    {
     "data": {
      "text/plain": [
       "(43393, 12)"
      ]
     },
     "execution_count": 102,
     "metadata": {},
     "output_type": "execute_result"
    }
   ],
   "source": [
    "df5.shape"
   ]
  },
  {
   "cell_type": "code",
   "execution_count": 103,
   "metadata": {},
   "outputs": [
    {
     "data": {
      "text/plain": [
       "count    43393.000000\n",
       "mean        -6.269044\n",
       "std          0.113424\n",
       "min         -6.908180\n",
       "25%         -6.328327\n",
       "50%         -6.258499\n",
       "75%         -6.200048\n",
       "max          6.440954\n",
       "Name: Longitude, dtype: float64"
      ]
     },
     "execution_count": 103,
     "metadata": {},
     "output_type": "execute_result"
    }
   ],
   "source": [
    "df5.Longitude.describe()"
   ]
  },
  {
   "cell_type": "code",
   "execution_count": 104,
   "metadata": {},
   "outputs": [],
   "source": [
    "df6 = df5[(df5['Longitude'] < -6)]"
   ]
  },
  {
   "cell_type": "code",
   "execution_count": 105,
   "metadata": {},
   "outputs": [
    {
     "data": {
      "text/plain": [
       "(43392, 12)"
      ]
     },
     "execution_count": 105,
     "metadata": {},
     "output_type": "execute_result"
    }
   ],
   "source": [
    "df6.shape"
   ]
  },
  {
   "cell_type": "code",
   "execution_count": 106,
   "metadata": {},
   "outputs": [
    {
     "data": {
      "text/plain": [
       "count    43392.000000\n",
       "mean        -6.269336\n",
       "std          0.095615\n",
       "min         -6.908180\n",
       "25%         -6.328328\n",
       "50%         -6.258501\n",
       "75%         -6.200054\n",
       "max         -6.048917\n",
       "Name: Longitude, dtype: float64"
      ]
     },
     "execution_count": 106,
     "metadata": {},
     "output_type": "execute_result"
    }
   ],
   "source": [
    "df6.Longitude.describe()"
   ]
  },
  {
   "cell_type": "markdown",
   "metadata": {},
   "source": [
    "Comparing number of rows before and after deleting the wrong number for latitude and longitude"
   ]
  },
  {
   "cell_type": "code",
   "execution_count": 107,
   "metadata": {},
   "outputs": [
    {
     "data": {
      "text/plain": [
       "(43528, 12)"
      ]
     },
     "execution_count": 107,
     "metadata": {},
     "output_type": "execute_result"
    }
   ],
   "source": [
    "df2.shape"
   ]
  },
  {
   "cell_type": "code",
   "execution_count": 108,
   "metadata": {},
   "outputs": [
    {
     "data": {
      "text/plain": [
       "(43392, 12)"
      ]
     },
     "execution_count": 108,
     "metadata": {},
     "output_type": "execute_result"
    }
   ],
   "source": [
    "df6.shape"
   ]
  },
  {
   "cell_type": "markdown",
   "metadata": {},
   "source": [
    "We can see that there was 130 rows deleted. Let's see the final dataset:"
   ]
  },
  {
   "cell_type": "code",
   "execution_count": 109,
   "metadata": {},
   "outputs": [
    {
     "name": "stdout",
     "output_type": "stream",
     "text": [
      "<class 'pandas.core.frame.DataFrame'>\n",
      "Int64Index: 43392 entries, 4 to 46400\n",
      "Data columns (total 12 columns):\n",
      " #   Column                                Non-Null Count  Dtype  \n",
      "---  ------                                --------------  -----  \n",
      " 0   Luas_quantity                         43392 non-null  int64  \n",
      " 1   Bus_quantity                          43392 non-null  int64  \n",
      " 2   Train_quantity                        43392 non-null  int64  \n",
      " 3   PS_quantity                           43392 non-null  int64  \n",
      " 4   SS_quantity                           43392 non-null  int64  \n",
      " 5   Garda_quantity                        43392 non-null  int64  \n",
      " 6   Price                                 43392 non-null  float64\n",
      " 7   VAT_exclusive                         43392 non-null  int64  \n",
      " 8   Longitude                             43392 non-null  float64\n",
      " 9   Latitude                              43392 non-null  float64\n",
      " 10  New_Dwelling_House_Apartment          43392 non-null  int32  \n",
      " 11  Second_Hand_Dwelling_House_Apartment  43392 non-null  int32  \n",
      "dtypes: float64(3), int32(2), int64(7)\n",
      "memory usage: 4.0 MB\n"
     ]
    }
   ],
   "source": [
    "df6.info()"
   ]
  },
  {
   "cell_type": "code",
   "execution_count": 110,
   "metadata": {},
   "outputs": [
    {
     "data": {
      "text/html": [
       "<div>\n",
       "<style scoped>\n",
       "    .dataframe tbody tr th:only-of-type {\n",
       "        vertical-align: middle;\n",
       "    }\n",
       "\n",
       "    .dataframe tbody tr th {\n",
       "        vertical-align: top;\n",
       "    }\n",
       "\n",
       "    .dataframe thead th {\n",
       "        text-align: right;\n",
       "    }\n",
       "</style>\n",
       "<table border=\"1\" class=\"dataframe\">\n",
       "  <thead>\n",
       "    <tr style=\"text-align: right;\">\n",
       "      <th></th>\n",
       "      <th>Luas_quantity</th>\n",
       "      <th>Bus_quantity</th>\n",
       "      <th>Train_quantity</th>\n",
       "      <th>PS_quantity</th>\n",
       "      <th>SS_quantity</th>\n",
       "      <th>Garda_quantity</th>\n",
       "      <th>Price</th>\n",
       "      <th>VAT_exclusive</th>\n",
       "      <th>Longitude</th>\n",
       "      <th>Latitude</th>\n",
       "      <th>New_Dwelling_House_Apartment</th>\n",
       "      <th>Second_Hand_Dwelling_House_Apartment</th>\n",
       "    </tr>\n",
       "  </thead>\n",
       "  <tbody>\n",
       "    <tr>\n",
       "      <th>count</th>\n",
       "      <td>43392.000000</td>\n",
       "      <td>43392.000000</td>\n",
       "      <td>43392.000000</td>\n",
       "      <td>43392.000000</td>\n",
       "      <td>43392.000000</td>\n",
       "      <td>43392.000000</td>\n",
       "      <td>4.339200e+04</td>\n",
       "      <td>43392.000000</td>\n",
       "      <td>43392.000000</td>\n",
       "      <td>43392.000000</td>\n",
       "      <td>43392.000000</td>\n",
       "      <td>43392.000000</td>\n",
       "    </tr>\n",
       "    <tr>\n",
       "      <th>mean</th>\n",
       "      <td>1.653231</td>\n",
       "      <td>52.232393</td>\n",
       "      <td>0.413555</td>\n",
       "      <td>3.232117</td>\n",
       "      <td>1.424364</td>\n",
       "      <td>0.397078</td>\n",
       "      <td>4.061754e+05</td>\n",
       "      <td>0.240136</td>\n",
       "      <td>-6.269336</td>\n",
       "      <td>53.352115</td>\n",
       "      <td>0.238293</td>\n",
       "      <td>0.761707</td>\n",
       "    </tr>\n",
       "    <tr>\n",
       "      <th>std</th>\n",
       "      <td>3.521235</td>\n",
       "      <td>46.834973</td>\n",
       "      <td>0.744732</td>\n",
       "      <td>2.330548</td>\n",
       "      <td>1.245450</td>\n",
       "      <td>0.650880</td>\n",
       "      <td>2.432843e+05</td>\n",
       "      <td>0.427171</td>\n",
       "      <td>0.095615</td>\n",
       "      <td>0.073166</td>\n",
       "      <td>0.426044</td>\n",
       "      <td>0.426044</td>\n",
       "    </tr>\n",
       "    <tr>\n",
       "      <th>min</th>\n",
       "      <td>0.000000</td>\n",
       "      <td>0.000000</td>\n",
       "      <td>0.000000</td>\n",
       "      <td>0.000000</td>\n",
       "      <td>0.000000</td>\n",
       "      <td>0.000000</td>\n",
       "      <td>7.070000e+04</td>\n",
       "      <td>0.000000</td>\n",
       "      <td>-6.908180</td>\n",
       "      <td>53.149884</td>\n",
       "      <td>0.000000</td>\n",
       "      <td>0.000000</td>\n",
       "    </tr>\n",
       "    <tr>\n",
       "      <th>25%</th>\n",
       "      <td>0.000000</td>\n",
       "      <td>25.000000</td>\n",
       "      <td>0.000000</td>\n",
       "      <td>2.000000</td>\n",
       "      <td>0.000000</td>\n",
       "      <td>0.000000</td>\n",
       "      <td>2.599119e+05</td>\n",
       "      <td>0.000000</td>\n",
       "      <td>-6.328328</td>\n",
       "      <td>53.294220</td>\n",
       "      <td>0.000000</td>\n",
       "      <td>1.000000</td>\n",
       "    </tr>\n",
       "    <tr>\n",
       "      <th>50%</th>\n",
       "      <td>0.000000</td>\n",
       "      <td>43.000000</td>\n",
       "      <td>0.000000</td>\n",
       "      <td>3.000000</td>\n",
       "      <td>1.000000</td>\n",
       "      <td>0.000000</td>\n",
       "      <td>3.360000e+05</td>\n",
       "      <td>0.000000</td>\n",
       "      <td>-6.258501</td>\n",
       "      <td>53.342823</td>\n",
       "      <td>0.000000</td>\n",
       "      <td>1.000000</td>\n",
       "    </tr>\n",
       "    <tr>\n",
       "      <th>75%</th>\n",
       "      <td>2.000000</td>\n",
       "      <td>62.000000</td>\n",
       "      <td>1.000000</td>\n",
       "      <td>4.000000</td>\n",
       "      <td>2.000000</td>\n",
       "      <td>1.000000</td>\n",
       "      <td>4.713656e+05</td>\n",
       "      <td>0.000000</td>\n",
       "      <td>-6.200054</td>\n",
       "      <td>53.388007</td>\n",
       "      <td>0.000000</td>\n",
       "      <td>1.000000</td>\n",
       "    </tr>\n",
       "    <tr>\n",
       "      <th>max</th>\n",
       "      <td>22.000000</td>\n",
       "      <td>386.000000</td>\n",
       "      <td>5.000000</td>\n",
       "      <td>13.000000</td>\n",
       "      <td>7.000000</td>\n",
       "      <td>5.000000</td>\n",
       "      <td>1.989282e+06</td>\n",
       "      <td>1.000000</td>\n",
       "      <td>-6.048917</td>\n",
       "      <td>53.968158</td>\n",
       "      <td>1.000000</td>\n",
       "      <td>1.000000</td>\n",
       "    </tr>\n",
       "  </tbody>\n",
       "</table>\n",
       "</div>"
      ],
      "text/plain": [
       "       Luas_quantity  Bus_quantity  Train_quantity   PS_quantity  \\\n",
       "count   43392.000000  43392.000000    43392.000000  43392.000000   \n",
       "mean        1.653231     52.232393        0.413555      3.232117   \n",
       "std         3.521235     46.834973        0.744732      2.330548   \n",
       "min         0.000000      0.000000        0.000000      0.000000   \n",
       "25%         0.000000     25.000000        0.000000      2.000000   \n",
       "50%         0.000000     43.000000        0.000000      3.000000   \n",
       "75%         2.000000     62.000000        1.000000      4.000000   \n",
       "max        22.000000    386.000000        5.000000     13.000000   \n",
       "\n",
       "        SS_quantity  Garda_quantity         Price  VAT_exclusive  \\\n",
       "count  43392.000000    43392.000000  4.339200e+04   43392.000000   \n",
       "mean       1.424364        0.397078  4.061754e+05       0.240136   \n",
       "std        1.245450        0.650880  2.432843e+05       0.427171   \n",
       "min        0.000000        0.000000  7.070000e+04       0.000000   \n",
       "25%        0.000000        0.000000  2.599119e+05       0.000000   \n",
       "50%        1.000000        0.000000  3.360000e+05       0.000000   \n",
       "75%        2.000000        1.000000  4.713656e+05       0.000000   \n",
       "max        7.000000        5.000000  1.989282e+06       1.000000   \n",
       "\n",
       "          Longitude      Latitude  New_Dwelling_House_Apartment  \\\n",
       "count  43392.000000  43392.000000                  43392.000000   \n",
       "mean      -6.269336     53.352115                      0.238293   \n",
       "std        0.095615      0.073166                      0.426044   \n",
       "min       -6.908180     53.149884                      0.000000   \n",
       "25%       -6.328328     53.294220                      0.000000   \n",
       "50%       -6.258501     53.342823                      0.000000   \n",
       "75%       -6.200054     53.388007                      0.000000   \n",
       "max       -6.048917     53.968158                      1.000000   \n",
       "\n",
       "       Second_Hand_Dwelling_House_Apartment  \n",
       "count                          43392.000000  \n",
       "mean                               0.761707  \n",
       "std                                0.426044  \n",
       "min                                0.000000  \n",
       "25%                                1.000000  \n",
       "50%                                1.000000  \n",
       "75%                                1.000000  \n",
       "max                                1.000000  "
      ]
     },
     "execution_count": 110,
     "metadata": {},
     "output_type": "execute_result"
    }
   ],
   "source": [
    "df6.describe()"
   ]
  },
  {
   "cell_type": "markdown",
   "metadata": {},
   "source": [
    "Now that the dataset is ready, will save in a csv file."
   ]
  },
  {
   "cell_type": "code",
   "execution_count": 111,
   "metadata": {},
   "outputs": [],
   "source": [
    "df6.to_csv('data_final2.csv')"
   ]
  },
  {
   "cell_type": "code",
   "execution_count": 112,
   "metadata": {},
   "outputs": [
    {
     "data": {
      "text/plain": [
       "(43392, 12)"
      ]
     },
     "execution_count": 112,
     "metadata": {},
     "output_type": "execute_result"
    }
   ],
   "source": [
    "df6.shape"
   ]
  },
  {
   "cell_type": "markdown",
   "metadata": {},
   "source": [
    "Pati's code:"
   ]
  },
  {
   "cell_type": "code",
   "execution_count": 113,
   "metadata": {},
   "outputs": [],
   "source": [
    "df7 = df6"
   ]
  },
  {
   "cell_type": "code",
   "execution_count": 114,
   "metadata": {},
   "outputs": [
    {
     "data": {
      "text/plain": [
       "(43392, 12)"
      ]
     },
     "execution_count": 114,
     "metadata": {},
     "output_type": "execute_result"
    }
   ],
   "source": [
    "df7.shape"
   ]
  },
  {
   "cell_type": "code",
   "execution_count": 115,
   "metadata": {},
   "outputs": [
    {
     "name": "stderr",
     "output_type": "stream",
     "text": [
      "C:\\ProgramData\\Anaconda3\\lib\\site-packages\\pandas\\core\\frame.py:2963: SettingWithCopyWarning: \n",
      "A value is trying to be set on a copy of a slice from a DataFrame.\n",
      "Try using .loc[row_indexer,col_indexer] = value instead\n",
      "\n",
      "See the caveats in the documentation: https://pandas.pydata.org/pandas-docs/stable/user_guide/indexing.html#returning-a-view-versus-a-copy\n",
      "  self[k1] = value[k2]\n"
     ]
    }
   ],
   "source": [
    "from scipy.stats import skew\n",
    "df_num_skew = df7.apply(lambda x: skew(x.dropna()))\n",
    "df_num_skew = df_num_skew[df_num_skew > .75]\n",
    "\n",
    "# apply log + 1 transformation for all numeric features with skewnes over .75\n",
    "df7[df_num_skew.index] = np.log1p(df7[df_num_skew.index])"
   ]
  },
  {
   "cell_type": "code",
   "execution_count": 116,
   "metadata": {},
   "outputs": [
    {
     "data": {
      "text/plain": [
       "Luas_quantity                   2.626222\n",
       "Bus_quantity                    3.340226\n",
       "Train_quantity                  2.107112\n",
       "PS_quantity                     0.869116\n",
       "SS_quantity                     0.862529\n",
       "Garda_quantity                  2.009574\n",
       "Price                           2.440357\n",
       "VAT_exclusive                   1.216686\n",
       "Latitude                        1.297513\n",
       "New_Dwelling_House_Apartment    1.228560\n",
       "dtype: float64"
      ]
     },
     "execution_count": 116,
     "metadata": {},
     "output_type": "execute_result"
    }
   ],
   "source": [
    "df_num_skew "
   ]
  },
  {
   "cell_type": "code",
   "execution_count": 117,
   "metadata": {},
   "outputs": [
    {
     "name": "stdout",
     "output_type": "stream",
     "text": [
      "                                            min        max       mean\n",
      "Longitude                             -6.908180  -6.048917  -6.269336\n",
      "VAT_exclusive                          0.000000   0.693147   0.166450\n",
      "New_Dwelling_House_Apartment           0.000000   0.693147   0.165172\n",
      "Second_Hand_Dwelling_House_Apartment   0.000000   1.000000   0.761707\n",
      "Train_quantity                         0.000000   1.791759   0.248351\n",
      "Garda_quantity                         0.000000   1.791759   0.252970\n",
      "SS_quantity                            0.000000   2.079442   0.751933\n",
      "PS_quantity                            0.000000   2.639057   1.278309\n",
      "Luas_quantity                          0.000000   3.135494   0.479649\n",
      "Latitude                               3.991756   4.006754   3.995483\n",
      "Bus_quantity                           0.000000   5.958425   3.702344\n",
      "Price                                 11.166215  14.503285  12.783330\n"
     ]
    }
   ],
   "source": [
    "print(df7.describe(include=['number']).loc[['min','max','mean']].T.sort_values('max'))"
   ]
  },
  {
   "cell_type": "code",
   "execution_count": 118,
   "metadata": {},
   "outputs": [
    {
     "name": "stdout",
     "output_type": "stream",
     "text": [
      "Price             1.000000\n",
      "Longitude         0.286374\n",
      "SS_quantity       0.087932\n",
      "Train_quantity    0.063644\n",
      "Bus_quantity      0.035747\n",
      "Name: Price, dtype: float64 \n",
      "\n",
      "New_Dwelling_House_Apartment   -0.011517\n",
      "PS_quantity                    -0.023884\n",
      "Garda_quantity                 -0.032001\n",
      "Luas_quantity                  -0.044268\n",
      "Latitude                       -0.241344\n",
      "Name: Price, dtype: float64\n"
     ]
    }
   ],
   "source": [
    "corr = df7.corr()\n",
    "\n",
    "print (corr['Price'].sort_values(ascending=False)[:5], '\\n')\n",
    "print (corr['Price'].sort_values(ascending=False)[-5:])"
   ]
  },
  {
   "cell_type": "code",
   "execution_count": 119,
   "metadata": {},
   "outputs": [],
   "source": [
    "import seaborn as sns"
   ]
  },
  {
   "cell_type": "code",
   "execution_count": 120,
   "metadata": {},
   "outputs": [
    {
     "name": "stderr",
     "output_type": "stream",
     "text": [
      "C:\\ProgramData\\Anaconda3\\lib\\site-packages\\seaborn\\matrix.py:1201: UserWarning: ``square=True`` ignored in clustermap\n",
      "  warnings.warn(msg)\n"
     ]
    },
    {
     "data": {
      "image/png": "[encoded data removed]",
      "text/plain": [
       "<Figure size 720x720 with 4 Axes>"
      ]
     },
     "metadata": {},
     "output_type": "display_data"
    }
   ],
   "source": [
    "#'Price' Correlation Matrix\n",
    "k = 10\n",
    "cols = corr.nlargest(k , 'Price')['Price'].index\n",
    "cm = np.corrcoef(df7[cols].values.T)\n",
    "sns.set(font_scale = 1.00)\n",
    "hm = sns.clustermap(cm , cmap = \"Greens\",cbar = True,square = True,\n",
    "                 yticklabels = cols.values, xticklabels = cols.values)"
   ]
  },
  {
   "cell_type": "code",
   "execution_count": 121,
   "metadata": {},
   "outputs": [
    {
     "data": {
      "text/plain": [
       "(43392, 12)"
      ]
     },
     "execution_count": 121,
     "metadata": {},
     "output_type": "execute_result"
    }
   ],
   "source": [
    "df7.shape"
   ]
  },
  {
   "cell_type": "code",
   "execution_count": 122,
   "metadata": {},
   "outputs": [
    {
     "name": "stdout",
     "output_type": "stream",
     "text": [
      "Percentiles: 25th=46.647, 75th=53.371, IQR=6.725\n",
      "Identified outliers: 315\n",
      "Non-outlier observations: 43077\n"
     ]
    }
   ],
   "source": [
    "\n",
    "# identify outliers with interquartile range\n",
    "from numpy.random import seed\n",
    "from numpy.random import randn\n",
    "from numpy import percentile\n",
    "# seed the random number generator\n",
    "seed(1)\n",
    "# generate univariate observations\n",
    "df7 = 5 * randn(43392) + 50\n",
    "# calculate interquartile range\n",
    "q25, q75 = percentile(df7, 25), percentile(df7, 75)\n",
    "iqr = q75 - q25\n",
    "print('Percentiles: 25th=%.3f, 75th=%.3f, IQR=%.3f' % (q25, q75, iqr))\n",
    "# calculate the outlier cutoff\n",
    "cut_off = iqr * 1.5\n",
    "lower, upper = q25 - cut_off, q75 + cut_off\n",
    "# identify outliers\n",
    "outliers = [x for x in df7 if x < lower or x > upper]\n",
    "print('Identified outliers: %d' % len(outliers))\n",
    "# remove outliers\n",
    "outliers_removed = [x for x in df7 if x >= lower and x <= upper]\n",
    "print('Non-outlier observations: %d' % len(outliers_removed))\n",
    "\n"
   ]
  },
  {
   "cell_type": "code",
   "execution_count": 137,
   "metadata": {},
   "outputs": [
    {
     "data": {
      "text/html": [
       "<div>\n",
       "<style scoped>\n",
       "    .dataframe tbody tr th:only-of-type {\n",
       "        vertical-align: middle;\n",
       "    }\n",
       "\n",
       "    .dataframe tbody tr th {\n",
       "        vertical-align: top;\n",
       "    }\n",
       "\n",
       "    .dataframe thead th {\n",
       "        text-align: right;\n",
       "    }\n",
       "</style>\n",
       "<table border=\"1\" class=\"dataframe\">\n",
       "  <thead>\n",
       "    <tr style=\"text-align: right;\">\n",
       "      <th></th>\n",
       "      <th>Luas_quantity</th>\n",
       "      <th>Bus_quantity</th>\n",
       "      <th>Train_quantity</th>\n",
       "      <th>PS_quantity</th>\n",
       "      <th>SS_quantity</th>\n",
       "      <th>Garda_quantity</th>\n",
       "      <th>Price</th>\n",
       "      <th>VAT_exclusive</th>\n",
       "      <th>Longitude</th>\n",
       "      <th>Latitude</th>\n",
       "      <th>New_Dwelling_House_Apartment</th>\n",
       "      <th>Second_Hand_Dwelling_House_Apartment</th>\n",
       "    </tr>\n",
       "  </thead>\n",
       "  <tbody>\n",
       "    <tr>\n",
       "      <th>4</th>\n",
       "      <td>0.0</td>\n",
       "      <td>3.526361</td>\n",
       "      <td>0.000000</td>\n",
       "      <td>0.693147</td>\n",
       "      <td>0.000000</td>\n",
       "      <td>0.0</td>\n",
       "      <td>13.629182</td>\n",
       "      <td>0.0</td>\n",
       "      <td>-6.181892</td>\n",
       "      <td>3.995723</td>\n",
       "      <td>0.0</td>\n",
       "      <td>1</td>\n",
       "    </tr>\n",
       "    <tr>\n",
       "      <th>8</th>\n",
       "      <td>0.0</td>\n",
       "      <td>3.496508</td>\n",
       "      <td>0.000000</td>\n",
       "      <td>0.693147</td>\n",
       "      <td>0.000000</td>\n",
       "      <td>0.0</td>\n",
       "      <td>12.793862</td>\n",
       "      <td>0.0</td>\n",
       "      <td>-6.181405</td>\n",
       "      <td>3.995678</td>\n",
       "      <td>0.0</td>\n",
       "      <td>1</td>\n",
       "    </tr>\n",
       "    <tr>\n",
       "      <th>9</th>\n",
       "      <td>0.0</td>\n",
       "      <td>3.610918</td>\n",
       "      <td>0.000000</td>\n",
       "      <td>0.693147</td>\n",
       "      <td>0.000000</td>\n",
       "      <td>0.0</td>\n",
       "      <td>13.353477</td>\n",
       "      <td>0.0</td>\n",
       "      <td>-6.183087</td>\n",
       "      <td>3.995679</td>\n",
       "      <td>0.0</td>\n",
       "      <td>1</td>\n",
       "    </tr>\n",
       "    <tr>\n",
       "      <th>14</th>\n",
       "      <td>0.0</td>\n",
       "      <td>3.988984</td>\n",
       "      <td>0.693147</td>\n",
       "      <td>2.079442</td>\n",
       "      <td>1.098612</td>\n",
       "      <td>0.0</td>\n",
       "      <td>12.468441</td>\n",
       "      <td>0.0</td>\n",
       "      <td>-6.253829</td>\n",
       "      <td>3.995813</td>\n",
       "      <td>0.0</td>\n",
       "      <td>1</td>\n",
       "    </tr>\n",
       "    <tr>\n",
       "      <th>15</th>\n",
       "      <td>0.0</td>\n",
       "      <td>4.143135</td>\n",
       "      <td>0.693147</td>\n",
       "      <td>2.079442</td>\n",
       "      <td>1.609438</td>\n",
       "      <td>0.0</td>\n",
       "      <td>12.834684</td>\n",
       "      <td>0.0</td>\n",
       "      <td>-6.238056</td>\n",
       "      <td>3.995727</td>\n",
       "      <td>0.0</td>\n",
       "      <td>1</td>\n",
       "    </tr>\n",
       "  </tbody>\n",
       "</table>\n",
       "</div>"
      ],
      "text/plain": [
       "    Luas_quantity  Bus_quantity  Train_quantity  PS_quantity  SS_quantity  \\\n",
       "4             0.0      3.526361        0.000000     0.693147     0.000000   \n",
       "8             0.0      3.496508        0.000000     0.693147     0.000000   \n",
       "9             0.0      3.610918        0.000000     0.693147     0.000000   \n",
       "14            0.0      3.988984        0.693147     2.079442     1.098612   \n",
       "15            0.0      4.143135        0.693147     2.079442     1.609438   \n",
       "\n",
       "    Garda_quantity      Price  VAT_exclusive  Longitude  Latitude  \\\n",
       "4              0.0  13.629182            0.0  -6.181892  3.995723   \n",
       "8              0.0  12.793862            0.0  -6.181405  3.995678   \n",
       "9              0.0  13.353477            0.0  -6.183087  3.995679   \n",
       "14             0.0  12.468441            0.0  -6.253829  3.995813   \n",
       "15             0.0  12.834684            0.0  -6.238056  3.995727   \n",
       "\n",
       "    New_Dwelling_House_Apartment  Second_Hand_Dwelling_House_Apartment  \n",
       "4                            0.0                                     1  \n",
       "8                            0.0                                     1  \n",
       "9                            0.0                                     1  \n",
       "14                           0.0                                     1  \n",
       "15                           0.0                                     1  "
      ]
     },
     "execution_count": 137,
     "metadata": {},
     "output_type": "execute_result"
    }
   ],
   "source": [
    "df6.head()"
   ]
  },
  {
   "cell_type": "markdown",
   "metadata": {},
   "source": [
    "Now, let’s plot the relationship of our label Price in relation with the features Luas_quantity, Bus_quantity and Train_quantitty, Garda_quantity, PS_quantitity and SS_quantity."
   ]
  },
  {
   "cell_type": "code",
   "execution_count": 148,
   "metadata": {},
   "outputs": [
    {
     "data": {
      "text/plain": [
       "<seaborn.axisgrid.PairGrid at 0x2046ec2f580>"
      ]
     },
     "execution_count": 148,
     "metadata": {},
     "output_type": "execute_result"
    },
    {
     "data": {
      "text/plain": [
       "<Figure size 1440x360 with 0 Axes>"
      ]
     },
     "metadata": {},
     "output_type": "display_data"
    },
    {
     "data": {
      "image/png": "[encoded data removed]",
      "text/plain": [
       "<Figure size 756x360 with 3 Axes>"
      ]
     },
     "metadata": {},
     "output_type": "display_data"
    }
   ],
   "source": [
    "plt.figure(figsize=(20, 5))\n",
    "sns.pairplot(df6, x_vars=['Luas_quantity', 'Bus_quantity', 'Train_quantity'], y_vars='Price', size=5, aspect=0.7)"
   ]
  },
  {
   "cell_type": "code",
   "execution_count": 151,
   "metadata": {},
   "outputs": [
    {
     "data": {
      "text/plain": [
       "<seaborn.axisgrid.PairGrid at 0x20470f06220>"
      ]
     },
     "execution_count": 151,
     "metadata": {},
     "output_type": "execute_result"
    },
    {
     "data": {
      "text/plain": [
       "<Figure size 1440x360 with 0 Axes>"
      ]
     },
     "metadata": {},
     "output_type": "display_data"
    },
    {
     "data": {
      "image/png": "[encoded data removed]",
      "text/plain": [
       "<Figure size 756x360 with 3 Axes>"
      ]
     },
     "metadata": {},
     "output_type": "display_data"
    }
   ],
   "source": [
    "plt.figure(figsize=(20, 5))\n",
    "sns.pairplot(df6, x_vars=['Garda_quantity','PS_quantity','SS_quantity'], y_vars='Price', size=5, aspect=0.7)"
   ]
  },
  {
   "cell_type": "markdown",
   "metadata": {},
   "source": [
    "We will visualize to see how the latitude and longitude look after the changes done in the dataframe."
   ]
  },
  {
   "cell_type": "code",
   "execution_count": 150,
   "metadata": {},
   "outputs": [
    {
     "name": "stderr",
     "output_type": "stream",
     "text": [
      "*c* argument looks like a single numeric RGB or RGBA sequence, which should be avoided as value-mapping will have precedence in case its length matches with *x* & *y*.  Please use the *color* keyword-argument or provide a 2-D array with a single row if you intend to specify the same RGB or RGBA value for all points.\n"
     ]
    },
    {
     "data": {
      "text/plain": [
       "<Figure size 720x360 with 0 Axes>"
      ]
     },
     "metadata": {},
     "output_type": "display_data"
    },
    {
     "data": {
      "image/png": "[encoded data removed]",
      "text/plain": [
       "<Figure size 720x720 with 1 Axes>"
      ]
     },
     "metadata": {},
     "output_type": "display_data"
    }
   ],
   "source": [
    "plt.figure(figsize=(10, 5))\n",
    "df6.plot(kind=\"scatter\", x=\"Longitude\", y=\"Latitude\", alpha=0.9)\n",
    "plt.show()"
   ]
  },
  {
   "cell_type": "code",
   "execution_count": 136,
   "metadata": {},
   "outputs": [
    {
     "data": {
      "image/png": "[encoded data removed]",
      "text/plain": [
       "<Figure size 720x720 with 2 Axes>"
      ]
     },
     "metadata": {},
     "output_type": "display_data"
    }
   ],
   "source": [
    "plt.rcParams[\"figure.figsize\"]=10,10\n",
    "corrMatrix = df6.corr()\n",
    "sns.heatmap(corrMatrix, annot=True)\n",
    "\n",
    "fig = plt.show()"
   ]
  },
  {
   "cell_type": "code",
   "execution_count": null,
   "metadata": {},
   "outputs": [],
   "source": []
  }
 ],
 "metadata": {
  "kernelspec": {
   "display_name": "Python 3",
   "language": "python",
   "name": "python3"
  },
  "language_info": {
   "codemirror_mode": {
    "name": "ipython",
    "version": 3
   },
   "file_extension": ".py",
   "mimetype": "text/x-python",
   "name": "python",
   "nbconvert_exporter": "python",
   "pygments_lexer": "ipython3",
   "version": "3.8.2"
  }
 },
 "nbformat": 4,
 "nbformat_minor": 4
}
