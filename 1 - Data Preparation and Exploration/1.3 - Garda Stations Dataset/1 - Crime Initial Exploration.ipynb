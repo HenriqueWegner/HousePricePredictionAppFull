{
 "cells": [
  {
   "cell_type": "markdown",
   "metadata": {},
   "source": [
    "#### Code by Leandro Silveira"
   ]
  },
  {
   "cell_type": "code",
   "execution_count": 2,
   "metadata": {},
   "outputs": [],
   "source": [
    "import pandas as pd\n",
    "import numpy as np\n",
    "import seaborn as sns\n",
    "import matplotlib.pyplot as plt"
   ]
  },
  {
   "cell_type": "code",
   "execution_count": 3,
   "metadata": {},
   "outputs": [],
   "source": [
    "df = pd.read_csv('data/CJA07.20210409T030406.csv')"
   ]
  },
  {
   "cell_type": "code",
   "execution_count": 4,
   "metadata": {},
   "outputs": [
    {
     "data": {
      "text/plain": [
       "(1476, 6)"
      ]
     },
     "execution_count": 4,
     "metadata": {},
     "output_type": "execute_result"
    }
   ],
   "source": [
    "df.shape"
   ]
  },
  {
   "cell_type": "code",
   "execution_count": 5,
   "metadata": {},
   "outputs": [
    {
     "data": {
      "text/html": [
       "<div>\n",
       "<style scoped>\n",
       "    .dataframe tbody tr th:only-of-type {\n",
       "        vertical-align: middle;\n",
       "    }\n",
       "\n",
       "    .dataframe tbody tr th {\n",
       "        vertical-align: top;\n",
       "    }\n",
       "\n",
       "    .dataframe thead th {\n",
       "        text-align: right;\n",
       "    }\n",
       "</style>\n",
       "<table border=\"1\" class=\"dataframe\">\n",
       "  <thead>\n",
       "    <tr style=\"text-align: right;\">\n",
       "      <th></th>\n",
       "      <th>Statistic</th>\n",
       "      <th>Year</th>\n",
       "      <th>Garda Station</th>\n",
       "      <th>Type of Offence</th>\n",
       "      <th>UNIT</th>\n",
       "      <th>VALUE</th>\n",
       "    </tr>\n",
       "  </thead>\n",
       "  <tbody>\n",
       "    <tr>\n",
       "      <th>0</th>\n",
       "      <td>Recorded Crime Offences Under Reservation</td>\n",
       "      <td>2017</td>\n",
       "      <td>63101 Balbriggan, D.M.R. Northern Division</td>\n",
       "      <td>Attempts/threats to murder, assaults, harassme...</td>\n",
       "      <td>Number</td>\n",
       "      <td>118</td>\n",
       "    </tr>\n",
       "    <tr>\n",
       "      <th>1</th>\n",
       "      <td>Recorded Crime Offences Under Reservation</td>\n",
       "      <td>2017</td>\n",
       "      <td>63101 Balbriggan, D.M.R. Northern Division</td>\n",
       "      <td>Dangerous or negligent acts</td>\n",
       "      <td>Number</td>\n",
       "      <td>51</td>\n",
       "    </tr>\n",
       "    <tr>\n",
       "      <th>2</th>\n",
       "      <td>Recorded Crime Offences Under Reservation</td>\n",
       "      <td>2017</td>\n",
       "      <td>63101 Balbriggan, D.M.R. Northern Division</td>\n",
       "      <td>Kidnapping and related offences</td>\n",
       "      <td>Number</td>\n",
       "      <td>3</td>\n",
       "    </tr>\n",
       "    <tr>\n",
       "      <th>3</th>\n",
       "      <td>Recorded Crime Offences Under Reservation</td>\n",
       "      <td>2017</td>\n",
       "      <td>63101 Balbriggan, D.M.R. Northern Division</td>\n",
       "      <td>Robbery, extortion and hijacking offences</td>\n",
       "      <td>Number</td>\n",
       "      <td>18</td>\n",
       "    </tr>\n",
       "    <tr>\n",
       "      <th>4</th>\n",
       "      <td>Recorded Crime Offences Under Reservation</td>\n",
       "      <td>2017</td>\n",
       "      <td>63101 Balbriggan, D.M.R. Northern Division</td>\n",
       "      <td>Burglary and related offences</td>\n",
       "      <td>Number</td>\n",
       "      <td>141</td>\n",
       "    </tr>\n",
       "  </tbody>\n",
       "</table>\n",
       "</div>"
      ],
      "text/plain": [
       "                                   Statistic  Year  \\\n",
       "0  Recorded Crime Offences Under Reservation  2017   \n",
       "1  Recorded Crime Offences Under Reservation  2017   \n",
       "2  Recorded Crime Offences Under Reservation  2017   \n",
       "3  Recorded Crime Offences Under Reservation  2017   \n",
       "4  Recorded Crime Offences Under Reservation  2017   \n",
       "\n",
       "                                Garda Station  \\\n",
       "0  63101 Balbriggan, D.M.R. Northern Division   \n",
       "1  63101 Balbriggan, D.M.R. Northern Division   \n",
       "2  63101 Balbriggan, D.M.R. Northern Division   \n",
       "3  63101 Balbriggan, D.M.R. Northern Division   \n",
       "4  63101 Balbriggan, D.M.R. Northern Division   \n",
       "\n",
       "                                     Type of Offence    UNIT  VALUE  \n",
       "0  Attempts/threats to murder, assaults, harassme...  Number    118  \n",
       "1                        Dangerous or negligent acts  Number     51  \n",
       "2                    Kidnapping and related offences  Number      3  \n",
       "3          Robbery, extortion and hijacking offences  Number     18  \n",
       "4                      Burglary and related offences  Number    141  "
      ]
     },
     "execution_count": 5,
     "metadata": {},
     "output_type": "execute_result"
    }
   ],
   "source": [
    "df.head()"
   ]
  },
  {
   "cell_type": "code",
   "execution_count": 6,
   "metadata": {},
   "outputs": [
    {
     "name": "stdout",
     "output_type": "stream",
     "text": [
      "<class 'pandas.core.frame.DataFrame'>\n",
      "RangeIndex: 1476 entries, 0 to 1475\n",
      "Data columns (total 6 columns):\n",
      " #   Column           Non-Null Count  Dtype \n",
      "---  ------           --------------  ----- \n",
      " 0   Statistic        1476 non-null   object\n",
      " 1   Year             1476 non-null   int64 \n",
      " 2   Garda Station    1476 non-null   object\n",
      " 3   Type of Offence  1476 non-null   object\n",
      " 4   UNIT             1476 non-null   object\n",
      " 5   VALUE            1476 non-null   int64 \n",
      "dtypes: int64(2), object(4)\n",
      "memory usage: 69.3+ KB\n"
     ]
    }
   ],
   "source": [
    "df.info()"
   ]
  },
  {
   "cell_type": "code",
   "execution_count": 7,
   "metadata": {},
   "outputs": [
    {
     "data": {
      "text/plain": [
       "array(['Recorded Crime Offences Under Reservation'], dtype=object)"
      ]
     },
     "execution_count": 7,
     "metadata": {},
     "output_type": "execute_result"
    }
   ],
   "source": [
    "df['Statistic'].unique()"
   ]
  },
  {
   "cell_type": "markdown",
   "metadata": {},
   "source": [
    "#### All of the rows for this column contain the same value, there is no point in having the Statistic column, so I will drop it"
   ]
  },
  {
   "cell_type": "code",
   "execution_count": 8,
   "metadata": {},
   "outputs": [],
   "source": [
    "df = df.drop(['Statistic'], axis =1)"
   ]
  },
  {
   "cell_type": "code",
   "execution_count": 9,
   "metadata": {},
   "outputs": [
    {
     "data": {
      "text/html": [
       "<div>\n",
       "<style scoped>\n",
       "    .dataframe tbody tr th:only-of-type {\n",
       "        vertical-align: middle;\n",
       "    }\n",
       "\n",
       "    .dataframe tbody tr th {\n",
       "        vertical-align: top;\n",
       "    }\n",
       "\n",
       "    .dataframe thead th {\n",
       "        text-align: right;\n",
       "    }\n",
       "</style>\n",
       "<table border=\"1\" class=\"dataframe\">\n",
       "  <thead>\n",
       "    <tr style=\"text-align: right;\">\n",
       "      <th></th>\n",
       "      <th>Year</th>\n",
       "      <th>Garda Station</th>\n",
       "      <th>Type of Offence</th>\n",
       "      <th>UNIT</th>\n",
       "      <th>VALUE</th>\n",
       "    </tr>\n",
       "  </thead>\n",
       "  <tbody>\n",
       "    <tr>\n",
       "      <th>0</th>\n",
       "      <td>2017</td>\n",
       "      <td>63101 Balbriggan, D.M.R. Northern Division</td>\n",
       "      <td>Attempts/threats to murder, assaults, harassme...</td>\n",
       "      <td>Number</td>\n",
       "      <td>118</td>\n",
       "    </tr>\n",
       "    <tr>\n",
       "      <th>1</th>\n",
       "      <td>2017</td>\n",
       "      <td>63101 Balbriggan, D.M.R. Northern Division</td>\n",
       "      <td>Dangerous or negligent acts</td>\n",
       "      <td>Number</td>\n",
       "      <td>51</td>\n",
       "    </tr>\n",
       "    <tr>\n",
       "      <th>2</th>\n",
       "      <td>2017</td>\n",
       "      <td>63101 Balbriggan, D.M.R. Northern Division</td>\n",
       "      <td>Kidnapping and related offences</td>\n",
       "      <td>Number</td>\n",
       "      <td>3</td>\n",
       "    </tr>\n",
       "    <tr>\n",
       "      <th>3</th>\n",
       "      <td>2017</td>\n",
       "      <td>63101 Balbriggan, D.M.R. Northern Division</td>\n",
       "      <td>Robbery, extortion and hijacking offences</td>\n",
       "      <td>Number</td>\n",
       "      <td>18</td>\n",
       "    </tr>\n",
       "    <tr>\n",
       "      <th>4</th>\n",
       "      <td>2017</td>\n",
       "      <td>63101 Balbriggan, D.M.R. Northern Division</td>\n",
       "      <td>Burglary and related offences</td>\n",
       "      <td>Number</td>\n",
       "      <td>141</td>\n",
       "    </tr>\n",
       "  </tbody>\n",
       "</table>\n",
       "</div>"
      ],
      "text/plain": [
       "   Year                               Garda Station  \\\n",
       "0  2017  63101 Balbriggan, D.M.R. Northern Division   \n",
       "1  2017  63101 Balbriggan, D.M.R. Northern Division   \n",
       "2  2017  63101 Balbriggan, D.M.R. Northern Division   \n",
       "3  2017  63101 Balbriggan, D.M.R. Northern Division   \n",
       "4  2017  63101 Balbriggan, D.M.R. Northern Division   \n",
       "\n",
       "                                     Type of Offence    UNIT  VALUE  \n",
       "0  Attempts/threats to murder, assaults, harassme...  Number    118  \n",
       "1                        Dangerous or negligent acts  Number     51  \n",
       "2                    Kidnapping and related offences  Number      3  \n",
       "3          Robbery, extortion and hijacking offences  Number     18  \n",
       "4                      Burglary and related offences  Number    141  "
      ]
     },
     "execution_count": 9,
     "metadata": {},
     "output_type": "execute_result"
    }
   ],
   "source": [
    "df.head()"
   ]
  },
  {
   "cell_type": "code",
   "execution_count": 10,
   "metadata": {},
   "outputs": [
    {
     "data": {
      "text/plain": [
       "array([2017, 2018, 2019])"
      ]
     },
     "execution_count": 10,
     "metadata": {},
     "output_type": "execute_result"
    }
   ],
   "source": [
    "df['Year'].unique()"
   ]
  },
  {
   "cell_type": "code",
   "execution_count": 11,
   "metadata": {},
   "outputs": [
    {
     "data": {
      "text/plain": [
       "array(['63101 Balbriggan, D.M.R. Northern Division',\n",
       "       '66201 Ballyfermot, D.M.R. Western Division',\n",
       "       '63201 Ballymun, D.M.R. Northern Division',\n",
       "       '65101 Blackrock, Co Dublin, D.M.R. Eastern Division',\n",
       "       '66101 Blanchardstown, D.M.R. Western Division',\n",
       "       '62101 Bridewell Dublin, D.M.R. North Central Division',\n",
       "       '65201 Cabinteely, D.M.R. Eastern Division',\n",
       "       '66102 Cabra, D.M.R. Western Division',\n",
       "       '66202 Clondalkin, D.M.R. Western Division',\n",
       "       '63401 Clontarf, D.M.R. Northern Division',\n",
       "       '63301 Coolock, D.M.R. Northern Division',\n",
       "       '64101 Crumlin, D.M.R. Southern Division',\n",
       "       '61101 Donnybrook, D.M.R. South Central Division',\n",
       "       '63202 Dublin Airport, D.M.R. Northern Division',\n",
       "       '65203 Dun Laoghaire, D.M.R. Eastern Division',\n",
       "       '65102 Dundrum, D.M.R. Eastern Division',\n",
       "       '66103 Finglas, D.M.R. Western Division',\n",
       "       '62202 Fitzgibbon Street, D.M.R. North Central Division',\n",
       "       '63102 Garristown, D.M.R. Northern Division',\n",
       "       '63402 Howth, D.M.R. Northern Division',\n",
       "       '61102 Irishtown, D.M.R. South Central Division',\n",
       "       '61301 Kevin Street, D.M.R. South Central Division',\n",
       "       '61302 Kilmainham, D.M.R. South Central Division',\n",
       "       '66301 Lucan, D.M.R. Western Division',\n",
       "       '63103 Lusk, D.M.R. Northern Division',\n",
       "       '63302 Malahide, D.M.R. Northern Division',\n",
       "       '62203 Mountjoy, D.M.R. North Central Division',\n",
       "       '61202 Pearse Street, D.M.R. South Central Division',\n",
       "       '63403 Raheny, D.M.R. Northern Division',\n",
       "       '66203 Rathcoole, D.M.R. Western Division',\n",
       "       '64201 Rathfarnham, D.M.R. Southern Division',\n",
       "       '64301 Rathmines, D.M.R. Southern Division',\n",
       "       '66302 Ronanstown, D.M.R. Western Division',\n",
       "       '63203 Santry, D.M.R. Northern Division',\n",
       "       '65205 Shankill, D.M.R. Eastern Division',\n",
       "       '63105 Skerries, D.M.R. Northern Division',\n",
       "       '62301 Store Street, D.M.R. North Central Division',\n",
       "       '64102 Sundrive Road, D.M.R. Southern Division',\n",
       "       '63303 Swords, D.M.R. Northern Division',\n",
       "       '64202 Tallaght, D.M.R. Southern Division',\n",
       "       '64302 Terenure, D.M.R. Southern Division'], dtype=object)"
      ]
     },
     "execution_count": 11,
     "metadata": {},
     "output_type": "execute_result"
    }
   ],
   "source": [
    "df['Garda Station'].unique()"
   ]
  },
  {
   "cell_type": "code",
   "execution_count": 12,
   "metadata": {},
   "outputs": [
    {
     "data": {
      "text/plain": [
       "array(['Attempts/threats to murder, assaults, harassments and related offences',\n",
       "       'Dangerous or negligent acts', 'Kidnapping and related offences',\n",
       "       'Robbery, extortion and hijacking offences',\n",
       "       'Burglary and related offences', 'Theft and related offences',\n",
       "       'Fraud, deception and related offences',\n",
       "       'Controlled drug offences', 'Weapons and Explosives Offences',\n",
       "       'Damage to property and to the environment',\n",
       "       'Public order and other social code offences',\n",
       "       'Offences against government, justice procedures and organisation of crime'],\n",
       "      dtype=object)"
      ]
     },
     "execution_count": 12,
     "metadata": {},
     "output_type": "execute_result"
    }
   ],
   "source": [
    "df['Type of Offence'].unique()"
   ]
  },
  {
   "cell_type": "code",
   "execution_count": 13,
   "metadata": {},
   "outputs": [
    {
     "data": {
      "text/plain": [
       "array(['Number'], dtype=object)"
      ]
     },
     "execution_count": 13,
     "metadata": {},
     "output_type": "execute_result"
    }
   ],
   "source": [
    "df['UNIT'].unique()"
   ]
  },
  {
   "cell_type": "markdown",
   "metadata": {},
   "source": [
    "#### I don't think that we need a column that only says unit = number, so I will drop it"
   ]
  },
  {
   "cell_type": "code",
   "execution_count": 14,
   "metadata": {},
   "outputs": [],
   "source": [
    "df = df.drop(['UNIT'], axis =1)"
   ]
  },
  {
   "cell_type": "code",
   "execution_count": 15,
   "metadata": {},
   "outputs": [
    {
     "data": {
      "text/html": [
       "<div>\n",
       "<style scoped>\n",
       "    .dataframe tbody tr th:only-of-type {\n",
       "        vertical-align: middle;\n",
       "    }\n",
       "\n",
       "    .dataframe tbody tr th {\n",
       "        vertical-align: top;\n",
       "    }\n",
       "\n",
       "    .dataframe thead th {\n",
       "        text-align: right;\n",
       "    }\n",
       "</style>\n",
       "<table border=\"1\" class=\"dataframe\">\n",
       "  <thead>\n",
       "    <tr style=\"text-align: right;\">\n",
       "      <th></th>\n",
       "      <th>Year</th>\n",
       "      <th>Garda Station</th>\n",
       "      <th>Type of Offence</th>\n",
       "      <th>VALUE</th>\n",
       "    </tr>\n",
       "  </thead>\n",
       "  <tbody>\n",
       "    <tr>\n",
       "      <th>0</th>\n",
       "      <td>2017</td>\n",
       "      <td>63101 Balbriggan, D.M.R. Northern Division</td>\n",
       "      <td>Attempts/threats to murder, assaults, harassme...</td>\n",
       "      <td>118</td>\n",
       "    </tr>\n",
       "    <tr>\n",
       "      <th>1</th>\n",
       "      <td>2017</td>\n",
       "      <td>63101 Balbriggan, D.M.R. Northern Division</td>\n",
       "      <td>Dangerous or negligent acts</td>\n",
       "      <td>51</td>\n",
       "    </tr>\n",
       "    <tr>\n",
       "      <th>2</th>\n",
       "      <td>2017</td>\n",
       "      <td>63101 Balbriggan, D.M.R. Northern Division</td>\n",
       "      <td>Kidnapping and related offences</td>\n",
       "      <td>3</td>\n",
       "    </tr>\n",
       "    <tr>\n",
       "      <th>3</th>\n",
       "      <td>2017</td>\n",
       "      <td>63101 Balbriggan, D.M.R. Northern Division</td>\n",
       "      <td>Robbery, extortion and hijacking offences</td>\n",
       "      <td>18</td>\n",
       "    </tr>\n",
       "    <tr>\n",
       "      <th>4</th>\n",
       "      <td>2017</td>\n",
       "      <td>63101 Balbriggan, D.M.R. Northern Division</td>\n",
       "      <td>Burglary and related offences</td>\n",
       "      <td>141</td>\n",
       "    </tr>\n",
       "  </tbody>\n",
       "</table>\n",
       "</div>"
      ],
      "text/plain": [
       "   Year                               Garda Station  \\\n",
       "0  2017  63101 Balbriggan, D.M.R. Northern Division   \n",
       "1  2017  63101 Balbriggan, D.M.R. Northern Division   \n",
       "2  2017  63101 Balbriggan, D.M.R. Northern Division   \n",
       "3  2017  63101 Balbriggan, D.M.R. Northern Division   \n",
       "4  2017  63101 Balbriggan, D.M.R. Northern Division   \n",
       "\n",
       "                                     Type of Offence  VALUE  \n",
       "0  Attempts/threats to murder, assaults, harassme...    118  \n",
       "1                        Dangerous or negligent acts     51  \n",
       "2                    Kidnapping and related offences      3  \n",
       "3          Robbery, extortion and hijacking offences     18  \n",
       "4                      Burglary and related offences    141  "
      ]
     },
     "execution_count": 15,
     "metadata": {},
     "output_type": "execute_result"
    }
   ],
   "source": [
    "df.head()"
   ]
  },
  {
   "cell_type": "markdown",
   "metadata": {},
   "source": [
    "We will keep only the Garda Station Column since we only need latitude and longitude of the garda stations and that is the column that will be used to pass to the API"
   ]
  },
  {
   "cell_type": "code",
   "execution_count": 16,
   "metadata": {},
   "outputs": [],
   "source": [
    "df = df.drop(['Year', 'Type of Offence', 'VALUE'], axis =1)"
   ]
  },
  {
   "cell_type": "code",
   "execution_count": 17,
   "metadata": {},
   "outputs": [
    {
     "data": {
      "text/plain": [
       "(1476, 1)"
      ]
     },
     "execution_count": 17,
     "metadata": {},
     "output_type": "execute_result"
    }
   ],
   "source": [
    "df.shape"
   ]
  },
  {
   "cell_type": "code",
   "execution_count": 18,
   "metadata": {},
   "outputs": [
    {
     "data": {
      "text/html": [
       "<div>\n",
       "<style scoped>\n",
       "    .dataframe tbody tr th:only-of-type {\n",
       "        vertical-align: middle;\n",
       "    }\n",
       "\n",
       "    .dataframe tbody tr th {\n",
       "        vertical-align: top;\n",
       "    }\n",
       "\n",
       "    .dataframe thead th {\n",
       "        text-align: right;\n",
       "    }\n",
       "</style>\n",
       "<table border=\"1\" class=\"dataframe\">\n",
       "  <thead>\n",
       "    <tr style=\"text-align: right;\">\n",
       "      <th></th>\n",
       "      <th>Garda Station</th>\n",
       "    </tr>\n",
       "  </thead>\n",
       "  <tbody>\n",
       "    <tr>\n",
       "      <th>0</th>\n",
       "      <td>63101 Balbriggan, D.M.R. Northern Division</td>\n",
       "    </tr>\n",
       "    <tr>\n",
       "      <th>1</th>\n",
       "      <td>63101 Balbriggan, D.M.R. Northern Division</td>\n",
       "    </tr>\n",
       "    <tr>\n",
       "      <th>2</th>\n",
       "      <td>63101 Balbriggan, D.M.R. Northern Division</td>\n",
       "    </tr>\n",
       "    <tr>\n",
       "      <th>3</th>\n",
       "      <td>63101 Balbriggan, D.M.R. Northern Division</td>\n",
       "    </tr>\n",
       "    <tr>\n",
       "      <th>4</th>\n",
       "      <td>63101 Balbriggan, D.M.R. Northern Division</td>\n",
       "    </tr>\n",
       "  </tbody>\n",
       "</table>\n",
       "</div>"
      ],
      "text/plain": [
       "                                Garda Station\n",
       "0  63101 Balbriggan, D.M.R. Northern Division\n",
       "1  63101 Balbriggan, D.M.R. Northern Division\n",
       "2  63101 Balbriggan, D.M.R. Northern Division\n",
       "3  63101 Balbriggan, D.M.R. Northern Division\n",
       "4  63101 Balbriggan, D.M.R. Northern Division"
      ]
     },
     "execution_count": 18,
     "metadata": {},
     "output_type": "execute_result"
    }
   ],
   "source": [
    "df.head()"
   ]
  },
  {
   "cell_type": "code",
   "execution_count": 19,
   "metadata": {},
   "outputs": [],
   "source": [
    "df.to_csv('garda.csv')"
   ]
  },
  {
   "cell_type": "code",
   "execution_count": null,
   "metadata": {},
   "outputs": [],
   "source": []
  }
 ],
 "metadata": {
  "kernelspec": {
   "display_name": "Python 3",
   "language": "python",
   "name": "python3"
  },
  "language_info": {
   "codemirror_mode": {
    "name": "ipython",
    "version": 3
   },
   "file_extension": ".py",
   "mimetype": "text/x-python",
   "name": "python",
   "nbconvert_exporter": "python",
   "pygments_lexer": "ipython3",
   "version": "3.8.2"
  }
 },
 "nbformat": 4,
 "nbformat_minor": 4
}
