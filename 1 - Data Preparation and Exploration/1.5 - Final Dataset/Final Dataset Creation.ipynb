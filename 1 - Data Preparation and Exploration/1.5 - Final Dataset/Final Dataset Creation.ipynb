{
 "cells": [
  {
   "cell_type": "markdown",
   "metadata": {},
   "source": [
    "#### Code by Henrique Wegner"
   ]
  },
  {
   "cell_type": "markdown",
   "metadata": {},
   "source": [
    "# Import libraries and autotime (to time the code)."
   ]
  },
  {
   "cell_type": "code",
   "execution_count": 2,
   "metadata": {},
   "outputs": [
    {
     "name": "stdout",
     "output_type": "stream",
     "text": [
      "time: 0 ns (started: 2021-04-29 11:56:46 +01:00)\n"
     ]
    }
   ],
   "source": [
    "%load_ext autotime"
   ]
  },
  {
   "cell_type": "code",
   "execution_count": 3,
   "metadata": {},
   "outputs": [
    {
     "name": "stdout",
     "output_type": "stream",
     "text": [
      "time: 375 ms (started: 2021-04-29 11:56:47 +01:00)\n"
     ]
    }
   ],
   "source": [
    "import pandas as pd\n",
    "import numpy as np"
   ]
  },
  {
   "cell_type": "markdown",
   "metadata": {},
   "source": [
    "# Import Datasets"
   ]
  },
  {
   "cell_type": "code",
   "execution_count": 4,
   "metadata": {},
   "outputs": [
    {
     "name": "stdout",
     "output_type": "stream",
     "text": [
      "time: 31 ms (started: 2021-04-29 11:56:47 +01:00)\n"
     ]
    }
   ],
   "source": [
    "blt_df = pd.read_csv('Data/blt_stops.csv')"
   ]
  },
  {
   "cell_type": "code",
   "execution_count": 5,
   "metadata": {},
   "outputs": [
    {
     "data": {
      "text/html": [
       "<div>\n",
       "<style scoped>\n",
       "    .dataframe tbody tr th:only-of-type {\n",
       "        vertical-align: middle;\n",
       "    }\n",
       "\n",
       "    .dataframe tbody tr th {\n",
       "        vertical-align: top;\n",
       "    }\n",
       "\n",
       "    .dataframe thead th {\n",
       "        text-align: right;\n",
       "    }\n",
       "</style>\n",
       "<table border=\"1\" class=\"dataframe\">\n",
       "  <thead>\n",
       "    <tr style=\"text-align: right;\">\n",
       "      <th></th>\n",
       "      <th>Stop_Id</th>\n",
       "      <th>Latitude</th>\n",
       "      <th>Longitude</th>\n",
       "      <th>Type</th>\n",
       "    </tr>\n",
       "  </thead>\n",
       "  <tbody>\n",
       "    <tr>\n",
       "      <th>0</th>\n",
       "      <td>7000B6310001</td>\n",
       "      <td>54.296217</td>\n",
       "      <td>-7.871793</td>\n",
       "      <td>Bus Stop</td>\n",
       "    </tr>\n",
       "    <tr>\n",
       "      <th>1</th>\n",
       "      <td>700000004183</td>\n",
       "      <td>54.346455</td>\n",
       "      <td>-6.271543</td>\n",
       "      <td>Bus Stop</td>\n",
       "    </tr>\n",
       "    <tr>\n",
       "      <th>2</th>\n",
       "      <td>700000004149</td>\n",
       "      <td>54.346297</td>\n",
       "      <td>-6.271180</td>\n",
       "      <td>Bus Stop</td>\n",
       "    </tr>\n",
       "    <tr>\n",
       "      <th>3</th>\n",
       "      <td>7000B141561</td>\n",
       "      <td>54.193380</td>\n",
       "      <td>-7.567849</td>\n",
       "      <td>Bus Stop</td>\n",
       "    </tr>\n",
       "    <tr>\n",
       "      <th>4</th>\n",
       "      <td>7000B140871</td>\n",
       "      <td>54.193317</td>\n",
       "      <td>-7.567941</td>\n",
       "      <td>Bus Stop</td>\n",
       "    </tr>\n",
       "  </tbody>\n",
       "</table>\n",
       "</div>"
      ],
      "text/plain": [
       "        Stop_Id   Latitude  Longitude      Type\n",
       "0  7000B6310001  54.296217  -7.871793  Bus Stop\n",
       "1  700000004183  54.346455  -6.271543  Bus Stop\n",
       "2  700000004149  54.346297  -6.271180  Bus Stop\n",
       "3   7000B141561  54.193380  -7.567849  Bus Stop\n",
       "4   7000B140871  54.193317  -7.567941  Bus Stop"
      ]
     },
     "execution_count": 5,
     "metadata": {},
     "output_type": "execute_result"
    },
    {
     "name": "stdout",
     "output_type": "stream",
     "text": [
      "time: 16 ms (started: 2021-04-29 11:56:47 +01:00)\n"
     ]
    }
   ],
   "source": [
    "blt_df.head()"
   ]
  },
  {
   "cell_type": "code",
   "execution_count": 6,
   "metadata": {},
   "outputs": [
    {
     "name": "stdout",
     "output_type": "stream",
     "text": [
      "time: 16 ms (started: 2021-04-29 11:56:47 +01:00)\n"
     ]
    }
   ],
   "source": [
    "schools_df = pd.read_csv('Data/schools_location.csv')"
   ]
  },
  {
   "cell_type": "code",
   "execution_count": 7,
   "metadata": {},
   "outputs": [
    {
     "data": {
      "text/html": [
       "<div>\n",
       "<style scoped>\n",
       "    .dataframe tbody tr th:only-of-type {\n",
       "        vertical-align: middle;\n",
       "    }\n",
       "\n",
       "    .dataframe tbody tr th {\n",
       "        vertical-align: top;\n",
       "    }\n",
       "\n",
       "    .dataframe thead th {\n",
       "        text-align: right;\n",
       "    }\n",
       "</style>\n",
       "<table border=\"1\" class=\"dataframe\">\n",
       "  <thead>\n",
       "    <tr style=\"text-align: right;\">\n",
       "      <th></th>\n",
       "      <th>Roll Number</th>\n",
       "      <th>schoolName</th>\n",
       "      <th>Principal Name</th>\n",
       "      <th>Ethos Description</th>\n",
       "      <th>Female</th>\n",
       "      <th>Male</th>\n",
       "      <th>Total</th>\n",
       "      <th>latitude</th>\n",
       "      <th>longitude</th>\n",
       "      <th>Type</th>\n",
       "    </tr>\n",
       "  </thead>\n",
       "  <tbody>\n",
       "    <tr>\n",
       "      <th>0</th>\n",
       "      <td>00697S</td>\n",
       "      <td>ST BRIGIDS MXD N S</td>\n",
       "      <td>Denis Courtney</td>\n",
       "      <td>Catholic</td>\n",
       "      <td>447</td>\n",
       "      <td>502.0</td>\n",
       "      <td>949</td>\n",
       "      <td>53.375855</td>\n",
       "      <td>-6.361625</td>\n",
       "      <td>Primary School</td>\n",
       "    </tr>\n",
       "    <tr>\n",
       "      <th>1</th>\n",
       "      <td>00714P</td>\n",
       "      <td>LUCAN B N S</td>\n",
       "      <td>Dara Burke</td>\n",
       "      <td>Catholic</td>\n",
       "      <td>0</td>\n",
       "      <td>513.0</td>\n",
       "      <td>513</td>\n",
       "      <td>53.360019</td>\n",
       "      <td>-6.438876</td>\n",
       "      <td>Primary School</td>\n",
       "    </tr>\n",
       "    <tr>\n",
       "      <th>2</th>\n",
       "      <td>00729F</td>\n",
       "      <td>CLOCHAR LORETO N S</td>\n",
       "      <td>Sr. Maria Hyland</td>\n",
       "      <td>Catholic</td>\n",
       "      <td>501</td>\n",
       "      <td>0.0</td>\n",
       "      <td>501</td>\n",
       "      <td>53.295317</td>\n",
       "      <td>-6.282539</td>\n",
       "      <td>Primary School</td>\n",
       "    </tr>\n",
       "    <tr>\n",
       "      <th>3</th>\n",
       "      <td>00752A</td>\n",
       "      <td>CENTRAL SENIOR MXD N S</td>\n",
       "      <td>Deirdre Gartland</td>\n",
       "      <td>Catholic</td>\n",
       "      <td>133</td>\n",
       "      <td>143.0</td>\n",
       "      <td>276</td>\n",
       "      <td>53.349314</td>\n",
       "      <td>-6.257670</td>\n",
       "      <td>Primary School</td>\n",
       "    </tr>\n",
       "    <tr>\n",
       "      <th>4</th>\n",
       "      <td>01170G</td>\n",
       "      <td>S N NA H-AILLE</td>\n",
       "      <td>Edel McMahon</td>\n",
       "      <td>Catholic</td>\n",
       "      <td>67</td>\n",
       "      <td>72.0</td>\n",
       "      <td>139</td>\n",
       "      <td>53.579286</td>\n",
       "      <td>-6.299281</td>\n",
       "      <td>Primary School</td>\n",
       "    </tr>\n",
       "  </tbody>\n",
       "</table>\n",
       "</div>"
      ],
      "text/plain": [
       "  Roll Number              schoolName    Principal Name Ethos Description  \\\n",
       "0      00697S      ST BRIGIDS MXD N S    Denis Courtney          Catholic   \n",
       "1      00714P             LUCAN B N S        Dara Burke          Catholic   \n",
       "2      00729F      CLOCHAR LORETO N S  Sr. Maria Hyland          Catholic   \n",
       "3      00752A  CENTRAL SENIOR MXD N S  Deirdre Gartland          Catholic   \n",
       "4      01170G          S N NA H-AILLE      Edel McMahon          Catholic   \n",
       "\n",
       "  Female   Male Total   latitude  longitude            Type  \n",
       "0    447  502.0   949  53.375855  -6.361625  Primary School  \n",
       "1      0  513.0   513  53.360019  -6.438876  Primary School  \n",
       "2    501    0.0   501  53.295317  -6.282539  Primary School  \n",
       "3    133  143.0   276  53.349314  -6.257670  Primary School  \n",
       "4     67   72.0   139  53.579286  -6.299281  Primary School  "
      ]
     },
     "execution_count": 7,
     "metadata": {},
     "output_type": "execute_result"
    },
    {
     "name": "stdout",
     "output_type": "stream",
     "text": [
      "time: 16 ms (started: 2021-04-29 11:56:47 +01:00)\n"
     ]
    }
   ],
   "source": [
    "schools_df.head()"
   ]
  },
  {
   "cell_type": "code",
   "execution_count": 8,
   "metadata": {},
   "outputs": [
    {
     "name": "stdout",
     "output_type": "stream",
     "text": [
      "time: 16 ms (started: 2021-04-29 11:56:47 +01:00)\n"
     ]
    }
   ],
   "source": [
    "garda_df = pd.read_csv('Data/garda_coords.csv')"
   ]
  },
  {
   "cell_type": "code",
   "execution_count": 9,
   "metadata": {},
   "outputs": [
    {
     "data": {
      "text/html": [
       "<div>\n",
       "<style scoped>\n",
       "    .dataframe tbody tr th:only-of-type {\n",
       "        vertical-align: middle;\n",
       "    }\n",
       "\n",
       "    .dataframe tbody tr th {\n",
       "        vertical-align: top;\n",
       "    }\n",
       "\n",
       "    .dataframe thead th {\n",
       "        text-align: right;\n",
       "    }\n",
       "</style>\n",
       "<table border=\"1\" class=\"dataframe\">\n",
       "  <thead>\n",
       "    <tr style=\"text-align: right;\">\n",
       "      <th></th>\n",
       "      <th>Unnamed: 0</th>\n",
       "      <th>Garda Station</th>\n",
       "      <th>Longitude</th>\n",
       "      <th>Latitude</th>\n",
       "    </tr>\n",
       "  </thead>\n",
       "  <tbody>\n",
       "    <tr>\n",
       "      <th>0</th>\n",
       "      <td>0</td>\n",
       "      <td>Balbriggan Garda Station</td>\n",
       "      <td>-6.190980</td>\n",
       "      <td>53.614378</td>\n",
       "    </tr>\n",
       "    <tr>\n",
       "      <th>1</th>\n",
       "      <td>1</td>\n",
       "      <td>Ballyfermot Garda Station</td>\n",
       "      <td>-6.358053</td>\n",
       "      <td>53.344754</td>\n",
       "    </tr>\n",
       "    <tr>\n",
       "      <th>2</th>\n",
       "      <td>2</td>\n",
       "      <td>Ballymun Garda Station</td>\n",
       "      <td>-6.263922</td>\n",
       "      <td>53.394374</td>\n",
       "    </tr>\n",
       "    <tr>\n",
       "      <th>3</th>\n",
       "      <td>3</td>\n",
       "      <td>Blackrock Garda Station</td>\n",
       "      <td>-6.177503</td>\n",
       "      <td>53.299793</td>\n",
       "    </tr>\n",
       "    <tr>\n",
       "      <th>4</th>\n",
       "      <td>4</td>\n",
       "      <td>Blanchardstown Garda Station</td>\n",
       "      <td>-6.380952</td>\n",
       "      <td>53.389924</td>\n",
       "    </tr>\n",
       "  </tbody>\n",
       "</table>\n",
       "</div>"
      ],
      "text/plain": [
       "   Unnamed: 0                 Garda Station  Longitude   Latitude\n",
       "0           0      Balbriggan Garda Station  -6.190980  53.614378\n",
       "1           1     Ballyfermot Garda Station  -6.358053  53.344754\n",
       "2           2        Ballymun Garda Station  -6.263922  53.394374\n",
       "3           3       Blackrock Garda Station  -6.177503  53.299793\n",
       "4           4  Blanchardstown Garda Station  -6.380952  53.389924"
      ]
     },
     "execution_count": 9,
     "metadata": {},
     "output_type": "execute_result"
    },
    {
     "name": "stdout",
     "output_type": "stream",
     "text": [
      "time: 0 ns (started: 2021-04-29 11:56:47 +01:00)\n"
     ]
    }
   ],
   "source": [
    "garda_df.head()"
   ]
  },
  {
   "cell_type": "markdown",
   "metadata": {},
   "source": [
    "# Modify Datasets For Merge"
   ]
  },
  {
   "cell_type": "markdown",
   "metadata": {},
   "source": [
    "- Modify Transports ID columns name."
   ]
  },
  {
   "cell_type": "code",
   "execution_count": 10,
   "metadata": {},
   "outputs": [
    {
     "name": "stdout",
     "output_type": "stream",
     "text": [
      "time: 0 ns (started: 2021-04-29 11:56:47 +01:00)\n"
     ]
    }
   ],
   "source": [
    "blt_df = blt_df.rename({'Stop_Id':'ID'}, axis = 'columns')"
   ]
  },
  {
   "cell_type": "markdown",
   "metadata": {},
   "source": [
    "- Drop schools_df columns that will not be used."
   ]
  },
  {
   "cell_type": "code",
   "execution_count": 11,
   "metadata": {},
   "outputs": [
    {
     "name": "stdout",
     "output_type": "stream",
     "text": [
      "time: 16 ms (started: 2021-04-29 11:56:47 +01:00)\n"
     ]
    }
   ],
   "source": [
    "schools_df = schools_df.drop(columns=['schoolName', 'Principal Name', 'Ethos Description','Female','Male','Total'])"
   ]
  },
  {
   "cell_type": "markdown",
   "metadata": {},
   "source": [
    "- Rename schools_df columns for merge."
   ]
  },
  {
   "cell_type": "code",
   "execution_count": 12,
   "metadata": {},
   "outputs": [
    {
     "name": "stdout",
     "output_type": "stream",
     "text": [
      "time: 0 ns (started: 2021-04-29 11:56:48 +01:00)\n"
     ]
    }
   ],
   "source": [
    "schools_df = schools_df.rename({'Roll Number':'ID', 'latitude':'Latitude','longitude':'Longitude'}, axis = 'columns')"
   ]
  },
  {
   "cell_type": "markdown",
   "metadata": {},
   "source": [
    "- Drop garda_df columns that will not be used."
   ]
  },
  {
   "cell_type": "code",
   "execution_count": 13,
   "metadata": {},
   "outputs": [
    {
     "name": "stdout",
     "output_type": "stream",
     "text": [
      "time: 0 ns (started: 2021-04-29 11:56:48 +01:00)\n"
     ]
    }
   ],
   "source": [
    "garda_df = garda_df.drop(columns ='Unnamed: 0')"
   ]
  },
  {
   "cell_type": "markdown",
   "metadata": {},
   "source": [
    "- Create an ID for the each garda station according to their name with hash."
   ]
  },
  {
   "cell_type": "code",
   "execution_count": 14,
   "metadata": {},
   "outputs": [
    {
     "name": "stdout",
     "output_type": "stream",
     "text": [
      "time: 0 ns (started: 2021-04-29 11:56:48 +01:00)\n"
     ]
    }
   ],
   "source": [
    "garda_df['ID'] = garda_df[['Garda Station']].sum(axis=1).map(hash)"
   ]
  },
  {
   "cell_type": "markdown",
   "metadata": {},
   "source": [
    "- Drop the Garda Station name column."
   ]
  },
  {
   "cell_type": "code",
   "execution_count": 15,
   "metadata": {},
   "outputs": [
    {
     "name": "stdout",
     "output_type": "stream",
     "text": [
      "time: 0 ns (started: 2021-04-29 11:56:49 +01:00)\n"
     ]
    }
   ],
   "source": [
    "garda_df = garda_df.drop(columns='Garda Station')"
   ]
  },
  {
   "cell_type": "markdown",
   "metadata": {},
   "source": [
    "- Create a Type column and set all rows to Garda Station."
   ]
  },
  {
   "cell_type": "code",
   "execution_count": 16,
   "metadata": {},
   "outputs": [
    {
     "name": "stdout",
     "output_type": "stream",
     "text": [
      "time: 0 ns (started: 2021-04-29 11:56:49 +01:00)\n"
     ]
    }
   ],
   "source": [
    "garda_df['Type'] = \"Garda Station\""
   ]
  },
  {
   "cell_type": "markdown",
   "metadata": {},
   "source": [
    "# Merging Datasets"
   ]
  },
  {
   "cell_type": "markdown",
   "metadata": {},
   "source": [
    "- Append all datasets to a new one, reset index and drop index."
   ]
  },
  {
   "cell_type": "code",
   "execution_count": 17,
   "metadata": {},
   "outputs": [
    {
     "name": "stdout",
     "output_type": "stream",
     "text": [
      "time: 0 ns (started: 2021-04-29 11:56:49 +01:00)\n"
     ]
    }
   ],
   "source": [
    "blts_df = blt_df.append(schools_df)"
   ]
  },
  {
   "cell_type": "code",
   "execution_count": 18,
   "metadata": {},
   "outputs": [
    {
     "name": "stdout",
     "output_type": "stream",
     "text": [
      "time: 0 ns (started: 2021-04-29 11:56:49 +01:00)\n"
     ]
    }
   ],
   "source": [
    "blts_df = blts_df.append(garda_df)"
   ]
  },
  {
   "cell_type": "markdown",
   "metadata": {},
   "source": [
    "- Reset the index."
   ]
  },
  {
   "cell_type": "code",
   "execution_count": 19,
   "metadata": {},
   "outputs": [
    {
     "name": "stdout",
     "output_type": "stream",
     "text": [
      "time: 0 ns (started: 2021-04-29 11:56:50 +01:00)\n"
     ]
    }
   ],
   "source": [
    "blts_df = blts_df.reset_index()"
   ]
  },
  {
   "cell_type": "markdown",
   "metadata": {},
   "source": [
    "- Drop old index column."
   ]
  },
  {
   "cell_type": "code",
   "execution_count": 20,
   "metadata": {},
   "outputs": [
    {
     "name": "stdout",
     "output_type": "stream",
     "text": [
      "time: 0 ns (started: 2021-04-29 11:56:50 +01:00)\n"
     ]
    }
   ],
   "source": [
    "blts_df = blts_df.drop(columns='index')"
   ]
  },
  {
   "cell_type": "code",
   "execution_count": 21,
   "metadata": {},
   "outputs": [
    {
     "data": {
      "text/html": [
       "<div>\n",
       "<style scoped>\n",
       "    .dataframe tbody tr th:only-of-type {\n",
       "        vertical-align: middle;\n",
       "    }\n",
       "\n",
       "    .dataframe tbody tr th {\n",
       "        vertical-align: top;\n",
       "    }\n",
       "\n",
       "    .dataframe thead th {\n",
       "        text-align: right;\n",
       "    }\n",
       "</style>\n",
       "<table border=\"1\" class=\"dataframe\">\n",
       "  <thead>\n",
       "    <tr style=\"text-align: right;\">\n",
       "      <th></th>\n",
       "      <th>ID</th>\n",
       "      <th>Latitude</th>\n",
       "      <th>Longitude</th>\n",
       "      <th>Type</th>\n",
       "    </tr>\n",
       "  </thead>\n",
       "  <tbody>\n",
       "    <tr>\n",
       "      <th>0</th>\n",
       "      <td>7000B6310001</td>\n",
       "      <td>54.296217</td>\n",
       "      <td>-7.871793</td>\n",
       "      <td>Bus Stop</td>\n",
       "    </tr>\n",
       "    <tr>\n",
       "      <th>1</th>\n",
       "      <td>700000004183</td>\n",
       "      <td>54.346455</td>\n",
       "      <td>-6.271543</td>\n",
       "      <td>Bus Stop</td>\n",
       "    </tr>\n",
       "    <tr>\n",
       "      <th>2</th>\n",
       "      <td>700000004149</td>\n",
       "      <td>54.346297</td>\n",
       "      <td>-6.271180</td>\n",
       "      <td>Bus Stop</td>\n",
       "    </tr>\n",
       "    <tr>\n",
       "      <th>3</th>\n",
       "      <td>7000B141561</td>\n",
       "      <td>54.193380</td>\n",
       "      <td>-7.567849</td>\n",
       "      <td>Bus Stop</td>\n",
       "    </tr>\n",
       "    <tr>\n",
       "      <th>4</th>\n",
       "      <td>7000B140871</td>\n",
       "      <td>54.193317</td>\n",
       "      <td>-7.567941</td>\n",
       "      <td>Bus Stop</td>\n",
       "    </tr>\n",
       "    <tr>\n",
       "      <th>...</th>\n",
       "      <td>...</td>\n",
       "      <td>...</td>\n",
       "      <td>...</td>\n",
       "      <td>...</td>\n",
       "    </tr>\n",
       "    <tr>\n",
       "      <th>20913</th>\n",
       "      <td>-507329126053720695</td>\n",
       "      <td>53.350485</td>\n",
       "      <td>-6.251706</td>\n",
       "      <td>Garda Station</td>\n",
       "    </tr>\n",
       "    <tr>\n",
       "      <th>20914</th>\n",
       "      <td>8523066521057055750</td>\n",
       "      <td>53.330200</td>\n",
       "      <td>-6.298697</td>\n",
       "      <td>Garda Station</td>\n",
       "    </tr>\n",
       "    <tr>\n",
       "      <th>20915</th>\n",
       "      <td>-1633398297145224735</td>\n",
       "      <td>53.456024</td>\n",
       "      <td>-6.221112</td>\n",
       "      <td>Garda Station</td>\n",
       "    </tr>\n",
       "    <tr>\n",
       "      <th>20916</th>\n",
       "      <td>424426314260820661</td>\n",
       "      <td>53.286807</td>\n",
       "      <td>-6.367589</td>\n",
       "      <td>Garda Station</td>\n",
       "    </tr>\n",
       "    <tr>\n",
       "      <th>20917</th>\n",
       "      <td>-9100520520657389226</td>\n",
       "      <td>53.309990</td>\n",
       "      <td>-6.287810</td>\n",
       "      <td>Garda Station</td>\n",
       "    </tr>\n",
       "  </tbody>\n",
       "</table>\n",
       "<p>20918 rows × 4 columns</p>\n",
       "</div>"
      ],
      "text/plain": [
       "                         ID   Latitude  Longitude           Type\n",
       "0              7000B6310001  54.296217  -7.871793       Bus Stop\n",
       "1              700000004183  54.346455  -6.271543       Bus Stop\n",
       "2              700000004149  54.346297  -6.271180       Bus Stop\n",
       "3               7000B141561  54.193380  -7.567849       Bus Stop\n",
       "4               7000B140871  54.193317  -7.567941       Bus Stop\n",
       "...                     ...        ...        ...            ...\n",
       "20913   -507329126053720695  53.350485  -6.251706  Garda Station\n",
       "20914   8523066521057055750  53.330200  -6.298697  Garda Station\n",
       "20915  -1633398297145224735  53.456024  -6.221112  Garda Station\n",
       "20916    424426314260820661  53.286807  -6.367589  Garda Station\n",
       "20917  -9100520520657389226  53.309990  -6.287810  Garda Station\n",
       "\n",
       "[20918 rows x 4 columns]"
      ]
     },
     "execution_count": 21,
     "metadata": {},
     "output_type": "execute_result"
    },
    {
     "name": "stdout",
     "output_type": "stream",
     "text": [
      "time: 15 ms (started: 2021-04-29 11:56:50 +01:00)\n"
     ]
    }
   ],
   "source": [
    "blts_df"
   ]
  },
  {
   "cell_type": "markdown",
   "metadata": {},
   "source": [
    "# Check With Scatterplot\n",
    "- You can see all the outliers in the plot."
   ]
  },
  {
   "cell_type": "code",
   "execution_count": 22,
   "metadata": {},
   "outputs": [
    {
     "name": "stdout",
     "output_type": "stream",
     "text": [
      "time: 0 ns (started: 2021-04-29 11:56:51 +01:00)\n"
     ]
    }
   ],
   "source": [
    "scatter_test = blts_df"
   ]
  },
  {
   "cell_type": "code",
   "execution_count": 23,
   "metadata": {},
   "outputs": [
    {
     "data": {
      "text/plain": [
       "<matplotlib.axes._subplots.AxesSubplot at 0x26025fb0cd0>"
      ]
     },
     "execution_count": 23,
     "metadata": {},
     "output_type": "execute_result"
    },
    {
     "data": {
      "image/png": "[encoded data removed]",
      "text/plain": [
       "<Figure size 1080x576 with 1 Axes>"
      ]
     },
     "metadata": {
      "needs_background": "light"
     },
     "output_type": "display_data"
    },
    {
     "name": "stdout",
     "output_type": "stream",
     "text": [
      "time: 875 ms (started: 2021-04-29 11:56:51 +01:00)\n"
     ]
    }
   ],
   "source": [
    "import matplotlib.pyplot as plt\n",
    "import seaborn as sns\n",
    "plt.figure(figsize = (15,8))\n",
    "sns.scatterplot(scatter_test[\"Latitude\"], scatter_test[\"Longitude\"])"
   ]
  },
  {
   "cell_type": "markdown",
   "metadata": {},
   "source": [
    "# Export to csv"
   ]
  },
  {
   "cell_type": "code",
   "execution_count": 24,
   "metadata": {},
   "outputs": [
    {
     "name": "stdout",
     "output_type": "stream",
     "text": [
      "time: 79 ms (started: 2021-04-29 11:56:53 +01:00)\n"
     ]
    }
   ],
   "source": [
    "blts_df.to_csv ('Data\\locations_df.csv', index = False, header=True)"
   ]
  },
  {
   "cell_type": "markdown",
   "metadata": {},
   "source": [
    "___________________________________________________________________________________________________________________________"
   ]
  },
  {
   "cell_type": "markdown",
   "metadata": {},
   "source": [
    "# Property Dataset\n",
    "- Importing the dataset."
   ]
  },
  {
   "cell_type": "code",
   "execution_count": 25,
   "metadata": {},
   "outputs": [
    {
     "name": "stdout",
     "output_type": "stream",
     "text": [
      "time: 94 ms (started: 2021-04-29 11:56:55 +01:00)\n"
     ]
    }
   ],
   "source": [
    "houses_df = pd.read_csv('Data/properties.csv')"
   ]
  },
  {
   "cell_type": "code",
   "execution_count": 26,
   "metadata": {},
   "outputs": [
    {
     "data": {
      "text/html": [
       "<div>\n",
       "<style scoped>\n",
       "    .dataframe tbody tr th:only-of-type {\n",
       "        vertical-align: middle;\n",
       "    }\n",
       "\n",
       "    .dataframe tbody tr th {\n",
       "        vertical-align: top;\n",
       "    }\n",
       "\n",
       "    .dataframe thead th {\n",
       "        text-align: right;\n",
       "    }\n",
       "</style>\n",
       "<table border=\"1\" class=\"dataframe\">\n",
       "  <thead>\n",
       "    <tr style=\"text-align: right;\">\n",
       "      <th></th>\n",
       "      <th>Unnamed: 0</th>\n",
       "      <th>Date of Sale</th>\n",
       "      <th>Address</th>\n",
       "      <th>Postal Code</th>\n",
       "      <th>Price</th>\n",
       "      <th>Not Full Market Price</th>\n",
       "      <th>VAT Exclusive</th>\n",
       "      <th>Description of Property</th>\n",
       "      <th>Longitude</th>\n",
       "      <th>Latitude</th>\n",
       "      <th>Neighborhood</th>\n",
       "    </tr>\n",
       "  </thead>\n",
       "  <tbody>\n",
       "    <tr>\n",
       "      <th>0</th>\n",
       "      <td>0</td>\n",
       "      <td>2017-01-01</td>\n",
       "      <td>11 PINTAIL HOUSE, REDCOURT OAKS, SEAFIELD RD EAST</td>\n",
       "      <td>Dublin 3</td>\n",
       "      <td>242424.0</td>\n",
       "      <td>Yes</td>\n",
       "      <td>No</td>\n",
       "      <td>Second-Hand Dwelling house /Apartment</td>\n",
       "      <td>-6.181405</td>\n",
       "      <td>53.362710</td>\n",
       "      <td>Clontarf</td>\n",
       "    </tr>\n",
       "    <tr>\n",
       "      <th>1</th>\n",
       "      <td>1</td>\n",
       "      <td>2017-01-01</td>\n",
       "      <td>1 PINTAIL HOUSE, REDCOURT OAKS, SEAFIELD RD EAST</td>\n",
       "      <td>Dublin 3</td>\n",
       "      <td>242424.0</td>\n",
       "      <td>Yes</td>\n",
       "      <td>No</td>\n",
       "      <td>Second-Hand Dwelling house /Apartment</td>\n",
       "      <td>-6.181405</td>\n",
       "      <td>53.362710</td>\n",
       "      <td>Clontarf</td>\n",
       "    </tr>\n",
       "    <tr>\n",
       "      <th>2</th>\n",
       "      <td>2</td>\n",
       "      <td>2017-01-01</td>\n",
       "      <td>9 TEAL HOUSE, REDCOURT OAKS SEAFIELD RD EAST, ...</td>\n",
       "      <td>Dublin 3</td>\n",
       "      <td>66000.0</td>\n",
       "      <td>Yes</td>\n",
       "      <td>No</td>\n",
       "      <td>Second-Hand Dwelling house /Apartment</td>\n",
       "      <td>-6.182833</td>\n",
       "      <td>53.362984</td>\n",
       "      <td>Clontarf</td>\n",
       "    </tr>\n",
       "    <tr>\n",
       "      <th>3</th>\n",
       "      <td>3</td>\n",
       "      <td>2017-01-01</td>\n",
       "      <td>8 PINTAIL HOUSE, REDCOURT OAKS, SEAFIELD RD EA...</td>\n",
       "      <td>Dublin 3</td>\n",
       "      <td>271800.0</td>\n",
       "      <td>Yes</td>\n",
       "      <td>No</td>\n",
       "      <td>Second-Hand Dwelling house /Apartment</td>\n",
       "      <td>-6.181405</td>\n",
       "      <td>53.362710</td>\n",
       "      <td>Clontarf</td>\n",
       "    </tr>\n",
       "    <tr>\n",
       "      <th>4</th>\n",
       "      <td>4</td>\n",
       "      <td>2017-01-01</td>\n",
       "      <td>5 SEAFIELD GROVE, CLONTARF, DUBLIN 3</td>\n",
       "      <td>Dublin 3</td>\n",
       "      <td>830000.0</td>\n",
       "      <td>No</td>\n",
       "      <td>No</td>\n",
       "      <td>Second-Hand Dwelling house /Apartment</td>\n",
       "      <td>-6.181892</td>\n",
       "      <td>53.365139</td>\n",
       "      <td>Clontarf</td>\n",
       "    </tr>\n",
       "    <tr>\n",
       "      <th>...</th>\n",
       "      <td>...</td>\n",
       "      <td>...</td>\n",
       "      <td>...</td>\n",
       "      <td>...</td>\n",
       "      <td>...</td>\n",
       "      <td>...</td>\n",
       "      <td>...</td>\n",
       "      <td>...</td>\n",
       "      <td>...</td>\n",
       "      <td>...</td>\n",
       "      <td>...</td>\n",
       "    </tr>\n",
       "    <tr>\n",
       "      <th>46399</th>\n",
       "      <td>46399</td>\n",
       "      <td>2019-08-16</td>\n",
       "      <td>73 CLANMAURICE RD, DONNYCARNEY, DUBLIN 5</td>\n",
       "      <td>Dublin 5</td>\n",
       "      <td>320000.0</td>\n",
       "      <td>No</td>\n",
       "      <td>No</td>\n",
       "      <td>Second-Hand Dwelling house /Apartment</td>\n",
       "      <td>-6.212927</td>\n",
       "      <td>53.376221</td>\n",
       "      <td>Clontarf West</td>\n",
       "    </tr>\n",
       "    <tr>\n",
       "      <th>46400</th>\n",
       "      <td>46400</td>\n",
       "      <td>2019-08-16</td>\n",
       "      <td>8 ALEXANDRA COURT, DUNDRUM, DUBLIN 16</td>\n",
       "      <td>Dublin 14</td>\n",
       "      <td>285000.0</td>\n",
       "      <td>No</td>\n",
       "      <td>No</td>\n",
       "      <td>Second-Hand Dwelling house /Apartment</td>\n",
       "      <td>-6.246034</td>\n",
       "      <td>53.294678</td>\n",
       "      <td>Churchtown Lower</td>\n",
       "    </tr>\n",
       "    <tr>\n",
       "      <th>46401</th>\n",
       "      <td>46401</td>\n",
       "      <td>2019-08-16</td>\n",
       "      <td>APT 1, 3 DERMOT ST, CLONGRIFFIN DUBLIN 13</td>\n",
       "      <td>Dublin 13</td>\n",
       "      <td>215000.0</td>\n",
       "      <td>No</td>\n",
       "      <td>No</td>\n",
       "      <td>Second-Hand Dwelling house /Apartment</td>\n",
       "      <td>-6.156979</td>\n",
       "      <td>53.403250</td>\n",
       "      <td>Donaghmede</td>\n",
       "    </tr>\n",
       "    <tr>\n",
       "      <th>46402</th>\n",
       "      <td>46402</td>\n",
       "      <td>2019-08-16</td>\n",
       "      <td>APT 416, THE CUBES 8, BEACON SOUTH QUARTER DUB...</td>\n",
       "      <td>Dublin 18</td>\n",
       "      <td>365000.0</td>\n",
       "      <td>No</td>\n",
       "      <td>No</td>\n",
       "      <td>Second-Hand Dwelling house /Apartment</td>\n",
       "      <td>-6.215124</td>\n",
       "      <td>53.277574</td>\n",
       "      <td>Blackthorn</td>\n",
       "    </tr>\n",
       "    <tr>\n",
       "      <th>46403</th>\n",
       "      <td>46403</td>\n",
       "      <td>2019-08-16</td>\n",
       "      <td>20 FINGLASWOOD RD, FINGLAS WEST, DUBLIN 11</td>\n",
       "      <td>Dublin 11</td>\n",
       "      <td>290000.0</td>\n",
       "      <td>No</td>\n",
       "      <td>No</td>\n",
       "      <td>Second-Hand Dwelling house /Apartment</td>\n",
       "      <td>-6.307564</td>\n",
       "      <td>53.390790</td>\n",
       "      <td>NaN</td>\n",
       "    </tr>\n",
       "  </tbody>\n",
       "</table>\n",
       "<p>46404 rows × 11 columns</p>\n",
       "</div>"
      ],
      "text/plain": [
       "       Unnamed: 0 Date of Sale  \\\n",
       "0               0   2017-01-01   \n",
       "1               1   2017-01-01   \n",
       "2               2   2017-01-01   \n",
       "3               3   2017-01-01   \n",
       "4               4   2017-01-01   \n",
       "...           ...          ...   \n",
       "46399       46399   2019-08-16   \n",
       "46400       46400   2019-08-16   \n",
       "46401       46401   2019-08-16   \n",
       "46402       46402   2019-08-16   \n",
       "46403       46403   2019-08-16   \n",
       "\n",
       "                                                 Address Postal Code  \\\n",
       "0      11 PINTAIL HOUSE, REDCOURT OAKS, SEAFIELD RD EAST    Dublin 3   \n",
       "1       1 PINTAIL HOUSE, REDCOURT OAKS, SEAFIELD RD EAST    Dublin 3   \n",
       "2      9 TEAL HOUSE, REDCOURT OAKS SEAFIELD RD EAST, ...    Dublin 3   \n",
       "3      8 PINTAIL HOUSE, REDCOURT OAKS, SEAFIELD RD EA...    Dublin 3   \n",
       "4                   5 SEAFIELD GROVE, CLONTARF, DUBLIN 3    Dublin 3   \n",
       "...                                                  ...         ...   \n",
       "46399           73 CLANMAURICE RD, DONNYCARNEY, DUBLIN 5    Dublin 5   \n",
       "46400              8 ALEXANDRA COURT, DUNDRUM, DUBLIN 16   Dublin 14   \n",
       "46401          APT 1, 3 DERMOT ST, CLONGRIFFIN DUBLIN 13   Dublin 13   \n",
       "46402  APT 416, THE CUBES 8, BEACON SOUTH QUARTER DUB...   Dublin 18   \n",
       "46403         20 FINGLASWOOD RD, FINGLAS WEST, DUBLIN 11   Dublin 11   \n",
       "\n",
       "          Price Not Full Market Price VAT Exclusive  \\\n",
       "0      242424.0                   Yes            No   \n",
       "1      242424.0                   Yes            No   \n",
       "2       66000.0                   Yes            No   \n",
       "3      271800.0                   Yes            No   \n",
       "4      830000.0                    No            No   \n",
       "...         ...                   ...           ...   \n",
       "46399  320000.0                    No            No   \n",
       "46400  285000.0                    No            No   \n",
       "46401  215000.0                    No            No   \n",
       "46402  365000.0                    No            No   \n",
       "46403  290000.0                    No            No   \n",
       "\n",
       "                     Description of Property  Longitude   Latitude  \\\n",
       "0      Second-Hand Dwelling house /Apartment  -6.181405  53.362710   \n",
       "1      Second-Hand Dwelling house /Apartment  -6.181405  53.362710   \n",
       "2      Second-Hand Dwelling house /Apartment  -6.182833  53.362984   \n",
       "3      Second-Hand Dwelling house /Apartment  -6.181405  53.362710   \n",
       "4      Second-Hand Dwelling house /Apartment  -6.181892  53.365139   \n",
       "...                                      ...        ...        ...   \n",
       "46399  Second-Hand Dwelling house /Apartment  -6.212927  53.376221   \n",
       "46400  Second-Hand Dwelling house /Apartment  -6.246034  53.294678   \n",
       "46401  Second-Hand Dwelling house /Apartment  -6.156979  53.403250   \n",
       "46402  Second-Hand Dwelling house /Apartment  -6.215124  53.277574   \n",
       "46403  Second-Hand Dwelling house /Apartment  -6.307564  53.390790   \n",
       "\n",
       "           Neighborhood  \n",
       "0              Clontarf  \n",
       "1              Clontarf  \n",
       "2              Clontarf  \n",
       "3              Clontarf  \n",
       "4              Clontarf  \n",
       "...                 ...  \n",
       "46399     Clontarf West  \n",
       "46400  Churchtown Lower  \n",
       "46401        Donaghmede  \n",
       "46402        Blackthorn  \n",
       "46403               NaN  \n",
       "\n",
       "[46404 rows x 11 columns]"
      ]
     },
     "execution_count": 26,
     "metadata": {},
     "output_type": "execute_result"
    },
    {
     "name": "stdout",
     "output_type": "stream",
     "text": [
      "time: 15 ms (started: 2021-04-29 11:56:56 +01:00)\n"
     ]
    }
   ],
   "source": [
    "houses_df"
   ]
  },
  {
   "cell_type": "markdown",
   "metadata": {},
   "source": [
    "- Create an ID column with the index of the rows."
   ]
  },
  {
   "cell_type": "code",
   "execution_count": 27,
   "metadata": {},
   "outputs": [
    {
     "name": "stdout",
     "output_type": "stream",
     "text": [
      "time: 0 ns (started: 2021-04-29 11:56:57 +01:00)\n"
     ]
    }
   ],
   "source": [
    "houses_df['ID'] = houses_df.index"
   ]
  },
  {
   "cell_type": "markdown",
   "metadata": {},
   "source": [
    "- Drop columns that will not be used."
   ]
  },
  {
   "cell_type": "code",
   "execution_count": 28,
   "metadata": {},
   "outputs": [
    {
     "name": "stdout",
     "output_type": "stream",
     "text": [
      "time: 16 ms (started: 2021-04-29 11:56:58 +01:00)\n"
     ]
    }
   ],
   "source": [
    "houses_df = houses_df.drop(columns=['Unnamed: 0', 'Address'])"
   ]
  },
  {
   "cell_type": "code",
   "execution_count": 29,
   "metadata": {},
   "outputs": [
    {
     "data": {
      "text/html": [
       "<div>\n",
       "<style scoped>\n",
       "    .dataframe tbody tr th:only-of-type {\n",
       "        vertical-align: middle;\n",
       "    }\n",
       "\n",
       "    .dataframe tbody tr th {\n",
       "        vertical-align: top;\n",
       "    }\n",
       "\n",
       "    .dataframe thead th {\n",
       "        text-align: right;\n",
       "    }\n",
       "</style>\n",
       "<table border=\"1\" class=\"dataframe\">\n",
       "  <thead>\n",
       "    <tr style=\"text-align: right;\">\n",
       "      <th></th>\n",
       "      <th>Date of Sale</th>\n",
       "      <th>Postal Code</th>\n",
       "      <th>Price</th>\n",
       "      <th>Not Full Market Price</th>\n",
       "      <th>VAT Exclusive</th>\n",
       "      <th>Description of Property</th>\n",
       "      <th>Longitude</th>\n",
       "      <th>Latitude</th>\n",
       "      <th>Neighborhood</th>\n",
       "      <th>ID</th>\n",
       "    </tr>\n",
       "  </thead>\n",
       "  <tbody>\n",
       "    <tr>\n",
       "      <th>0</th>\n",
       "      <td>2017-01-01</td>\n",
       "      <td>Dublin 3</td>\n",
       "      <td>242424.0</td>\n",
       "      <td>Yes</td>\n",
       "      <td>No</td>\n",
       "      <td>Second-Hand Dwelling house /Apartment</td>\n",
       "      <td>-6.181405</td>\n",
       "      <td>53.362710</td>\n",
       "      <td>Clontarf</td>\n",
       "      <td>0</td>\n",
       "    </tr>\n",
       "    <tr>\n",
       "      <th>1</th>\n",
       "      <td>2017-01-01</td>\n",
       "      <td>Dublin 3</td>\n",
       "      <td>242424.0</td>\n",
       "      <td>Yes</td>\n",
       "      <td>No</td>\n",
       "      <td>Second-Hand Dwelling house /Apartment</td>\n",
       "      <td>-6.181405</td>\n",
       "      <td>53.362710</td>\n",
       "      <td>Clontarf</td>\n",
       "      <td>1</td>\n",
       "    </tr>\n",
       "    <tr>\n",
       "      <th>2</th>\n",
       "      <td>2017-01-01</td>\n",
       "      <td>Dublin 3</td>\n",
       "      <td>66000.0</td>\n",
       "      <td>Yes</td>\n",
       "      <td>No</td>\n",
       "      <td>Second-Hand Dwelling house /Apartment</td>\n",
       "      <td>-6.182833</td>\n",
       "      <td>53.362984</td>\n",
       "      <td>Clontarf</td>\n",
       "      <td>2</td>\n",
       "    </tr>\n",
       "    <tr>\n",
       "      <th>3</th>\n",
       "      <td>2017-01-01</td>\n",
       "      <td>Dublin 3</td>\n",
       "      <td>271800.0</td>\n",
       "      <td>Yes</td>\n",
       "      <td>No</td>\n",
       "      <td>Second-Hand Dwelling house /Apartment</td>\n",
       "      <td>-6.181405</td>\n",
       "      <td>53.362710</td>\n",
       "      <td>Clontarf</td>\n",
       "      <td>3</td>\n",
       "    </tr>\n",
       "    <tr>\n",
       "      <th>4</th>\n",
       "      <td>2017-01-01</td>\n",
       "      <td>Dublin 3</td>\n",
       "      <td>830000.0</td>\n",
       "      <td>No</td>\n",
       "      <td>No</td>\n",
       "      <td>Second-Hand Dwelling house /Apartment</td>\n",
       "      <td>-6.181892</td>\n",
       "      <td>53.365139</td>\n",
       "      <td>Clontarf</td>\n",
       "      <td>4</td>\n",
       "    </tr>\n",
       "    <tr>\n",
       "      <th>...</th>\n",
       "      <td>...</td>\n",
       "      <td>...</td>\n",
       "      <td>...</td>\n",
       "      <td>...</td>\n",
       "      <td>...</td>\n",
       "      <td>...</td>\n",
       "      <td>...</td>\n",
       "      <td>...</td>\n",
       "      <td>...</td>\n",
       "      <td>...</td>\n",
       "    </tr>\n",
       "    <tr>\n",
       "      <th>46399</th>\n",
       "      <td>2019-08-16</td>\n",
       "      <td>Dublin 5</td>\n",
       "      <td>320000.0</td>\n",
       "      <td>No</td>\n",
       "      <td>No</td>\n",
       "      <td>Second-Hand Dwelling house /Apartment</td>\n",
       "      <td>-6.212927</td>\n",
       "      <td>53.376221</td>\n",
       "      <td>Clontarf West</td>\n",
       "      <td>46399</td>\n",
       "    </tr>\n",
       "    <tr>\n",
       "      <th>46400</th>\n",
       "      <td>2019-08-16</td>\n",
       "      <td>Dublin 14</td>\n",
       "      <td>285000.0</td>\n",
       "      <td>No</td>\n",
       "      <td>No</td>\n",
       "      <td>Second-Hand Dwelling house /Apartment</td>\n",
       "      <td>-6.246034</td>\n",
       "      <td>53.294678</td>\n",
       "      <td>Churchtown Lower</td>\n",
       "      <td>46400</td>\n",
       "    </tr>\n",
       "    <tr>\n",
       "      <th>46401</th>\n",
       "      <td>2019-08-16</td>\n",
       "      <td>Dublin 13</td>\n",
       "      <td>215000.0</td>\n",
       "      <td>No</td>\n",
       "      <td>No</td>\n",
       "      <td>Second-Hand Dwelling house /Apartment</td>\n",
       "      <td>-6.156979</td>\n",
       "      <td>53.403250</td>\n",
       "      <td>Donaghmede</td>\n",
       "      <td>46401</td>\n",
       "    </tr>\n",
       "    <tr>\n",
       "      <th>46402</th>\n",
       "      <td>2019-08-16</td>\n",
       "      <td>Dublin 18</td>\n",
       "      <td>365000.0</td>\n",
       "      <td>No</td>\n",
       "      <td>No</td>\n",
       "      <td>Second-Hand Dwelling house /Apartment</td>\n",
       "      <td>-6.215124</td>\n",
       "      <td>53.277574</td>\n",
       "      <td>Blackthorn</td>\n",
       "      <td>46402</td>\n",
       "    </tr>\n",
       "    <tr>\n",
       "      <th>46403</th>\n",
       "      <td>2019-08-16</td>\n",
       "      <td>Dublin 11</td>\n",
       "      <td>290000.0</td>\n",
       "      <td>No</td>\n",
       "      <td>No</td>\n",
       "      <td>Second-Hand Dwelling house /Apartment</td>\n",
       "      <td>-6.307564</td>\n",
       "      <td>53.390790</td>\n",
       "      <td>NaN</td>\n",
       "      <td>46403</td>\n",
       "    </tr>\n",
       "  </tbody>\n",
       "</table>\n",
       "<p>46404 rows × 10 columns</p>\n",
       "</div>"
      ],
      "text/plain": [
       "      Date of Sale Postal Code     Price Not Full Market Price VAT Exclusive  \\\n",
       "0       2017-01-01    Dublin 3  242424.0                   Yes            No   \n",
       "1       2017-01-01    Dublin 3  242424.0                   Yes            No   \n",
       "2       2017-01-01    Dublin 3   66000.0                   Yes            No   \n",
       "3       2017-01-01    Dublin 3  271800.0                   Yes            No   \n",
       "4       2017-01-01    Dublin 3  830000.0                    No            No   \n",
       "...            ...         ...       ...                   ...           ...   \n",
       "46399   2019-08-16    Dublin 5  320000.0                    No            No   \n",
       "46400   2019-08-16   Dublin 14  285000.0                    No            No   \n",
       "46401   2019-08-16   Dublin 13  215000.0                    No            No   \n",
       "46402   2019-08-16   Dublin 18  365000.0                    No            No   \n",
       "46403   2019-08-16   Dublin 11  290000.0                    No            No   \n",
       "\n",
       "                     Description of Property  Longitude   Latitude  \\\n",
       "0      Second-Hand Dwelling house /Apartment  -6.181405  53.362710   \n",
       "1      Second-Hand Dwelling house /Apartment  -6.181405  53.362710   \n",
       "2      Second-Hand Dwelling house /Apartment  -6.182833  53.362984   \n",
       "3      Second-Hand Dwelling house /Apartment  -6.181405  53.362710   \n",
       "4      Second-Hand Dwelling house /Apartment  -6.181892  53.365139   \n",
       "...                                      ...        ...        ...   \n",
       "46399  Second-Hand Dwelling house /Apartment  -6.212927  53.376221   \n",
       "46400  Second-Hand Dwelling house /Apartment  -6.246034  53.294678   \n",
       "46401  Second-Hand Dwelling house /Apartment  -6.156979  53.403250   \n",
       "46402  Second-Hand Dwelling house /Apartment  -6.215124  53.277574   \n",
       "46403  Second-Hand Dwelling house /Apartment  -6.307564  53.390790   \n",
       "\n",
       "           Neighborhood     ID  \n",
       "0              Clontarf      0  \n",
       "1              Clontarf      1  \n",
       "2              Clontarf      2  \n",
       "3              Clontarf      3  \n",
       "4              Clontarf      4  \n",
       "...                 ...    ...  \n",
       "46399     Clontarf West  46399  \n",
       "46400  Churchtown Lower  46400  \n",
       "46401        Donaghmede  46401  \n",
       "46402        Blackthorn  46402  \n",
       "46403               NaN  46403  \n",
       "\n",
       "[46404 rows x 10 columns]"
      ]
     },
     "execution_count": 29,
     "metadata": {},
     "output_type": "execute_result"
    },
    {
     "name": "stdout",
     "output_type": "stream",
     "text": [
      "time: 16 ms (started: 2021-04-29 11:56:59 +01:00)\n"
     ]
    }
   ],
   "source": [
    "houses_df"
   ]
  },
  {
   "cell_type": "markdown",
   "metadata": {},
   "source": [
    "- Drop columns that will not be used for now."
   ]
  },
  {
   "cell_type": "code",
   "execution_count": 78,
   "metadata": {},
   "outputs": [
    {
     "name": "stdout",
     "output_type": "stream",
     "text": [
      "time: 0 ns (started: 2021-04-25 19:35:53 +01:00)\n"
     ]
    }
   ],
   "source": [
    "houses_df_test = houses_df.drop(columns=['Date of Sale', 'Price','VAT Exclusive', 'Not Full Market Price','Description of Property'])"
   ]
  },
  {
   "cell_type": "markdown",
   "metadata": {},
   "source": [
    "- Choose just the right columns."
   ]
  },
  {
   "cell_type": "code",
   "execution_count": 79,
   "metadata": {},
   "outputs": [
    {
     "name": "stdout",
     "output_type": "stream",
     "text": [
      "time: 16 ms (started: 2021-04-25 19:35:54 +01:00)\n"
     ]
    }
   ],
   "source": [
    "houses_df_test = houses_df_test[['ID','Latitude','Longitude']]"
   ]
  },
  {
   "cell_type": "markdown",
   "metadata": {},
   "source": [
    "__________________________________________________"
   ]
  },
  {
   "cell_type": "markdown",
   "metadata": {},
   "source": [
    "# Reduce the points to only Dublin.\n",
    "\n",
    "Calculates a circle between two points and delete any entries that are not in this area.\n",
    "\n",
    "Reference: https://stackoverflow.com/questions/42686300/how-to-check-if-coordinate-inside-certain-area-python"
   ]
  },
  {
   "cell_type": "code",
   "execution_count": 102,
   "metadata": {},
   "outputs": [
    {
     "name": "stdout",
     "output_type": "stream",
     "text": [
      "time: 13.9 s (started: 2021-04-25 19:41:50 +01:00)\n"
     ]
    }
   ],
   "source": [
    "from math import radians, cos, sin, asin, sqrt\n",
    "\n",
    "def haversine(lon1, lat1, lon2, lat2):\n",
    "    \n",
    "    lon1, lat1, lon2, lat2 = map(radians, [lon1, lat1, lon2, lat2])\n",
    " \n",
    "    dlon = lon2 - lon1 \n",
    "    dlat = lat2 - lat1 \n",
    "    a = sin(dlat/2)**2 + cos(lat1) * cos(lat2) * sin(dlon/2)**2\n",
    "    c = 2 * asin(sqrt(a)) \n",
    "    r = 6371\n",
    "    return c * r\n",
    "\n",
    "center_point = [{'lat': 53.385574, 'lng': -6.280166}]\n",
    "\n",
    "\n",
    "lat1 = center_point[0]['lat']\n",
    "lon1 = center_point[0]['lng']\n",
    "\n",
    "radius = 30.00\n",
    "\n",
    "for label1, row1 in blts_df.iterrows():\n",
    "    \n",
    "    test_point = [{'lat': row1['Latitude'], 'lng': row1['Longitude']}]\n",
    "    \n",
    "    lat2 = test_point[0]['lat']\n",
    "    lon2 = test_point[0]['lng']\n",
    "    \n",
    "    a = haversine(lon1, lat1, lon2, lat2)\n",
    "    \n",
    "    if a <= radius:\n",
    "        pass\n",
    "    else:\n",
    "        blts_df = blts_df.drop(label1)\n",
    "        "
   ]
  },
  {
   "cell_type": "markdown",
   "metadata": {},
   "source": [
    "Reduced from 20k entries to 7k."
   ]
  },
  {
   "cell_type": "code",
   "execution_count": 103,
   "metadata": {},
   "outputs": [
    {
     "data": {
      "text/html": [
       "<div>\n",
       "<style scoped>\n",
       "    .dataframe tbody tr th:only-of-type {\n",
       "        vertical-align: middle;\n",
       "    }\n",
       "\n",
       "    .dataframe tbody tr th {\n",
       "        vertical-align: top;\n",
       "    }\n",
       "\n",
       "    .dataframe thead th {\n",
       "        text-align: right;\n",
       "    }\n",
       "</style>\n",
       "<table border=\"1\" class=\"dataframe\">\n",
       "  <thead>\n",
       "    <tr style=\"text-align: right;\">\n",
       "      <th></th>\n",
       "      <th>ID</th>\n",
       "      <th>Latitude</th>\n",
       "      <th>Longitude</th>\n",
       "      <th>Type</th>\n",
       "    </tr>\n",
       "  </thead>\n",
       "  <tbody>\n",
       "    <tr>\n",
       "      <th>145</th>\n",
       "      <td>8220DB001738</td>\n",
       "      <td>53.363451</td>\n",
       "      <td>-6.223914</td>\n",
       "      <td>Bus Stop</td>\n",
       "    </tr>\n",
       "    <tr>\n",
       "      <th>146</th>\n",
       "      <td>8220DB007516</td>\n",
       "      <td>53.402076</td>\n",
       "      <td>-6.171727</td>\n",
       "      <td>Bus Stop</td>\n",
       "    </tr>\n",
       "    <tr>\n",
       "      <th>147</th>\n",
       "      <td>8220DB000592</td>\n",
       "      <td>53.382733</td>\n",
       "      <td>-6.148383</td>\n",
       "      <td>Bus Stop</td>\n",
       "    </tr>\n",
       "    <tr>\n",
       "      <th>148</th>\n",
       "      <td>8220DB001228</td>\n",
       "      <td>53.392429</td>\n",
       "      <td>-6.218513</td>\n",
       "      <td>Bus Stop</td>\n",
       "    </tr>\n",
       "    <tr>\n",
       "      <th>149</th>\n",
       "      <td>8220DB001237</td>\n",
       "      <td>53.392679</td>\n",
       "      <td>-6.218983</td>\n",
       "      <td>Bus Stop</td>\n",
       "    </tr>\n",
       "    <tr>\n",
       "      <th>...</th>\n",
       "      <td>...</td>\n",
       "      <td>...</td>\n",
       "      <td>...</td>\n",
       "      <td>...</td>\n",
       "    </tr>\n",
       "    <tr>\n",
       "      <th>20913</th>\n",
       "      <td>335669092065216545</td>\n",
       "      <td>53.350485</td>\n",
       "      <td>-6.251706</td>\n",
       "      <td>Garda Station</td>\n",
       "    </tr>\n",
       "    <tr>\n",
       "      <th>20914</th>\n",
       "      <td>-2929472627633050549</td>\n",
       "      <td>53.330200</td>\n",
       "      <td>-6.298697</td>\n",
       "      <td>Garda Station</td>\n",
       "    </tr>\n",
       "    <tr>\n",
       "      <th>20915</th>\n",
       "      <td>-2353137422696222238</td>\n",
       "      <td>53.456024</td>\n",
       "      <td>-6.221112</td>\n",
       "      <td>Garda Station</td>\n",
       "    </tr>\n",
       "    <tr>\n",
       "      <th>20916</th>\n",
       "      <td>-7090078857436701833</td>\n",
       "      <td>53.286807</td>\n",
       "      <td>-6.367589</td>\n",
       "      <td>Garda Station</td>\n",
       "    </tr>\n",
       "    <tr>\n",
       "      <th>20917</th>\n",
       "      <td>8817503196487675986</td>\n",
       "      <td>53.309990</td>\n",
       "      <td>-6.287810</td>\n",
       "      <td>Garda Station</td>\n",
       "    </tr>\n",
       "  </tbody>\n",
       "</table>\n",
       "<p>7391 rows × 4 columns</p>\n",
       "</div>"
      ],
      "text/plain": [
       "                         ID   Latitude  Longitude           Type\n",
       "145            8220DB001738  53.363451  -6.223914       Bus Stop\n",
       "146            8220DB007516  53.402076  -6.171727       Bus Stop\n",
       "147            8220DB000592  53.382733  -6.148383       Bus Stop\n",
       "148            8220DB001228  53.392429  -6.218513       Bus Stop\n",
       "149            8220DB001237  53.392679  -6.218983       Bus Stop\n",
       "...                     ...        ...        ...            ...\n",
       "20913    335669092065216545  53.350485  -6.251706  Garda Station\n",
       "20914  -2929472627633050549  53.330200  -6.298697  Garda Station\n",
       "20915  -2353137422696222238  53.456024  -6.221112  Garda Station\n",
       "20916  -7090078857436701833  53.286807  -6.367589  Garda Station\n",
       "20917   8817503196487675986  53.309990  -6.287810  Garda Station\n",
       "\n",
       "[7391 rows x 4 columns]"
      ]
     },
     "execution_count": 103,
     "metadata": {},
     "output_type": "execute_result"
    },
    {
     "name": "stdout",
     "output_type": "stream",
     "text": [
      "time: 0 ns (started: 2021-04-25 19:42:04 +01:00)\n"
     ]
    }
   ],
   "source": [
    "blts_df"
   ]
  },
  {
   "cell_type": "code",
   "execution_count": 108,
   "metadata": {},
   "outputs": [
    {
     "name": "stdout",
     "output_type": "stream",
     "text": [
      "time: 31 ms (started: 2021-04-25 19:43:52 +01:00)\n"
     ]
    }
   ],
   "source": [
    "blts_df.to_csv('data/amenities_df.csv', index=False, header=True)"
   ]
  },
  {
   "cell_type": "code",
   "execution_count": 63,
   "metadata": {},
   "outputs": [
    {
     "name": "stdout",
     "output_type": "stream",
     "text": [
      "time: 0 ns (started: 2021-04-21 19:09:12 +01:00)\n"
     ]
    }
   ],
   "source": [
    "scatter_test = blts_df"
   ]
  },
  {
   "cell_type": "markdown",
   "metadata": {},
   "source": [
    "- Outliers are gone, and seems to be all inside an area."
   ]
  },
  {
   "cell_type": "code",
   "execution_count": 64,
   "metadata": {},
   "outputs": [
    {
     "data": {
      "text/plain": [
       "<matplotlib.axes._subplots.AxesSubplot at 0x256c913b4f0>"
      ]
     },
     "execution_count": 64,
     "metadata": {},
     "output_type": "execute_result"
    },
    {
     "data": {
      "image/png": "[encoded data removed]",
      "text/plain": [
       "<Figure size 1080x576 with 1 Axes>"
      ]
     },
     "metadata": {
      "needs_background": "light"
     },
     "output_type": "display_data"
    },
    {
     "name": "stdout",
     "output_type": "stream",
     "text": [
      "time: 156 ms (started: 2021-04-21 19:09:13 +01:00)\n"
     ]
    }
   ],
   "source": [
    "import matplotlib.pyplot as plt\n",
    "import seaborn as sns\n",
    "plt.figure(figsize = (15,8))\n",
    "sns.scatterplot(scatter_test[\"Latitude\"], scatter_test[\"Longitude\"])"
   ]
  },
  {
   "cell_type": "markdown",
   "metadata": {},
   "source": [
    "Check on the map if it is working."
   ]
  },
  {
   "cell_type": "code",
   "execution_count": 65,
   "metadata": {},
   "outputs": [
    {
     "name": "stdout",
     "output_type": "stream",
     "text": [
      "time: 3.14 s (started: 2021-04-21 19:09:16 +01:00)\n"
     ]
    }
   ],
   "source": [
    "import folium\n",
    "\n",
    "map_pickup = folium.Map( location=[53.347409, -6.272184])\n",
    "\n",
    "blts_df.apply(lambda row:folium.Circle(location=[row[\"Latitude\"], row[\"Longitude\"]] ).add_to(map_pickup), axis=1)\n",
    "\n",
    "map_pickup\n",
    "\n",
    "map_pickup.save('map_pickup.html')"
   ]
  },
  {
   "cell_type": "markdown",
   "metadata": {},
   "source": [
    "_________________________________________"
   ]
  },
  {
   "cell_type": "markdown",
   "metadata": {},
   "source": [
    "# Calculating what is around a coordinate.\n",
    "\n",
    "- This took 29 hours to run, so not a good idea to run this cell now.\n",
    "- It can be separated in many notebooks(separate the dataset in many parts) to run faster.\n",
    "- Comments are straight into the code to make it easier to understand each line."
   ]
  },
  {
   "cell_type": "code",
   "execution_count": 80,
   "metadata": {},
   "outputs": [
    {
     "name": "stdout",
     "output_type": "stream",
     "text": [
      "time: 0 ns (started: 2021-04-21 19:41:55 +01:00)\n"
     ]
    }
   ],
   "source": [
    "test_df = houses_df_test.head(1)"
   ]
  },
  {
   "cell_type": "code",
   "execution_count": 82,
   "metadata": {},
   "outputs": [
    {
     "name": "stdout",
     "output_type": "stream",
     "text": [
      "time: 1d 5h 20min 31s (started: 2021-04-21 19:43:25 +01:00)\n"
     ]
    }
   ],
   "source": [
    "from geopy.distance import geodesic\n",
    "\n",
    "#Create new dataframe.\n",
    "df = pd.DataFrame(columns = ['ID', 'Luas_quantity', 'Bus_quantity','Train_quantity','PS_quantity','SS_quantity','Garda_quantity'])\n",
    "\n",
    "#Loop through the properties dataset.\n",
    "for label, row in houses_df_test.iterrows():\n",
    "    #Set the counter variables.\n",
    "    luas = 0\n",
    "    bus = 0\n",
    "    train = 0\n",
    "    PS = 0\n",
    "    SS = 0\n",
    "    garda = 0\n",
    "    \n",
    "    #Loop through the blts dataset.\n",
    "    for label1, row1 in blts_df.iterrows():\n",
    "        #Calculate the distance from the property to the current blts row.\n",
    "        distance_in_km = geodesic((row['Latitude'],row['Longitude']),(row1['Latitude'],row1['Longitude'])).km\n",
    "        #Set if statements to add to counter if certain type and smaller or equal to 1km.\n",
    "        if distance_in_km <= 1 and row1['Type'] == \"Bus Stop\":\n",
    "            bus += 1\n",
    "        \n",
    "        elif distance_in_km <= 1 and row1['Type'] == \"Luas Stop\":\n",
    "            luas += 1\n",
    "            \n",
    "            \n",
    "        elif distance_in_km <= 1 and row1['Type'] == \"Train Stop\":\n",
    "            train += 1\n",
    "            \n",
    "        elif distance_in_km <= 1 and row1['Type'] == \"Primary School\":\n",
    "            PS += 1\n",
    "            \n",
    "        elif distance_in_km <= 1 and row1['Type'] == \"Secondary School\":\n",
    "            SS += 1\n",
    "        \n",
    "        elif distance_in_km <= 1 and row1['Type'] == \"Garda Station\":\n",
    "            garda += 1\n",
    "            \n",
    "            \n",
    "    #Append in the end to our dataframe.\n",
    "    df = df.append({'ID': row['ID'],'Luas_quantity': luas,'Bus_quantity':bus, 'Train_quantity':train, 'PS_quantity':PS,'SS_quantity':SS, 'Garda_quantity':garda}, ignore_index = True)"
   ]
  },
  {
   "cell_type": "markdown",
   "metadata": {},
   "source": [
    "- Dataframe resulted from the alghoritm above, it returned everything as float."
   ]
  },
  {
   "cell_type": "code",
   "execution_count": 83,
   "metadata": {},
   "outputs": [
    {
     "data": {
      "text/html": [
       "<div>\n",
       "<style scoped>\n",
       "    .dataframe tbody tr th:only-of-type {\n",
       "        vertical-align: middle;\n",
       "    }\n",
       "\n",
       "    .dataframe tbody tr th {\n",
       "        vertical-align: top;\n",
       "    }\n",
       "\n",
       "    .dataframe thead th {\n",
       "        text-align: right;\n",
       "    }\n",
       "</style>\n",
       "<table border=\"1\" class=\"dataframe\">\n",
       "  <thead>\n",
       "    <tr style=\"text-align: right;\">\n",
       "      <th></th>\n",
       "      <th>ID</th>\n",
       "      <th>Luas_quantity</th>\n",
       "      <th>Bus_quantity</th>\n",
       "      <th>Train_quantity</th>\n",
       "      <th>PS_quantity</th>\n",
       "      <th>SS_quantity</th>\n",
       "      <th>Garda_quantity</th>\n",
       "    </tr>\n",
       "  </thead>\n",
       "  <tbody>\n",
       "    <tr>\n",
       "      <th>0</th>\n",
       "      <td>0.0</td>\n",
       "      <td>0.0</td>\n",
       "      <td>32.0</td>\n",
       "      <td>0.0</td>\n",
       "      <td>1.0</td>\n",
       "      <td>0.0</td>\n",
       "      <td>0.0</td>\n",
       "    </tr>\n",
       "    <tr>\n",
       "      <th>1</th>\n",
       "      <td>1.0</td>\n",
       "      <td>0.0</td>\n",
       "      <td>32.0</td>\n",
       "      <td>0.0</td>\n",
       "      <td>1.0</td>\n",
       "      <td>0.0</td>\n",
       "      <td>0.0</td>\n",
       "    </tr>\n",
       "    <tr>\n",
       "      <th>2</th>\n",
       "      <td>2.0</td>\n",
       "      <td>0.0</td>\n",
       "      <td>34.0</td>\n",
       "      <td>0.0</td>\n",
       "      <td>1.0</td>\n",
       "      <td>0.0</td>\n",
       "      <td>0.0</td>\n",
       "    </tr>\n",
       "    <tr>\n",
       "      <th>3</th>\n",
       "      <td>3.0</td>\n",
       "      <td>0.0</td>\n",
       "      <td>32.0</td>\n",
       "      <td>0.0</td>\n",
       "      <td>1.0</td>\n",
       "      <td>0.0</td>\n",
       "      <td>0.0</td>\n",
       "    </tr>\n",
       "    <tr>\n",
       "      <th>4</th>\n",
       "      <td>4.0</td>\n",
       "      <td>0.0</td>\n",
       "      <td>33.0</td>\n",
       "      <td>0.0</td>\n",
       "      <td>1.0</td>\n",
       "      <td>0.0</td>\n",
       "      <td>0.0</td>\n",
       "    </tr>\n",
       "    <tr>\n",
       "      <th>...</th>\n",
       "      <td>...</td>\n",
       "      <td>...</td>\n",
       "      <td>...</td>\n",
       "      <td>...</td>\n",
       "      <td>...</td>\n",
       "      <td>...</td>\n",
       "      <td>...</td>\n",
       "    </tr>\n",
       "    <tr>\n",
       "      <th>46399</th>\n",
       "      <td>46399.0</td>\n",
       "      <td>0.0</td>\n",
       "      <td>49.0</td>\n",
       "      <td>1.0</td>\n",
       "      <td>5.0</td>\n",
       "      <td>0.0</td>\n",
       "      <td>0.0</td>\n",
       "    </tr>\n",
       "    <tr>\n",
       "      <th>46400</th>\n",
       "      <td>46400.0</td>\n",
       "      <td>4.0</td>\n",
       "      <td>64.0</td>\n",
       "      <td>0.0</td>\n",
       "      <td>5.0</td>\n",
       "      <td>2.0</td>\n",
       "      <td>0.0</td>\n",
       "    </tr>\n",
       "    <tr>\n",
       "      <th>46401</th>\n",
       "      <td>46401.0</td>\n",
       "      <td>0.0</td>\n",
       "      <td>39.0</td>\n",
       "      <td>1.0</td>\n",
       "      <td>3.0</td>\n",
       "      <td>1.0</td>\n",
       "      <td>0.0</td>\n",
       "    </tr>\n",
       "    <tr>\n",
       "      <th>46402</th>\n",
       "      <td>46402.0</td>\n",
       "      <td>6.0</td>\n",
       "      <td>49.0</td>\n",
       "      <td>0.0</td>\n",
       "      <td>3.0</td>\n",
       "      <td>1.0</td>\n",
       "      <td>0.0</td>\n",
       "    </tr>\n",
       "    <tr>\n",
       "      <th>46403</th>\n",
       "      <td>46403.0</td>\n",
       "      <td>0.0</td>\n",
       "      <td>91.0</td>\n",
       "      <td>0.0</td>\n",
       "      <td>6.0</td>\n",
       "      <td>6.0</td>\n",
       "      <td>0.0</td>\n",
       "    </tr>\n",
       "  </tbody>\n",
       "</table>\n",
       "<p>46404 rows × 7 columns</p>\n",
       "</div>"
      ],
      "text/plain": [
       "            ID  Luas_quantity  Bus_quantity  Train_quantity  PS_quantity  \\\n",
       "0          0.0            0.0          32.0             0.0          1.0   \n",
       "1          1.0            0.0          32.0             0.0          1.0   \n",
       "2          2.0            0.0          34.0             0.0          1.0   \n",
       "3          3.0            0.0          32.0             0.0          1.0   \n",
       "4          4.0            0.0          33.0             0.0          1.0   \n",
       "...        ...            ...           ...             ...          ...   \n",
       "46399  46399.0            0.0          49.0             1.0          5.0   \n",
       "46400  46400.0            4.0          64.0             0.0          5.0   \n",
       "46401  46401.0            0.0          39.0             1.0          3.0   \n",
       "46402  46402.0            6.0          49.0             0.0          3.0   \n",
       "46403  46403.0            0.0          91.0             0.0          6.0   \n",
       "\n",
       "       SS_quantity  Garda_quantity  \n",
       "0              0.0             0.0  \n",
       "1              0.0             0.0  \n",
       "2              0.0             0.0  \n",
       "3              0.0             0.0  \n",
       "4              0.0             0.0  \n",
       "...            ...             ...  \n",
       "46399          0.0             0.0  \n",
       "46400          2.0             0.0  \n",
       "46401          1.0             0.0  \n",
       "46402          1.0             0.0  \n",
       "46403          6.0             0.0  \n",
       "\n",
       "[46404 rows x 7 columns]"
      ]
     },
     "execution_count": 83,
     "metadata": {},
     "output_type": "execute_result"
    },
    {
     "name": "stdout",
     "output_type": "stream",
     "text": [
      "time: 32 ms (started: 2021-04-23 01:03:57 +01:00)\n"
     ]
    }
   ],
   "source": [
    "df"
   ]
  },
  {
   "cell_type": "markdown",
   "metadata": {},
   "source": [
    "- Saved the dataset to be sure in case something goes wrong and I am not around."
   ]
  },
  {
   "cell_type": "code",
   "execution_count": 84,
   "metadata": {},
   "outputs": [
    {
     "name": "stdout",
     "output_type": "stream",
     "text": [
      "time: 250 ms (started: 2021-04-23 01:03:57 +01:00)\n"
     ]
    }
   ],
   "source": [
    "df.to_csv ('Data\\processed_df.csv', index = False, header=True)"
   ]
  },
  {
   "cell_type": "markdown",
   "metadata": {},
   "source": [
    "- Transform everything to int."
   ]
  },
  {
   "cell_type": "code",
   "execution_count": 86,
   "metadata": {},
   "outputs": [
    {
     "name": "stdout",
     "output_type": "stream",
     "text": [
      "time: 0 ns (started: 2021-04-23 13:16:59 +01:00)\n"
     ]
    }
   ],
   "source": [
    "df = df.astype(int)"
   ]
  },
  {
   "cell_type": "markdown",
   "metadata": {},
   "source": [
    "- Now the dataframe are all integers."
   ]
  },
  {
   "cell_type": "code",
   "execution_count": 87,
   "metadata": {},
   "outputs": [
    {
     "data": {
      "text/html": [
       "<div>\n",
       "<style scoped>\n",
       "    .dataframe tbody tr th:only-of-type {\n",
       "        vertical-align: middle;\n",
       "    }\n",
       "\n",
       "    .dataframe tbody tr th {\n",
       "        vertical-align: top;\n",
       "    }\n",
       "\n",
       "    .dataframe thead th {\n",
       "        text-align: right;\n",
       "    }\n",
       "</style>\n",
       "<table border=\"1\" class=\"dataframe\">\n",
       "  <thead>\n",
       "    <tr style=\"text-align: right;\">\n",
       "      <th></th>\n",
       "      <th>ID</th>\n",
       "      <th>Luas_quantity</th>\n",
       "      <th>Bus_quantity</th>\n",
       "      <th>Train_quantity</th>\n",
       "      <th>PS_quantity</th>\n",
       "      <th>SS_quantity</th>\n",
       "      <th>Garda_quantity</th>\n",
       "    </tr>\n",
       "  </thead>\n",
       "  <tbody>\n",
       "    <tr>\n",
       "      <th>0</th>\n",
       "      <td>0</td>\n",
       "      <td>0</td>\n",
       "      <td>32</td>\n",
       "      <td>0</td>\n",
       "      <td>1</td>\n",
       "      <td>0</td>\n",
       "      <td>0</td>\n",
       "    </tr>\n",
       "    <tr>\n",
       "      <th>1</th>\n",
       "      <td>1</td>\n",
       "      <td>0</td>\n",
       "      <td>32</td>\n",
       "      <td>0</td>\n",
       "      <td>1</td>\n",
       "      <td>0</td>\n",
       "      <td>0</td>\n",
       "    </tr>\n",
       "    <tr>\n",
       "      <th>2</th>\n",
       "      <td>2</td>\n",
       "      <td>0</td>\n",
       "      <td>34</td>\n",
       "      <td>0</td>\n",
       "      <td>1</td>\n",
       "      <td>0</td>\n",
       "      <td>0</td>\n",
       "    </tr>\n",
       "    <tr>\n",
       "      <th>3</th>\n",
       "      <td>3</td>\n",
       "      <td>0</td>\n",
       "      <td>32</td>\n",
       "      <td>0</td>\n",
       "      <td>1</td>\n",
       "      <td>0</td>\n",
       "      <td>0</td>\n",
       "    </tr>\n",
       "    <tr>\n",
       "      <th>4</th>\n",
       "      <td>4</td>\n",
       "      <td>0</td>\n",
       "      <td>33</td>\n",
       "      <td>0</td>\n",
       "      <td>1</td>\n",
       "      <td>0</td>\n",
       "      <td>0</td>\n",
       "    </tr>\n",
       "    <tr>\n",
       "      <th>...</th>\n",
       "      <td>...</td>\n",
       "      <td>...</td>\n",
       "      <td>...</td>\n",
       "      <td>...</td>\n",
       "      <td>...</td>\n",
       "      <td>...</td>\n",
       "      <td>...</td>\n",
       "    </tr>\n",
       "    <tr>\n",
       "      <th>46399</th>\n",
       "      <td>46399</td>\n",
       "      <td>0</td>\n",
       "      <td>49</td>\n",
       "      <td>1</td>\n",
       "      <td>5</td>\n",
       "      <td>0</td>\n",
       "      <td>0</td>\n",
       "    </tr>\n",
       "    <tr>\n",
       "      <th>46400</th>\n",
       "      <td>46400</td>\n",
       "      <td>4</td>\n",
       "      <td>64</td>\n",
       "      <td>0</td>\n",
       "      <td>5</td>\n",
       "      <td>2</td>\n",
       "      <td>0</td>\n",
       "    </tr>\n",
       "    <tr>\n",
       "      <th>46401</th>\n",
       "      <td>46401</td>\n",
       "      <td>0</td>\n",
       "      <td>39</td>\n",
       "      <td>1</td>\n",
       "      <td>3</td>\n",
       "      <td>1</td>\n",
       "      <td>0</td>\n",
       "    </tr>\n",
       "    <tr>\n",
       "      <th>46402</th>\n",
       "      <td>46402</td>\n",
       "      <td>6</td>\n",
       "      <td>49</td>\n",
       "      <td>0</td>\n",
       "      <td>3</td>\n",
       "      <td>1</td>\n",
       "      <td>0</td>\n",
       "    </tr>\n",
       "    <tr>\n",
       "      <th>46403</th>\n",
       "      <td>46403</td>\n",
       "      <td>0</td>\n",
       "      <td>91</td>\n",
       "      <td>0</td>\n",
       "      <td>6</td>\n",
       "      <td>6</td>\n",
       "      <td>0</td>\n",
       "    </tr>\n",
       "  </tbody>\n",
       "</table>\n",
       "<p>46404 rows × 7 columns</p>\n",
       "</div>"
      ],
      "text/plain": [
       "          ID  Luas_quantity  Bus_quantity  Train_quantity  PS_quantity  \\\n",
       "0          0              0            32               0            1   \n",
       "1          1              0            32               0            1   \n",
       "2          2              0            34               0            1   \n",
       "3          3              0            32               0            1   \n",
       "4          4              0            33               0            1   \n",
       "...      ...            ...           ...             ...          ...   \n",
       "46399  46399              0            49               1            5   \n",
       "46400  46400              4            64               0            5   \n",
       "46401  46401              0            39               1            3   \n",
       "46402  46402              6            49               0            3   \n",
       "46403  46403              0            91               0            6   \n",
       "\n",
       "       SS_quantity  Garda_quantity  \n",
       "0                0               0  \n",
       "1                0               0  \n",
       "2                0               0  \n",
       "3                0               0  \n",
       "4                0               0  \n",
       "...            ...             ...  \n",
       "46399            0               0  \n",
       "46400            2               0  \n",
       "46401            1               0  \n",
       "46402            1               0  \n",
       "46403            6               0  \n",
       "\n",
       "[46404 rows x 7 columns]"
      ]
     },
     "execution_count": 87,
     "metadata": {},
     "output_type": "execute_result"
    },
    {
     "name": "stdout",
     "output_type": "stream",
     "text": [
      "time: 16 ms (started: 2021-04-23 13:17:03 +01:00)\n"
     ]
    }
   ],
   "source": [
    "df"
   ]
  },
  {
   "cell_type": "markdown",
   "metadata": {},
   "source": [
    "# Creating the final_df (final dataset)."
   ]
  },
  {
   "cell_type": "markdown",
   "metadata": {},
   "source": [
    "- Merge both houses_df and the resulting df into one."
   ]
  },
  {
   "cell_type": "code",
   "execution_count": 88,
   "metadata": {},
   "outputs": [
    {
     "name": "stdout",
     "output_type": "stream",
     "text": [
      "time: 46 ms (started: 2021-04-23 13:18:05 +01:00)\n"
     ]
    }
   ],
   "source": [
    "final_df = pd.merge(df,houses_df)"
   ]
  },
  {
   "cell_type": "markdown",
   "metadata": {},
   "source": [
    "Now we have our final dataset."
   ]
  },
  {
   "cell_type": "markdown",
   "metadata": {},
   "source": [
    "- Save the dataset."
   ]
  },
  {
   "cell_type": "code",
   "execution_count": 95,
   "metadata": {},
   "outputs": [
    {
     "name": "stdout",
     "output_type": "stream",
     "text": [
      "time: 297 ms (started: 2021-04-23 13:21:27 +01:00)\n"
     ]
    }
   ],
   "source": [
    "final_df.to_csv('data/final_df.csv',index = False, header=True)"
   ]
  },
  {
   "cell_type": "markdown",
   "metadata": {},
   "source": [
    "# Troubleshooting Code."
   ]
  },
  {
   "cell_type": "markdown",
   "metadata": {},
   "source": [
    "- Separating in 4 datasets and saving them to create 4 notebooks:"
   ]
  },
  {
   "cell_type": "code",
   "execution_count": 90,
   "metadata": {},
   "outputs": [
    {
     "name": "stdout",
     "output_type": "stream",
     "text": [
      "time: 0 ns (started: 2021-04-25 19:36:42 +01:00)\n"
     ]
    }
   ],
   "source": [
    "df1 = houses_df_test.iloc[0:11601]\n",
    "df2 = houses_df_test.iloc[11601:23202]\n",
    "df3 = houses_df_test.iloc[23202:34803]\n",
    "df4 = houses_df_test.iloc[34803:46404]"
   ]
  },
  {
   "cell_type": "code",
   "execution_count": 95,
   "metadata": {},
   "outputs": [
    {
     "name": "stdout",
     "output_type": "stream",
     "text": [
      "time: 47 ms (started: 2021-04-25 19:38:40 +01:00)\n"
     ]
    }
   ],
   "source": [
    "df1\n",
    "df1.to_csv('data/final/df1.csv',index = False, header=True)"
   ]
  },
  {
   "cell_type": "code",
   "execution_count": 96,
   "metadata": {},
   "outputs": [
    {
     "name": "stdout",
     "output_type": "stream",
     "text": [
      "time: 47 ms (started: 2021-04-25 19:38:59 +01:00)\n"
     ]
    }
   ],
   "source": [
    "df2\n",
    "df2.to_csv('data/final/df2.csv',index = False, header=True)"
   ]
  },
  {
   "cell_type": "code",
   "execution_count": 97,
   "metadata": {},
   "outputs": [
    {
     "name": "stdout",
     "output_type": "stream",
     "text": [
      "time: 47 ms (started: 2021-04-25 19:39:06 +01:00)\n"
     ]
    }
   ],
   "source": [
    "df3\n",
    "df3.to_csv('data/final/df3.csv',index = False, header=True)"
   ]
  },
  {
   "cell_type": "code",
   "execution_count": 98,
   "metadata": {},
   "outputs": [
    {
     "name": "stdout",
     "output_type": "stream",
     "text": [
      "time: 47 ms (started: 2021-04-25 19:39:23 +01:00)\n"
     ]
    }
   ],
   "source": [
    "df4\n",
    "df4.to_csv('data/final/df4.csv',index = False, header=True)"
   ]
  },
  {
   "cell_type": "markdown",
   "metadata": {},
   "source": [
    "- After merging them all together:"
   ]
  },
  {
   "cell_type": "code",
   "execution_count": 30,
   "metadata": {},
   "outputs": [
    {
     "name": "stdout",
     "output_type": "stream",
     "text": [
      "time: 31 ms (started: 2021-04-29 11:58:18 +01:00)\n"
     ]
    }
   ],
   "source": [
    "processed = pd.read_csv('Data/processed_df.csv')"
   ]
  },
  {
   "cell_type": "code",
   "execution_count": 31,
   "metadata": {},
   "outputs": [
    {
     "data": {
      "text/html": [
       "<div>\n",
       "<style scoped>\n",
       "    .dataframe tbody tr th:only-of-type {\n",
       "        vertical-align: middle;\n",
       "    }\n",
       "\n",
       "    .dataframe tbody tr th {\n",
       "        vertical-align: top;\n",
       "    }\n",
       "\n",
       "    .dataframe thead th {\n",
       "        text-align: right;\n",
       "    }\n",
       "</style>\n",
       "<table border=\"1\" class=\"dataframe\">\n",
       "  <thead>\n",
       "    <tr style=\"text-align: right;\">\n",
       "      <th></th>\n",
       "      <th>ID</th>\n",
       "      <th>Luas_quantity</th>\n",
       "      <th>Bus_quantity</th>\n",
       "      <th>Train_quantity</th>\n",
       "      <th>PS_quantity</th>\n",
       "      <th>SS_quantity</th>\n",
       "      <th>Garda_quantity</th>\n",
       "    </tr>\n",
       "  </thead>\n",
       "  <tbody>\n",
       "    <tr>\n",
       "      <th>0</th>\n",
       "      <td>0.0</td>\n",
       "      <td>0.0</td>\n",
       "      <td>32.0</td>\n",
       "      <td>0.0</td>\n",
       "      <td>1.0</td>\n",
       "      <td>0.0</td>\n",
       "      <td>0.0</td>\n",
       "    </tr>\n",
       "    <tr>\n",
       "      <th>1</th>\n",
       "      <td>1.0</td>\n",
       "      <td>0.0</td>\n",
       "      <td>32.0</td>\n",
       "      <td>0.0</td>\n",
       "      <td>1.0</td>\n",
       "      <td>0.0</td>\n",
       "      <td>0.0</td>\n",
       "    </tr>\n",
       "    <tr>\n",
       "      <th>2</th>\n",
       "      <td>2.0</td>\n",
       "      <td>0.0</td>\n",
       "      <td>34.0</td>\n",
       "      <td>0.0</td>\n",
       "      <td>1.0</td>\n",
       "      <td>0.0</td>\n",
       "      <td>0.0</td>\n",
       "    </tr>\n",
       "    <tr>\n",
       "      <th>3</th>\n",
       "      <td>3.0</td>\n",
       "      <td>0.0</td>\n",
       "      <td>32.0</td>\n",
       "      <td>0.0</td>\n",
       "      <td>1.0</td>\n",
       "      <td>0.0</td>\n",
       "      <td>0.0</td>\n",
       "    </tr>\n",
       "    <tr>\n",
       "      <th>4</th>\n",
       "      <td>4.0</td>\n",
       "      <td>0.0</td>\n",
       "      <td>33.0</td>\n",
       "      <td>0.0</td>\n",
       "      <td>1.0</td>\n",
       "      <td>0.0</td>\n",
       "      <td>0.0</td>\n",
       "    </tr>\n",
       "    <tr>\n",
       "      <th>...</th>\n",
       "      <td>...</td>\n",
       "      <td>...</td>\n",
       "      <td>...</td>\n",
       "      <td>...</td>\n",
       "      <td>...</td>\n",
       "      <td>...</td>\n",
       "      <td>...</td>\n",
       "    </tr>\n",
       "    <tr>\n",
       "      <th>46399</th>\n",
       "      <td>46399.0</td>\n",
       "      <td>0.0</td>\n",
       "      <td>49.0</td>\n",
       "      <td>1.0</td>\n",
       "      <td>5.0</td>\n",
       "      <td>0.0</td>\n",
       "      <td>0.0</td>\n",
       "    </tr>\n",
       "    <tr>\n",
       "      <th>46400</th>\n",
       "      <td>46400.0</td>\n",
       "      <td>4.0</td>\n",
       "      <td>64.0</td>\n",
       "      <td>0.0</td>\n",
       "      <td>5.0</td>\n",
       "      <td>2.0</td>\n",
       "      <td>0.0</td>\n",
       "    </tr>\n",
       "    <tr>\n",
       "      <th>46401</th>\n",
       "      <td>46401.0</td>\n",
       "      <td>0.0</td>\n",
       "      <td>39.0</td>\n",
       "      <td>1.0</td>\n",
       "      <td>3.0</td>\n",
       "      <td>1.0</td>\n",
       "      <td>0.0</td>\n",
       "    </tr>\n",
       "    <tr>\n",
       "      <th>46402</th>\n",
       "      <td>46402.0</td>\n",
       "      <td>6.0</td>\n",
       "      <td>49.0</td>\n",
       "      <td>0.0</td>\n",
       "      <td>3.0</td>\n",
       "      <td>1.0</td>\n",
       "      <td>0.0</td>\n",
       "    </tr>\n",
       "    <tr>\n",
       "      <th>46403</th>\n",
       "      <td>46403.0</td>\n",
       "      <td>0.0</td>\n",
       "      <td>91.0</td>\n",
       "      <td>0.0</td>\n",
       "      <td>6.0</td>\n",
       "      <td>6.0</td>\n",
       "      <td>0.0</td>\n",
       "    </tr>\n",
       "  </tbody>\n",
       "</table>\n",
       "<p>46404 rows × 7 columns</p>\n",
       "</div>"
      ],
      "text/plain": [
       "            ID  Luas_quantity  Bus_quantity  Train_quantity  PS_quantity  \\\n",
       "0          0.0            0.0          32.0             0.0          1.0   \n",
       "1          1.0            0.0          32.0             0.0          1.0   \n",
       "2          2.0            0.0          34.0             0.0          1.0   \n",
       "3          3.0            0.0          32.0             0.0          1.0   \n",
       "4          4.0            0.0          33.0             0.0          1.0   \n",
       "...        ...            ...           ...             ...          ...   \n",
       "46399  46399.0            0.0          49.0             1.0          5.0   \n",
       "46400  46400.0            4.0          64.0             0.0          5.0   \n",
       "46401  46401.0            0.0          39.0             1.0          3.0   \n",
       "46402  46402.0            6.0          49.0             0.0          3.0   \n",
       "46403  46403.0            0.0          91.0             0.0          6.0   \n",
       "\n",
       "       SS_quantity  Garda_quantity  \n",
       "0              0.0             0.0  \n",
       "1              0.0             0.0  \n",
       "2              0.0             0.0  \n",
       "3              0.0             0.0  \n",
       "4              0.0             0.0  \n",
       "...            ...             ...  \n",
       "46399          0.0             0.0  \n",
       "46400          2.0             0.0  \n",
       "46401          1.0             0.0  \n",
       "46402          1.0             0.0  \n",
       "46403          6.0             0.0  \n",
       "\n",
       "[46404 rows x 7 columns]"
      ]
     },
     "execution_count": 31,
     "metadata": {},
     "output_type": "execute_result"
    },
    {
     "name": "stdout",
     "output_type": "stream",
     "text": [
      "time: 16 ms (started: 2021-04-29 11:58:20 +01:00)\n"
     ]
    }
   ],
   "source": [
    "processed"
   ]
  },
  {
   "cell_type": "markdown",
   "metadata": {},
   "source": [
    "Merging with the houses_df:"
   ]
  },
  {
   "cell_type": "code",
   "execution_count": 32,
   "metadata": {},
   "outputs": [
    {
     "name": "stdout",
     "output_type": "stream",
     "text": [
      "time: 47 ms (started: 2021-04-29 11:58:32 +01:00)\n"
     ]
    }
   ],
   "source": [
    "final_df = pd.merge(processed,houses_df)"
   ]
  },
  {
   "cell_type": "code",
   "execution_count": 33,
   "metadata": {},
   "outputs": [
    {
     "data": {
      "text/html": [
       "<div>\n",
       "<style scoped>\n",
       "    .dataframe tbody tr th:only-of-type {\n",
       "        vertical-align: middle;\n",
       "    }\n",
       "\n",
       "    .dataframe tbody tr th {\n",
       "        vertical-align: top;\n",
       "    }\n",
       "\n",
       "    .dataframe thead th {\n",
       "        text-align: right;\n",
       "    }\n",
       "</style>\n",
       "<table border=\"1\" class=\"dataframe\">\n",
       "  <thead>\n",
       "    <tr style=\"text-align: right;\">\n",
       "      <th></th>\n",
       "      <th>ID</th>\n",
       "      <th>Luas_quantity</th>\n",
       "      <th>Bus_quantity</th>\n",
       "      <th>Train_quantity</th>\n",
       "      <th>PS_quantity</th>\n",
       "      <th>SS_quantity</th>\n",
       "      <th>Garda_quantity</th>\n",
       "      <th>Date of Sale</th>\n",
       "      <th>Postal Code</th>\n",
       "      <th>Price</th>\n",
       "      <th>Not Full Market Price</th>\n",
       "      <th>VAT Exclusive</th>\n",
       "      <th>Description of Property</th>\n",
       "      <th>Longitude</th>\n",
       "      <th>Latitude</th>\n",
       "      <th>Neighborhood</th>\n",
       "    </tr>\n",
       "  </thead>\n",
       "  <tbody>\n",
       "    <tr>\n",
       "      <th>0</th>\n",
       "      <td>0.0</td>\n",
       "      <td>0.0</td>\n",
       "      <td>32.0</td>\n",
       "      <td>0.0</td>\n",
       "      <td>1.0</td>\n",
       "      <td>0.0</td>\n",
       "      <td>0.0</td>\n",
       "      <td>2017-01-01</td>\n",
       "      <td>Dublin 3</td>\n",
       "      <td>242424.0</td>\n",
       "      <td>Yes</td>\n",
       "      <td>No</td>\n",
       "      <td>Second-Hand Dwelling house /Apartment</td>\n",
       "      <td>-6.181405</td>\n",
       "      <td>53.362710</td>\n",
       "      <td>Clontarf</td>\n",
       "    </tr>\n",
       "    <tr>\n",
       "      <th>1</th>\n",
       "      <td>1.0</td>\n",
       "      <td>0.0</td>\n",
       "      <td>32.0</td>\n",
       "      <td>0.0</td>\n",
       "      <td>1.0</td>\n",
       "      <td>0.0</td>\n",
       "      <td>0.0</td>\n",
       "      <td>2017-01-01</td>\n",
       "      <td>Dublin 3</td>\n",
       "      <td>242424.0</td>\n",
       "      <td>Yes</td>\n",
       "      <td>No</td>\n",
       "      <td>Second-Hand Dwelling house /Apartment</td>\n",
       "      <td>-6.181405</td>\n",
       "      <td>53.362710</td>\n",
       "      <td>Clontarf</td>\n",
       "    </tr>\n",
       "    <tr>\n",
       "      <th>2</th>\n",
       "      <td>2.0</td>\n",
       "      <td>0.0</td>\n",
       "      <td>34.0</td>\n",
       "      <td>0.0</td>\n",
       "      <td>1.0</td>\n",
       "      <td>0.0</td>\n",
       "      <td>0.0</td>\n",
       "      <td>2017-01-01</td>\n",
       "      <td>Dublin 3</td>\n",
       "      <td>66000.0</td>\n",
       "      <td>Yes</td>\n",
       "      <td>No</td>\n",
       "      <td>Second-Hand Dwelling house /Apartment</td>\n",
       "      <td>-6.182833</td>\n",
       "      <td>53.362984</td>\n",
       "      <td>Clontarf</td>\n",
       "    </tr>\n",
       "    <tr>\n",
       "      <th>3</th>\n",
       "      <td>3.0</td>\n",
       "      <td>0.0</td>\n",
       "      <td>32.0</td>\n",
       "      <td>0.0</td>\n",
       "      <td>1.0</td>\n",
       "      <td>0.0</td>\n",
       "      <td>0.0</td>\n",
       "      <td>2017-01-01</td>\n",
       "      <td>Dublin 3</td>\n",
       "      <td>271800.0</td>\n",
       "      <td>Yes</td>\n",
       "      <td>No</td>\n",
       "      <td>Second-Hand Dwelling house /Apartment</td>\n",
       "      <td>-6.181405</td>\n",
       "      <td>53.362710</td>\n",
       "      <td>Clontarf</td>\n",
       "    </tr>\n",
       "    <tr>\n",
       "      <th>4</th>\n",
       "      <td>4.0</td>\n",
       "      <td>0.0</td>\n",
       "      <td>33.0</td>\n",
       "      <td>0.0</td>\n",
       "      <td>1.0</td>\n",
       "      <td>0.0</td>\n",
       "      <td>0.0</td>\n",
       "      <td>2017-01-01</td>\n",
       "      <td>Dublin 3</td>\n",
       "      <td>830000.0</td>\n",
       "      <td>No</td>\n",
       "      <td>No</td>\n",
       "      <td>Second-Hand Dwelling house /Apartment</td>\n",
       "      <td>-6.181892</td>\n",
       "      <td>53.365139</td>\n",
       "      <td>Clontarf</td>\n",
       "    </tr>\n",
       "    <tr>\n",
       "      <th>...</th>\n",
       "      <td>...</td>\n",
       "      <td>...</td>\n",
       "      <td>...</td>\n",
       "      <td>...</td>\n",
       "      <td>...</td>\n",
       "      <td>...</td>\n",
       "      <td>...</td>\n",
       "      <td>...</td>\n",
       "      <td>...</td>\n",
       "      <td>...</td>\n",
       "      <td>...</td>\n",
       "      <td>...</td>\n",
       "      <td>...</td>\n",
       "      <td>...</td>\n",
       "      <td>...</td>\n",
       "      <td>...</td>\n",
       "    </tr>\n",
       "    <tr>\n",
       "      <th>46399</th>\n",
       "      <td>46399.0</td>\n",
       "      <td>0.0</td>\n",
       "      <td>49.0</td>\n",
       "      <td>1.0</td>\n",
       "      <td>5.0</td>\n",
       "      <td>0.0</td>\n",
       "      <td>0.0</td>\n",
       "      <td>2019-08-16</td>\n",
       "      <td>Dublin 5</td>\n",
       "      <td>320000.0</td>\n",
       "      <td>No</td>\n",
       "      <td>No</td>\n",
       "      <td>Second-Hand Dwelling house /Apartment</td>\n",
       "      <td>-6.212927</td>\n",
       "      <td>53.376221</td>\n",
       "      <td>Clontarf West</td>\n",
       "    </tr>\n",
       "    <tr>\n",
       "      <th>46400</th>\n",
       "      <td>46400.0</td>\n",
       "      <td>4.0</td>\n",
       "      <td>64.0</td>\n",
       "      <td>0.0</td>\n",
       "      <td>5.0</td>\n",
       "      <td>2.0</td>\n",
       "      <td>0.0</td>\n",
       "      <td>2019-08-16</td>\n",
       "      <td>Dublin 14</td>\n",
       "      <td>285000.0</td>\n",
       "      <td>No</td>\n",
       "      <td>No</td>\n",
       "      <td>Second-Hand Dwelling house /Apartment</td>\n",
       "      <td>-6.246034</td>\n",
       "      <td>53.294678</td>\n",
       "      <td>Churchtown Lower</td>\n",
       "    </tr>\n",
       "    <tr>\n",
       "      <th>46401</th>\n",
       "      <td>46401.0</td>\n",
       "      <td>0.0</td>\n",
       "      <td>39.0</td>\n",
       "      <td>1.0</td>\n",
       "      <td>3.0</td>\n",
       "      <td>1.0</td>\n",
       "      <td>0.0</td>\n",
       "      <td>2019-08-16</td>\n",
       "      <td>Dublin 13</td>\n",
       "      <td>215000.0</td>\n",
       "      <td>No</td>\n",
       "      <td>No</td>\n",
       "      <td>Second-Hand Dwelling house /Apartment</td>\n",
       "      <td>-6.156979</td>\n",
       "      <td>53.403250</td>\n",
       "      <td>Donaghmede</td>\n",
       "    </tr>\n",
       "    <tr>\n",
       "      <th>46402</th>\n",
       "      <td>46402.0</td>\n",
       "      <td>6.0</td>\n",
       "      <td>49.0</td>\n",
       "      <td>0.0</td>\n",
       "      <td>3.0</td>\n",
       "      <td>1.0</td>\n",
       "      <td>0.0</td>\n",
       "      <td>2019-08-16</td>\n",
       "      <td>Dublin 18</td>\n",
       "      <td>365000.0</td>\n",
       "      <td>No</td>\n",
       "      <td>No</td>\n",
       "      <td>Second-Hand Dwelling house /Apartment</td>\n",
       "      <td>-6.215124</td>\n",
       "      <td>53.277574</td>\n",
       "      <td>Blackthorn</td>\n",
       "    </tr>\n",
       "    <tr>\n",
       "      <th>46403</th>\n",
       "      <td>46403.0</td>\n",
       "      <td>0.0</td>\n",
       "      <td>91.0</td>\n",
       "      <td>0.0</td>\n",
       "      <td>6.0</td>\n",
       "      <td>6.0</td>\n",
       "      <td>0.0</td>\n",
       "      <td>2019-08-16</td>\n",
       "      <td>Dublin 11</td>\n",
       "      <td>290000.0</td>\n",
       "      <td>No</td>\n",
       "      <td>No</td>\n",
       "      <td>Second-Hand Dwelling house /Apartment</td>\n",
       "      <td>-6.307564</td>\n",
       "      <td>53.390790</td>\n",
       "      <td>NaN</td>\n",
       "    </tr>\n",
       "  </tbody>\n",
       "</table>\n",
       "<p>46404 rows × 16 columns</p>\n",
       "</div>"
      ],
      "text/plain": [
       "            ID  Luas_quantity  Bus_quantity  Train_quantity  PS_quantity  \\\n",
       "0          0.0            0.0          32.0             0.0          1.0   \n",
       "1          1.0            0.0          32.0             0.0          1.0   \n",
       "2          2.0            0.0          34.0             0.0          1.0   \n",
       "3          3.0            0.0          32.0             0.0          1.0   \n",
       "4          4.0            0.0          33.0             0.0          1.0   \n",
       "...        ...            ...           ...             ...          ...   \n",
       "46399  46399.0            0.0          49.0             1.0          5.0   \n",
       "46400  46400.0            4.0          64.0             0.0          5.0   \n",
       "46401  46401.0            0.0          39.0             1.0          3.0   \n",
       "46402  46402.0            6.0          49.0             0.0          3.0   \n",
       "46403  46403.0            0.0          91.0             0.0          6.0   \n",
       "\n",
       "       SS_quantity  Garda_quantity Date of Sale Postal Code     Price  \\\n",
       "0              0.0             0.0   2017-01-01    Dublin 3  242424.0   \n",
       "1              0.0             0.0   2017-01-01    Dublin 3  242424.0   \n",
       "2              0.0             0.0   2017-01-01    Dublin 3   66000.0   \n",
       "3              0.0             0.0   2017-01-01    Dublin 3  271800.0   \n",
       "4              0.0             0.0   2017-01-01    Dublin 3  830000.0   \n",
       "...            ...             ...          ...         ...       ...   \n",
       "46399          0.0             0.0   2019-08-16    Dublin 5  320000.0   \n",
       "46400          2.0             0.0   2019-08-16   Dublin 14  285000.0   \n",
       "46401          1.0             0.0   2019-08-16   Dublin 13  215000.0   \n",
       "46402          1.0             0.0   2019-08-16   Dublin 18  365000.0   \n",
       "46403          6.0             0.0   2019-08-16   Dublin 11  290000.0   \n",
       "\n",
       "      Not Full Market Price VAT Exclusive  \\\n",
       "0                       Yes            No   \n",
       "1                       Yes            No   \n",
       "2                       Yes            No   \n",
       "3                       Yes            No   \n",
       "4                        No            No   \n",
       "...                     ...           ...   \n",
       "46399                    No            No   \n",
       "46400                    No            No   \n",
       "46401                    No            No   \n",
       "46402                    No            No   \n",
       "46403                    No            No   \n",
       "\n",
       "                     Description of Property  Longitude   Latitude  \\\n",
       "0      Second-Hand Dwelling house /Apartment  -6.181405  53.362710   \n",
       "1      Second-Hand Dwelling house /Apartment  -6.181405  53.362710   \n",
       "2      Second-Hand Dwelling house /Apartment  -6.182833  53.362984   \n",
       "3      Second-Hand Dwelling house /Apartment  -6.181405  53.362710   \n",
       "4      Second-Hand Dwelling house /Apartment  -6.181892  53.365139   \n",
       "...                                      ...        ...        ...   \n",
       "46399  Second-Hand Dwelling house /Apartment  -6.212927  53.376221   \n",
       "46400  Second-Hand Dwelling house /Apartment  -6.246034  53.294678   \n",
       "46401  Second-Hand Dwelling house /Apartment  -6.156979  53.403250   \n",
       "46402  Second-Hand Dwelling house /Apartment  -6.215124  53.277574   \n",
       "46403  Second-Hand Dwelling house /Apartment  -6.307564  53.390790   \n",
       "\n",
       "           Neighborhood  \n",
       "0              Clontarf  \n",
       "1              Clontarf  \n",
       "2              Clontarf  \n",
       "3              Clontarf  \n",
       "4              Clontarf  \n",
       "...                 ...  \n",
       "46399     Clontarf West  \n",
       "46400  Churchtown Lower  \n",
       "46401        Donaghmede  \n",
       "46402        Blackthorn  \n",
       "46403               NaN  \n",
       "\n",
       "[46404 rows x 16 columns]"
      ]
     },
     "execution_count": 33,
     "metadata": {},
     "output_type": "execute_result"
    },
    {
     "name": "stdout",
     "output_type": "stream",
     "text": [
      "time: 16 ms (started: 2021-04-29 11:58:35 +01:00)\n"
     ]
    }
   ],
   "source": [
    "final_df"
   ]
  },
  {
   "cell_type": "code",
   "execution_count": 34,
   "metadata": {},
   "outputs": [
    {
     "name": "stdout",
     "output_type": "stream",
     "text": [
      "time: 484 ms (started: 2021-04-29 11:59:22 +01:00)\n"
     ]
    }
   ],
   "source": [
    "final_df.to_csv('data/test_final_df.csv',index = False, header=True)"
   ]
  }
 ],
 "metadata": {
  "kernelspec": {
   "display_name": "Python 3",
   "language": "python",
   "name": "python3"
  },
  "language_info": {
   "codemirror_mode": {
    "name": "ipython",
    "version": 3
   },
   "file_extension": ".py",
   "mimetype": "text/x-python",
   "name": "python",
   "nbconvert_exporter": "python",
   "pygments_lexer": "ipython3",
   "version": "3.8.2"
  }
 },
 "nbformat": 4,
 "nbformat_minor": 4
}
