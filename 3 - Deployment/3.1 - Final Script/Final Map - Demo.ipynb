{
 "cells": [
  {
   "cell_type": "markdown",
   "metadata": {},
   "source": [
    "# Final Script Demo\n",
    "\n",
    "- This was a demonstration code to what was supposed to be implemented in our web app. It was a test to show how importing the model and using it would work.\n",
    "- This code was implemented differently in our web app, as we needed to get user input and show the map all at once."
   ]
  },
  {
   "cell_type": "markdown",
   "metadata": {},
   "source": [
    "# Import Libraries"
   ]
  },
  {
   "cell_type": "code",
   "execution_count": 8,
   "metadata": {},
   "outputs": [],
   "source": [
    "import pandas as pd\n",
    "import seaborn as sns\n",
    "import numpy as np\n",
    "import pickle\n",
    "from geopy.distance import geodesic"
   ]
  },
  {
   "cell_type": "markdown",
   "metadata": {},
   "source": [
    "# Import amenities dataset"
   ]
  },
  {
   "cell_type": "code",
   "execution_count": 9,
   "metadata": {},
   "outputs": [],
   "source": [
    "amenities = pd.read_csv(\"data/amenities_df.csv\")"
   ]
  },
  {
   "cell_type": "markdown",
   "metadata": {},
   "source": [
    "# Create variables."
   ]
  },
  {
   "cell_type": "code",
   "execution_count": 10,
   "metadata": {},
   "outputs": [],
   "source": [
    "latitude = 53.375275\n",
    "longitude= -6.227172\n",
    "new_house = 1\n",
    "second_hand_house = 0\n",
    "VAT = 0"
   ]
  },
  {
   "cell_type": "markdown",
   "metadata": {},
   "source": [
    "## Getting the points according to what the user inserted and creating a df:"
   ]
  },
  {
   "cell_type": "code",
   "execution_count": 11,
   "metadata": {},
   "outputs": [],
   "source": [
    "def predict_price(latitude,longitude,new_house,second_hand_house,VAT):\n",
    "    #Create new dataframe.\n",
    "    df = pd.DataFrame(columns = ['Luas_quantity', 'Bus_quantity','Train_quantity','PS_quantity','SS_quantity','Garda_quantity','Latitude','Longitude','New_Dwelling_House_Apartment','Second_Hand_Dwelling_House_Apartment','VAT_Exclusive'])\n",
    "    #Set the counter variables.\n",
    "    luas = 0\n",
    "    bus = 0\n",
    "    train = 0\n",
    "    PS = 0\n",
    "    SS = 0\n",
    "    garda = 0\n",
    "    #Loop through the blts dataset.\n",
    "    for label1, row1 in amenities.iterrows():\n",
    "        #Calculate the distance from the property to the current blts row.\n",
    "        distance_in_km = geodesic((latitude,longitude),(row1['Latitude'],row1['Longitude'])).km\n",
    "        #Set if statements to add to counter if certain type and smaller or equal to 1km.\n",
    "        if distance_in_km <= 1 and row1['Type'] == \"Bus Stop\":\n",
    "            bus += 1\n",
    "        \n",
    "        elif distance_in_km <= 1 and row1['Type'] == \"Luas Stop\":\n",
    "            luas += 1\n",
    "            \n",
    "        elif distance_in_km <= 1 and row1['Type'] == \"Train Stop\":\n",
    "            train += 1\n",
    "            \n",
    "        elif distance_in_km <= 1 and row1['Type'] == \"Primary School\":\n",
    "            PS += 1\n",
    "            \n",
    "        elif distance_in_km <= 1 and row1['Type'] == \"Secondary School\":\n",
    "            SS += 1\n",
    "        \n",
    "        elif distance_in_km <= 1 and row1['Type'] == \"Garda Station\":\n",
    "            garda += 1       \n",
    "    #Append in the end to our dataframe.\n",
    "    df = df.append({'Luas_quantity': luas,'Bus_quantity':bus, 'Train_quantity':train, 'PS_quantity':PS,'SS_quantity':SS, 'Garda_quantity':garda,\n",
    "                    'VAT_Exclusive':VAT,\n",
    "                    'Latitude':latitude, 'Longitude': longitude,\n",
    "                   'New_Dwelling_House_Apartment': new_house, 'Second_Hand_Dwelling_House_Apartment':second_hand_house}, ignore_index = True)\n",
    "    #Loading the model.\n",
    "    filename = 'random_forest_model.sav'\n",
    "    random_forest_loaded_model = pickle.load(open(filename, 'rb'))\n",
    "    #Predicting the value.\n",
    "    prediction = random_forest_loaded_model.predict(df)\n",
    "    #Return value of the prediction.\n",
    "    return int(prediction[0])"
   ]
  },
  {
   "cell_type": "markdown",
   "metadata": {},
   "source": [
    "## Prediction Value:"
   ]
  },
  {
   "cell_type": "code",
   "execution_count": 12,
   "metadata": {},
   "outputs": [],
   "source": [
    "house_prediction = predict_price(latitude,longitude,new_house,second_hand_house,VAT)"
   ]
  },
  {
   "cell_type": "code",
   "execution_count": 13,
   "metadata": {},
   "outputs": [
    {
     "data": {
      "text/plain": [
       "int"
      ]
     },
     "execution_count": 13,
     "metadata": {},
     "output_type": "execute_result"
    }
   ],
   "source": [
    "type(house_prediction)"
   ]
  },
  {
   "cell_type": "markdown",
   "metadata": {},
   "source": [
    "# Creating the Map"
   ]
  },
  {
   "cell_type": "code",
   "execution_count": 14,
   "metadata": {},
   "outputs": [],
   "source": [
    "import folium\n",
    "\n",
    "map_pickup = folium.Map( location=[53.347409, -6.272184])\n",
    "\n",
    "folium.Marker(location=[latitude, longitude], popup=\"Price: € \" + str(house_prediction)  ).add_to(map_pickup)\n",
    "\n",
    "map_pickup\n",
    "\n",
    "map_pickup.save('final_map_test.html')"
   ]
  },
  {
   "cell_type": "code",
   "execution_count": null,
   "metadata": {},
   "outputs": [],
   "source": []
  }
 ],
 "metadata": {
  "kernelspec": {
   "display_name": "Python 3",
   "language": "python",
   "name": "python3"
  },
  "language_info": {
   "codemirror_mode": {
    "name": "ipython",
    "version": 3
   },
   "file_extension": ".py",
   "mimetype": "text/x-python",
   "name": "python",
   "nbconvert_exporter": "python",
   "pygments_lexer": "ipython3",
   "version": "3.8.3"
  }
 },
 "nbformat": 4,
 "nbformat_minor": 4
}
